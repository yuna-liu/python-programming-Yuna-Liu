{
 "cells": [
  {
   "cell_type": "code",
   "execution_count": 4,
   "metadata": {},
   "outputs": [
    {
     "data": {
      "text/plain": [
       "\n",
       "        Stock: Lumber:500/800 \t Clay:475/800 \t Iron:500/800 \t Crop:800/800 \n",
       "        Production: \n",
       "        Lumber: 4 per hour\n",
       "        Clay: 4 per hour\n",
       "        Iron: 4 per hour \n",
       "        Crop: 4 per hour\n",
       "        "
      ]
     },
     "execution_count": 4,
     "metadata": {},
     "output_type": "execute_result"
    }
   ],
   "source": [
    "class Resources: \n",
    "    def __init__(self, resource, production_rate, capacity) -> None:\n",
    "        self.resource, self.production_rate, self.capacity = resource, production_rate, capacity\n",
    "        self.level = 0\n",
    "\n",
    "    @property\n",
    "    def production_rate(self): return self._production_rate\n",
    "    \n",
    "    @production_rate.setter\n",
    "    def production_rate(self, value): self._production_rate = self.validate_resource(value)\n",
    "\n",
    "    @property\n",
    "    def resource(self): return self._resource\n",
    "\n",
    "    @resource.setter\n",
    "    def resource(self, value): self._resource = self.validate_resource(value)\n",
    "\n",
    "    # + operator overloading\n",
    "    def __add__(self, other):\n",
    "        new_resource = self.validate_resource(other)\n",
    "        # checks max capacity\n",
    "        if new_resource + self.resource >= self.capacity: \n",
    "            return Resources(self.capacity, self.production_rate, self.capacity)\n",
    "        else: \n",
    "            return Resources(self.resource + new_resource, self.production_rate, self.capacity ) \n",
    "    \n",
    "    # - operator overloading\n",
    "    def __sub__(self, other):\n",
    "        cost = self.validate_resource(other)\n",
    "        if self.resource - cost < 0: raise ValueError(\"Resources exceeded!\")\n",
    "        return Resources(self.resource-cost, self.production_rate, self.capacity)\n",
    "\n",
    "\n",
    "    @staticmethod\n",
    "    def validate_resource(value):\n",
    "        if not isinstance(value, int) and isinstance(value, bool): raise TypeError(f\"Type must be int not {type(value)}\")\n",
    "        if value < 0: raise ValueError(\"Value must be positive!\")\n",
    "        return value\n",
    "\n",
    "class Village:\n",
    "    def __init__(self) -> None:\n",
    "        self.lumber, self.clay, self.iron, self.crop = 500, 500, 500, 500\n",
    "        self.troops = {}\n",
    "        self.capacity = 800\n",
    "        #self.stock = {\"lumber\":self.lumber, \"clay\":self.clay, \"iron\":self.iron, \"crop\":self.crop}\n",
    "        #self.production_rate = {\"lumber\":8, \"clay\":8,\"iron\":8,\"crop\":12}\n",
    "\n",
    "        # Composition: Has-A relationship\n",
    "        self.wheat_field = Resources(self.crop, 4, self.capacity)\n",
    "        self.lumber_field = Resources(self.lumber, 4, self.capacity)\n",
    "        self.clay_field = Resources(self.clay, 4, self.capacity)\n",
    "        self.iron_field = Resources(self.iron, 4, self.capacity)\n",
    "\n",
    "    # sum production rate \n",
    "    \"\"\" @property\n",
    "    def production_rate(self):\n",
    "        for k,v in self.production_rate.items():\n",
    "\n",
    "        return self._production_rate\n",
    " \"\"\"\n",
    "\n",
    "    def __repr__(self):\n",
    "        return f\"\"\"\n",
    "        Stock: Lumber:{self.lumber_field.resource}/{self.capacity} \\t Clay:{self.clay_field.resource}/{self.capacity} \\t Iron:{self.iron_field.resource}/{self.capacity} \\t Crop:{self.wheat_field.resource}/{self.capacity} \n",
    "        Production: \n",
    "        Lumber: {self.lumber_field.production_rate} per hour\n",
    "        Clay: {self.clay_field.production_rate} per hour\n",
    "        Iron: {self.iron_field.production_rate} per hour \n",
    "        Crop: {self.wheat_field.production_rate} per hour\n",
    "        \"\"\"\n",
    "\n",
    "\n",
    "vill = Village()\n",
    "vill.wheat_field += 500\n",
    "vill.wheat_field += 500\n",
    "vill.clay_field -= 25\n",
    "vill\n"
   ]
  },
  {
   "cell_type": "code",
   "execution_count": null,
   "metadata": {},
   "outputs": [],
   "source": []
  }
 ],
 "metadata": {
  "interpreter": {
   "hash": "aee8b7b246df8f9039afb4144a1f6fd8d2ca17a180786b69acc140d282b71a49"
  },
  "kernelspec": {
   "display_name": "Python 3.9.7 64-bit",
   "name": "python3"
  },
  "language_info": {
   "codemirror_mode": {
    "name": "ipython",
    "version": 3
   },
   "file_extension": ".py",
   "mimetype": "text/x-python",
   "name": "python",
   "nbconvert_exporter": "python",
   "pygments_lexer": "ipython3",
   "version": "3.9.7"
  },
  "orig_nbformat": 4
 },
 "nbformat": 4,
 "nbformat_minor": 2
}
