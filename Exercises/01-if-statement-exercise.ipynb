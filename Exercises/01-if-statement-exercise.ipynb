{
 "cells": [
  {
   "cell_type": "markdown",
   "source": [
    "\r\n",
    "<a href=\"https://colab.research.google.com/github/kokchun/Programmering-med-Python-21/blob/main/Exercises/01-if-statement-exercise.ipynb\" target=\"_parent\"><img align=\"left\" src=\"https://colab.research.google.com/assets/colab-badge.svg\" alt=\"Open In Colab\"/></a> &nbsp; to see hints and answers."
   ],
   "metadata": {}
  },
  {
   "cell_type": "markdown",
   "source": [
    "# if statements exercises\r\n",
    "\r\n",
    "---\r\n",
    "These are introductory exercises in Python with focus in **if** statement.\r\n",
    "\r\n",
    "<p class = \"alert alert-info\" role=\"alert\"><b>Remember</b> to use <b>descriptive variable names</b> in order to get readable code </p>\r\n",
    "\r\n",
    "<p class = \"alert alert-info\" role=\"alert\"><b>Remember</b> to format your answers in a neat way using <b>f-strings</b>\r\n",
    "\r\n",
    "<p class = \"alert alert-info\" role=\"alert\"><b>Remember</b> to format your input questions in a pedagogical way to guide the user\r\n",
    "\r\n",
    "The number of stars (\\*), (\\*\\*), (\\*\\*\\*) denotes the difficulty level of the task\r\n",
    "\r\n",
    "---"
   ],
   "metadata": {}
  },
  {
   "cell_type": "markdown",
   "source": [
    "## 1. Check sign (*)\r\n",
    "\r\n",
    "Ask the user to input a number and check if this number is **positive**, **negative** or **zero** and print it out."
   ],
   "metadata": {}
  },
  {
   "cell_type": "code",
   "execution_count": 1,
   "source": [
    "number = float (input(\"Input a number please\"))\r\n",
    "if number <0:\r\n",
    "    print(f\"{number} is negative\")\r\n",
    "elif number ==0:\r\n",
    "    print(f\"{number} is zero\")\r\n",
    "else:\r\n",
    "    print(f\"{number} is positive\")\r\n"
   ],
   "outputs": [
    {
     "output_type": "stream",
     "name": "stdout",
     "text": [
      "35.0 is positive\n"
     ]
    }
   ],
   "metadata": {}
  },
  {
   "cell_type": "markdown",
   "source": [
    "---\r\n",
    "## 2. Smallest (*)\r\n",
    "Ask the user to input two numbers and check which one is the smallest and print it out.   "
   ],
   "metadata": {}
  },
  {
   "cell_type": "code",
   "execution_count": 2,
   "source": [
    "number1 = float (input(\"Input a number please\"))\r\n",
    "number2 = float (input(\"Input another number please\"))\r\n",
    "if number1 <number2:\r\n",
    "    print(f\"{number1} is smaller\")\r\n",
    "elif number1 == number2:\r\n",
    "    print(f\"{number1} and {number2} are the same \")\r\n",
    "else:\r\n",
    "    print(f\"{number2} is smaller\")"
   ],
   "outputs": [
    {
     "output_type": "stream",
     "name": "stdout",
     "text": [
      "3.0 is smaller\n"
     ]
    }
   ],
   "metadata": {}
  },
  {
   "cell_type": "markdown",
   "source": [
    "---\r\n",
    "## 3. Right angle (*)\r\n",
    "\r\n",
    "Ask the user to input three angles and check if the triangle has a right angle. Your code should make sure that all three angles are valid and make up a triangle.\r\n",
    "\r\n",
    "<img align=\"left\" src=\"../assets/triangle_angles.png\" width=\"200\"/>"
   ],
   "metadata": {}
  },
  {
   "cell_type": "code",
   "execution_count": 9,
   "source": [
    "while True:\r\n",
    "    angle1 = float (input(\"Input a angle please\"))\r\n",
    "    angle2 = float (input(\"Input another angle please\"))\r\n",
    "    angle3 = float (input(\"Input the third angle please\"))\r\n",
    "    angles = [angle1, angle2, angle3]\r\n",
    "\r\n",
    "    if angle1+angle2+angle3 == 180:\r\n",
    "        for x in angles:\r\n",
    "            if x == 90:\r\n",
    "                print(\"the triangle has a right angle\")\r\n",
    "    else:\r\n",
    "        print(\"These cannot be a triangle. Please input again\")\r\n",
    "    \r\n",
    "    play_again = input (\"Wanna play again(y for yes)?\")\r\n",
    "\r\n",
    "    if play_again != \"y\":\r\n",
    "        print(\"Have a nice day!\")\r\n",
    "        break\r\n"
   ],
   "outputs": [
    {
     "output_type": "stream",
     "name": "stdout",
     "text": [
      "the triangle has a right angle\n",
      "Have a nice day!\n"
     ]
    }
   ],
   "metadata": {}
  },
  {
   "cell_type": "markdown",
   "source": [
    "----\r\n",
    "## 4. Medicine (*)\r\n",
    "\r\n",
    "The information in the following table is stated in a medicine package. \r\n",
    "\r\n",
    "<table align=\"left\">\r\n",
    "<thead>\r\n",
    "    <tr>\r\n",
    "        <th></th>\r\n",
    "        <th>Age</th>\r\n",
    "        <th>Number of pills</th>\r\n",
    "    </tr>\r\n",
    "</thead>\r\n",
    "\r\n",
    "<tbody>\r\n",
    "  <tr>\r\n",
    "    <td>Adults & adolescent <br>over 40 kg</td>\r\n",
    "    <td>over 12 years</td>\r\n",
    "    <td>1-2</td>\r\n",
    "  </tr>\r\n",
    "\r\n",
    "  <tr>\r\n",
    "    <td>Children 26-40 kg</td>\r\n",
    "    <td>7-12 years</td>\r\n",
    "    <td>1/2-1</td>\r\n",
    "  </tr>\r\n",
    "\r\n",
    "  <tr>\r\n",
    "    <td>Children 15-25 kg</td>\r\n",
    "    <td>3-7 years</td>\r\n",
    "    <td>1/2</td>\r\n",
    "  </tr>\r\n",
    "</tbody>\r\n",
    "</table>"
   ],
   "metadata": {}
  },
  {
   "cell_type": "markdown",
   "source": [
    "Let the user input an **age** and a **weight**, the program should recommend the number of pills for the user."
   ],
   "metadata": {}
  },
  {
   "cell_type": "code",
   "execution_count": 11,
   "source": [
    "age = float (input(\"Input your age please\"))\r\n",
    "weight = float (input(\"Input your weight please\"))\r\n",
    "\r\n",
    "if age > 12 and weight > 40:\r\n",
    "    print(\"you should eat 1-2 pills\")\r\n",
    "elif age >=7 and age <= 12 and weight >= 26 and weight < 40:\r\n",
    "    print(\"you should eat 1/2-1 pill\")\r\n",
    "elif age >=3 and age <7 and weight >= 15 and weight < 26:\r\n",
    "    print(\"you should eat 1/2 pill\")\r\n",
    "else:\r\n",
    "    print(\"this pill is not suited for you\")\r\n"
   ],
   "outputs": [
    {
     "output_type": "stream",
     "name": "stdout",
     "text": [
      "this pill is not suited for you\n"
     ]
    }
   ],
   "metadata": {}
  },
  {
   "cell_type": "markdown",
   "source": [
    "---\r\n",
    "## 5. Divisible (*)\r\n",
    "Let the user input a number. Check if the number is\r\n",
    "<ol type=\"a\">\r\n",
    "  <li>even or odd</li>\r\n",
    "  <li>is divisible by 5</li>\r\n",
    "  <li>is divisble by 5 and odd</li>\r\n",
    "</ol> "
   ],
   "metadata": {}
  },
  {
   "cell_type": "code",
   "execution_count": 15,
   "source": [
    "number = int(input(\"Give an integer: \"))  ##Important to have a integer\r\n",
    "\r\n",
    "if number % 2 == 0: \r\n",
    "    print(\"Even number\")\r\n",
    "else:\r\n",
    "    print(\"Odd number\")\r\n",
    "\r\n",
    "if number % 5 == 0: \r\n",
    "    print(\"number is divisible by 5\")\r\n",
    "if number % 5 == 0 and number % 2 !=0: \r\n",
    "    print(\"number is divisible by 5 and odd\")"
   ],
   "outputs": [
    {
     "output_type": "stream",
     "name": "stdout",
     "text": [
      "Odd number\n"
     ]
    }
   ],
   "metadata": {}
  },
  {
   "cell_type": "markdown",
   "source": [
    "---\r\n",
    "## 6. Luggage size (*)\r\n",
    "\r\n",
    "The maximum allowed luggage size for boarding an airplane is: \r\n",
    "- weight: 8kg\r\n",
    "- dimensions: 55x40x23cm (length x width x height) \r\n",
    "\r\n",
    "Let the user input weight, length, width and height of the luggage. The program should check if the luggage is allowed or not."
   ],
   "metadata": {}
  },
  {
   "cell_type": "code",
   "execution_count": 16,
   "source": [
    "weight = int(input(\"Give the weight(integer): \"))  ##Important to have a integer\r\n",
    "length = int(input(\"Give the length(integer): \")) \r\n",
    "width = int(input(\"Give the width(integer): \")) \r\n",
    "height = int(input(\"Give the height(integer): \")) \r\n",
    "\r\n",
    "if weight <= 8 and length <= 55 and width <= 40 and height <= 23: \r\n",
    "    print(\"the luggage is allowed\")\r\n",
    "else:\r\n",
    "    print(\"the luggage is not allowed\")"
   ],
   "outputs": [
    {
     "output_type": "stream",
     "name": "stdout",
     "text": [
      "the luggage is not allowed\n"
     ]
    }
   ],
   "metadata": {}
  },
  {
   "cell_type": "markdown",
   "source": [
    "---\r\n",
    "\r\n",
    "Kokchun Giang\r\n",
    "\r\n",
    "[LinkedIn][linkedIn_kokchun]\r\n",
    "\r\n",
    "[GitHub portfolio][github_portfolio]\r\n",
    "\r\n",
    "[linkedIn_kokchun]: https://www.linkedin.com/in/kokchungiang/\r\n",
    "[github_portfolio]: https://github.com/kokchun/Portfolio-Kokchun-Giang\r\n",
    "\r\n",
    "---"
   ],
   "metadata": {}
  }
 ],
 "metadata": {
  "interpreter": {
   "hash": "2971b745844267d7cb4483e5f20d838014d69d8df52b415790673c9e258dc44a"
  },
  "kernelspec": {
   "name": "python3",
   "display_name": "Python 3.9.6 64-bit"
  },
  "language_info": {
   "name": "python",
   "version": "3.9.6",
   "mimetype": "text/x-python",
   "codemirror_mode": {
    "name": "ipython",
    "version": 3
   },
   "pygments_lexer": "ipython3",
   "nbconvert_exporter": "python",
   "file_extension": ".py"
  },
  "orig_nbformat": 4
 },
 "nbformat": 4,
 "nbformat_minor": 2
}