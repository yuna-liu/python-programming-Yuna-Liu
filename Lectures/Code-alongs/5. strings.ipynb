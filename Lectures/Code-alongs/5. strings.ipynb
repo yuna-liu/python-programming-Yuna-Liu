{
 "cells": [
  {
   "cell_type": "markdown",
   "metadata": {},
   "source": [
    "# Strings"
   ]
  },
  {
   "cell_type": "markdown",
   "metadata": {},
   "source": [
    "## Concatenating strings"
   ]
  },
  {
   "cell_type": "code",
   "execution_count": 7,
   "metadata": {},
   "outputs": [
    {
     "name": "stdout",
     "output_type": "stream",
     "text": [
      "Kokchun Giang\n",
      "\n",
      "Name: Kokchun Giang\n",
      "School: IT-högskolan\n",
      "Adress: Ebbe Lierbathsgatan 18C\n",
      "Phone: 112\n",
      "\n"
     ]
    }
   ],
   "source": [
    "firstname = \"Kokchun\"\n",
    "lastname = \"Giang\"\n",
    "\n",
    "# concatenating strings\n",
    "fullname = firstname + \" \" + lastname\n",
    "\n",
    "school = \"IT-högskolan\"\n",
    "adress = \"Ebbe Lierbathsgatan 18C\"\n",
    "phone = \"112\"\n",
    "\n",
    "print(fullname)\n",
    "\n",
    "# multiline f-string\n",
    "contact_details = f\"\"\"\n",
    "Name: {fullname}\n",
    "School: {school}\n",
    "Adress: {adress}\n",
    "Phone: {phone}\n",
    "\"\"\"\n",
    "\n",
    "print(contact_details)"
   ]
  },
  {
   "cell_type": "markdown",
   "metadata": {},
   "source": [
    "## Concatenate with loop"
   ]
  },
  {
   "cell_type": "code",
   "execution_count": 3,
   "metadata": {},
   "outputs": [
    {
     "name": "stdout",
     "output_type": "stream",
     "text": [
      "Veckomeny \n",
      "Må: Chili sin Carne\n",
      "Ti: Köttbullar\n",
      "On: Fisk\n",
      "To: Pannkakor\n",
      "Fr: Taco\n",
      "\n"
     ]
    }
   ],
   "source": [
    "bamba = \"Chili sin Carne, Köttbullar, Fisk, Pannkakor, Taco\".split(\", \")\n",
    "days = \"Må Ti On To Fr\".split() # split() per default on empty space \" \"\n",
    "\n",
    "menu = \"Veckomeny \\n\"\n",
    "\n",
    "for day, food in zip(days, bamba):\n",
    "    menu += f\"{day}: {food}\\n\"\n",
    "\n",
    "print(menu)"
   ]
  },
  {
   "cell_type": "markdown",
   "metadata": {},
   "source": [
    "## Indexing\n",
    "\n",
    "- indexing with [] operator to access elements\n",
    "- slicing operator :"
   ]
  },
  {
   "cell_type": "code",
   "execution_count": 32,
   "metadata": {},
   "outputs": [
    {
     "name": "stdout",
     "output_type": "stream",
     "text": [
      "quote[0]: !\n",
      "quote[-1]: e\n",
      "quote[-4:]: True\n",
      "quote[1:6]: False\n",
      "Backwards quote[::-1]: eurT s'ti esuaceb ynnuf s'ti - eslaF!\n"
     ]
    }
   ],
   "source": [
    "quote = \"!False - it's funny because it's True\" # works, note different enkelfnutt/dubbelfnutt \n",
    "#quote = '!False - it's funny because it's True' # doesn't work\n",
    "\n",
    "print(f\"quote[0]: {quote[0]}\")\n",
    "print(f\"quote[-1]: {quote[-1]}\")\n",
    "print(f\"quote[-4:]: {quote[-4:]}\")\n",
    "print(f\"quote[1:6]: {quote[1:6]}\") # [start:stop-1]\n",
    "print(f\"Backwards quote[::-1]: {quote[::-1]}\") # [start:stop-1:step]"
   ]
  },
  {
   "cell_type": "markdown",
   "metadata": {},
   "source": [
    "## Split strings"
   ]
  },
  {
   "cell_type": "code",
   "execution_count": 49,
   "metadata": {},
   "outputs": [
    {
     "name": "stdout",
     "output_type": "stream",
     "text": [
      "[5.0, 4.0, 3.0]\n",
      "Medelvärdet är 4.0\n"
     ]
    }
   ],
   "source": [
    "numbers = input(\"Ange några tal separerade med mellanslag: \").split() # data type is string # 5 4 3 två\n",
    "#print(numbers[0]+numbers[1]) # string concatenation \"5\"+\"4\"=\"54\"\n",
    "\n",
    "numbers = [float(number) for number in numbers if number.isdigit()] # look for another method \n",
    "\n",
    "print(numbers)\n",
    "mean = sum(numbers)/len(numbers)\n",
    "print(f\"Medelvärdet är {mean}\")"
   ]
  },
  {
   "cell_type": "markdown",
   "metadata": {},
   "source": [
    "## Regular expression\n",
    "\n",
    "- find particular patterns in a string\n",
    "- e.g. phone numbers, personal numbers, emails .. "
   ]
  },
  {
   "cell_type": "code",
   "execution_count": 53,
   "metadata": {},
   "outputs": [
    {
     "name": "stdout",
     "output_type": "stream",
     "text": [
      "['021-432567', '041-414546', '739-231451']\n",
      "['021-432567', '041-414546', '739-231451']\n"
     ]
    }
   ],
   "source": [
    "import re \n",
    "\n",
    "text = \"Mitt telefonnummer är 021-432567, Adas telefonnummer är 041-414546, Bedas: 0739-231451\"\n",
    "\n",
    "match1 = re.findall(r\"\\d\\d\\d-\\d\\d\\d\\d\\d\\d\", text)\n",
    "print(match1)\n",
    "match2 = re.findall(r\"\\d{3}-\\d{6}\", text)\n",
    "print(match2)\n"
   ]
  },
  {
   "cell_type": "code",
   "execution_count": 61,
   "metadata": {},
   "outputs": [
    {
     "name": "stdout",
     "output_type": "stream",
     "text": [
      "['katt', 'hatt', 'matt', 'matt']\n"
     ]
    }
   ],
   "source": [
    "import re \n",
    "\n",
    "# find all words ending with att\n",
    "text = \"Det var en gång en katt, som tog på sig en hatt, jag blev matt, så jag spelade schack och vann med skolmatt\"\n",
    "\n",
    "match = re.findall(r\".att\", text)\n",
    "print(match)"
   ]
  }
 ],
 "metadata": {
  "interpreter": {
   "hash": "8111105f47d12ec1fb8af24cde7e4ba5898ee01916168ee13b7453f45f559afc"
  },
  "kernelspec": {
   "display_name": "Python 3.9.6 64-bit ('python-programming-Yuna-Liu-WA6ACBfR': pipenv)",
   "name": "python3"
  },
  "language_info": {
   "codemirror_mode": {
    "name": "ipython",
    "version": 3
   },
   "file_extension": ".py",
   "mimetype": "text/x-python",
   "name": "python",
   "nbconvert_exporter": "python",
   "pygments_lexer": "ipython3",
   "version": "3.9.6"
  },
  "orig_nbformat": 4
 },
 "nbformat": 4,
 "nbformat_minor": 2
}
