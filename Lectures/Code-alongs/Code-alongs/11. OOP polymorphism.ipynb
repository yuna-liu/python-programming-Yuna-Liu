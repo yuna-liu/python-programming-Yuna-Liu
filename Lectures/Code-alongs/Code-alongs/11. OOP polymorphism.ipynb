{
 "cells": [
  {
   "cell_type": "markdown",
   "source": [
    "# OOP Polymorphism\n",
    "\n",
    "- same method names and operators can be used in different ways for different types"
   ],
   "metadata": {}
  },
  {
   "cell_type": "code",
   "execution_count": 5,
   "source": [
    "s1 = \"abc\"\n",
    "l1 = [1,2,3,4]\n",
    "print(len(s1))\n",
    "print(len(l1))\n",
    "\n",
    "s2 = s1 + \"5\" # + operator makes string concatenation\n",
    "print(s2)\n",
    "\n",
    "num1 = 5 + 6  # + operator makes arithmetic addition of two integers\n",
    "print(num1)"
   ],
   "outputs": [
    {
     "output_type": "stream",
     "name": "stdout",
     "text": [
      "3\n",
      "4\n",
      "abc5\n",
      "11\n"
     ]
    }
   ],
   "metadata": {}
  },
  {
   "cell_type": "code",
   "execution_count": 8,
   "source": [
    "class Fish:\n",
    "    def __init__(self, name) -> None:\n",
    "        self.name = name \n",
    "\n",
    "    def __str__(self):\n",
    "        return f\"I am a fish, my name is {self.name}\"\n",
    "\n",
    "    def speak(self):\n",
    "        print(\"Blupp blupp\")\n",
    "\n",
    "class Fox:\n",
    "    def __init__(self, name) -> None:\n",
    "        self.name = name \n",
    "\n",
    "    def __str__(self) -> str:\n",
    "        return f\"I am a fox, my name is {self.name}, my sound is weird\"\n",
    "\n",
    "    def speak(self):\n",
    "        print(\"Fox says ...\")\n",
    "        #return NotImplemented # what does the fox say?\n",
    "\n",
    "animals = (Fish(\"Wanda\"), Fox(\"Ylvis\"))\n",
    "\n",
    "for animal in animals:\n",
    "    print(animal)\n",
    "    animal.speak()"
   ],
   "outputs": [
    {
     "output_type": "stream",
     "name": "stdout",
     "text": [
      "I am a fish, my name is Wanda\n",
      "Blupp blupp\n",
      "I am a fox, my name is Ylvis, my sound is weird\n",
      "Fox says ...\n"
     ]
    }
   ],
   "metadata": {}
  },
  {
   "cell_type": "markdown",
   "source": [
    "## Polymorphism in inheritance"
   ],
   "metadata": {}
  },
  {
   "cell_type": "code",
   "execution_count": 1,
   "source": [
    "class Animal:\n",
    "    # will run a default init\n",
    "\n",
    "    def speak(self):\n",
    "        print(\"Hello I am animal\")\n",
    "\n",
    "class Fish(Animal):\n",
    "    def __init__(self, name) -> None:\n",
    "        self.name = name \n",
    "\n",
    "    def __str__(self):\n",
    "        return f\"I am a fish, my name is {self.name}\"\n",
    "\n",
    "    def speak(self):\n",
    "        print(\"Blupp blupp\")\n",
    "\n",
    "class Fox(Animal): # Fox extends or inherits from Animal\n",
    "    def __init__(self, name) -> None:\n",
    "        self.name = name \n",
    "\n",
    "    def __str__(self) -> str:\n",
    "        return f\"I am a fox, my name is {self.name}, my sound is weird\"\n",
    "\n",
    "    #def speak(self):\n",
    "    #    print(\"Fox says ...\")\n",
    "        #return NotImplemented # what does the fox say?\n",
    "\n",
    "animals = (Fish(\"Wanda\"), Fox(\"Ylvis\"))\n",
    "\n",
    "for animal in animals:\n",
    "    print(animal)\n",
    "    animal.speak()"
   ],
   "outputs": [
    {
     "output_type": "stream",
     "name": "stdout",
     "text": [
      "I am a fish, my name is Wanda\n",
      "Blupp blupp\n",
      "I am a fox, my name is Ylvis, my sound is weird\n",
      "Hello I am animal\n"
     ]
    }
   ],
   "metadata": {}
  },
  {
   "cell_type": "markdown",
   "source": [
    "## Operator overloading \n",
    "\n",
    "- +, -, /, //, %, **, <, <=, ...\n",
    "- see vector example"
   ],
   "metadata": {}
  }
 ],
 "metadata": {
  "orig_nbformat": 4,
  "language_info": {
   "name": "python",
   "version": "3.8.3",
   "mimetype": "text/x-python",
   "codemirror_mode": {
    "name": "ipython",
    "version": 3
   },
   "pygments_lexer": "ipython3",
   "nbconvert_exporter": "python",
   "file_extension": ".py"
  },
  "kernelspec": {
   "name": "python3",
   "display_name": "Python 3.8.3 64-bit ('Python_programming-Y6DWTcE3': pipenv)"
  },
  "interpreter": {
   "hash": "ba172e9133ac13726a3d8ff1460db7a5577e3778ee93c1aadc7eb3f4d8ce4f1c"
  }
 },
 "nbformat": 4,
 "nbformat_minor": 2
}