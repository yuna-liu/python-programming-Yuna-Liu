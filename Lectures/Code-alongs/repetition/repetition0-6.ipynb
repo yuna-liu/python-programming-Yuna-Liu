{
 "cells": [
  {
   "cell_type": "markdown",
   "source": [
    "# Repetition"
   ],
   "metadata": {}
  },
  {
   "cell_type": "markdown",
   "source": [
    "## Input/output och variabler"
   ],
   "metadata": {}
  },
  {
   "cell_type": "code",
   "execution_count": 1,
   "source": [
    "namn = input(\"Vad heter du? \") \r\n",
    "print(namn)"
   ],
   "outputs": [
    {
     "output_type": "stream",
     "name": "stdout",
     "text": [
      "Kokchun\n"
     ]
    }
   ],
   "metadata": {}
  },
  {
   "cell_type": "code",
   "execution_count": 4,
   "source": [
    "tal1 = input(\"Ange ett tal \") # \"5\"\r\n",
    "tal2 = input(\"Ange ett annat tal\") # \"5\"\r\n",
    "\r\n",
    "summa = tal1 + tal2\r\n",
    "\r\n",
    "print(summa) # \"5\" + \"5\" = \"55\""
   ],
   "outputs": [
    {
     "output_type": "stream",
     "name": "stdout",
     "text": [
      "55\n"
     ]
    }
   ],
   "metadata": {}
  },
  {
   "cell_type": "code",
   "execution_count": 7,
   "source": [
    "tal1 = int(input(\"Ange ett tal \")) # 5\r\n",
    "tal2 = int(input(\"Ange ett annat tal\")) # 5\r\n",
    "\r\n",
    "summa = tal1 + tal2\r\n",
    "\r\n",
    "print(summa) # 5 + 5 = 10"
   ],
   "outputs": [
    {
     "output_type": "stream",
     "name": "stdout",
     "text": [
      "10\n"
     ]
    }
   ],
   "metadata": {}
  },
  {
   "cell_type": "code",
   "execution_count": 10,
   "source": [
    "längd1 = float(input(\"Ange en längd: \"))\r\n",
    "längd2 = float(input(\"Ange en annan längd: \"))\r\n",
    "\r\n",
    "medellängd = (längd1+längd2)/2\r\n",
    "print(f\"Medellängden av {längd1} och {längd2} är {medellängd}\")"
   ],
   "outputs": [
    {
     "output_type": "stream",
     "name": "stdout",
     "text": [
      "Medellängden av 165.3 och 185.3 är 175.3\n"
     ]
    }
   ],
   "metadata": {}
  },
  {
   "cell_type": "code",
   "execution_count": 13,
   "source": [
    "# variabel\r\n",
    "tal1 = 3\r\n",
    "\r\n",
    "tal1 = 55\r\n",
    "\r\n",
    "tal1 = tal1-5\r\n",
    "print(tal1)\r\n",
    "\r\n",
    "tal1 = 45\r\n",
    "print(tal1)"
   ],
   "outputs": [
    {
     "output_type": "stream",
     "name": "stdout",
     "text": [
      "50\n",
      "45\n"
     ]
    }
   ],
   "metadata": {}
  },
  {
   "cell_type": "code",
   "execution_count": 16,
   "source": [
    "a= \"hej\"\r\n",
    "b=\"då\"\r\n",
    "a*5"
   ],
   "outputs": [
    {
     "output_type": "execute_result",
     "data": {
      "text/plain": [
       "'hejhejhejhejhej'"
      ]
     },
     "metadata": {},
     "execution_count": 16
    }
   ],
   "metadata": {}
  },
  {
   "cell_type": "code",
   "execution_count": 19,
   "source": [
    "b = \"5\"\r\n",
    "b*3"
   ],
   "outputs": [
    {
     "output_type": "execute_result",
     "data": {
      "text/plain": [
       "'555'"
      ]
     },
     "metadata": {},
     "execution_count": 19
    }
   ],
   "metadata": {}
  },
  {
   "cell_type": "markdown",
   "source": [
    "## if-satser"
   ],
   "metadata": {}
  },
  {
   "cell_type": "code",
   "execution_count": 22,
   "source": [
    "ålder = 18\r\n",
    "\r\n",
    "if ålder >= 18:\r\n",
    "    print(\"Du är vuxen\")\r\n",
    "else:\r\n",
    "    print(\"DU är barn\")"
   ],
   "outputs": [
    {
     "output_type": "stream",
     "name": "stdout",
     "text": [
      "Du är vuxen\n"
     ]
    }
   ],
   "metadata": {}
  },
  {
   "cell_type": "code",
   "execution_count": 25,
   "source": [
    "tal = 9\r\n",
    "\r\n",
    "# modulus - ger resten vid en heltalsdivision\r\n",
    "if tal % 2 == 0:\r\n",
    "    print(\"talet är jämnt\")\r\n",
    "else:\r\n",
    "    print(\"talet är udda\")"
   ],
   "outputs": [
    {
     "output_type": "stream",
     "name": "stdout",
     "text": [
      "talet är udda\n"
     ]
    }
   ],
   "metadata": {}
  },
  {
   "cell_type": "code",
   "execution_count": 28,
   "source": [
    "# MVG > 30\r\n",
    "# VG: 20-30\r\n",
    "# G: 10-19\r\n",
    "# IG < 10\r\n",
    "\r\n",
    "poäng = 19\r\n",
    "\r\n",
    "if poäng > 30:\r\n",
    "    print(\"MVG\")\r\n",
    "elif 20 <= poäng < 31:\r\n",
    "    print(\"VG\")\r\n",
    "elif 10 <= poäng <= 19:\r\n",
    "    print(\"G\")\r\n",
    "else:\r\n",
    "    print(\"IG\")"
   ],
   "outputs": [
    {
     "output_type": "stream",
     "name": "stdout",
     "text": [
      "G\n"
     ]
    }
   ],
   "metadata": {}
  },
  {
   "cell_type": "code",
   "execution_count": 32,
   "source": [
    "# tal delbart med 5 och 2 \r\n",
    "tal = 20\r\n",
    "if tal % 2 == 0 and tal % 5 == 0: \r\n",
    "    print(f\"{tal} är delbart med 5 och 2\")"
   ],
   "outputs": [
    {
     "output_type": "stream",
     "name": "stdout",
     "text": [
      "20 är delbart med 5 och 2\n"
     ]
    }
   ],
   "metadata": {}
  },
  {
   "cell_type": "code",
   "execution_count": 38,
   "source": [
    "tal = 12\r\n",
    "# nästlad if-sats \r\n",
    "if tal % 2 == 0: \r\n",
    "    print(f\"{tal} är delbart med 2\")\r\n",
    "    if tal % 5 == 0:\r\n",
    "        print(f\"{tal} är delbart med 5 och 2\")"
   ],
   "outputs": [
    {
     "output_type": "stream",
     "name": "stdout",
     "text": [
      "12 är delbart med 2\n"
     ]
    }
   ],
   "metadata": {}
  },
  {
   "cell_type": "markdown",
   "source": [
    "## while-sats\r\n",
    "\r\n",
    "\"if-loop\" - så länge som villkoret är sant så körs while-blocket"
   ],
   "metadata": {}
  },
  {
   "cell_type": "code",
   "execution_count": 46,
   "source": [
    "n = 0\r\n",
    "\r\n",
    "while n < 5: # körs så länge som villkoret är sant\r\n",
    "    print(f\"{n} < 5\")\r\n",
    "    n += 1\r\n",
    "print(\"utanför while loopen\")"
   ],
   "outputs": [
    {
     "output_type": "stream",
     "name": "stdout",
     "text": [
      "0 < 5\n",
      "1 < 5\n",
      "2 < 5\n",
      "3 < 5\n",
      "4 < 5\n",
      "utanför while loopen\n"
     ]
    }
   ],
   "metadata": {}
  },
  {
   "cell_type": "markdown",
   "source": [
    "## Fåglar och oljeutsläpp\r\n",
    "\r\n",
    "- finns 8000 fåglar från början\r\n",
    "- ett oljeutsläpp gör att populationen halveras varje år\r\n",
    "- hur många år tar det tills fågelpopulationen blivit en tiondel?"
   ],
   "metadata": {}
  },
  {
   "cell_type": "code",
   "execution_count": 53,
   "source": [
    "fåglar = 8000\r\n",
    "år = 0\r\n",
    "print(f\"År {år} finns det {round(fåglar)} st\")\r\n",
    "while fåglar > 50:\r\n",
    "    fåglar /= 2\r\n",
    "    år += 1\r\n",
    "    print(f\"År {år} finns det {round(fåglar)} st\")\r\n"
   ],
   "outputs": [
    {
     "output_type": "stream",
     "name": "stdout",
     "text": [
      "År 0 finns det 8000 st\n",
      "År 1 finns det 4000 st\n",
      "År 2 finns det 2000 st\n",
      "År 3 finns det 1000 st\n",
      "År 4 finns det 500 st\n",
      "År 5 finns det 250 st\n",
      "År 6 finns det 125 st\n",
      "År 7 finns det 62 st\n",
      "År 8 finns det 31 st\n"
     ]
    }
   ],
   "metadata": {}
  },
  {
   "cell_type": "code",
   "execution_count": 58,
   "source": [],
   "outputs": [
    {
     "output_type": "execute_result",
     "data": {
      "text/plain": [
       "5"
      ]
     },
     "metadata": {},
     "execution_count": 58
    }
   ],
   "metadata": {}
  }
 ],
 "metadata": {
  "orig_nbformat": 4,
  "language_info": {
   "name": "python",
   "version": "3.9.6",
   "mimetype": "text/x-python",
   "codemirror_mode": {
    "name": "ipython",
    "version": 3
   },
   "pygments_lexer": "ipython3",
   "nbconvert_exporter": "python",
   "file_extension": ".py"
  },
  "kernelspec": {
   "name": "python3",
   "display_name": "Python 3.9.6 64-bit ('Programmering-med-Python-OZ4PsT_E': pipenv)"
  },
  "interpreter": {
   "hash": "4d790a4ba7424cef7dc64ec6f6de1f04bad761d237b8926ff99fd2151ec1d86b"
  }
 },
 "nbformat": 4,
 "nbformat_minor": 2
}