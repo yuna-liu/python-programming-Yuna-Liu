{
 "cells": [
  {
   "cell_type": "code",
   "execution_count": 13,
   "source": [
    "import datetime # we will use this for date objects\r\n",
    "class Person:\r\n",
    "    def __init__(self, name, surname, birthdate, address, telephone, email):\r\n",
    "        self.name = name\r\n",
    "        self.surname = surname\r\n",
    "        self.birthdate = birthdate\r\n",
    "        self.address = address\r\n",
    "        self.telephone = telephone\r\n",
    "        self.email = email\r\n",
    "    def age(self):\r\n",
    "        today = datetime.date.today()\r\n",
    "        age = today.year - self.birthdate.year\r\n",
    "        if today < datetime.date(today.year, self.birthdate.month, self.birthdate.day):\r\n",
    "            age -= 1\r\n",
    "        return age\r\n",
    "\r\n",
    "person = Person(\r\n",
    "    \"Jane\",\r\n",
    "    \"Doe\",\r\n",
    "    datetime.date(1992, 3, 12), # year, month, day\r\n",
    "    \"No. 12 Short Street, Greenville\",\r\n",
    "    \"555 456 0987\",\r\n",
    "    \"jane.doe@example.com\"\r\n",
    "    )\r\n",
    "\r\n",
    "print(person.name)\r\n",
    "print(person.email)\r\n",
    "print(person.age())\r\n",
    "\r\n",
    "person.pets = ['cat', 'cat', 'dog']\r\n",
    "print(person.pets)"
   ],
   "outputs": [
    {
     "output_type": "stream",
     "name": "stdout",
     "text": [
      "Jane\n",
      "jane.doe@example.com\n",
      "29\n",
      "['cat', 'cat', 'dog']\n"
     ]
    }
   ],
   "metadata": {}
  },
  {
   "cell_type": "code",
   "execution_count": 17,
   "source": [
    "today = datetime.date.today()\r\n",
    "print(today)\r\n",
    "print(today.year)\r\n",
    "print(today.month)\r\n",
    "print(today.day)\r\n",
    "\r\n",
    "datetime.date.today().year\r\n"
   ],
   "outputs": [
    {
     "output_type": "stream",
     "name": "stdout",
     "text": [
      "2021-09-22\n",
      "2021\n",
      "9\n",
      "22\n"
     ]
    },
    {
     "output_type": "execute_result",
     "data": {
      "text/plain": [
       "2021"
      ]
     },
     "metadata": {},
     "execution_count": 17
    }
   ],
   "metadata": {}
  },
  {
   "cell_type": "code",
   "execution_count": 25,
   "source": [
    "for key in [\"a\", \"b\", \"c\"]:\r\n",
    "    print(getattr(myobject, key, None))\r\n"
   ],
   "outputs": [
    {
     "output_type": "stream",
     "name": "stdout",
     "text": [
      "None\n",
      "None\n",
      "None\n"
     ]
    }
   ],
   "metadata": {}
  },
  {
   "cell_type": "markdown",
   "source": [
    "## 9.2.2 Exercise 2\r\n",
    "Rewrite the Person class so that a person’s age is calculated for the first time when a new person instance is created, and recalculated (when it is requested) if the day has changed since the last time that it was calculated.\r\n"
   ],
   "metadata": {}
  },
  {
   "cell_type": "code",
   "execution_count": 34,
   "source": [
    "import datetime # we will use this for date objects\r\n",
    "class Person:\r\n",
    "    def __init__(self, name, surname, birthdate, address, telephone, email):\r\n",
    "        self.name = name\r\n",
    "        self.surname = surname\r\n",
    "        self.birthdate = birthdate\r\n",
    "        self.address = address\r\n",
    "        self.telephone = telephone\r\n",
    "        self.email = email\r\n",
    "        self._age = None\r\n",
    "        self._age_last_recalculated = None\r\n",
    "        self._recalculate_age()\r\n",
    "\r\n",
    "    def _recalculate_age(self):\r\n",
    "        today = datetime.date.today()\r\n",
    "        age = today.year - self.birthdate.year\r\n",
    "        if today < datetime.date(today.year, self.birthdate.month, self.birthdate.day):       \r\n",
    "            age -= 1\r\n",
    "        self._age = age\r\n",
    "        self._age_last_recalculated = today\r\n",
    "\r\n",
    "    def age(self):\r\n",
    "        if (datetime.date.today() > self._age_last_recalculated):\r\n",
    "            self._recalculate_age()\r\n",
    "        return self._age\r\n",
    "\r\n",
    "\r\n",
    "\r\n",
    "person = Person(\r\n",
    "    \"Jane\",\r\n",
    "    \"Doe\",\r\n",
    "    datetime.date(1992, 3, 12), # year, month, day\r\n",
    "    \"No. 12 Short Street, Greenville\",\r\n",
    "    \"555 456 0987\",\r\n",
    "    \"jane.doe@example.com\"\r\n",
    "    )\r\n",
    "\r\n",
    "print(person)"
   ],
   "outputs": [
    {
     "output_type": "stream",
     "name": "stdout",
     "text": [
      "<__main__.Person object at 0x00000282790CDA00>\n"
     ]
    }
   ],
   "metadata": {}
  },
  {
   "cell_type": "code",
   "execution_count": 37,
   "source": [
    "class Person:\r\n",
    "    pets = []\r\n",
    "    \r\n",
    "    def add_pet(self, pet):\r\n",
    "        self.pets.append(pet)\r\n",
    "\r\n",
    "jane = Person()\r\n",
    "bob = Person()\r\n",
    "\r\n",
    "jane.add_pet(\"cat\")\r\n",
    "\r\n",
    "print(jane.pets)\r\n",
    "\r\n",
    "print(bob.pets) # oops!"
   ],
   "outputs": [
    {
     "output_type": "stream",
     "name": "stdout",
     "text": [
      "['cat']\n",
      "['cat']\n"
     ]
    }
   ],
   "metadata": {}
  },
  {
   "cell_type": "markdown",
   "source": [
    "We should, however, be careful\r\n",
    "when a class attribute is of a mutable type – because if we modify it in-place, we will affect all objects of that class at\r\n",
    "the same time. Remember that all instances share the same class attributes."
   ],
   "metadata": {}
  },
  {
   "cell_type": "markdown",
   "source": [
    "What we should do in cases like this is initialise the mutable attribute as an instance attribute, inside __init__.\r\n",
    "Then every instance will have its own separate copy:"
   ],
   "metadata": {}
  },
  {
   "cell_type": "code",
   "execution_count": 38,
   "source": [
    "class Person:\r\n",
    "    def __init__(self):\r\n",
    "        self.pets = []\r\n",
    "    def add_pet(self, pet):\r\n",
    "        self.pets.append(pet)\r\n",
    "\r\n",
    "jane = Person()\r\n",
    "bob = Person()\r\n",
    "\r\n",
    "jane.add_pet(\"cat\")\r\n",
    "\r\n",
    "print(jane.pets)\r\n",
    "print(bob.pets)\r\n"
   ],
   "outputs": [
    {
     "output_type": "stream",
     "name": "stdout",
     "text": [
      "['cat']\n",
      "[]\n"
     ]
    }
   ],
   "metadata": {}
  },
  {
   "cell_type": "code",
   "execution_count": 45,
   "source": [
    "class Person:\r\n",
    "    TITLES = ('Dr', 'Mr', 'Mrs', 'Ms')\r\n",
    "    def __init__(self, title, name, surname):\r\n",
    "        if title not in self.TITLES:\r\n",
    "            raise ValueError(\"%s is not a valid title.\" % title)\r\n",
    "        self.title = title\r\n",
    "        self.name = name\r\n",
    "        self.surname = surname\r\n",
    "Tuna = Person(\"Dr\", \"Tuna\", \"Li\")\r\n",
    "print(Tuna.title)\r\n",
    "print(Tuna.name)\r\n",
    "print(Tuna.surname)\r\n",
    "\r\n",
    "try: \r\n",
    "    Mi = Person(\"robot\", \"Mi\", \"family\")\r\n",
    "except ValueError as err:\r\n",
    "    print(err)"
   ],
   "outputs": [
    {
     "output_type": "stream",
     "name": "stdout",
     "text": [
      "Dr\n",
      "Tuna\n",
      "Li\n",
      "robot is not a valid title.\n"
     ]
    }
   ],
   "metadata": {}
  },
  {
   "cell_type": "code",
   "execution_count": 54,
   "source": [
    "class Smith:\r\n",
    "    surname = \"Smith\"\r\n",
    "    profession = \"smith\"\r\n",
    "\r\n",
    "    def __init__(self, name, profession=None):\r\n",
    "        self.name = name\r\n",
    "        if profession is not None:\r\n",
    "            self.profession = profession\r\n",
    "\r\n",
    "Anna = Smith(\"Anna\", None)\r\n",
    "print(Anna.name)\r\n",
    "print(Anna.surname)\r\n",
    "print(Anna.profession)\r\n",
    "\r\n",
    "Anna = Smith(\"Anna\")\r\n",
    "print(Anna.name)\r\n",
    "print(Anna.surname)\r\n",
    "print(Anna.profession)\r\n",
    "\r\n",
    "Anna = Smith(\"Anna\", \"glad\")\r\n",
    "print(Anna.name)\r\n",
    "print(Anna.surname)\r\n",
    "print(Anna.profession)"
   ],
   "outputs": [
    {
     "output_type": "stream",
     "name": "stdout",
     "text": [
      "Anna\n",
      "Smith\n",
      "smith\n",
      "Anna\n",
      "Smith\n",
      "smith\n",
      "Anna\n",
      "Smith\n",
      "glad\n"
     ]
    }
   ],
   "metadata": {}
  },
  {
   "cell_type": "code",
   "execution_count": 59,
   "source": [
    "class Person:\r\n",
    "    def __init__(self, name, surname, birthdate, address, telephone, email):\r\n",
    "        self.name = name\r\n",
    "    # (...)\r\n",
    "    @classmethod\r\n",
    "    def from_text_file(cls, filename):\r\n",
    "        # extract all the parameters from the text file\r\n",
    "        return cls(*params) # this is the same as calling Person(*params)\r\n",
    "\r\n",
    "person = Person(\r\n",
    "    \"Jane\",\r\n",
    "    \"Doe\",\r\n",
    "    datetime.date(1992, 3, 12), # year, month, day\r\n",
    "    \"No. 12 Short Street, Greenville\",\r\n",
    "    \"555 456 0987\",\r\n",
    "    \"jane.doe@example.com\"\r\n",
    "    )\r\n"
   ],
   "outputs": [],
   "metadata": {}
  },
  {
   "cell_type": "code",
   "execution_count": 62,
   "source": [
    "class Person:\r\n",
    "    TITLES = ('Dr', 'Mr', 'Mrs', 'Ms')\r\n",
    "    def __init__(self, name, surname):\r\n",
    "        self.name = name\r\n",
    "        self.surname = surname\r\n",
    "    \r\n",
    "    def fullname(self): # instance method\r\n",
    "    # instance object accessible through self\r\n",
    "        return \"%s %s\" % (self.name, self.surname)\r\n",
    "\r\n",
    "    @classmethod\r\n",
    "    def allowed_titles_starting_with(cls, startswith): # class method\r\n",
    "    # class or instance object accessible through cls\r\n",
    "        return [t for t in cls.TITLES if t.startswith(startswith)]\r\n",
    "\r\n",
    "    @staticmethod\r\n",
    "    def allowed_titles_ending_with(endswith): # static method\r\n",
    "    # no parameter for class or instance object\r\n",
    "    # we have to use Person directly\r\n",
    "        return [t for t in Person.TITLES if t.endswith(endswith)]\r\n",
    "\r\n",
    "jane = Person(\"Jane\", \"Smith\")\r\n",
    "print(jane.fullname())\r\n",
    "print(jane.allowed_titles_starting_with(\"M\"))\r\n",
    "print(Person.allowed_titles_starting_with(\"M\"))\r\n",
    "print(jane.allowed_titles_ending_with(\"s\"))\r\n",
    "print(Person.allowed_titles_ending_with(\"s\"))\r\n"
   ],
   "outputs": [
    {
     "output_type": "stream",
     "name": "stdout",
     "text": [
      "Jane Smith\n",
      "['Mr', 'Mrs', 'Ms']\n",
      "['Mr', 'Mrs', 'Ms']\n",
      "['Mrs', 'Ms']\n",
      "['Mrs', 'Ms']\n"
     ]
    }
   ],
   "metadata": {}
  },
  {
   "cell_type": "code",
   "execution_count": 65,
   "source": [
    "class Person:\r\n",
    "    def __init__(self, height):\r\n",
    "        self.height = height\r\n",
    "    \r\n",
    "    def get_height(self):\r\n",
    "        return self.height\r\n",
    "\r\n",
    "    def set_height(self, height):\r\n",
    "        self.height = height\r\n",
    "\r\n",
    "jane = Person(153) # Jane is 153cm tall\r\n",
    "jane.height += 1 # Jane grows by a centimetre\r\n",
    "print(jane.height)\r\n",
    "\r\n",
    "jane.set_height(jane.height + 1) # Jane grows again\r\n",
    "print(jane.height)"
   ],
   "outputs": [
    {
     "output_type": "stream",
     "name": "stdout",
     "text": [
      "154\n",
      "155\n"
     ]
    }
   ],
   "metadata": {}
  },
  {
   "cell_type": "code",
   "execution_count": 68,
   "source": [
    "class Person:\r\n",
    "    def __init__(self, name, surname):\r\n",
    "        self.name = name\r\n",
    "        self.surname = surname\r\n",
    "\r\n",
    "    @property\r\n",
    "    def fullname(self):\r\n",
    "        #return \"%s %s\" % (self.name, self.surname)\r\n",
    "        return f\"{self.name} {self.surname}\"\r\n",
    "\r\n",
    "jane = Person(\"Jane\", \"Smith\")\r\n",
    "print(jane.fullname) # no brackets!\r\n"
   ],
   "outputs": [
    {
     "output_type": "stream",
     "name": "stdout",
     "text": [
      "Jane Smith\n"
     ]
    }
   ],
   "metadata": {}
  },
  {
   "cell_type": "code",
   "execution_count": 72,
   "source": [
    "class Person:\r\n",
    "    def __init__(self, name, surname):\r\n",
    "        self.name = name\r\n",
    "        self.surname = surname\r\n",
    "\r\n",
    "    @property\r\n",
    "    def fullname(self):\r\n",
    "        return \"%s %s\" % (self.name, self.surname)\r\n",
    "\r\n",
    "    @fullname.setter\r\n",
    "    def fullname(self, value):\r\n",
    "    # this is much more complicated in real life\r\n",
    "        name, surname = value.split(\" \", 1)\r\n",
    "        self.name = name\r\n",
    "        self.surname = surname\r\n",
    "\r\n",
    "    @fullname.deleter\r\n",
    "    def fullname(self):\r\n",
    "        del self.name\r\n",
    "        del self.surname\r\n",
    "\r\n",
    "jane = Person(\"Jane\", \"Smith\")\r\n",
    "print(jane.fullname)\r\n",
    "jane.fullname = \"Jane Doe\"\r\n",
    "print(jane.fullname)\r\n",
    "\r\n",
    "print(jane.name)\r\n",
    "print(jane.surname)"
   ],
   "outputs": [
    {
     "output_type": "stream",
     "name": "stdout",
     "text": [
      "Jane Smith\n",
      "Jane Doe\n",
      "Jane\n",
      "Doe\n"
     ]
    }
   ],
   "metadata": {}
  },
  {
   "cell_type": "code",
   "execution_count": 77,
   "source": [
    "class Person:\r\n",
    "    def __init__(self, name, surname):\r\n",
    "        self.name = name\r\n",
    "        self.surname = surname\r\n",
    "\r\n",
    "    @property\r\n",
    "    def fullname(self):\r\n",
    "        return \"%s %s\" % (self.name, self.surname)\r\n",
    "\r\n",
    "    @fullname.setter\r\n",
    "    def fullname(self, value):\r\n",
    "    # this is much more complicated in real life\r\n",
    "        name, surname = value.split(\" \", 1)\r\n",
    "        self.name = name\r\n",
    "        self.surname = surname\r\n",
    "\r\n",
    "jane = Person(\"Jane\", \"Smith\")\r\n",
    "print(jane.fullname)\r\n",
    "jane.fullname = \"Jane Doe\"\r\n",
    "print(jane.fullname)\r\n",
    "\r\n",
    "print(jane.name)\r\n",
    "print(jane.surname)\r\n",
    "  \r\n",
    "print(dir(jane))"
   ],
   "outputs": [
    {
     "output_type": "stream",
     "name": "stdout",
     "text": [
      "Jane Smith\n",
      "Jane Doe\n",
      "Jane\n",
      "Doe\n",
      "['__class__', '__delattr__', '__dict__', '__dir__', '__doc__', '__eq__', '__format__', '__ge__', '__getattribute__', '__gt__', '__hash__', '__init__', '__init_subclass__', '__le__', '__lt__', '__module__', '__ne__', '__new__', '__reduce__', '__reduce_ex__', '__repr__', '__setattr__', '__sizeof__', '__str__', '__subclasshook__', '__weakref__', 'fullname', 'name', 'surname']\n"
     ]
    }
   ],
   "metadata": {}
  },
  {
   "cell_type": "code",
   "execution_count": 76,
   "source": [
    "## Exercise 4\r\n",
    "\r\n",
    "class Numbers:\r\n",
    "    MULTIPLIER = 3.5\r\n",
    "\r\n",
    "    def __init__(self, x:float, y:float):\r\n",
    "        self.x = x\r\n",
    "        self.y = y\r\n",
    "\r\n",
    "    def add(self):\r\n",
    "        return self.x + self.y\r\n",
    "    \r\n",
    "    @classmethod\r\n",
    "    def multiply(cls, a):\r\n",
    "        return cls.MULTIPLIER * a\r\n",
    "\r\n",
    "    @staticmethod\r\n",
    "    def substract(b,c):\r\n",
    "        return b-c\r\n",
    "    \r\n",
    "    @property\r\n",
    "    def value(self):\r\n",
    "        return (self.x, self.y)\r\n",
    "    \r\n",
    "    @value.setter\r\n",
    "    def value(self,xy_tuple):\r\n",
    "        self.x, self.y = xy_typle\r\n",
    "\r\n",
    "    @value.deleter\r\n",
    "    def value(self):\r\n",
    "        del self.x\r\n",
    "        del self.y\r\n",
    "\r\n",
    "\r\n"
   ],
   "outputs": [],
   "metadata": {}
  },
  {
   "cell_type": "code",
   "execution_count": 79,
   "source": [
    "def print_object_attrs(any_object):\r\n",
    "    for k, v in any_object.__dict__.items():\r\n",
    "        print(\"%s: %s\" % (k, v))"
   ],
   "outputs": [],
   "metadata": {}
  },
  {
   "cell_type": "code",
   "execution_count": 1,
   "source": [
    "# 9.6\r\n",
    "import datetime\r\n",
    "class Person:\r\n",
    "    def __init__(self, name, surname, birthdate, address, telephone, email):\r\n",
    "        self.name = name\r\n",
    "        self.surname = surname\r\n",
    "        self.birthdate = birthdate\r\n",
    "        self.address = address\r\n",
    "        self.telephone = telephone\r\n",
    "        self.email = email\r\n",
    "\r\n",
    "    def __str__(self):\r\n",
    "        return \"%s %s, born %s\\nAddress: %s\\nTelephone: %s\\nEmail:%s\" % (self.name, self.surname, self.birthdate, self.address, self.telephone, self.email)\r\n",
    "\r\n",
    "jane = Person(\r\n",
    "\"Jane\",\r\n",
    "\"Doe\",\r\n",
    "datetime.date(1992, 3, 12), # year, month, day\r\n",
    "\"No. 12 Short Street, Greenville\",\r\n",
    "\"555 456 0987\",\r\n",
    "\"jane.doe@example.com\"\r\n",
    ")\r\n",
    "print(jane)"
   ],
   "outputs": [
    {
     "output_type": "stream",
     "name": "stdout",
     "text": [
      "Jane Doe, born 1992-03-12\n",
      "Address: No. 12 Short Street, Greenville\n",
      "Telephone: 555 456 0987\n",
      "Email:jane.doe@example.com\n"
     ]
    }
   ],
   "metadata": {}
  },
  {
   "cell_type": "code",
   "execution_count": 6,
   "source": [
    "class Person:\r\n",
    "    def __init__(self, name, surname):\r\n",
    "        self.name = name\r\n",
    "        self.surname = surname\r\n",
    "    \r\n",
    "    def __eq__(self, other): # does self == other?\r\n",
    "        return self.name == other.name and self.surname == other.surname\r\n",
    "\r\n",
    "    def __gt__(self, other): # is self > other?\r\n",
    "        if self.surname == other.surname:\r\n",
    "            return self.name > other.name\r\n",
    "        return self.surname > other.surname\r\n",
    "    \r\n",
    "    # now we can define all the other methods in terms of the first two\r\n",
    "    def __ne__(self, other): # does self != other?\r\n",
    "        return not self == other # this calls self.__eq__(other)\r\n",
    "    def __le__(self, other): # is self <= other?\r\n",
    "        return not self > other # this calls self.__gt__(other)\r\n",
    "    def __lt__(self, other): # is self < other?\r\n",
    "        return not (self > other or self == other)\r\n",
    "    def __ge__(self, other): # is self >= other?\r\n",
    "        return not self < other\r\n",
    "\r\n",
    "person1 = Person(\"ChenYu\", \"Hua\")\r\n",
    "person2 = Person(\"Hua\", \"Hua\")\r\n",
    "\r\n",
    "print(person1.name)\r\n",
    "print(person2.surname)\r\n",
    "print(person1.__eq__(person2))\r\n",
    "print(person1.__gt__(person2))\r\n",
    "print(person2.__gt__(person1))\r\n",
    "\r\n",
    "print(person1.__ne__(person2))\r\n",
    "print(person1.__le__(person2))\r\n",
    "print(person1.__lt__(person2))\r\n",
    "print(person1.__ge__(person2))"
   ],
   "outputs": [
    {
     "output_type": "stream",
     "name": "stdout",
     "text": [
      "ChenYu\n",
      "Hua\n",
      "False\n",
      "False\n",
      "True\n",
      "True\n",
      "True\n",
      "True\n",
      "False\n"
     ]
    }
   ],
   "metadata": {}
  },
  {
   "cell_type": "code",
   "execution_count": 14,
   "source": [
    "class AnyClass:\r\n",
    "    def __init__(self, **kwargs):\r\n",
    "        for k, v in kwargs.items():\r\n",
    "            setattr(self, k, v)\r\n",
    "    def __str__(self):\r\n",
    "        attrs = [\"%s=%s\" % (k, v) for (k, v) in self.__dict__.items()]\r\n",
    "        classname = self.__class__.__name__\r\n",
    "        return \"%s: %s\" % (classname, \" \".join(attrs))\r\n",
    "\r\n",
    "fruit = AnyClass(color=\"yellow\", shape=\"round\", taste=\"sweet\")\r\n",
    "print(fruit.__str__())"
   ],
   "outputs": [
    {
     "output_type": "stream",
     "name": "stdout",
     "text": [
      "AnyClass: color=yellow shape=round taste=sweet\n"
     ]
    }
   ],
   "metadata": {}
  }
 ],
 "metadata": {
  "orig_nbformat": 4,
  "language_info": {
   "name": "python",
   "version": "3.9.6",
   "mimetype": "text/x-python",
   "codemirror_mode": {
    "name": "ipython",
    "version": 3
   },
   "pygments_lexer": "ipython3",
   "nbconvert_exporter": "python",
   "file_extension": ".py"
  },
  "kernelspec": {
   "name": "python3",
   "display_name": "Python 3.9.6 64-bit ('python-programming-Yuna-Liu-WA6ACBfR': pipenv)"
  },
  "interpreter": {
   "hash": "8111105f47d12ec1fb8af24cde7e4ba5898ee01916168ee13b7453f45f559afc"
  }
 },
 "nbformat": 4,
 "nbformat_minor": 2
}