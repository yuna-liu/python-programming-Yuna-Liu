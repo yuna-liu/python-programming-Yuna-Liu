{
 "cells": [
  {
   "cell_type": "code",
   "execution_count": 91,
   "source": [
    "# with -> use this when opening files\r\n",
    "\r\n",
    "with open(\"files/quotes.txt\", \"r\") as f:  \r\n",
    "   \r\n",
    "    text = f.read()\r\n",
    "\r\n",
    "# print(text)\r\n",
    "\r\n",
    "\r\n",
    "print(repr(text)) # only in vs code. in ordinary python: repr(tex)\r\n",
    "\r\n",
    "# \"r\": read; w: write; a: append; x: create\r\n",
    "\"\"\" relative path: the txt in the samle folder as the code existed. \r\n",
    "     is better than absolute path, because you are able to use codes in two different computers... \"\"\"\r\n"
   ],
   "outputs": [
    {
     "output_type": "stream",
     "name": "stdout",
     "text": [
      "'  If     we     knew what it was      we were doing, it would not be called research,          would it?     - Albert Einstein\\n\\nTime is a drug. Too       much of it kills you.  -  Terry Pratchett\\n\\n\\n An expert is a person who       has made all the mistakes that           can be made in a          very narrow field - Niels Bohr\\n\\n   Everything must be made as simple as possible. But not simpler. - Albert Einstein     \\n\\n\\n  Nothing in life                is to be feared, it is only to be understood. Now is the time to understand more, so that we may fear less. - Marie  Curie  \\n\\nIf I have seen further     it is by standing on the shoulders of Giants. - Isaac Newton'\n"
     ]
    },
    {
     "output_type": "execute_result",
     "data": {
      "text/plain": [
       "' relative path: the txt in the samle folder as the code existed. \\n     is better than absolute path, because you are able to use codes in two different computers... '"
      ]
     },
     "metadata": {},
     "execution_count": 91
    }
   ],
   "metadata": {}
  },
  {
   "cell_type": "code",
   "execution_count": 92,
   "source": [
    "path = \"files/quotes.txt\"\r\n",
    "\r\n",
    "with open(path, \"r\") as f1:  \r\n",
    "   \r\n",
    "    #quotes = f1.readlines() # create a list, can be used for list comprehension, change value, clean data...\r\n",
    "    #print(quotes)\r\n",
    "    quotes = [quotes.strip(\"\\n\") for quotes in f1.readlines()]\r\n",
    "    print(quotes)\r\n",
    "\r\n",
    "# remove \"\\n\" from quotes.\r\n"
   ],
   "outputs": [
    {
     "output_type": "stream",
     "name": "stdout",
     "text": [
      "['  If     we     knew what it was      we were doing, it would not be called research,          would it?     - Albert Einstein', '', 'Time is a drug. Too       much of it kills you.  -  Terry Pratchett', '', '', ' An expert is a person who       has made all the mistakes that           can be made in a          very narrow field - Niels Bohr', '', '   Everything must be made as simple as possible. But not simpler. - Albert Einstein     ', '', '', '  Nothing in life                is to be feared, it is only to be understood. Now is the time to understand more, so that we may fear less. - Marie  Curie  ', '', 'If I have seen further     it is by standing on the shoulders of Giants. - Isaac Newton']\n"
     ]
    }
   ],
   "metadata": {}
  },
  {
   "cell_type": "code",
   "execution_count": 93,
   "source": [
    "import re\r\n",
    "\r\n",
    "path = \"files/quotes.txt\"\r\n",
    "path_clean = \"files/quotes_clean.txt\"\r\n",
    "\r\n",
    "with open(path, \"r\") as f1, open(path_clean, \"w\") as f2:  \r\n",
    "    f2.write(\"Famous quotes\")\r\n",
    "    for quote in f1.readlines():   # for each line, remove newline symbol with \"\\n\", print each line\r\n",
    "        # quote = quote.strip(\"\\n\") \r\n",
    "        quote = quote.strip(\" \\n\") # removes leading and trailing whitespace and newlines.\r\n",
    "        quote = re.sub(\" +\", \" \", quote) # replace one and more whitespaces to one whitespace.\r\n",
    "        print(repr(quote))\r\n",
    "        \r\n",
    "\r\n",
    "        # f2.write(quote)\r\n",
    "\r\n",
    "        f2.write(f\"{quote}\\n\")\r\n",
    "\r\n",
    "\r\n",
    "        # print(quote)\r\n",
    "# remove \"\\n\" from quotes."
   ],
   "outputs": [
    {
     "output_type": "stream",
     "name": "stdout",
     "text": [
      "'If we knew what it was we were doing, it would not be called research, would it? - Albert Einstein'\n",
      "''\n",
      "'Time is a drug. Too much of it kills you. - Terry Pratchett'\n",
      "''\n",
      "''\n",
      "'An expert is a person who has made all the mistakes that can be made in a very narrow field - Niels Bohr'\n",
      "''\n",
      "'Everything must be made as simple as possible. But not simpler. - Albert Einstein'\n",
      "''\n",
      "''\n",
      "'Nothing in life is to be feared, it is only to be understood. Now is the time to understand more, so that we may fear less. - Marie Curie'\n",
      "''\n",
      "'If I have seen further it is by standing on the shoulders of Giants. - Isaac Newton'\n"
     ]
    }
   ],
   "metadata": {}
  },
  {
   "cell_type": "code",
   "execution_count": 94,
   "source": [
    "import re\r\n",
    "\r\n",
    "path = \"files/quotes.txt\"\r\n",
    "path_clean = \"files/quotes_clean.txt\"\r\n",
    "i = 1\r\n",
    "\r\n",
    "with open(path, \"r\") as f1, open(path_clean, \"w\") as f2:  \r\n",
    "    f2.write(\"Famous quotes\\n\\n\")\r\n",
    "    for quote in f1.readlines():   # for each line, remove newline symbol with \"\\n\", print each line\r\n",
    "        # quote = quote.strip(\"\\n\") \r\n",
    "        quote = quote.strip(\" \\n\") # removes leading and trailing whitespace and newlines.\r\n",
    "        quote = re.sub(\" +\", \" \", quote) # replace one and more whitespaces to one whitespace.\r\n",
    "        print(repr(quote))\r\n",
    "        \r\n",
    "\r\n",
    "        # f2.write(quote)\r\n",
    "        if quote != \"\":\r\n",
    "            f2.write(f\"{i}. {quote}\\n\")\r\n",
    "            i += 1"
   ],
   "outputs": [
    {
     "output_type": "stream",
     "name": "stdout",
     "text": [
      "'If we knew what it was we were doing, it would not be called research, would it? - Albert Einstein'\n",
      "''\n",
      "'Time is a drug. Too much of it kills you. - Terry Pratchett'\n",
      "''\n",
      "''\n",
      "'An expert is a person who has made all the mistakes that can be made in a very narrow field - Niels Bohr'\n",
      "''\n",
      "'Everything must be made as simple as possible. But not simpler. - Albert Einstein'\n",
      "''\n",
      "''\n",
      "'Nothing in life is to be feared, it is only to be understood. Now is the time to understand more, so that we may fear less. - Marie Curie'\n",
      "''\n",
      "'If I have seen further it is by standing on the shoulders of Giants. - Isaac Newton'\n"
     ]
    }
   ],
   "metadata": {}
  },
  {
   "cell_type": "code",
   "execution_count": 95,
   "source": [
    "with open(path_clean, \"r\") as f1, open(path_clean, \"a\") as f2:  #the same txt to different f1 and f2\r\n",
    "    print(f1.read())\r\n",
    "   \r\n",
    "    "
   ],
   "outputs": [
    {
     "output_type": "stream",
     "name": "stdout",
     "text": [
      "Famous quotes\n",
      "\n",
      "1. If we knew what it was we were doing, it would not be called research, would it? - Albert Einstein\n",
      "2. Time is a drug. Too much of it kills you. - Terry Pratchett\n",
      "3. An expert is a person who has made all the mistakes that can be made in a very narrow field - Niels Bohr\n",
      "4. Everything must be made as simple as possible. But not simpler. - Albert Einstein\n",
      "5. Nothing in life is to be feared, it is only to be understood. Now is the time to understand more, so that we may fear less. - Marie Curie\n",
      "6. If I have seen further it is by standing on the shoulders of Giants. - Isaac Newton\n",
      "\n"
     ]
    }
   ],
   "metadata": {}
  },
  {
   "cell_type": "code",
   "execution_count": 96,
   "source": [
    "with open(path_clean, \"r\") as f1, open(path_clean, \"a\") as f2:  #the same txt to different f1 and f2\r\n",
    "    \r\n",
    "    quotes = [quote.strip(\"\\n\") for quote in f1.readlines()]\r\n",
    "    print(quotes)"
   ],
   "outputs": [
    {
     "output_type": "stream",
     "name": "stdout",
     "text": [
      "['Famous quotes', '', '1. If we knew what it was we were doing, it would not be called research, would it? - Albert Einstein', '2. Time is a drug. Too much of it kills you. - Terry Pratchett', '3. An expert is a person who has made all the mistakes that can be made in a very narrow field - Niels Bohr', '4. Everything must be made as simple as possible. But not simpler. - Albert Einstein', '5. Nothing in life is to be feared, it is only to be understood. Now is the time to understand more, so that we may fear less. - Marie Curie', '6. If I have seen further it is by standing on the shoulders of Giants. - Isaac Newton']\n"
     ]
    }
   ],
   "metadata": {}
  },
  {
   "cell_type": "code",
   "execution_count": 85,
   "source": [
    "with open(path_clean, \"r\") as f1, open(path_clean, \"a\") as f2:  #the same txt to different f1 and f2\r\n",
    "    \r\n",
    "    quotes = [quote for quote in f1.readlines()]\r\n",
    "    print(quotes)"
   ],
   "outputs": [
    {
     "output_type": "stream",
     "name": "stdout",
     "text": [
      "['Famous quotes\\n', '\\n', '1. If we knew what it was we were doing, it would not be called research, would it? - Albert Einstein\\n', '2. Time is a drug. Too much of it kills you. - Terry Pratchett\\n', '3. An expert is a person who has made all the mistakes that can be made in a very narrow field - Niels Bohr\\n', '4. Everything must be made as simple as possible. But not simpler. - Albert Einstein\\n', '5. Nothing in life is to be feared, it is only to be understood. Now is the time to understand more, so that we may fear less. - Marie Curie\\n', '6. If I have seen further it is by standing on the shoulders of Giants. - Isaac Newton\\n']\n"
     ]
    }
   ],
   "metadata": {}
  },
  {
   "cell_type": "code",
   "execution_count": 99,
   "source": [
    "with open(path_clean, \"r\") as f1, open(path_clean, \"a\") as f2:  #the same txt to different f1 and f2\r\n",
    "    \r\n",
    "    quotes = [quote.strip(\"\\n\") for quote in f1.readlines() if quote[0].isdigit()]\r\n",
    "   \r\n",
    "    print(quotes)\r\n"
   ],
   "outputs": [
    {
     "output_type": "stream",
     "name": "stdout",
     "text": [
      "['1. If we knew what it was we were doing, it would not be called research, would it? - Albert Einstein', '2. Time is a drug. Too much of it kills you. - Terry Pratchett', '3. An expert is a person who has made all the mistakes that can be made in a very narrow field - Niels Bohr', '4. Everything must be made as simple as possible. But not simpler. - Albert Einstein', '5. Nothing in life is to be feared, it is only to be understood. Now is the time to understand more, so that we may fear less. - Marie Curie', '6. If I have seen further it is by standing on the shoulders of Giants. - Isaac Newton']\n"
     ]
    }
   ],
   "metadata": {}
  },
  {
   "cell_type": "code",
   "execution_count": 98,
   "source": [
    "with open(path_clean, \"r\") as f1, open(path_clean, \"a\") as f2:  #the same txt to different f1 and f2\r\n",
    "    \r\n",
    "    quotes = [quote.strip(\"\\n\") for quote in f1.readlines() if quote[0].isdigit()]\r\n",
    "    print(authors)\r\n",
    "    authors = [quote.split()[-2:] for quote in quotes]\r\n",
    "    print(authors)\r\n",
    "    authors = [\" \".join(author) for author in authors]\r\n",
    "    print(authors)\r\n",
    "    # authors = [\"\".join(author) for author in authors]\r\n",
    "    # authors = [\",\".join(author) for author in authors]"
   ],
   "outputs": [
    {
     "output_type": "stream",
     "name": "stdout",
     "text": [
      "{'Isaac Newton', 'Albert Einstein', 'Terry Pratchett', 'Marie Curie', 'Niels Bohr'}\n",
      "[['Albert', 'Einstein'], ['Terry', 'Pratchett'], ['Niels', 'Bohr'], ['Albert', 'Einstein'], ['Marie', 'Curie'], ['Isaac', 'Newton']]\n",
      "['Albert Einstein', 'Terry Pratchett', 'Niels Bohr', 'Albert Einstein', 'Marie Curie', 'Isaac Newton']\n"
     ]
    }
   ],
   "metadata": {}
  },
  {
   "cell_type": "code",
   "execution_count": 101,
   "source": [
    "with open(path_clean, \"r\") as f1, open(path_clean, \"a\") as f2:  #the same txt to different f1 and f2\r\n",
    "    \r\n",
    "    quotes = [quote.strip(\"\\n\") for quote in f1.readlines() if quote[0].isdigit()]\r\n",
    "    authors = [quote.split()[-2:] for quote in quotes]\r\n",
    "    print(authors)\r\n",
    "    \r\n",
    "    authors = set([\" \".join(author) for author in authors])\r\n",
    "    print(authors)\r\n",
    "\r\n",
    "    f2.write(\"\\nAuthors: \")\r\n",
    "\r\n",
    "    for author in authors:\r\n",
    "        f2.write(f\"{author}, \")"
   ],
   "outputs": [
    {
     "output_type": "stream",
     "name": "stdout",
     "text": [
      "[['Albert', 'Einstein'], ['Terry', 'Pratchett'], ['Niels', 'Bohr'], ['Albert', 'Einstein'], ['Marie', 'Curie'], ['Isaac', 'Newton']]\n",
      "{'Isaac Newton', 'Albert Einstein', 'Terry Pratchett', 'Marie Curie', 'Niels Bohr'}\n"
     ]
    }
   ],
   "metadata": {}
  }
 ],
 "metadata": {
  "orig_nbformat": 4,
  "language_info": {
   "name": "python",
   "version": "3.9.6",
   "mimetype": "text/x-python",
   "codemirror_mode": {
    "name": "ipython",
    "version": 3
   },
   "pygments_lexer": "ipython3",
   "nbconvert_exporter": "python",
   "file_extension": ".py"
  },
  "kernelspec": {
   "name": "python3",
   "display_name": "Python 3.9.6 64-bit ('python-programming-Yuna-Liu-WA6ACBfR': pipenv)"
  },
  "interpreter": {
   "hash": "8111105f47d12ec1fb8af24cde7e4ba5898ee01916168ee13b7453f45f559afc"
  }
 },
 "nbformat": 4,
 "nbformat_minor": 2
}