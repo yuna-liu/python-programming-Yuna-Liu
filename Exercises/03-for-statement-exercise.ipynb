{
 "cells": [
  {
   "cell_type": "markdown",
   "source": [
    "# The solution to exercise 03: for statement\r\n",
    "\r\n",
    "Date: 2021-08-31\r\n",
    "\r\n",
    "The questions to exercise 03 can be found [here][exercise_03]:\r\n",
    "\r\n",
    "[exercise_03]: https://github.com/kokchun/Programmering-med-Python-21/blob/main/Exercises/03-for-statement-exercise.ipynb"
   ],
   "metadata": {}
  },
  {
   "cell_type": "markdown",
   "source": [
    "# for statement exercises"
   ],
   "metadata": {}
  },
  {
   "cell_type": "markdown",
   "source": [
    "## 1. Count numbers (*)\r\n",
    "\r\n",
    "Use a **for** statement to count from: \r\n",
    "\r\n",
    "&nbsp; a) &nbsp; -10 to 10 with one increment (*)\r\n",
    "\r\n",
    "&nbsp; b) &nbsp; -10 to 10 with two increment (*)\r\n",
    "\r\n",
    "<details>\r\n",
    "\r\n",
    "<summary>Answer </summary>\r\n",
    "\r\n",
    "```\r\n",
    "a) -10 -9 -8 -7 -6 -5 -4 -3 -2 -1 0 1 2 3 4 5 6 7 8 9 10\r\n",
    "\r\n",
    "b) -10  -8  -6  -4  -2  0  2  4  6  8  10\r\n",
    "```\r\n",
    "\r\n",
    "</details>\r\n",
    "\r\n"
   ],
   "metadata": {}
  },
  {
   "cell_type": "code",
   "execution_count": 4,
   "source": [
    "#a)\r\n",
    "for i in range (-10, 11):\r\n",
    "    print(i, end =\" \")\r\n",
    "\r\n",
    "print()\r\n",
    "\r\n",
    "#b)\r\n",
    "for i in range (-10, 11, 2):\r\n",
    "    print(i, end = \" \")"
   ],
   "outputs": [
    {
     "output_type": "stream",
     "name": "stdout",
     "text": [
      "-10 -9 -8 -7 -6 -5 -4 -3 -2 -1 0 1 2 3 4 5 6 7 8 9 10 \n",
      "-10 -8 -6 -4 -2 0 2 4 6 8 10 "
     ]
    }
   ],
   "metadata": {}
  },
  {
   "cell_type": "markdown",
   "source": [
    "---\r\n",
    "## 2. Arithmetic sum (*)\r\n",
    "Use a **for** statement to compute the following sums: \r\n",
    "\r\n",
    "&nbsp; a) &nbsp; $\\text{sum} = 1 + 2 + \\ldots + 99+ 100$ (*)\r\n",
    "\r\n",
    "&nbsp; b) &nbsp; $\\text{sum} = 1 + 3 + 5 + \\ldots + 97 + 99$ (*)\r\n",
    "\r\n",
    "<details>\r\n",
    "\r\n",
    "<summary>Answer </summary>\r\n",
    "\r\n",
    "```\r\n",
    "a) 1 + 2 + ... + 99 + 100 = 5050 \r\n",
    "\r\n",
    "b) 1 + 3 + 5 +...+ 97 + 99 = 2500\r\n",
    "```\r\n",
    "\r\n",
    "</details>\r\n"
   ],
   "metadata": {}
  },
  {
   "cell_type": "code",
   "execution_count": 6,
   "source": [
    "# a)\r\n",
    "sum = 0\r\n",
    "for i in range(1,101):\r\n",
    "    sum += i\r\n",
    "    if i == 100:\r\n",
    "        continue\r\n",
    "    print(f\"{i}+\", end = \"\")\r\n",
    "print(f\"{i}={sum}\")"
   ],
   "outputs": [
    {
     "output_type": "stream",
     "name": "stdout",
     "text": [
      "1+2+3+4+5+6+7+8+9+10+11+12+13+14+15+16+17+18+19+20+21+22+23+24+25+26+27+28+29+30+31+32+33+34+35+36+37+38+39+40+41+42+43+44+45+46+47+48+49+50+51+52+53+54+55+56+57+58+59+60+61+62+63+64+65+66+67+68+69+70+71+72+73+74+75+76+77+78+79+80+81+82+83+84+85+86+87+88+89+90+91+92+93+94+95+96+97+98+99+100=5050\n"
     ]
    }
   ],
   "metadata": {}
  },
  {
   "cell_type": "code",
   "execution_count": 7,
   "source": [
    "# b)\r\n",
    "sum = 0\r\n",
    "for i in range(1, 100, 2):\r\n",
    "    sum += i\r\n",
    "    if i==99:\r\n",
    "        continue\r\n",
    "    print(f\"{i}+\", end=\"\")\r\n",
    "print(f\"{i}={sum}\")"
   ],
   "outputs": [
    {
     "output_type": "stream",
     "name": "stdout",
     "text": [
      "1+3+5+7+9+11+13+15+17+19+21+23+25+27+29+31+33+35+37+39+41+43+45+47+49+51+53+55+57+59+61+63+65+67+69+71+73+75+77+79+81+83+85+87+89+91+93+95+97+99=2500\n"
     ]
    }
   ],
   "metadata": {}
  },
  {
   "cell_type": "markdown",
   "source": [
    "---\r\n",
    "## 3. Multiplication table (*)\r\n",
    "Use **for** statement(s) to:\r\n",
    "\r\n",
    "&nbsp; a) &nbsp; print out the 6th multiplication table from 0 to 10 (*)\r\n",
    "\r\n",
    "&nbsp; b) &nbsp; let the user input the **table**, **start** and **end** of the table. (*)\r\n",
    "\r\n",
    "&nbsp; c) &nbsp; print out a full multiplication table from 0 to 10. (**)\r\n",
    "\r\n",
    "\r\n",
    "<details>\r\n",
    "\r\n",
    "<summary>Hint</summary>\r\n",
    "\r\n",
    "c) Use nested for-loops, which means a for-loop in a for-loop. To format the table nicely, use **f-string**: \r\n",
    "\r\n",
    "```python\r\n",
    "print(f\"{number :4}\", end = \"\")\r\n",
    "```\r\n",
    "\r\n",
    "\r\n",
    "</details>\r\n",
    "\r\n",
    "\r\n",
    "<details>\r\n",
    "\r\n",
    "<summary>Answer </summary>\r\n",
    "\r\n",
    "a)\r\n",
    "```\r\n",
    "0 6 12 18 24 30 36 42 48 54 60\r\n",
    "```\r\n",
    "\r\n",
    "b) e.g. \r\n",
    "\r\n",
    "```\r\n",
    "Which table are you interested in? 5\r\n",
    "Specify start of table: 5\r\n",
    "Specify end of table: 12\r\n",
    "\r\n",
    "Your 5th multiplication table from 5 to 12: 25 30 35 40 45 50 55 60\r\n",
    "```\r\n",
    "\r\n",
    "c)\r\n",
    "\r\n",
    "```\r\n",
    "   0   0   0   0   0   0   0   0   0   0   0\r\n",
    "   0   1   2   3   4   5   6   7   8   9  10\r\n",
    "   0   2   4   6   8  10  12  14  16  18  20\r\n",
    "   0   3   6   9  12  15  18  21  24  27  30\r\n",
    "   0   4   8  12  16  20  24  28  32  36  40\r\n",
    "   0   5  10  15  20  25  30  35  40  45  50\r\n",
    "   0   6  12  18  24  30  36  42  48  54  60\r\n",
    "   0   7  14  21  28  35  42  49  56  63  70\r\n",
    "   0   8  16  24  32  40  48  56  64  72  80\r\n",
    "   0   9  18  27  36  45  54  63  72  81  90\r\n",
    "   0  10  20  30  40  50  60  70  80  90 100\r\n",
    "```\r\n",
    "\r\n",
    "</details>"
   ],
   "metadata": {}
  },
  {
   "cell_type": "code",
   "execution_count": 9,
   "source": [
    "# a)\r\n",
    "for i in range(11):\r\n",
    "    multiplication = i*6\r\n",
    "    print(f\"{multiplication}\", end = \" \")"
   ],
   "outputs": [
    {
     "output_type": "stream",
     "name": "stdout",
     "text": [
      "0 6 12 18 24 30 36 42 48 54 60 "
     ]
    }
   ],
   "metadata": {}
  },
  {
   "cell_type": "code",
   "execution_count": 37,
   "source": [
    "# b)\r\n",
    "number = int(input(\"Which table are you interested in (from 0-10)?\"))\r\n",
    "start = int(input(\"Specify start of table:\"))\r\n",
    "end = int(input(\"Specify end of table:\"))\r\n",
    "\r\n",
    "for i in range(start, end+1):\r\n",
    "    multiplication = number*i\r\n",
    "    if i == start:\r\n",
    "        print(f\"Your {number}th multiplication table from {start} to {end}: {multiplication}\", end=\" \")\r\n",
    "    if i != start:\r\n",
    "        print(f\"{multiplication}\", end = \" \")"
   ],
   "outputs": [
    {
     "output_type": "stream",
     "name": "stdout",
     "text": [
      "Your 5th multiplication table from 5 to 12: 25 30 35 40 45 50 55 60 "
     ]
    }
   ],
   "metadata": {}
  },
  {
   "cell_type": "code",
   "execution_count": 19,
   "source": [
    "for i in range(11):\r\n",
    "    for j in range(11):\r\n",
    "        multiplication = i*j\r\n",
    "        print(f\"{multiplication :4}\", end = \" \")\r\n",
    "    print()"
   ],
   "outputs": [
    {
     "output_type": "stream",
     "name": "stdout",
     "text": [
      "   0    0    0    0    0    0    0    0    0    0    0 \n",
      "   0    1    2    3    4    5    6    7    8    9   10 \n",
      "   0    2    4    6    8   10   12   14   16   18   20 \n",
      "   0    3    6    9   12   15   18   21   24   27   30 \n",
      "   0    4    8   12   16   20   24   28   32   36   40 \n",
      "   0    5   10   15   20   25   30   35   40   45   50 \n",
      "   0    6   12   18   24   30   36   42   48   54   60 \n",
      "   0    7   14   21   28   35   42   49   56   63   70 \n",
      "   0    8   16   24   32   40   48   56   64   72   80 \n",
      "   0    9   18   27   36   45   54   63   72   81   90 \n",
      "   0   10   20   30   40   50   60   70   80   90  100 \n"
     ]
    }
   ],
   "metadata": {}
  },
  {
   "cell_type": "markdown",
   "source": [
    "---\r\n",
    "## 4. Faculty (*)\r\n",
    "\r\n",
    "Use a **for** statement to compute $n!$. \r\n",
    "\r\n",
    "$n! = 1\\cdot2\\cdot3\\cdot\\ldots\\cdot(n-1)\\cdot n $\r\n",
    "\r\n",
    "Let the user input $n$. "
   ],
   "metadata": {}
  },
  {
   "cell_type": "code",
   "execution_count": 35,
   "source": [
    "n = int(input (\"Input a integer, please\"))\r\n",
    "faculty = 1\r\n",
    "for i in range(1, n+1):\r\n",
    "    faculty *= i\r\n",
    "    if i == n:\r\n",
    "        continue\r\n",
    "    print(f\"{i}\", end =\"*\")\r\n",
    "print(f\"{i} = {n}! = {faculty}\", end=\"\")"
   ],
   "outputs": [
    {
     "output_type": "stream",
     "name": "stdout",
     "text": [
      "1*2*3*4*5*6*7*8*9*10 = 10! = 3628800"
     ]
    }
   ],
   "metadata": {}
  },
  {
   "cell_type": "code",
   "execution_count": 51,
   "source": [
    "n = int(input (\"Input a integer, please\"))\r\n",
    "faculty = 1\r\n",
    "\r\n",
    "for i in range(1, n+1):\r\n",
    "    faculty *= i\r\n",
    "    if i == 1:\r\n",
    "        print(f\"{n}! = {faculty}\", end=\"*\")\r\n",
    "    if 1 < i < n:\r\n",
    "        print(f\"{i}\", end =\"*\")\r\n",
    "    if i == n:\r\n",
    "        print(f\"{i} = {faculty}\", end=\"\")\r\n"
   ],
   "outputs": [
    {
     "output_type": "stream",
     "name": "stdout",
     "text": [
      "10! = 1*2*3*4*5*6*7*8*9*10 = 3628800"
     ]
    }
   ],
   "metadata": {}
  },
  {
   "cell_type": "markdown",
   "source": [
    "--- \r\n",
    "## 5. Guess the number (*)\r\n",
    "\r\n",
    "The computer thinks of a four-digit number. Start by creating a random four-digit number. Use **for** statement to figure out a correct guess\r\n",
    "\r\n",
    "<br>\r\n",
    "<details>\r\n",
    "\r\n",
    "<summary>Answer </summary>\r\n",
    "\r\n",
    "e.g.\r\n",
    "```\r\n",
    "The final guess is 8993\r\n",
    "The computer number is 8993\r\n",
    "```\r\n",
    "\r\n",
    "</details>"
   ],
   "metadata": {}
  },
  {
   "cell_type": "code",
   "execution_count": 55,
   "source": [
    "import random as rnd\r\n",
    "computer_think = rnd.randint(1000, 9999)\r\n",
    "\r\n",
    "for i in range (1000, 9999):\r\n",
    "    if i == computer_think:\r\n",
    "        print (f\"The final guess is {i}, and the computer_think is {computer_think}\")"
   ],
   "outputs": [
    {
     "output_type": "stream",
     "name": "stdout",
     "text": [
      "The final guess is 3029, and the computer_think is 3029\n"
     ]
    }
   ],
   "metadata": {}
  },
  {
   "cell_type": "markdown",
   "source": [
    "---\r\n",
    "## 6. Rice on chessboard (*)\r\n",
    "\r\n",
    "In first square of the chessboard there is one grain of rice, in the second square there is two grains, in the third square there is four grains and so on. How many grains are there in the whole chessboard when all squares are filled using this pattern?\r\n",
    "\r\n",
    "<img align=\"left\" src=\"../assets/chessboard.png\" width=\"300\"/>"
   ],
   "metadata": {}
  },
  {
   "cell_type": "markdown",
   "source": [
    "<details>\r\n",
    "\r\n",
    "<summary>Answer</summary>\r\n",
    "\r\n",
    "```\r\n",
    "18446744073709551615 number of grains\r\n",
    "```\r\n",
    "\r\n",
    "</details>"
   ],
   "metadata": {}
  },
  {
   "cell_type": "code",
   "execution_count": 57,
   "source": [
    "squares_of_chessboard = 8**2\r\n",
    "print(squares_of_chessboard)\r\n",
    "rice_each_square = 0.5  #starting point: 0.5 is set to make 1 rice on the first square\r\n",
    "sum_of_rices = 0\r\n",
    "\r\n",
    "for square in range(1, squares_of_chessboard+1):\r\n",
    "    rice_each_square *= 2\r\n",
    "    sum_of_rices += rice_each_square\r\n",
    "print(f\"There are {sum_of_rices} grains of rice in the whole chessboard.\")"
   ],
   "outputs": [
    {
     "output_type": "stream",
     "name": "stdout",
     "text": [
      "64\n",
      "There are 1.8446744073709552e+19 grains of rice in the whole chessboard.\n"
     ]
    }
   ],
   "metadata": {}
  }
 ],
 "metadata": {
  "interpreter": {
   "hash": "2971b745844267d7cb4483e5f20d838014d69d8df52b415790673c9e258dc44a"
  },
  "kernelspec": {
   "name": "python3",
   "display_name": "Python 3.9.6 64-bit"
  },
  "language_info": {
   "name": "python",
   "version": "3.9.6",
   "mimetype": "text/x-python",
   "codemirror_mode": {
    "name": "ipython",
    "version": 3
   },
   "pygments_lexer": "ipython3",
   "nbconvert_exporter": "python",
   "file_extension": ".py"
  },
  "orig_nbformat": 4
 },
 "nbformat": 4,
 "nbformat_minor": 2
}