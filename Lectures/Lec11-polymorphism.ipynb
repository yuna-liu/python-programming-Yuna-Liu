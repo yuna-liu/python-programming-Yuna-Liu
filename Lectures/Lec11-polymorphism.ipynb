{
 "cells": [
  {
   "cell_type": "markdown",
   "source": [
    "\n",
    "<a href=\"https://colab.research.google.com/github/kokchun/Programmering-med-Python-21/blob/main/Lectures/Lec11-polymorphism.ipynb\" target=\"_parent\"><img align=\"left\" src=\"https://colab.research.google.com/assets/colab-badge.svg\" alt=\"Open In Colab\"/></a> &nbsp; for interacting with the code"
   ],
   "metadata": {}
  },
  {
   "cell_type": "markdown",
   "source": [
    "---\n",
    "# Lecture notes - OOP polymorphism\n",
    "\n",
    "---\n",
    "This is the lecture note for **OOP polymorphism** - but it's built upon contents from previous lectures such as: \n",
    "- input-output\n",
    "- variables\n",
    "- if-statement\n",
    "- for loop\n",
    "- while \n",
    "- lists\n",
    "- random\n",
    "- strings\n",
    "- functions\n",
    "- error handling\n",
    "- file handling\n",
    "- dictionary\n",
    "- OOP\n",
    "\n",
    "<p class = \"alert alert-info\" role=\"alert\"><b>Note</b> that this lecture note gives a brief introduction to polymorphism. I encourage you to read further about polymorphism.\n",
    "\n",
    "Read more [polymorphism](https://www.programiz.com/python-programming/polymorphism). \n",
    "\n",
    "---"
   ],
   "metadata": {}
  },
  {
   "cell_type": "markdown",
   "source": [
    "## Polymorphism\r\n",
    "\r\n",
    "- same function name or operator used for different types\r\n",
    "- e.g. len() on a string, len() on a list\r\n",
    "- plus operator + on a string concatenates the string while on an int performs integer addition "
   ],
   "metadata": {}
  },
  {
   "cell_type": "code",
   "execution_count": 15,
   "source": [
    "print(f\"len(['a','b','c']): {len(['a','b','c'])}\")\r\n",
    "print(f\"len('abc'): {len('abc')}\")"
   ],
   "outputs": [
    {
     "output_type": "stream",
     "name": "stdout",
     "text": [
      "len(['a','b','c']): 3\n",
      "len('abc'): 3\n"
     ]
    }
   ],
   "metadata": {}
  },
  {
   "cell_type": "markdown",
   "source": [
    "## Polymorphism in class methods"
   ],
   "metadata": {}
  },
  {
   "cell_type": "code",
   "execution_count": 3,
   "source": [
    "class Fish:\r\n",
    "    def __init__(self, name):\r\n",
    "        self.name = name\r\n",
    "\r\n",
    "    def __str__(self):\r\n",
    "        return f\"I am a fish, my name is {self.name}\"\r\n",
    "\r\n",
    "    def speak(self):\r\n",
    "        print(\"Blupp blupp\")\r\n",
    "\r\n",
    "\r\n",
    "class Fox:\r\n",
    "    def __init__(self, name):\r\n",
    "        self.name = name\r\n",
    "\r\n",
    "    def __str__(self):\r\n",
    "        return f\"I am a fox, my name is {self.name}, no one knows how I sound\"\r\n",
    "\r\n",
    "    def speak(self):\r\n",
    "        return NotImplemented # as we don't know the sound of the fox \r\n",
    "\r\n",
    "\r\n",
    "animals = (Fish(\"Pelle\"), Fox(\"Ylvis\"))\r\n",
    "print(type(animals))\r\n",
    "\r\n",
    "# although animals have different types, you can iterate through it and call same method as they are bound to different objects\r\n",
    "for animal in animals:\r\n",
    "    print(animal)\r\n",
    "    animal.speak()\r\n"
   ],
   "outputs": [
    {
     "output_type": "stream",
     "name": "stdout",
     "text": [
      "<class 'tuple'>\n",
      "I am a fish, my name is Pelle\n",
      "Blupp blupp\n",
      "I am a fox, my name is Ylvis, no one knows how I sound\n"
     ]
    }
   ],
   "metadata": {}
  },
  {
   "cell_type": "markdown",
   "source": [
    "## Operator overloading\n",
    "\n",
    "- giving additional functionality to an operator\n",
    "- e.g. + is overloaded for strings, int, float etc. \n",
    "- Read more: [operator overloading](https://www.geeksforgeeks.org/operator-overloading-in-python/)\n",
    "\n",
    "| Operator |        Dunder method         |\n",
    "| :------: | :--------------------------: |\n",
    "|    +     |   \\_\\_add\\_\\_(self,other)    |\n",
    "|    -     |   \\_\\_sub\\_\\_(self,other)    |\n",
    "|    \\*    |   \\_\\_mul\\_\\_(self,other)    |\n",
    "|    /     |   \\_\\_div\\_\\_(self,other)    |\n",
    "|    //    | \\_\\_floordiv\\_\\_(self,other) |\n",
    "|    %     |   \\_\\_mod\\_\\_(self,other)    |\n",
    "|   \\*\\*   |   \\_\\_pow\\_\\_(self,other)    |\n",
    "|    <     |    \\_\\_lt\\_\\_(self,other)    |\n",
    "|    <=    |    \\_\\_le\\_\\_(self,other)    |\n",
    "|    >     |    \\_\\_gt\\_\\_(self,other)    |\n",
    "|    >=    |    \\_\\_ge\\_\\_(self,other)    |\n",
    "|    ==    |    \\_\\_eq\\_\\_(self,other)    |\n",
    "\n",
    "- Note that there are more operators that can be overloaded than those specified in this list"
   ],
   "metadata": {}
  },
  {
   "cell_type": "code",
   "execution_count": 103,
   "source": [
    "import matplotlib.pyplot as plt\r\n",
    "\r\n",
    "class Vector:\r\n",
    "    \"\"\" A class to represent a Euclidean vector with magnitude and direction\"\"\"\r\n",
    "\r\n",
    "    # in Python >= 3.10 - can use float | int in annotation\r\n",
    "    def __init__(self, *numbers: float) -> None:  # *numbers is variadic parameter\r\n",
    "        # error checking\r\n",
    "        for number in numbers:\r\n",
    "            if not isinstance(number, (float, int)):\r\n",
    "                raise TypeError(f\"{number} is not valid number in a vector\")\r\n",
    "\r\n",
    "        if len(numbers) <= 0:\r\n",
    "            raise ValueError(\"Vector can't be empty\")\r\n",
    "\r\n",
    "        # to take care of booleans\r\n",
    "        self._numbers = tuple(float(number) for number in numbers)\r\n",
    "\r\n",
    "    @property\r\n",
    "    def numbers(self) -> tuple:\r\n",
    "        return self._numbers\r\n",
    "\r\n",
    "    def __add__(self, other: \"Vector\") -> \"Vector\":\r\n",
    "        if self.validate_vectors(other):\r\n",
    "            numbers = (a+b for a, b in zip(self.numbers, other.numbers))\r\n",
    "            return Vector(*numbers)\r\n",
    "\r\n",
    "    def __sub__(self, other: \"Vector\") -> \"Vector\":\r\n",
    "        if self.validate_vectors(other):\r\n",
    "            numbers = (a-b for a, b in zip(self.numbers, other.numbers))\r\n",
    "            return Vector(*numbers)\r\n",
    "\r\n",
    "    def __mul__(self, value: float) -> \"Vector\":\r\n",
    "        print(\"__mul__ is called\")\r\n",
    "        if not isinstance(value, (int, float)):\r\n",
    "            raise TypeError(\r\n",
    "                f\"The value for multiplication must be int or float not {type(value)}\")\r\n",
    "        numbers = (value*a for a in self.numbers)\r\n",
    "        return Vector(*numbers)\r\n",
    "\r\n",
    "    # to make multiplication commutative, i.e. a*v = v*a\r\n",
    "    def __rmul__(self, value: float) -> \"Vector\":\r\n",
    "        print(\"__rmul__ is called ...\")\r\n",
    "        return self*value\r\n",
    "\r\n",
    "    # for using len() method on a Vector object\r\n",
    "    def __len__(self) -> int:\r\n",
    "        \"\"\" Returns number of components in a Vector not the length\"\"\"\r\n",
    "        return len(self.numbers)\r\n",
    "\r\n",
    "    def norm(self) -> float:\r\n",
    "        \"\"\" Returns the Euclidean norm of a Vector\"\"\"\r\n",
    "        return sum(a**2 for a in self.numbers)**.5\r\n",
    "\r\n",
    "    def validate_vectors(self, other: \"Vector\") -> bool:\r\n",
    "        \"\"\" validates if two vectors have same length \"\"\"\r\n",
    "        if not isinstance(other, Vector) or len(other) != len(self):\r\n",
    "            raise TypeError(f\"Both must be Vector and have the same length\")\r\n",
    "        return len(self) == len(other)\r\n",
    "\r\n",
    "    def __getitem__(self, item: int) -> float:\r\n",
    "        return self.numbers[item]\r\n",
    "\r\n",
    "    def plot(self, *others: \"Vector\") -> None:\r\n",
    "        \"\"\" Visualize vectors \"\"\"\r\n",
    "        X, Y = [], []\r\n",
    "\r\n",
    "        for vector in tuple(others):\r\n",
    "            if Vector.is2D(vector) and Vector.is2D(self):\r\n",
    "                X.append(vector[0])\r\n",
    "                Y.append(vector[1])\r\n",
    "        \r\n",
    "        X.append(self[0])\r\n",
    "        Y.append(self[1])\r\n",
    "\r\n",
    "        originX = originY = tuple(0 for _ in range(len(X)))\r\n",
    "\r\n",
    "        plt.quiver(originX, originY, X, Y, scale=1,\r\n",
    "                   scale_units=\"xy\", angles=\"xy\")\r\n",
    "        plt.xlim(-2, 10)\r\n",
    "        plt.ylim(-2, 10)\r\n",
    "        plt.xlabel(\"x\")\r\n",
    "        plt.ylabel(\"y\")\r\n",
    "        plt.title(f\"{self}, {others}\")\r\n",
    "        plt.grid()\r\n",
    "        plt.show()\r\n",
    "\r\n",
    "        # TODO: make xlim and ylim adapt after the vectors dimensions \r\n",
    "        # TODO: fix title paranthesis\r\n",
    "\r\n",
    "    @staticmethod # bound to the class and not dependent on the object itself\r\n",
    "    def is2D(vector: \"Vector\") -> bool:\r\n",
    "        if len(vector) != 2:\r\n",
    "            raise ValueError(\r\n",
    "                f\"Vector dimension must be 2 not {len(vector)}\")\r\n",
    "        return True\r\n",
    "\r\n",
    "    def __repr__(self) -> str:\r\n",
    "        return f\"Vector{self.numbers}\"\r\n",
    "\r\n",
    "    # NOTE: There are many more features to be implemented, feel free to do it\r\n",
    "    # TODO: implement norm between vectors\r\n",
    "    # TODO: implement dot product\r\n",
    "    # TODO: implement vector product\r\n",
    "    # TODO: implement conjugate \r\n",
    "    # TODO: implement projection\r\n",
    "\r\n",
    "v1 = Vector(2, 3, 51.5, 67, True)\r\n",
    "print(v1)\r\n",
    "print(f\"len(v1): {len(v1)}\")\r\n",
    "\r\n",
    "v2 = Vector(1, 2)\r\n",
    "try:\r\n",
    "    v1+v2\r\n",
    "except TypeError as err:\r\n",
    "    print(err)\r\n",
    "\r\n",
    "v3 = Vector(2, 2)\r\n",
    "\r\n",
    "v_23 = v3+v2\r\n",
    "print(v_23)\r\n",
    "v_23.norm()\r\n",
    "\r\n",
    "print(v3*2)\r\n",
    "# 2*v3 not work if you haven't implemented __rmul__()\r\n",
    "2*v3\r\n",
    "\r\n",
    "a = Vector(3,4)\r\n",
    "b = Vector(2,5)\r\n",
    "c = a + b \r\n",
    "\r\n",
    "c.plot(a,b)"
   ],
   "outputs": [
    {
     "output_type": "stream",
     "name": "stdout",
     "text": [
      "Vector(2.0, 3.0, 51.5, 67.0, 1.0)\n",
      "len(v1): 5\n",
      "Both must be Vector and have the same length\n",
      "Vector(3.0, 4.0)\n",
      "__mul__ is called\n",
      "Vector(4.0, 4.0)\n",
      "__rmul__ is called ...\n",
      "__mul__ is called\n"
     ]
    },
    {
     "output_type": "display_data",
     "data": {
      "image/png": "[encoded data removed]",
      "text/plain": [
       "<Figure size 432x288 with 1 Axes>"
      ]
     },
     "metadata": {
      "needs_background": "light"
     }
    }
   ],
   "metadata": {}
  },
  {
   "cell_type": "markdown",
   "source": [
    "## Polymorphism with inheritance\n",
    "\n",
    "This is covered in the inheritance lecture"
   ],
   "metadata": {}
  },
  {
   "cell_type": "markdown",
   "source": [
    "---\r\n",
    "\r\n",
    "Kokchun Giang\r\n",
    "\r\n",
    "[LinkedIn][linkedIn_kokchun]\r\n",
    "\r\n",
    "[GitHub portfolio][github_portfolio]\r\n",
    "\r\n",
    "[linkedIn_kokchun]: https://www.linkedin.com/in/kokchungiang/\r\n",
    "[github_portfolio]: https://github.com/kokchun/Portfolio-Kokchun-Giang\r\n",
    "\r\n",
    "---"
   ],
   "metadata": {}
  }
 ],
 "metadata": {
  "orig_nbformat": 4,
  "language_info": {
   "name": "python",
   "version": "3.9.6",
   "mimetype": "text/x-python",
   "codemirror_mode": {
    "name": "ipython",
    "version": 3
   },
   "pygments_lexer": "ipython3",
   "nbconvert_exporter": "python",
   "file_extension": ".py"
  },
  "kernelspec": {
   "name": "python3",
   "display_name": "Python 3.9.6 64-bit ('python-programming-Yuna-Liu-WA6ACBfR': pipenv)"
  },
  "interpreter": {
   "hash": "8111105f47d12ec1fb8af24cde7e4ba5898ee01916168ee13b7453f45f559afc"
  }
 },
 "nbformat": 4,
 "nbformat_minor": 2
}