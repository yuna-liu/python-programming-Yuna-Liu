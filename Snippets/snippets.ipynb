{
 "cells": [
  {
   "cell_type": "markdown",
   "source": [
    "# Snippets"
   ],
   "metadata": {}
  },
  {
   "cell_type": "markdown",
   "source": [
    "## 2021-09-20"
   ],
   "metadata": {}
  },
  {
   "cell_type": "code",
   "execution_count": null,
   "source": [
    "class Person:\r\n",
    "    def __init__(self, name, age, height) -> None:\r\n",
    "        self.name = name \r\n",
    "        self.age = age\r\n",
    "        self.height = height\r\n",
    "\r\n",
    "    @property\r\n",
    "    def age(self):\r\n",
    "        return self._age\r\n",
    "\r\n",
    "    @age.setter\r\n",
    "    def age(self, value):\r\n",
    "        self._age = Person.validate_number(value) \r\n",
    "\r\n",
    "    @property\r\n",
    "    def height(self):\r\n",
    "        return self._height\r\n",
    "\r\n",
    "    @height.setter\r\n",
    "    def height(self, value):\r\n",
    "        self._height = Person.validate_number(value)\r\n",
    "\r\n",
    "    @staticmethod\r\n",
    "    def validate_number(value):\r\n",
    "        if not isinstance(value, (int, float)):\r\n",
    "            raise TypeError(f\"Ange en int eller float inte {type(value)}\")\r\n",
    "        return value\r\n",
    "\r\n",
    "try:\r\n",
    "    p1 = Person(\"Gore\", \"55\", 155)\r\n",
    "except TypeError as err:\r\n",
    "    print(err)\r\n",
    "\r\n",
    "p2 = Person(\"gor\", 34, 157)\r\n",
    "print(p2.age)"
   ],
   "outputs": [],
   "metadata": {}
  },
  {
   "cell_type": "markdown",
   "source": [],
   "metadata": {}
  }
 ],
 "metadata": {
  "orig_nbformat": 4,
  "language_info": {
   "name": "python"
  }
 },
 "nbformat": 4,
 "nbformat_minor": 2
}