{
 "cells": [
  {
   "cell_type": "markdown",
   "metadata": {},
   "source": [
    "# The solution to exercise 09: dictionary exercises\n",
    "\n",
    "Date: 2021-09-15\n",
    "\n",
    "The questions can be found [here][exercise_link]:\n",
    "\n",
    "[exercise_link]: https://github.com/kokchun/Programmering-med-Python-21/blob/main/Exercises/09-dictionary-exercises.ipynb"
   ]
  },
  {
   "cell_type": "markdown",
   "metadata": {},
   "source": [
    "## 1. Curriculum (*)\n",
    "\n",
    "Create a dictionary containing all the courses that you will study in this program, with the course names as **keys** and the amount of points as **value**. Then calculate the number of points that you will study in total. (*)\n",
    "\n",
    "<details>\n",
    "\n",
    "<summary>Answer</summary>\n",
    "\n",
    "Look at your course program curriculum\n",
    "\n",
    "</details>\n"
   ]
  },
  {
   "cell_type": "code",
   "execution_count": 35,
   "metadata": {},
   "outputs": [
    {
     "name": "stdout",
     "output_type": "stream",
     "text": [
      "The total points that I am study is: 400.\n"
     ]
    }
   ],
   "source": [
    "courses_ai21 = dict(\n",
    "    databaser = 25,\n",
    "    databehandling = 25,\n",
    "    djup_maskininlärning = 40,\n",
    "    examensarbete = 15,\n",
    "    introduktionskurs_till_AI = 5,\n",
    "    LIA_1 = 40,\n",
    "    LIA_2 = 70,\n",
    "    maskininlärning = 45,\n",
    "    praktisk_maskininlärning_och_projektmetodik\t= 45,\n",
    "    programmering_med_Python = 40,\n",
    "    statistiska_metoder = 30,\n",
    "    visualisering_presentationer_och_storytelling = 20\n",
    ")\n",
    "\n",
    "total_points = 0\n",
    "for key, value in courses_ai21.items():\n",
    "    total_points += value\n",
    "\n",
    "\"\"\" #Another method: Loop through every key, like a list\n",
    "for course in courses_ai21: \n",
    "    total_points += courses_ai21[course] \"\"\"\n",
    "\n",
    "print(f\"The total points that I am study is: {total_points}.\")"
   ]
  },
  {
   "cell_type": "code",
   "execution_count": 12,
   "metadata": {},
   "outputs": [
    {
     "name": "stdout",
     "output_type": "stream",
     "text": [
      "'Databases'\n",
      "'Data processing'\n",
      "'Deep Machine Learning'\n",
      "'Degree project'\n",
      "'Introductory course to A'\n",
      "'LIA 1'\n",
      "'LIA 2'\n",
      "'Machine learning'\n",
      "'Practical machine learning and project methodology'\n",
      "'Programming with Python'\n",
      "'Practical machine learning and project methodology'\n",
      "'Statistical methods'\n",
      "'Visualization, presentations and storytelling'\n"
     ]
    }
   ],
   "source": [
    "with open(\"../Files/courses_ai21.txt\", \"r\") as f_courses:\n",
    "    for line in f_courses.readlines():\n",
    "        line = line.strip(\"\\n\")\n",
    "        line_new = line[:-4]\n",
    "        print(repr(line_new))\n",
    "        "
   ]
  },
  {
   "cell_type": "markdown",
   "metadata": {},
   "source": [
    "---\n",
    "## 2. Dice simulation (*)\n",
    "\n",
    "Simulate 1000000 dice rolls and save the number of ones, twos, ..., sixes in a dictionary. Then print them out in the terminal. (*)\n",
    "\n",
    "<details>\n",
    "\n",
    "<summary>Answer</summary>\n",
    "\n",
    "```\n",
    "1: 166481\n",
    "2: 166844\n",
    "3: 166154\n",
    "4: 167400\n",
    "5: 167260\n",
    "6: 165861\n",
    "```\n",
    "\n",
    "</details>\n"
   ]
  },
  {
   "cell_type": "code",
   "execution_count": 8,
   "metadata": {},
   "outputs": [
    {
     "name": "stdout",
     "output_type": "stream",
     "text": [
      "{'1': 1, '2': 2, '3': 3, '4': 4, '5': 5, '6': 6}\n",
      "{'1': 0, '2': 0, '3': 0, '4': 0, '5': 0, '6': 0}\n",
      "dice rolls count: {'1': 166194, '2': 166910, '3': 166534, '4': 167097, '5': 166780, '6': 166485}\n"
     ]
    }
   ],
   "source": [
    "import random as rnd\n",
    "\n",
    "# There are dices, n_of_rolls, roll_results for dice roll simulator\n",
    "n_of_rolls = 1000000\n",
    "dices = list(\"123456\")\n",
    "\n",
    "# There are two dictionary regarding output\n",
    "#created a dictionary of outcomes and limits.\n",
    "output_limits = {key: i+1 for i, key in enumerate(dices)}\n",
    "print(output_limits)\n",
    "\n",
    "#create a dictionary of counted outcomes.\n",
    "output_count = {key: 0 for key in dices}\n",
    "print(output_count)\n",
    "\n",
    "#Simulate dice rolls\n",
    "roll_results = [rnd.randint(1,6) for _ in range(n_of_rolls)]\n",
    "\n",
    "# for each dice roll result, compare it with all categories (code: limit) in the first dictionary\n",
    "# the value (code:count) in the second dictionary changes if any condition is satisfied.\n",
    "# The connection between these two sets is that: They have the same keys\n",
    "for roll_result in roll_results:\n",
    "    for key, limit in output_limits.items(): # the first dictionary\n",
    "        if roll_result == limit:\n",
    "            output_count[key] += 1 #the second dictionary: the key in dices--> exactly the key in output_count[key]\n",
    "print(f\"dice rolls count: {output_count}\") "
   ]
  },
  {
   "cell_type": "markdown",
   "metadata": {},
   "source": [
    "---\n",
    "## 3. Pokemon list (*)\n",
    "\n",
    "Read in the file pokemon_list.txt in Python. Create a variable with name pokedex with the key:value **\"pokemon\":\"type, index\"**. For example when searching for the keys \"Gengar\" and \"Pikachu\": (*)\n",
    "\n",
    "```python\n",
    "\n",
    "print(pokedex[\"Gengar\"])\n",
    "print(pokedex[\"Pikachu\"])\n",
    "\n",
    "Spöke/Gift\n",
    "Elektrisk\n",
    "```\n",
    "\n",
    "<details>\n",
    "\n",
    "<summary>Answer</summary>\n",
    "\n",
    "```\n",
    "{'Bulbasaur': 'Gräs/Gift',\n",
    " 'Ivysaur': 'Gräs/Gift',\n",
    " 'Venusaur': 'Gräs/Gift',\n",
    " 'Charmander': 'Eld',\n",
    " 'Charmeleon': 'Eld',\n",
    " 'Charizard': 'Eld/Flygande',\n",
    " 'Squirtle': 'Vatten',\n",
    " 'Wartortle': 'Vatten',\n",
    " 'Blastoise': 'Vatten',\n",
    " ...\n",
    "}\n",
    "```\n",
    "\n",
    "</details>\n"
   ]
  },
  {
   "cell_type": "code",
   "execution_count": 9,
   "metadata": {},
   "outputs": [
    {
     "name": "stdout",
     "output_type": "stream",
     "text": [
      "a. The dictionary pokedex is: {'Bulbasaur': 'Gräs/Gift', 'Ivysaur': 'Gräs/Gift', 'Venusaur': 'Gräs/Gift', 'Charmander': 'Eld', 'Charmeleon': 'Eld', 'Charizard': 'Eld/Flygande', 'Squirtle': 'Vatten', 'Wartortle': 'Vatten', 'Blastoise': 'Vatten', 'Caterpie': 'Insekt', 'Metapod': 'Insekt', 'Butterfree': 'Insekt/Flygande', 'Weedle': 'Insekt/Gift', 'Kakuna': 'Insekt/Gift', 'Beedrill': 'Insekt/Gift', 'Pidgey': 'Normal/Flygande', 'Pidgeotto': 'Normal/Flygande', 'Pidgeot': 'Normal/Flygande', 'Rattata': 'Normal', 'Raticate': 'Normal', 'Spearow': 'Normal/Flygande', 'Fearow': 'Normal/Flygande', 'Ekans': 'Gift', 'Arbok': 'Gift', 'Pikachu': 'Elektrisk', 'Raichu': 'Elektrisk', 'Sandshrew': 'Mark', 'Sandslash': 'Mark', 'Nidoran♀': 'Gift', 'Nidorina': 'Gift', 'Nidoqueen': 'Gift/Mark', 'Nidoran♂': 'Gift', 'Nidorino': 'Gift', 'Nidoking': 'Gift/Mark', 'Clefairy': 'Fé', 'Clefable': 'Fé', 'Vulpix': 'Eld', 'Ninetales': 'Eld', 'Jigglypuff': 'Normal/Fé', 'Wigglytuff': 'Normal/Fé', 'Zubat': 'Gift/Flygande', 'Golbat': 'Gift/Flygande', 'Oddish': 'Gräs/Gift', 'Gloom': 'Gräs/Gift', 'Vileplume': 'Gräs/Gift', 'Paras': 'Insekt/Gräs', 'Parasect': 'Insekt/Gräs', 'Venonat': 'Insekt/Gift', 'Venomoth': 'Insekt/Gift', 'Diglett': 'Mark', 'Dugtrio': 'Mark', 'Meowth': 'Normal', 'Persian': 'Normal', 'Psyduck': 'Vatten', 'Golduck': 'Vatten', 'Mankey': 'Kamp', 'Primeape': 'Kamp', 'Growlithe': 'Eld', 'Arcanine': 'Eld', 'Poliwag': 'Vatten', 'Poliwhirl': 'Vatten', 'Poliwrath': 'Vatten/Kamp', 'Abra': 'Psykisk', 'Kadabra': 'Psykisk', 'Alakazam': 'Psykisk', 'Machop': 'Kamp', 'Machoke': 'Kamp', 'Machamp': 'Kamp', 'Bellsprout': 'Gräs/Gift', 'Weepinbell': 'Gräs/Gift', 'Victreebel': 'Gräs/Gift', 'Tentacool': 'Vatten/Gift', 'Tentacruel': 'Vatten/Gift', 'Geodude': 'Sten/Mark', 'Graveler': 'Sten/Mark', 'Golem': 'Sten/Mark', 'Ponyta': 'Eld', 'Rapidash': 'Eld', 'Slowpoke': 'Vatten/Psykisk', 'Slowbro': 'Vatten/Psykisk', 'Magnemite': 'Elektrisk/Stål', 'Magneton': 'Elektrisk/Stål', \"Farfetch'd\": 'Normal/Flygande', 'Doduo': 'Normal/Flygande', 'Dodrio': 'Normal/Flygande', 'Seel': 'Vatten', 'Dewgong': 'Vatten/Is', 'Grimer': 'Gift', 'Muk': 'Gift', 'Shellder': 'Vatten', 'Cloyster': 'Vatten/Is', 'Gastly': 'Spöke/Gift', 'Haunter': 'Spöke/Gift', 'Gengar': 'Spöke/Gift', 'Onix': 'Sten/Mark', 'Drowzee': 'Psykisk', 'Hypno': 'Psykisk', 'Krabby': 'Vatten', 'Kingler': 'Vatten', 'Voltorb': 'Elektrisk', 'Electrode': 'Elektrisk', 'Exeggcute': 'Gräs/Psykisk', 'Exeggutor': 'Gräs/Psykisk', 'Cubone': 'Mark', 'Marowak': 'Mark', 'Hitmonlee': 'Kamp', 'Hitmonchan': 'Kamp', 'Lickitung': 'Normal', 'Koffing': 'Gift', 'Weezing': 'Gift', 'Rhyhorn': 'Mark/Sten', 'Rhydon': 'Mark/Sten', 'Chansey': 'Normal', 'Tangela': 'Gräs', 'Kangaskhan': 'Normal', 'Horsea': 'Vatten', 'Seadra': 'Vatten', 'Goldeen': 'Vatten', 'Seaking': 'Vatten', 'Staryu': 'Vatten', 'Starmie': 'Vatten/Psykisk', 'Mr.': '122', 'Scyther': 'Insekt/Flygande', 'Jynx': 'Is/Psykisk', 'Electabuzz': 'Elektrisk', 'Magmar': 'Eld', 'Pinsir': 'Insekt', 'Tauros': 'Normal', 'Magikarp': 'Vatten', 'Gyarados': 'Vatten/Flygande', 'Lapras': 'Vatten/Is', 'Ditto': 'Normal', 'Eevee': 'Normal', 'Vaporeon': 'Vatten', 'Jolteon': 'Elektrisk', 'Flareon': 'Eld', 'Porygon': 'Normal', 'Omanyte': 'Sten/Vatten', 'Omastar': 'Sten/Vatten', 'Kabuto': 'Sten/Vatten', 'Kabutops': 'Sten/Vatten', 'Aerodactyl': 'Sten/Flygande', 'Snorlax': 'Normal', 'Articuno': 'Is/Flygande', 'Zapdos': 'Elektrisk/Flygande', 'Moltres': 'Eld/Flygande', 'Dratini': 'Drake', 'Dragonair': 'Drake', 'Dragonite': 'Drake/Flygande', 'Mewtwo': 'Psykisk'}\n",
      "\n",
      "b. The value of Gengar is: Spöke/Gift\n",
      "\n",
      "c. The value of Pikachu is: Elektrisk\n"
     ]
    }
   ],
   "source": [
    "with open(\"../Files/pokemon_list.txt\", \"r\", encoding=\"utf8\") as f:\n",
    "    txt = f.readlines()\n",
    "    pokedex = {line.strip(\"\\n\").split()[1] : line.strip(\"\\n\").split()[2] for line in txt}\n",
    "print(f\"a. The dictionary pokedex is: {pokedex}\")\n",
    "print(f\"\\nb. The value of Gengar is: {pokedex['Gengar']}\")\n",
    "print(f\"\\nc. The value of Pikachu is: {pokedex['Pikachu']}\")"
   ]
  },
  {
   "cell_type": "code",
   "execution_count": 39,
   "metadata": {},
   "outputs": [],
   "source": [
    "# Another way:\n",
    "pokedex = {}\n",
    "\n",
    "with open(\"../Files/pokemon_list.txt\", \"r\", encoding=\"utf8\") as f:\n",
    "    for line in f.readlines():\n",
    "        key = line.split()[1] \n",
    "        val = line.split() [2]                       \n",
    "        pokedex[key] = val"
   ]
  },
  {
   "cell_type": "markdown",
   "metadata": {},
   "source": [
    "---\n",
    "## 4. Morse code (**)\n",
    "\n",
    "Read in the file morse.txt, save it in a dictionary and create a function that lets the user input a message to get it translated to morse code. For example  (**)\n",
    "\n",
    "```python\n",
    "\n",
    "print(morse[\"SOS\"])\n",
    "print(morse[\"POKEMON\"])\n",
    "\n",
    "...---...\n",
    ".------.-.------.\n",
    "```"
   ]
  },
  {
   "cell_type": "code",
   "execution_count": 15,
   "metadata": {},
   "outputs": [
    {
     "name": "stdout",
     "output_type": "stream",
     "text": [
      "{'A': '.-', 'B': '-...', 'C': '-.-.', 'D': '-..', 'E': '.', 'F': '..-.', 'G': '--', 'H': '....', 'I': '..', 'J': '.---', 'K': '-.-', 'L': '.-..', 'M': '--', 'N': '-.', 'O': '---', 'P': '.--', 'Q': '--.-', 'R': '.-.', 'S': '...', 'T': '-', 'U': '..-', 'V': '...-', 'W': '.--', 'X': '-..-', 'Y': '-.--', 'Z': '--..', 'Å': '.--.-', 'Ä': '.-.-', 'Ö': '---'}\n",
      "\n",
      "\n",
      "The morse message of 'sos' is: ...---...\n",
      "\n",
      "\n",
      "The morse message of 'Pokemon' is: .------.-.------.\n",
      "\n",
      "\n",
      "The morse message of 'Kanin' is: -.-.--...-.\n"
     ]
    }
   ],
   "source": [
    "with open(\"../Files/morse.txt\", \"r\", encoding=\"utf8\") as f4:\n",
    "    txt = f4.readlines()\n",
    "    morse_dic = {line.strip(\"\\n\").split(\": \")[0] : line.strip(\"\\n\").split(\": \")[1] for line in txt}\n",
    "    print(morse_dic)\n",
    "\n",
    "def morse(word):\n",
    "    morse_results = \"\"\n",
    "    word_input = word.upper()\n",
    "    for letter in word_input:\n",
    "        morse_results += morse_dic[letter] \n",
    "       \n",
    "    return morse_results\n",
    "\n",
    "print(f\"\\n\\nThe morse message of 'sos' is: {morse('sos')}\")\n",
    "print(f\"\\n\\nThe morse message of 'Pokemon' is: {morse('POKEMON')}\")\n",
    "\n",
    "hi_word = input(\"Please choose a word\")\n",
    "    \n",
    "print(f\"\\n\\nThe morse message of '{hi_word}' is: {morse(hi_word)}\")\n",
    "    "
   ]
  }
 ],
 "metadata": {
  "interpreter": {
   "hash": "8111105f47d12ec1fb8af24cde7e4ba5898ee01916168ee13b7453f45f559afc"
  },
  "kernelspec": {
   "display_name": "Python 3.9.6 64-bit ('python-programming-Yuna-Liu-WA6ACBfR': pipenv)",
   "name": "python3"
  },
  "language_info": {
   "codemirror_mode": {
    "name": "ipython",
    "version": 3
   },
   "file_extension": ".py",
   "mimetype": "text/x-python",
   "name": "python",
   "nbconvert_exporter": "python",
   "pygments_lexer": "ipython3",
   "version": "3.9.6"
  },
  "orig_nbformat": 4
 },
 "nbformat": 4,
 "nbformat_minor": 2
}
