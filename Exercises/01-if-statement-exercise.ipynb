{
 "cells": [
  {
   "cell_type": "markdown",
   "source": [
    "\r\n",
    "<a href=\"https://colab.research.google.com/github/kokchun/Programmering-med-Python-21/blob/main/Exercises/01-if-statement-exercise.ipynb\" target=\"_parent\"><img align=\"left\" src=\"https://colab.research.google.com/assets/colab-badge.svg\" alt=\"Open In Colab\"/></a> &nbsp; to see hints and answers."
   ],
   "metadata": {}
  },
  {
   "cell_type": "markdown",
   "source": [
    "# if statements exercises\r\n",
    "\r\n",
    "---\r\n",
    "These are introductory exercises in Python with focus in **if** statement.\r\n",
    "\r\n",
    "<p class = \"alert alert-info\" role=\"alert\"><b>Remember</b> to use <b>descriptive variable names</b> in order to get readable code </p>\r\n",
    "\r\n",
    "<p class = \"alert alert-info\" role=\"alert\"><b>Remember</b> to format your answers in a neat way using <b>f-strings</b>\r\n",
    "\r\n",
    "<p class = \"alert alert-info\" role=\"alert\"><b>Remember</b> to format your input questions in a pedagogical way to guide the user\r\n",
    "\r\n",
    "The number of stars (\\*), (\\*\\*), (\\*\\*\\*) denotes the difficulty level of the task\r\n",
    "\r\n",
    "---"
   ],
   "metadata": {}
  },
  {
   "cell_type": "markdown",
   "source": [
    "## 1. Check sign (*)\r\n",
    "\r\n",
    "Ask the user to input a number and check if this number is **positive**, **negative** or **zero** and print it out."
   ],
   "metadata": {}
  },
  {
   "cell_type": "markdown",
   "source": [
    "---\r\n",
    "## 2. Smallest (*)\r\n",
    "Ask the user to input two numbers and check which one is the smallest and print it out.   "
   ],
   "metadata": {}
  },
  {
   "cell_type": "markdown",
   "source": [
    "---\r\n",
    "## 3. Right angle (*)\r\n",
    "\r\n",
    "Ask the user to input three angles and check if the triangle has a right angle. Your code should make sure that all three angles are valid and make up a triangle.\r\n",
    "\r\n",
    "<img align=\"left\" src=\"../assets/triangle_angles.png\" width=\"200\"/>"
   ],
   "metadata": {}
  },
  {
   "cell_type": "markdown",
   "source": [
    "----\r\n",
    "## 4. Medicine (*)\r\n",
    "\r\n",
    "The information in the following table is stated in a medicine package. \r\n",
    "\r\n",
    "<table align=\"left\">\r\n",
    "<thead>\r\n",
    "    <tr>\r\n",
    "        <th></th>\r\n",
    "        <th>Age</th>\r\n",
    "        <th>Number of pills</th>\r\n",
    "    </tr>\r\n",
    "</thead>\r\n",
    "\r\n",
    "<tbody>\r\n",
    "  <tr>\r\n",
    "    <td>Adults & adolescent <br>over 40 kg</td>\r\n",
    "    <td>over 12 years</td>\r\n",
    "    <td>1-2</td>\r\n",
    "  </tr>\r\n",
    "\r\n",
    "  <tr>\r\n",
    "    <td>Children 26-40 kg</td>\r\n",
    "    <td>7-12 years</td>\r\n",
    "    <td>1/2-1</td>\r\n",
    "  </tr>\r\n",
    "\r\n",
    "  <tr>\r\n",
    "    <td>Children 15-25 kg</td>\r\n",
    "    <td>3-7 years</td>\r\n",
    "    <td>1/2</td>\r\n",
    "  </tr>\r\n",
    "</tbody>\r\n",
    "</table>"
   ],
   "metadata": {}
  },
  {
   "cell_type": "markdown",
   "source": [
    "Let the user input an **age** and a **weight**, the program should recommend the number of pills for the user."
   ],
   "metadata": {}
  },
  {
   "cell_type": "markdown",
   "source": [
    "---\r\n",
    "## 5. Divisible (*)\r\n",
    "Let the user input a number. Check if the number is\r\n",
    "<ol type=\"a\">\r\n",
    "  <li>even or odd</li>\r\n",
    "  <li>is divisible by 5</li>\r\n",
    "  <li>is divisble by 5 and odd</li>\r\n",
    "</ol> "
   ],
   "metadata": {}
  },
  {
   "cell_type": "markdown",
   "source": [
    "---\r\n",
    "## 6. Luggage size (*)\r\n",
    "\r\n",
    "The maximum allowed luggage size for boarding an airplane is: \r\n",
    "- weight: 8kg\r\n",
    "- dimensions: 55x40x23cm (length x width x height) \r\n",
    "\r\n",
    "Let the user input weight, length, width and height of the luggage. The program should check if the luggage is allowed or not."
   ],
   "metadata": {}
  },
  {
   "cell_type": "markdown",
   "source": [
    "---\r\n",
    "\r\n",
    "Kokchun Giang\r\n",
    "\r\n",
    "[LinkedIn][linkedIn_kokchun]\r\n",
    "\r\n",
    "[GitHub portfolio][github_portfolio]\r\n",
    "\r\n",
    "[linkedIn_kokchun]: https://www.linkedin.com/in/kokchungiang/\r\n",
    "[github_portfolio]: https://github.com/kokchun/Portfolio-Kokchun-Giang\r\n",
    "\r\n",
    "---"
   ],
   "metadata": {}
  }
 ],
 "metadata": {
  "interpreter": {
   "hash": "a6af3a3bb251bcb72cfdd789c0ff929377064d8a2e64281876c18e53714e278c"
  },
  "kernelspec": {
   "display_name": "Python 3.9.5 64-bit",
   "name": "python3"
  },
  "language_info": {
   "name": "python",
   "version": ""
  },
  "orig_nbformat": 4
 },
 "nbformat": 4,
 "nbformat_minor": 2
}