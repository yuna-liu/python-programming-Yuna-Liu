{
 "cells": [
  {
   "cell_type": "markdown",
   "metadata": {},
   "source": [
    "## Uppgift 2"
   ]
  },
  {
   "cell_type": "code",
   "execution_count": 7,
   "metadata": {},
   "outputs": [
    {
     "name": "stdout",
     "output_type": "stream",
     "text": [
      "The number of 1 is: 166768\n",
      "The number of 2 is: 166472\n",
      "The number of 3 is: 166890\n",
      "The number of 4 is: 166860\n",
      "The number of 5 is: 166210\n",
      "The number of 6 is: 166800\n"
     ]
    }
   ],
   "source": [
    "import random as rnd\n",
    "outcomes = [rnd.randint(1,6) for i in range(1000000)]  #randint!!!, not randomint!!!\n",
    "dices = list(range(1,7))  # list(), not list[]\n",
    "n_of_dices = [outcomes.count(dice) for dice in dices]\n",
    "for dice, n_of_dice in zip(dices, n_of_dices):\n",
    "    print(f\"The number of {dice} is: {n_of_dice}\")\n"
   ]
  },
  {
   "cell_type": "code",
   "execution_count": 1,
   "metadata": {},
   "outputs": [
    {
     "name": "stdout",
     "output_type": "stream",
     "text": [
      "The dice rolls results are: {'1': 166785, '2': 167237, '3': 166670, '4': 166649, '5': 166380, '6': 166279}\n"
     ]
    }
   ],
   "source": [
    "# dictionary\n",
    "import random as rnd\n",
    "dices = list(\"123456\")\n",
    "\n",
    "#create output_limit dictionary:\n",
    "output_limit = {key: i+1 for i, key in enumerate(dices)}\n",
    "\n",
    "#create output_count dictionary:\n",
    "output_count = {key: 0 for key in dices}\n",
    "\n",
    "# generate random dices result\n",
    "results = [rnd.randint(1, 6) for _i in range(1000000)]\n",
    "\n",
    "# count dices in results\n",
    "for result in results:\n",
    "\tfor key, value in output_limit.items():\n",
    "\t\tif result == value:\n",
    "\t\t\toutput_count [key] += 1\n",
    "print(f\"The dice rolls results are: {output_count}\")"
   ]
  },
  {
   "cell_type": "markdown",
   "metadata": {},
   "source": [
    "## Uppgift 3"
   ]
  },
  {
   "cell_type": "code",
   "execution_count": 10,
   "metadata": {},
   "outputs": [
    {
     "name": "stdout",
     "output_type": "stream",
     "text": [
      "could not convert string to float: 'g'\n",
      "The radius should be positive.\n",
      "The radius should be positive.\n",
      "The volume is 113.10\n"
     ]
    }
   ],
   "source": [
    "from math import pi\n",
    "def volume(radius):\n",
    "    return (4/3)*pi*radius**3\n",
    "\n",
    "while True:\n",
    "    try:\n",
    "        radius = float(input(\"Please input a number\"))\n",
    "        if not radius> 0:\n",
    "            raise ValueError(\"The radius should be positive.\")\n",
    "        vol = volume(radius)\n",
    "        print(f\"The volume is {vol:.2f}\")   #.2f should be inside the {}\n",
    "        break\n",
    "    except ValueError as err:\n",
    "        print(err)"
   ]
  },
  {
   "cell_type": "code",
   "execution_count": 17,
   "metadata": {},
   "outputs": [
    {
     "name": "stdout",
     "output_type": "stream",
     "text": [
      "could not convert string to float: 'g'\n",
      "Non-negative radius please, not -3.0\n",
      "The volume of radius(3.0) is: 113.10\n"
     ]
    }
   ],
   "source": [
    "from math import pi\n",
    "\n",
    "# def function\n",
    "\n",
    "def volume(radius):\n",
    "\treturn (4/3)*pi*radius**3\n",
    "\n",
    "while True:\n",
    "\ttry:\n",
    "\t\tradius = float(input(\"number, please\"))\n",
    "\t\tif radius < 0:\n",
    "\t\t\traise ValueError (f\"Non-negative radius please, not {radius}\")\n",
    "\t\tbreak\n",
    "\texcept ValueError as err:\n",
    "\t\tprint(err)\n",
    "\n",
    "volume = volume(radius)\n",
    "print(f\"The volume of radius({radius}) is: {volume:.2f}\")"
   ]
  },
  {
   "cell_type": "markdown",
   "metadata": {},
   "source": [
    "## uppgift 4"
   ]
  },
  {
   "cell_type": "code",
   "execution_count": 13,
   "metadata": {},
   "outputs": [
    {
     "name": "stdout",
     "output_type": "stream",
     "text": [
      "v42\n",
      "Chili sin carne\n",
      "Pannkakor\n",
      "Ärtsoppa\n",
      "Kebab\n",
      "Vegetarisk lasagne\n"
     ]
    }
   ],
   "source": [
    "path = \"bamba.txt\"  # directly go to siblings room\n",
    "with open(path, \"r\", encoding=\"utf8\" ) as f:    # encoding=\"utf8\" !!!! To print svenska words.\n",
    "    txt = f.readlines()\n",
    "    bamba = [line.strip(\"\\n\") for line in txt]\n",
    "    for row in bamba:\n",
    "        print(row)"
   ]
  },
  {
   "cell_type": "code",
   "execution_count": 1,
   "metadata": {},
   "outputs": [
    {
     "name": "stdout",
     "output_type": "stream",
     "text": [
      "v42\n",
      "Chili sin carne\n",
      "Pannkakor\n",
      "Ärtsoppa\n",
      "Kebab\n",
      "Vegetarisk lasagne\n"
     ]
    }
   ],
   "source": [
    "path = \"bamba.txt\"  # directly go to siblings room\n",
    "with open(path, \"r\", encoding=\"utf8\" ) as f:    # encoding=\"utf8\" !!!! To print svenska words.\n",
    "    txt = f.read()       \n",
    "    print(txt)"
   ]
  },
  {
   "cell_type": "markdown",
   "metadata": {},
   "source": [
    "## uppgift 5"
   ]
  },
  {
   "cell_type": "code",
   "execution_count": 25,
   "metadata": {},
   "outputs": [
    {
     "name": "stdout",
     "output_type": "stream",
     "text": [
      "The distance among two points are:[2.23606797749979, 5.0990195135927845, 11.704699910719626]\n"
     ]
    }
   ],
   "source": [
    "path = \"testpoints/testpunkter.txt\"  # directly go to siblings room\n",
    "from math import sqrt\n",
    "\n",
    "def eu_dis(x1, y1, x2, y2):\n",
    "    return sqrt((x2-x1)**2+(y2-y1)**2) \n",
    "\n",
    "distance_list = []\n",
    "\n",
    "with open (path, \"r\") as f2:\n",
    "    txt = f2.readlines()[1:]  #['(1,2), (0,0)\\n', '(2,0), (3,5)\\n', '(-2,-2), (9,2)\\n']\n",
    "    testpoints = [line.strip(\"\\n\").replace(\"(\", \"\").replace(\")\", \" \").split(\",\") for line in txt]  #['1,2 , 0,0 \\n', '2,0 , 3,5 \\n', '-2,-2 , 9,2 \\n']\n",
    "    testpoints_pairs =[(float(line[0]), float(line[1]),float(line[2]),float(line[3])) for line in testpoints]\n",
    "    for point in testpoints_pairs:\n",
    "        dis = eu_dis(point[0],point[1],point[2],point[3] )\n",
    "        distance_list.append(dis)\n",
    "\n",
    "print(f\"The distance among two points are:{distance_list}\")   #! Do not .2f to a list!!!, only to float\n",
    " \n"
   ]
  },
  {
   "cell_type": "code",
   "execution_count": 2,
   "metadata": {},
   "outputs": [
    {
     "name": "stdout",
     "output_type": "stream",
     "text": [
      "The distance between (1, 2) and ( 0, 0) is: 2.24\n",
      "The distance between (2, 0) and ( 3, 5) is: 5.10\n",
      "The distance between (-2, -2) and ( 9, 2) is: 11.70\n"
     ]
    }
   ],
   "source": [
    "from math import sqrt\n",
    "\n",
    "def eu_dis(p1, p2, q1, q2):\n",
    "\tp1 = float(p1)\n",
    "\tp2 = float(p2)\n",
    "\tq1 = float(q1)\n",
    "\tq2 = float(q2)\n",
    "\treturn sqrt((q1-p1)**2+(q2-p2)**2)\n",
    "\n",
    "path = \"testpoints/testpunkter.txt\"\n",
    "with open(path, \"r\") as f:\n",
    "\ttxt = f.readlines()[1:]\n",
    "\tpoints_pairs = [row.strip(\"\\n\").replace(\"(\", \"\").replace(\")\", \"\").split(\",\") for row in txt]\n",
    "\t\n",
    "for pair in points_pairs:\n",
    "\tdis = eu_dis(pair[0], pair[1], pair[2], pair[3])\n",
    "\tprint(f\"The distance between ({pair[0]}, {pair[1]}) and ({pair[2]}, {pair[3]}) is: {dis:.2f}\")"
   ]
  },
  {
   "cell_type": "code",
   "execution_count": 6,
   "metadata": {},
   "outputs": [
    {
     "name": "stdout",
     "output_type": "stream",
     "text": [
      "[((1, 2), (0, 0)), ((2, 0), (3, 5)), ((-2, -2), (9, 2))]\n",
      "The distance between ((1, 2), (0, 0)) is: 2.24\n",
      "The distance between ((2, 0), (3, 5)) is: 3.16\n",
      "The distance between ((-2, -2), (9, 2)) is: 15.56\n"
     ]
    }
   ],
   "source": [
    "from math import sqrt\n",
    "\n",
    "def eu_dis(p1, p2, q1, q2):\n",
    "\treturn sqrt((q1-p1)**2+(q2-p2)**2)\n",
    "\n",
    "path = \"testpoints/testpunkter.txt\"\n",
    "with open(path, \"r\") as f:\n",
    "\ttxt = f.readlines()[1:]\n",
    "\tpoints_pairs = [eval(row) for row in txt]\n",
    "\n",
    "print(points_pairs)  #[((1, 2), (0, 0)), ((2, 0), (3, 5)), ((-2, -2), (9, 2))]\n",
    "    \t\n",
    "for pair in points_pairs:\n",
    "\tdis = eu_dis(pair[0][0], pair[0][1], pair[1][0], pair[1][0])\n",
    "\tprint(f\"The distance between {pair} is: {dis:.2f}\")"
   ]
  },
  {
   "cell_type": "markdown",
   "metadata": {},
   "source": [
    "## uppgift 6"
   ]
  },
  {
   "cell_type": "code",
   "execution_count": 39,
   "metadata": {},
   "outputs": [
    {
     "name": "stdout",
     "output_type": "stream",
     "text": [
      "Dealer shows the first card: 8. Dealer has 2 cards.\n",
      "You have 2 cards: ['10', '4']. The total points is: 14\n",
      "You have 3 cards: ['10', '4', 'K']. The total points is: 24\n",
      "\n",
      "Dealer have 2 cards: ['8', '7']. The total points is: 15.\n",
      "You have 3 cards: ['10', '4', 'K']. The total points is: 24.\n",
      "\n",
      "You lose.\n"
     ]
    }
   ],
   "source": [
    "import random as rnd\n",
    "# create deck\n",
    "deck_element = \"A 2 3 4 5 6 7 8 9 10 J Q K\".split()\n",
    "deck = deck_element*4\n",
    "\n",
    "# define deal function\n",
    "def deal(deck, n_of_cards):\n",
    "\thand = []\n",
    "\tfor i in range(n_of_cards):\n",
    "\t\trnd.shuffle(deck)\n",
    "\t\tcard = deck.pop()\n",
    "\t\thand.append(card)\n",
    "\treturn hand\n",
    "\n",
    "# define counting cards function\n",
    "def total(hand):\n",
    "\ttotal = 0\n",
    "\tfor i in hand:\n",
    "\t\tif i==\"J\" or i==\"Q\" or i==\"K\":\n",
    "\t\t\ttotal += 10\n",
    "\t\telif i==\"A\":\n",
    "\t\t\ttotal += 1 if total>= 11 else 11\n",
    "\t\telse:\n",
    "\t\t\ttotal += int(i)\n",
    "\treturn total\n",
    "\n",
    "# define score function\n",
    "def score(dealerhand, playerhand):\n",
    "\ttotal_dealer = total(dealerhand)\n",
    "\ttotal_player = total(playerhand)\n",
    "\tif total_player <= 21 and total_player > total_dealer:\n",
    "\t\tprint(\"Congratulations!!! You win!!!\")\n",
    "\telse:\n",
    "\t\tprint(\"You lose.\")\n",
    "\n",
    "# print results\n",
    "def dealer_show_first_card(hand):\n",
    "\tprint (f\"Dealer shows the first card: {hand[0]}. Dealer has {len(hand)} cards.\")\n",
    "def player_show_cards(hand):\n",
    "\tprint(f\"You have {len(hand)} cards: {hand}. The total points is: {total(hand)}\")\t\n",
    "def all_show_cards(dealerhand, playerhand):\n",
    "\tprint(f\"\"\"\n",
    "Dealer have {len(dealerhand)} cards: {dealerhand}. The total points is: {total(dealerhand)}.\n",
    "You have {len(playerhand)} cards: {playerhand}. The total points is: {total(playerhand)}.\n",
    "\"\"\")\n",
    "\n",
    "# start playing blackjack\n",
    "dealerhand = deal(deck, 2)\n",
    "dealer_show_first_card(dealerhand)\n",
    "playerhand = deal(deck, 2)\n",
    "player_show_cards(playerhand)\n",
    "\n",
    "while True:\n",
    "\tplayer_choice = input(\"Choose (T)ake a new card, or (S)top.\")\n",
    "\tchoice = player_choice.lower()\n",
    "\tif choice == \"t\":\n",
    "\t\tcard = deck.pop()\n",
    "\t\tplayerhand.append(card)\n",
    "\t\tplayer_show_cards(playerhand)\n",
    "\t\tif total(playerhand) > 21:\n",
    "\t\t\tbreak\n",
    "\telif choice == \"s\":\n",
    "\t\tbreak\n",
    "\telse:\n",
    "\t\tprint(\"Input either T or S\")\n",
    "\n",
    "\n",
    "all_show_cards(dealerhand, playerhand)\n",
    "score(dealerhand, playerhand)"
   ]
  },
  {
   "cell_type": "code",
   "execution_count": 19,
   "metadata": {},
   "outputs": [
    {
     "name": "stdout",
     "output_type": "stream",
     "text": [
      "Please input only float or integer, not <class 'str'>\n",
      "The probability density at x= 1 is: 0.24197072451914337\n",
      "Normal distribution with (mean, standard deviation): (-1, 3)\n"
     ]
    },
    {
     "data": {
      "image/png": "[encoded data removed]",
      "text/plain": [
       "<Figure size 600x400 with 1 Axes>"
      ]
     },
     "metadata": {
      "needs_background": "light"
     },
     "output_type": "display_data"
    },
    {
     "data": {
      "image/png": "[encoded data removed]",
      "text/plain": [
       "<Figure size 600x400 with 1 Axes>"
      ]
     },
     "metadata": {
      "needs_background": "light"
     },
     "output_type": "display_data"
    }
   ],
   "source": [
    "import numpy as np\n",
    "from math import sqrt \n",
    "from math import pi\n",
    "import matplotlib.pyplot as plt\n",
    "\n",
    "class NormalDist:\n",
    "    def __init__ (self, mu:float, sigma:float) -> None:\n",
    "        self.mu = mu\n",
    "        self.sigma = sigma\n",
    "\n",
    "    @property\n",
    "    def mu(self): return self._mu\n",
    "    \n",
    "    @mu.setter\n",
    "    def mu(self, value): \n",
    "        self._mu = self.validate_value(value)\n",
    "\n",
    "    @property\n",
    "    def sigma(self): return self._sigma\n",
    "    \n",
    "    @sigma.setter\n",
    "    def sigma(self, value): \n",
    "        self._sigma = self.validate_value(value)\n",
    "\n",
    "    @staticmethod\n",
    "    def validate_value(value):\n",
    "        if not isinstance(value, (float, int)):\n",
    "            raise TypeError (f\"Please input only float or integer, not {type(value)}\") \n",
    "        return value\n",
    "\n",
    "    def pdf(self,x:float) -> float:\n",
    "        prob_density = (1/(self.sigma*sqrt(2*pi))) * np.exp(-0.5*((x-self.mu)/self.sigma)**2)\n",
    "        return prob_density\n",
    "\n",
    "    def plot_pdf(self, x:float) -> None:  #x is a point\n",
    "        x_range = np.linspace(self.mu-3*self.sigma, self.mu+3*self.sigma)\n",
    "        fig, ax = plt.figure(dpi=100), plt.axes()\n",
    "        ax.plot(x_range, self.pdf(x_range))\n",
    "        ax.plot(x, self.pdf(x), \"*\", color=\"r\")\n",
    "        ax.set(xlabel=\"x\", ylabel=\"pdf(x)\", title=\"Probability distribution function of x\")\n",
    "        \n",
    "    def __add__(self, other: \"NormalDist\") -> \"NormalDist\":\n",
    "        mu_add = self.mu + other.mu\n",
    "        sigma_add = self.sigma + other.sigma\n",
    "        return NormalDist(mu_add, sigma_add)\n",
    "\n",
    "    def __repr__(self):\n",
    "        return f\"Normal distribution with (mean, standard deviation): ({self.mu}, {self.sigma})\"\n",
    "\n",
    "try: \n",
    "    norm = NormalDist(\"0\",1) # standard normal dist\n",
    "except TypeError as err:\n",
    "    print(err)\n",
    "\n",
    "norm1 = NormalDist(0,1) # standard normal dist\n",
    "\n",
    "\n",
    "print(f\"The probability density at x= 1 is: {norm1.pdf(1)}\") # så får du f(1)\n",
    "\n",
    "norm1.plot_pdf(1) # ger en plot\n",
    "\n",
    "norm2 = NormalDist(-1,2)\n",
    "norm3 = norm1 + norm2\n",
    "print(norm3)\n",
    "\n",
    "norm3.pdf(5)\n",
    "norm3.plot_pdf(5)\n"
   ]
  },
  {
   "cell_type": "code",
   "execution_count": 16,
   "metadata": {},
   "outputs": [
    {
     "name": "stdout",
     "output_type": "stream",
     "text": [
      "Please input only float or integer, not <class 'str'>\n",
      "The probability density at x= 1 is: 0.24197072451914337\n",
      "Normal distribution with (mean, standard deviation): (-1, 3)\n"
     ]
    },
    {
     "data": {
      "image/png": "[encoded data removed]",
      "text/plain": [
       "<Figure size 600x400 with 1 Axes>"
      ]
     },
     "metadata": {
      "needs_background": "light"
     },
     "output_type": "display_data"
    },
    {
     "data": {
      "image/png": "[encoded data removed]",
      "text/plain": [
       "<Figure size 600x400 with 1 Axes>"
      ]
     },
     "metadata": {
      "needs_background": "light"
     },
     "output_type": "display_data"
    }
   ],
   "source": [
    "import numpy as np\n",
    "from math import sqrt \n",
    "from math import pi\n",
    "import matplotlib.pyplot as plt\n",
    "\n",
    "class NormalDist:\n",
    "    def __init__ (self, mu:float, sigma:float) -> None:\n",
    "        self.mu = mu\n",
    "        self.sigma = sigma\n",
    "\n",
    "    @property\n",
    "    def mu(self): return self._mu\n",
    "    \n",
    "    @mu.setter\n",
    "    def mu(self, value): \n",
    "        self._mu = self.validate_value(value)\n",
    "\n",
    "    @property\n",
    "    def sigma(self): return self._sigma\n",
    "    \n",
    "    @sigma.setter\n",
    "    def sigma(self, value): \n",
    "        self._sigma = self.validate_value(value)\n",
    "\n",
    "    @staticmethod\n",
    "    def validate_value(value):\n",
    "        if not isinstance(value, (float, int)):\n",
    "            raise TypeError (f\"Please input only float or integer, not {type(value)}\") \n",
    "        return value\n",
    "\n",
    "    def pdf(self,x:float) -> float:\n",
    "        prob_density = (1/(self.sigma*sqrt(2*pi))) * np.exp(-0.5*((x-self.mu)/self.sigma)**2)\n",
    "        return prob_density\n",
    "\n",
    "    def plot_pdf(self, x:float) -> None:  # x is a given range\n",
    "        fig, ax = plt.figure(dpi=100), plt.axes()\n",
    "        ax.plot(x, self.pdf(x))\n",
    "        ax.set(xlabel=\"x\", ylabel=\"pdf(x)\", title=\"pdf of x\")\n",
    "\n",
    "    def __add__(self, other: \"NormalDist\") -> \"NormalDist\":\n",
    "        mu_add = self.mu + other.mu\n",
    "        sigma_add = self.sigma + other.sigma\n",
    "        return NormalDist(mu_add, sigma_add)\n",
    "\n",
    "    def __repr__(self):\n",
    "        return f\"Normal distribution with (mean, standard deviation): ({self.mu}, {self.sigma})\"\n",
    "\n",
    "try: \n",
    "    norm = NormalDist(\"0\",1) # standard normal dist\n",
    "except TypeError as err:\n",
    "    print(err)\n",
    "\n",
    "norm1 = NormalDist(0,1) # standard normal dist\n",
    "\n",
    "\n",
    "print(f\"The probability density at x= 1 is: {norm1.pdf(1)}\") # så får du f(1)\n",
    "\n",
    "x = np.linspace(norm1.mu-3*norm1.sigma, norm1.mu+3*norm1.sigma)\n",
    "#x = np.linspace(-3,3)\n",
    "norm1.plot_pdf(x) # ger en plot\n",
    "\n",
    "norm2 = NormalDist(-1,2)\n",
    "norm3 = norm1 + norm2\n",
    "print(norm3)\n",
    "\n",
    "x = np.linspace(norm3.mu-3*norm3.sigma, norm3.mu+3*norm3.sigma)\n",
    "#x = np.linspace(-10,10) \n",
    "norm3.plot_pdf(x)\n",
    "\n"
   ]
  }
 ],
 "metadata": {
  "interpreter": {
   "hash": "8111105f47d12ec1fb8af24cde7e4ba5898ee01916168ee13b7453f45f559afc"
  },
  "kernelspec": {
   "display_name": "Python 3.9.6 64-bit ('python-programming-Yuna-Liu-WA6ACBfR': pipenv)",
   "name": "python3"
  },
  "language_info": {
   "codemirror_mode": {
    "name": "ipython",
    "version": 3
   },
   "file_extension": ".py",
   "mimetype": "text/x-python",
   "name": "python",
   "nbconvert_exporter": "python",
   "pygments_lexer": "ipython3",
   "version": "3.9.6"
  },
  "orig_nbformat": 4
 },
 "nbformat": 4,
 "nbformat_minor": 2
}
