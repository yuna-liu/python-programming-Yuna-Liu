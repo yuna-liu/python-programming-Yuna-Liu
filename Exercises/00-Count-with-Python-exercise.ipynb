{
 "cells": [
  {
   "cell_type": "markdown",
   "source": [
    "# The Solution to execise \"Count with Python\"\r\n",
    "Date: 2021-08-25"
   ],
   "metadata": {}
  },
  {
   "cell_type": "markdown",
   "source": [
    "## 1. Pythagorean theorem (*)\r\n",
    "\r\n",
    "&nbsp; a) &nbsp;  A right angled triangle has the catheti: a = 3 and b = 4 length units. Compute the <b>hypothenuse</b> of the triangle. (*) \r\n",
    "  \r\n",
    "&nbsp; b) &nbsp;  A right angled triangle has hypothenuse c = 7.0 and a cathetus a = 5.0 length units. Compute the other cathetus and round to one decimal. (*)\r\n",
    "\r\n",
    "<img align=\"left\" src=\"../assets/right-angle-triangle.png\" width=\"200\"/>"
   ],
   "metadata": {}
  },
  {
   "cell_type": "code",
   "execution_count": 11,
   "source": [
    "# To solve 1a) \r\n",
    "\r\n",
    "import math\r\n",
    "a = 3\r\n",
    "b = 4\r\n",
    "c = math.sqrt(a**2+b**2)\r\n",
    "\r\n",
    "print(f\"The hypothenuse is {c} length unit\")"
   ],
   "outputs": [
    {
     "output_type": "stream",
     "name": "stdout",
     "text": [
      "The hypothenuse is 5.0 length unit\n"
     ]
    }
   ],
   "metadata": {}
  },
  {
   "cell_type": "code",
   "execution_count": 13,
   "source": [
    "# To solve 1b) \r\n",
    "\r\n",
    "import math\r\n",
    "a = 5\r\n",
    "c = 7\r\n",
    "b = math.sqrt(c**2-a**2)\r\n",
    "\r\n",
    "print(f\"The other cathetus is {b:.1f} length unit\")"
   ],
   "outputs": [
    {
     "output_type": "stream",
     "name": "stdout",
     "text": [
      "The other cathetus is 4.9 length unit\n"
     ]
    }
   ],
   "metadata": {}
  },
  {
   "cell_type": "markdown",
   "source": [
    "-----\r\n",
    "## 2. Classification accuracy (*)\r\n",
    "\r\n",
    "A machine learning algorithm has been trained to predict whether or not it would rain the next day. Out of 365 predictions, it got 300 correct, compute the accuracy of this model"
   ],
   "metadata": {}
  },
  {
   "cell_type": "code",
   "execution_count": 14,
   "source": [
    "total_predictions = 365\r\n",
    "correct_predictions = 300\r\n",
    "\r\n",
    "accuracy = correct_predictions/total_predictions*100\r\n",
    "\r\n",
    "print (f\"The accuracy of this model is {accuracy:.1f} %\")"
   ],
   "outputs": [
    {
     "output_type": "stream",
     "name": "stdout",
     "text": [
      "The accuracy of this model is 82.2 %\n"
     ]
    }
   ],
   "metadata": {}
  },
  {
   "cell_type": "markdown",
   "source": [
    "---\r\n",
    "## 3. Classification accuracy (*)\r\n",
    "A machine learning model has been trained to detect fire. Here is the result of its predictions: \r\n",
    "\r\n",
    "<table align=\"left\">\r\n",
    "<tbody>\r\n",
    "  <tr>\r\n",
    "    <td>True Positive (TP)\r\n",
    "      <ul>\r\n",
    "        <li>Reality: fire</li>\r\n",
    "        <li>Predicted: fire</li>\r\n",
    "        <li>Number of TP: 2</li>\r\n",
    "      </ul>\r\n",
    "    </td>\r\n",
    "    <td>False Positive (FP)\r\n",
    "      <ul>\r\n",
    "        <li>Reality: no fire</li>\r\n",
    "        <li>Predicted: fire</li>\r\n",
    "        <li>Number of FP: 2</li>\r\n",
    "      </ul>\r\n",
    "    </td>\r\n",
    "  </tr>\r\n",
    "\r\n",
    "  <tr>\r\n",
    "    <td>False Negative (FN)\r\n",
    "      <ul>\r\n",
    "        <li>Reality: fire</li>\r\n",
    "        <li>Predicted: no fire</li>\r\n",
    "        <li>Number of FN: 11</li>\r\n",
    "      </ul>\r\n",
    "    </td>\r\n",
    "    <td>True Negative (TN)\r\n",
    "      <ul>\r\n",
    "        <li>Reality: no fire</li>\r\n",
    "        <li>Predicted: no fire</li>\r\n",
    "        <li>Number of TN: 985</li>\r\n",
    "      </ul>\r\n",
    "    </td>\r\n",
    "  </tr>\r\n",
    "</tbody>\r\n",
    "</table>"
   ],
   "metadata": {}
  },
  {
   "cell_type": "markdown",
   "source": [
    "Calculated the accuracy using the following formula:\r\n",
    "\r\n",
    "$\\text{accuracy} = \\frac{TP+TN}{TP+TN+FP+FN}$\r\n",
    "\r\n",
    "Is this a good model?"
   ],
   "metadata": {}
  },
  {
   "cell_type": "code",
   "execution_count": 16,
   "source": [
    "TP = 2\r\n",
    "FP = 2\r\n",
    "FN = 11 \r\n",
    "TN = 985\r\n",
    "\r\n",
    "accuracy = (TP+TN)/(TP+TN+FP+FN)*100\r\n",
    "\r\n",
    "print (f\"The accuracy of this model is {accuracy:.1f} %\")\r\n",
    "\r\n",
    "good_model = 90\r\n",
    "\r\n",
    "if accuracy >= good_model:\r\n",
    "    print (\"This model is a good model!\")\r\n",
    "else:\r\n",
    "    print (\"This is a bad model...\")"
   ],
   "outputs": [
    {
     "output_type": "stream",
     "name": "stdout",
     "text": [
      "The accuracy of this model is 98.7 %\n",
      "This model is a good model!\n"
     ]
    }
   ],
   "metadata": {}
  },
  {
   "cell_type": "markdown",
   "source": [
    "--- \r\n",
    "## 4. Line (*)\r\n",
    "Compute the slope $k$ and the constant term $m$ of this line using the points $A: (4,4)$ and $B: (0,1)$"
   ],
   "metadata": {}
  },
  {
   "cell_type": "code",
   "execution_count": 9,
   "source": [
    "# Compute the slope k based on two points A and B\r\n",
    "\r\n",
    "A = [4,4]\r\n",
    "B = [0,1]\r\n",
    "\r\n",
    "slope = (A[1]-B[1])/(A[0]-B[0])\r\n",
    "m = A[1]-slope*A[0]\r\n",
    "\r\n",
    "print (f\"The slope is {slope:.2f}, and the constant is {m:.1f}\")\r\n"
   ],
   "outputs": [
    {
     "output_type": "stream",
     "name": "stdout",
     "text": [
      "The slope is 0.75, and the constant is 1.0\n"
     ]
    }
   ],
   "metadata": {}
  },
  {
   "cell_type": "markdown",
   "source": [
    "---\r\n",
    "## 5. Euclidean distance (*)\r\n",
    "\r\n",
    "The Euclideam distance between the points $P_1$ and $P_2$ is the length of a line between them. Let $P_1: (3,5)$ and $P_2: (-2,4)$ and compute the distance between them."
   ],
   "metadata": {}
  },
  {
   "cell_type": "code",
   "execution_count": 17,
   "source": [
    "import math\r\n",
    "\r\n",
    "P1 = [3,5]\r\n",
    "P2 = [-2,4]\r\n",
    "\r\n",
    "distance = math.sqrt((P2[1]-P1[1])**2+(P2[0]-P1[0])**2)\r\n",
    "\r\n",
    "print(f\"The distance between P1 and P2 is {distance:.2f} length units.\")"
   ],
   "outputs": [
    {
     "output_type": "stream",
     "name": "stdout",
     "text": [
      "The distance between P1 and P2 is 5.10\n"
     ]
    }
   ],
   "metadata": {}
  },
  {
   "cell_type": "markdown",
   "source": [
    "---\r\n",
    "## 6. Euclidean distance in 3D (**)\r\n",
    "\r\n",
    "Calculate the distance between the points $P_1: (2,1,4)$ and $P_2: (3,1,0)$ "
   ],
   "metadata": {}
  },
  {
   "cell_type": "code",
   "execution_count": 18,
   "source": [
    "import math\r\n",
    "\r\n",
    "P1 = [2,1,4]\r\n",
    "P2 = [3,1,0]\r\n",
    "\r\n",
    "distance = math.sqrt((P2[2]-P1[2])**2+(P2[1]-P1[1])**2+(P2[0]-P1[0])**2)\r\n",
    "\r\n",
    "print(f\"The distance between P1 and P2 is {distance:.2f} length units.\")"
   ],
   "outputs": [
    {
     "output_type": "stream",
     "name": "stdout",
     "text": [
      "The distance between P1 and P2 is 4.12 length units.\n"
     ]
    }
   ],
   "metadata": {}
  }
 ],
 "metadata": {
  "orig_nbformat": 4,
  "language_info": {
   "name": "python",
   "version": "3.9.6",
   "mimetype": "text/x-python",
   "codemirror_mode": {
    "name": "ipython",
    "version": 3
   },
   "pygments_lexer": "ipython3",
   "nbconvert_exporter": "python",
   "file_extension": ".py"
  },
  "kernelspec": {
   "name": "python3",
   "display_name": "Python 3.9.6 64-bit"
  },
  "interpreter": {
   "hash": "2971b745844267d7cb4483e5f20d838014d69d8df52b415790673c9e258dc44a"
  }
 },
 "nbformat": 4,
 "nbformat_minor": 2
}