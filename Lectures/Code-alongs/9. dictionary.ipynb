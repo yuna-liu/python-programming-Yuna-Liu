{
 "cells": [
  {
   "cell_type": "markdown",
   "metadata": {},
   "source": [
    "# Dictionary\n",
    "\n",
    "- key:value pair "
   ]
  },
  {
   "cell_type": "code",
   "execution_count": 4,
   "metadata": {},
   "outputs": [
    {
     "name": "stdout",
     "output_type": "stream",
     "text": [
      "person dictionary {'name': 'Kokchun', 'age': 30.4, 'work': 'AI Teacher', 'interests': ['math', 'programming', 'python', 'yoga'], 'likes_job': True}\n",
      "Personens namn är Kokchun\n",
      "Personens ålder är 30.4 år\n",
      "Kokchun likes math\n",
      "Kokchun likes programming\n",
      "Kokchun likes python\n",
      "Kokchun likes yoga\n"
     ]
    }
   ],
   "source": [
    "person = dict(\n",
    "    name = \"Kokchun\",\n",
    "    age = 30.4,\n",
    "    work = \"AI Teacher\",\n",
    "    interests = [\"math\", \"programming\", \"python\", \"yoga\"],\n",
    "    likes_job = True\n",
    ")\n",
    "\n",
    "print(f\"person dictionary {person}\")\n",
    "print(f\"Personens namn är {person['name']}\") # accessed the value of the key name in person\n",
    "print(f\"Personens ålder är {person['age']} år\")\n",
    "\n",
    "for interest in person[\"interests\"]:\n",
    "    print(f\"{person['name']} likes {interest}\")"
   ]
  },
  {
   "cell_type": "code",
   "execution_count": 1,
   "metadata": {},
   "outputs": [
    {
     "name": "stdout",
     "output_type": "stream",
     "text": [
      "blueprint for objects\n",
      "Vi ska lära oss dessa ord: \n",
      "data structure, lambda, class, \n",
      "\n",
      "Glosa                 Betydelse\n",
      "data structure        means of storing and organizing data\n",
      "lambda                anonymous function\n",
      "class                 blueprint for objects\n"
     ]
    }
   ],
   "source": [
    "words = {\n",
    "    \"data structure\": \"means of storing and organizing data\",\n",
    "    \"lambda\": \"anonymous function\",\n",
    "    \"class\": \"blueprint for objects\"\n",
    "}\n",
    "\n",
    "print(words[\"class\"])\n",
    "print(\"Vi ska lära oss dessa ord: \")\n",
    "for key in words:\n",
    "    print(key, end=\", \")\n",
    "\n",
    "print(f\"\\n\\nGlosa {'':<15} Betydelse\")\n",
    "for key, value in words.items():\n",
    "    print(f\"{key:<21} {value}\")"
   ]
  },
  {
   "cell_type": "code",
   "execution_count": 19,
   "metadata": {},
   "outputs": [
    {
     "name": "stdout",
     "output_type": "stream",
     "text": [
      "{'data structure': 'means of storing and organizing data', 'lambda': 'an anonymous function', 'class': 'blueprint for objects', 'regression': 'find a function that best fits observed data'}\n"
     ]
    }
   ],
   "source": [
    "words[\"lambda\"] = \"an anonymous function\" # overwrites the previous value for the key lambda\n",
    "words[\"regression\"] = \"find a function that best fits observed data\" # adds another key:value pair\n",
    "print(words)"
   ]
  },
  {
   "cell_type": "code",
   "execution_count": 3,
   "metadata": {},
   "outputs": [
    {
     "name": "stdout",
     "output_type": "stream",
     "text": [
      "['A', 'B', 'C', 'D', 'E', 'F']\n",
      "{'F': '<10', 'E': 10, 'D': 20, 'C': 30, 'B': 40, 'A': 50}\n"
     ]
    }
   ],
   "source": [
    "# F<10, E: 10, D:20, C:30, B:40, A:50\n",
    "grade_limits = {}\n",
    "grades = list(\"ABCDEF\")\n",
    "\n",
    "print(grades)\n",
    "\n",
    "for i, grade in enumerate(grades[::-1]):\n",
    "    grade_limits[grade] = i*10   #dictionary_name[key]=value; dictionary_name[\" \"]= value\n",
    "\n",
    "grade_limits[\"F\"] = \"<10\"\n",
    "print(grade_limits)"
   ]
  },
  {
   "cell_type": "markdown",
   "metadata": {},
   "source": [
    "## Dictionary comprehension"
   ]
  },
  {
   "cell_type": "code",
   "execution_count": 47,
   "metadata": {},
   "outputs": [
    {
     "name": "stdout",
     "output_type": "stream",
     "text": [
      "{'F': 0, 'E': 10, 'D': 20, 'C': 30, 'B': 40, 'A': 50}\n",
      "Student scores: [40, 7, 1, 47, 17, 15, 14, 8, 47, 6, 43, 47, 57, 34, 5, 37, 27, 2, 1, 5]\n",
      "{'F': 0, 'E': 0, 'D': 0, 'C': 0, 'B': 0, 'A': 0}\n",
      "Grade count {'F': 8, 'E': 3, 'D': 1, 'C': 2, 'B': 5, 'A': 1}\n"
     ]
    }
   ],
   "source": [
    "import random as rnd \n",
    "# creates a dictionary grade_limits through {}; key is grade; value is i*10\n",
    "# where i is enumerate(list); each key from this list.\n",
    "grade_limits = {grade: i*10 for i, grade in enumerate(\"FEDCBA\")}\n",
    "print(grade_limits)\n",
    "\n",
    "def generate_scores(number_scores):\n",
    "    rnd.seed(42)\n",
    "    scores = [rnd.randint(0,59) for _ in range(number_scores)]\n",
    "    return scores\n",
    "\n",
    "scores = generate_scores(20)\n",
    "print(f\"Student scores: {scores}\")\n",
    "\n",
    "grade_count = {key: 0 for key in grade_limits}\n",
    "\n",
    "print(grade_count)\n",
    "\n",
    "for score in scores: \n",
    "    for grade, limit in grade_limits.items():\n",
    "        if limit <= score < limit + 10: \n",
    "             grade_count[grade] += 1\n",
    "\n",
    "print(f\"Grade count {grade_count}\")"
   ]
  }
 ],
 "metadata": {
  "interpreter": {
   "hash": "8111105f47d12ec1fb8af24cde7e4ba5898ee01916168ee13b7453f45f559afc"
  },
  "kernelspec": {
   "display_name": "Python 3.9.6 64-bit ('python-programming-Yuna-Liu-WA6ACBfR': pipenv)",
   "name": "python3"
  },
  "language_info": {
   "codemirror_mode": {
    "name": "ipython",
    "version": 3
   },
   "file_extension": ".py",
   "mimetype": "text/x-python",
   "name": "python",
   "nbconvert_exporter": "python",
   "pygments_lexer": "ipython3",
   "version": "3.9.6"
  },
  "orig_nbformat": 4
 },
 "nbformat": 4,
 "nbformat_minor": 2
}
