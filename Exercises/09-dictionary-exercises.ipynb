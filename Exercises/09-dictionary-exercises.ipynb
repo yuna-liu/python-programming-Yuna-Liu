{
 "cells": [
  {
   "cell_type": "markdown",
   "source": [
    "# The solution to exercise 09: dictionary exercises\r\n",
    "\r\n",
    "Date: 2021-09-15\r\n",
    "\r\n",
    "The questions can be found [here][exercise_link]:\r\n",
    "\r\n",
    "[exercise_link]: https://github.com/kokchun/Programmering-med-Python-21/blob/main/Exercises/09-dictionary-exercises.ipynb"
   ],
   "metadata": {}
  },
  {
   "cell_type": "markdown",
   "source": [
    "## 1. Curriculum (*)\r\n",
    "\r\n",
    "Create a dictionary containing all the courses that you will study in this program, with the course names as **keys** and the amount of points as **value**. Then calculate the number of points that you will study in total. (*)\r\n",
    "\r\n",
    "<details>\r\n",
    "\r\n",
    "<summary>Answer</summary>\r\n",
    "\r\n",
    "Look at your course program curriculum\r\n",
    "\r\n",
    "</details>\r\n"
   ],
   "metadata": {}
  },
  {
   "cell_type": "code",
   "execution_count": 35,
   "source": [
    "courses_ai21 = dict(\r\n",
    "    databaser = 25,\r\n",
    "    databehandling = 25,\r\n",
    "    djup_maskininlärning = 40,\r\n",
    "    examensarbete = 15,\r\n",
    "    introduktionskurs_till_AI = 5,\r\n",
    "    LIA_1 = 40,\r\n",
    "    LIA_2 = 70,\r\n",
    "    maskininlärning = 45,\r\n",
    "    praktisk_maskininlärning_och_projektmetodik\t= 45,\r\n",
    "    programmering_med_Python = 40,\r\n",
    "    statistiska_metoder = 30,\r\n",
    "    visualisering_presentationer_och_storytelling = 20\r\n",
    ")\r\n",
    "\r\n",
    "total_points = 0\r\n",
    "for key, value in courses_ai21.items():\r\n",
    "    total_points += value\r\n",
    "\r\n",
    "\"\"\" #Another method: Loop through every key, like a list\r\n",
    "for course in courses_ai21: \r\n",
    "    total_points += courses_ai21[course] \"\"\"\r\n",
    "\r\n",
    "print(f\"The total points that I am study is: {total_points}.\")"
   ],
   "outputs": [
    {
     "output_type": "stream",
     "name": "stdout",
     "text": [
      "The total points that I am study is: 400.\n"
     ]
    }
   ],
   "metadata": {}
  },
  {
   "cell_type": "markdown",
   "source": [
    "---\n",
    "## 2. Dice simulation (*)\n",
    "\n",
    "Simulate 1000000 dice rolls and save the number of ones, twos, ..., sixes in a dictionary. Then print them out in the terminal. (*)\n",
    "\n",
    "<details>\n",
    "\n",
    "<summary>Answer</summary>\n",
    "\n",
    "```\n",
    "1: 166481\n",
    "2: 166844\n",
    "3: 166154\n",
    "4: 167400\n",
    "5: 167260\n",
    "6: 165861\n",
    "```\n",
    "\n",
    "</details>\n"
   ],
   "metadata": {}
  },
  {
   "cell_type": "code",
   "execution_count": 50,
   "source": [
    "import random as rnd\r\n",
    "\r\n",
    "n_of_dices = 1000000\r\n",
    "list_of_outcomes = [\"Ones\", \"Twos\", \"Threes\", \"Fours\", \"Fives\", \"Sixes\"]\r\n",
    "\r\n",
    "outcome_limits = {outcome: i+1 for i, outcome in enumerate(list_of_outcomes)}\r\n",
    "print(outcome_limits)\r\n",
    "\r\n",
    "dice_results = [rnd.randint(1,6) for _ in range(n_of_dices)]\r\n",
    "\r\n",
    "\r\n",
    "#create a dictionary of outcomes.\r\n",
    "outcome_count = {key: 0 for key in list_of_outcomes}\r\n",
    "print(outcome_count)\r\n",
    "\r\n",
    "dices = list(range(1,7))\r\n",
    "\r\n",
    "for dice_result in dice_results:\r\n",
    "    for outcome, limit in outcome_limits.items():\r\n",
    "        if dice_result == limit:\r\n",
    "            outcome_count[outcome] += 1\r\n",
    "print(f\"dice rolls count: {outcome_count}\") "
   ],
   "outputs": [
    {
     "output_type": "stream",
     "name": "stdout",
     "text": [
      "{'Ones': 1, 'Twos': 2, 'Threes': 3, 'Fours': 4, 'Fives': 5, 'Sixes': 6}\n",
      "{'Ones': 0, 'Twos': 0, 'Threes': 0, 'Fours': 0, 'Fives': 0, 'Sixes': 0}\n",
      "dice rolls count: {'Ones': 166948, 'Twos': 166687, 'Threes': 166921, 'Fours': 166596, 'Fives': 166537, 'Sixes': 166311}\n"
     ]
    }
   ],
   "metadata": {}
  },
  {
   "cell_type": "markdown",
   "source": [
    "---\n",
    "## 3. Pokemon list (*)\n",
    "\n",
    "Read in the file pokemon_list.txt in Python. Create a variable with name pokedex with the key:value **\"pokemon\":\"type, index\"**. For example when searching for the keys \"Gengar\" and \"Pikachu\": (*)\n",
    "\n",
    "```python\n",
    "\n",
    "print(pokedex[\"Gengar\"])\n",
    "print(pokedex[\"Pikachu\"])\n",
    "\n",
    "Spöke/Gift\n",
    "Elektrisk\n",
    "```\n",
    "\n",
    "<details>\n",
    "\n",
    "<summary>Answer</summary>\n",
    "\n",
    "```\n",
    "{'Bulbasaur': 'Gräs/Gift',\n",
    " 'Ivysaur': 'Gräs/Gift',\n",
    " 'Venusaur': 'Gräs/Gift',\n",
    " 'Charmander': 'Eld',\n",
    " 'Charmeleon': 'Eld',\n",
    " 'Charizard': 'Eld/Flygande',\n",
    " 'Squirtle': 'Vatten',\n",
    " 'Wartortle': 'Vatten',\n",
    " 'Blastoise': 'Vatten',\n",
    " ...\n",
    "}\n",
    "```\n",
    "\n",
    "</details>\n"
   ],
   "metadata": {}
  },
  {
   "cell_type": "markdown",
   "source": [
    "---\n",
    "## 4. Morse code (**)\n",
    "\n",
    "Read in the file morse.txt, save it in a dictionary and create a function that lets the user input a message to get it translated to morse code. For example  (**)\n",
    "\n",
    "```python\n",
    "\n",
    "print(morse[\"SOS\"])\n",
    "print(morse[\"POKEMON\"])\n",
    "\n",
    "...---...\n",
    ".------.-.------.\n",
    "```"
   ],
   "metadata": {}
  }
 ],
 "metadata": {
  "interpreter": {
   "hash": "8111105f47d12ec1fb8af24cde7e4ba5898ee01916168ee13b7453f45f559afc"
  },
  "kernelspec": {
   "name": "python3",
   "display_name": "Python 3.9.6 64-bit ('python-programming-Yuna-Liu-WA6ACBfR': pipenv)"
  },
  "language_info": {
   "name": "python",
   "version": "3.9.6",
   "mimetype": "text/x-python",
   "codemirror_mode": {
    "name": "ipython",
    "version": 3
   },
   "pygments_lexer": "ipython3",
   "nbconvert_exporter": "python",
   "file_extension": ".py"
  },
  "orig_nbformat": 4
 },
 "nbformat": 4,
 "nbformat_minor": 2
}