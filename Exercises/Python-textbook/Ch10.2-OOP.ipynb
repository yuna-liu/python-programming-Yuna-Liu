{
 "cells": [
  {
   "cell_type": "code",
   "execution_count": 6,
   "source": [
    "class Song:\r\n",
    "    def __init__(self, title, artist, album, track_number):\r\n",
    "        self.title = title\r\n",
    "        self.artist = artist\r\n",
    "        self.album = album\r\n",
    "        self.track_number = track_number\r\n",
    "        artist.add_song(self)\r\n",
    "\r\n",
    "class Album:\r\n",
    "    def __init__(self, title, artist, year):\r\n",
    "        self.title = title\r\n",
    "        self.artist = artist\r\n",
    "        self.year = year\r\n",
    "        self.tracks = []\r\n",
    "        artist.add_album(self)\r\n",
    "\r\n",
    "    def add_track(self, title, artist=None):\r\n",
    "        if artist is None:\r\n",
    "            artist = self.artist\r\n",
    "        track_number = len(self.tracks)\r\n",
    "        song = Song(title, artist, self, track_number)\r\n",
    "        self.tracks.append(song)\r\n",
    "\r\n",
    "class Artist:\r\n",
    "    def __init__(self, name):\r\n",
    "        self.name = name\r\n",
    "        self.albums = []\r\n",
    "        self.songs = []\r\n",
    "    def add_album(self, album):\r\n",
    "        self.albums.append(album)\r\n",
    "    def add_song(self, song):\r\n",
    "        self.songs.append(song)\r\n",
    "\r\n",
    "class Playlist:\r\n",
    "    def __init__(self, name):\r\n",
    "        self.name = name\r\n",
    "        self.songs = []\r\n",
    "    def add_song(self, song):\r\n",
    "        self.songs.append(song)\r\n",
    "\r\n",
    "band = Artist(\"Bob's Awesome Band\")\r\n",
    "album = Album(\"Bob's First Single\", band, 2013)\r\n",
    "album.add_track(\"A Ballad about Cheese\")\r\n",
    "album.add_track(\"A Ballad about Cheese (dance remix)\")\r\n",
    "album.add_track(\"A Third Song to Use Up the Rest of the Space\")\r\n",
    "playlist = Playlist(\"My Favourite Songs\")\r\n",
    "\r\n",
    "for song in album.tracks:\r\n",
    "    playlist.add_song(song)\r\n",
    "\r\n",
    "print(playlist.songs)"
   ],
   "outputs": [
    {
     "output_type": "stream",
     "name": "stdout",
     "text": [
      "[<__main__.Song object at 0x00000195AD52BB80>, <__main__.Song object at 0x00000195AD52B700>, <__main__.Song object at 0x00000195AD52B2E0>]\n"
     ]
    }
   ],
   "metadata": {}
  }
 ],
 "metadata": {
  "orig_nbformat": 4,
  "language_info": {
   "name": "python",
   "version": "3.9.6",
   "mimetype": "text/x-python",
   "codemirror_mode": {
    "name": "ipython",
    "version": 3
   },
   "pygments_lexer": "ipython3",
   "nbconvert_exporter": "python",
   "file_extension": ".py"
  },
  "kernelspec": {
   "name": "python3",
   "display_name": "Python 3.9.6 64-bit ('python-programming-Yuna-Liu-WA6ACBfR': pipenv)"
  },
  "interpreter": {
   "hash": "8111105f47d12ec1fb8af24cde7e4ba5898ee01916168ee13b7453f45f559afc"
  }
 },
 "nbformat": 4,
 "nbformat_minor": 2
}