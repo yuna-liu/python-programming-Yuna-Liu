{
 "cells": [
  {
   "cell_type": "markdown",
   "metadata": {},
   "source": [
    "# File handling\n",
    "\n",
    "options\n",
    "- \"r\" - read\n",
    "- \"a\" - append\n",
    "- \"w\" - write\n",
    "- \"x\" - create"
   ]
  },
  {
   "cell_type": "code",
   "execution_count": 5,
   "metadata": {},
   "outputs": [
    {
     "name": "stdout",
     "output_type": "stream",
     "text": [
      "'  If     we     knew what it was      we were doing, it would not be called research,          would it?     - Albert Einstein\\n\\nTime is a drug. Too       much of it kills you.  -  Terry Pratchett\\n\\n\\n An expert is a person who       has made all the mistakes that           can be made in a          very narrow field - Niels Bohr\\n\\n   Everything must be made as simple as possible. But not simpler. - Albert Einstein     \\n\\n\\n  Nothing in life                is to be feared, it is only to be understood. Now is the time to understand more, so that we may fear less. - Marie  Curie  \\n\\nIf I have seen further     it is by standing on the shoulders of Giants. - Isaac Newton'\n"
     ]
    }
   ],
   "source": [
    "# with -> use this when opening files\n",
    "# takes care of error handling \n",
    "# takes care of closing down the file\n",
    "with open(\"files/quotes.txt\", \"r\") as f: # \"r\" option -> read file\n",
    "    text = f.read()\n",
    "\n",
    "#print(text)\n",
    "print(repr(text))"
   ]
  },
  {
   "cell_type": "code",
   "execution_count": 1,
   "metadata": {},
   "outputs": [
    {
     "name": "stdout",
     "output_type": "stream",
     "text": [
      "['  If     we     knew what it was      we were doing, it would not be called research,          would it?     - Albert Einstein\\n', '\\n', 'Time is a drug. Too       much of it kills you.  -  Terry Pratchett\\n', '\\n', '\\n', ' An expert is a person who       has made all the mistakes that           can be made in a          very narrow field - Niels Bohr\\n', '\\n', '   Everything must be made as simple as possible. But not simpler. - Albert Einstein     \\n', '\\n', '\\n', '  Nothing in life                is to be feared, it is only to be understood. Now is the time to understand more, so that we may fear less. - Marie  Curie  \\n', '\\n', 'If I have seen further     it is by standing on the shoulders of Giants. - Isaac Newton']\n"
     ]
    }
   ],
   "source": [
    "with open(\"files/quotes.txt\", \"r\") as f: # \"r\" option -> read file\n",
    "    text = f.readlines()\n",
    "\n",
    "#print(text)\n",
    "print(repr(text))"
   ]
  },
  {
   "cell_type": "markdown",
   "metadata": {},
   "source": [
    "## Clean up quotes.txt\n",
    "- inspect quotes.txt\n",
    "- remove leading and trailing whitespaces\n",
    "- remove excessive whitespaces between words\n",
    "- add quote numbers\n",
    "- extract authors"
   ]
  },
  {
   "cell_type": "code",
   "execution_count": 8,
   "metadata": {},
   "outputs": [
    {
     "name": "stdout",
     "output_type": "stream",
     "text": [
      "['  If     we     knew what it was      we were doing, it would not be called research,          would it?     - Albert Einstein', '', 'Time is a drug. Too       much of it kills you.  -  Terry Pratchett', '', '', ' An expert is a person who       has made all the mistakes that           can be made in a          very narrow field - Niels Bohr', '', '   Everything must be made as simple as possible. But not simpler. - Albert Einstein     ', '', '', '  Nothing in life                is to be feared, it is only to be understood. Now is the time to understand more, so that we may fear less. - Marie  Curie  ', '', 'If I have seen further     it is by standing on the shoulders of Giants. - Isaac Newton']\n"
     ]
    }
   ],
   "source": [
    "path = \"files/quotes.txt\"\n",
    "\n",
    "with open(path, \"r\") as f1:\n",
    "    #quotes = f1.readlines()\n",
    "    #print(quotes)\n",
    "\n",
    "    quotes = [quote.strip(\"\\n\") for quote in f1.readlines()]\n",
    "    print(quotes)"
   ]
  },
  {
   "cell_type": "code",
   "execution_count": 5,
   "metadata": {},
   "outputs": [],
   "source": [
    "import re \n",
    "path = \"files/quotes.txt\"\n",
    "path_clean = \"files/quotes_clean.txt\"\n",
    "i = 1\n",
    "with open(path, \"r\") as f1, open(path_clean, \"w\") as f2:\n",
    "\n",
    "    f2.write(\"Famous quotes\\n\\n\")\n",
    "    for quote in f1.readlines():\n",
    "        quote = quote.strip(\" \\n\") # removes leading and trailing whitespace and newlines\n",
    "        quote = re.sub(\" +\", \" \", quote) # substitutes >= 1 whitespaces with one whitespace\n",
    "        #print(repr(quote))\n",
    "        if quote != \"\":\n",
    "            f2.write(f\"{i}. {quote}\\n\")\n",
    "            i += 1"
   ]
  },
  {
   "cell_type": "markdown",
   "metadata": {},
   "source": [
    "## Extract authors from quotes_clean.txt"
   ]
  },
  {
   "cell_type": "code",
   "execution_count": 6,
   "metadata": {},
   "outputs": [
    {
     "name": "stdout",
     "output_type": "stream",
     "text": [
      "[['Albert', 'Einstein'], ['Terry', 'Pratchett'], ['Niels', 'Bohr'], ['Albert', 'Einstein'], ['Marie', 'Curie'], ['Isaac', 'Newton']]\n",
      "{'Niels Bohr', 'Terry Pratchett', 'Marie Curie', 'Isaac Newton', 'Albert Einstein'}\n"
     ]
    }
   ],
   "source": [
    "path_clean = \"files/quotes_clean.txt\"\n",
    "\n",
    "with open(path_clean, \"r\") as f1, open(path_clean, \"a\") as f2:\n",
    "    #print(f1.read())\n",
    "    quotes = [quote.strip(\"\\n\") for quote in f1.readlines() if quote[0].isdigit()]\n",
    "    #print(quotes)\n",
    "    authors = [quote.split()[-2:] for quote in quotes]\n",
    "    print(authors)\n",
    "    authors = set([\" \".join(author) for author in authors]) # gets unique author\n",
    "    # set([4,4,4,4,1,1,2]) --> {1,2,4}\n",
    "    print(authors)\n",
    "\n",
    "    f2.write(\"\\nAuthors: \")\n",
    "\n",
    "    for author in authors:\n",
    "        f2.write(f\"{author}, \")\n"
   ]
  },
  {
   "cell_type": "code",
   "execution_count": 73,
   "metadata": {},
   "outputs": [
    {
     "data": {
      "text/plain": [
       "{1, 2, 4, 8}"
      ]
     },
     "execution_count": 73,
     "metadata": {},
     "output_type": "execute_result"
    }
   ],
   "source": [
    "set([4, 8,4,4,4,1,1,2,8])"
   ]
  },
  {
   "cell_type": "code",
   "execution_count": null,
   "metadata": {},
   "outputs": [],
   "source": [
    "help(set)"
   ]
  }
 ],
 "metadata": {
  "interpreter": {
   "hash": "8111105f47d12ec1fb8af24cde7e4ba5898ee01916168ee13b7453f45f559afc"
  },
  "kernelspec": {
   "display_name": "Python 3.9.6 64-bit ('python-programming-Yuna-Liu-WA6ACBfR': pipenv)",
   "name": "python3"
  },
  "language_info": {
   "codemirror_mode": {
    "name": "ipython",
    "version": 3
   },
   "file_extension": ".py",
   "mimetype": "text/x-python",
   "name": "python",
   "nbconvert_exporter": "python",
   "pygments_lexer": "ipython3",
   "version": "3.9.6"
  },
  "orig_nbformat": 4
 },
 "nbformat": 4,
 "nbformat_minor": 2
}
