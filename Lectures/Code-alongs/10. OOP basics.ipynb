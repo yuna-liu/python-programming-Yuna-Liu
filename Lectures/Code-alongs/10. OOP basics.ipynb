{
 "cells": [
  {
   "cell_type": "markdown",
   "source": [
    "# OOP basics"
   ],
   "metadata": {}
  },
  {
   "cell_type": "code",
   "execution_count": 2,
   "source": [
    "class Antagning: # creates a class\r\n",
    "    def __init__(self):\r\n",
    "        pass\r\n",
    "\r\n",
    "a1 = Antagning() # instantiated an object from the class Antagning\r\n",
    "print(a1)"
   ],
   "outputs": [
    {
     "output_type": "stream",
     "name": "stdout",
     "text": [
      "<__main__.Antagning object at 0x000001C235842940>\n"
     ]
    }
   ],
   "metadata": {}
  },
  {
   "cell_type": "code",
   "execution_count": 6,
   "source": [
    "class Antagning:\r\n",
    "    # self refers to the object that is created\r\n",
    "    # for functions or methods - positional parameter first, then default parameter\r\n",
    "    def __init__(self, school, program, name, accept=False) -> None: # dunder init\r\n",
    "        # assigns arguments to the objects attributes (egenskaper/variabler)\r\n",
    "        self.school = school\r\n",
    "        self.program = program\r\n",
    "        self.name = name \r\n",
    "        self.accept = accept\r\n",
    "\r\n",
    "    def __repr__(self): # dunder __repr__  read: \"repper\"\r\n",
    "        return f\"Antagning(school='{self.school}', program='{self.program}', name='{self.name}', accept={self.accept})\"\r\n",
    "\r\n",
    "person1 = Antagning(\"Cool school\", \"AI\", \"Gore Bord\", False) # constructor\r\n",
    "person2 = Antagning(\"IT-skola\", \" UX\", name =\"Gorat Borat\")\r\n",
    "print(person1.name)\r\n",
    "print(person1.school)\r\n",
    "print(person1.__dict__) # dunder dict\r\n",
    "print(person2.accept)\r\n",
    "print(person2.name)\r\n",
    "\r\n",
    "print(person1)\r\n",
    "print(person2)"
   ],
   "outputs": [
    {
     "output_type": "stream",
     "name": "stdout",
     "text": [
      "Gore Bord\n",
      "Cool school\n",
      "{'school': 'Cool school', 'program': 'AI', 'name': 'Gore Bord', 'accept': False}\n",
      "False\n",
      "Gorat Borat\n",
      "Antagning(school='Cool school', program='AI', name='Gore Bord', accept=False)\n",
      "Antagning(school='IT-skola', program=' UX', name='Gorat Borat', accept=False)\n"
     ]
    }
   ],
   "metadata": {}
  },
  {
   "cell_type": "markdown",
   "source": [
    "## Exempel old coins in Sweden\r\n",
    "\r\n",
    "- don't remember the reference\r\n",
    "- riksdaler och skilling"
   ],
   "metadata": {}
  },
  {
   "cell_type": "code",
   "execution_count": 8,
   "source": [
    "class OldCoinStash:\r\n",
    "    def __init__(self, owner) -> None:\r\n",
    "        # these attributes are public\r\n",
    "        self.owner = owner\r\n",
    "        self.riksdaler = 0\r\n",
    "        self.skilling = 0\r\n",
    "\r\n",
    "stash1 = OldCoinStash(\"Gore Bord\")\r\n",
    "print(stash1.riksdaler)\r\n",
    "stash1.riksdaler = 1000\r\n",
    "print(stash1.riksdaler)"
   ],
   "outputs": [
    {
     "output_type": "stream",
     "name": "stdout",
     "text": [
      "0\n",
      "1000\n"
     ]
    }
   ],
   "metadata": {}
  },
  {
   "cell_type": "markdown",
   "source": [
    "## Encapsulation\r\n",
    "\r\n",
    "- in OOP, you want to encapsulate some information and only show relevant information outwards"
   ],
   "metadata": {}
  },
  {
   "cell_type": "code",
   "execution_count": 23,
   "source": [
    "class OldCoinStash:\r\n",
    "    def __init__(self, owner: str) -> None:\r\n",
    "        # these attributes are public\r\n",
    "        self.owner = owner\r\n",
    "\r\n",
    "        # private - by convention use underscore prefix\r\n",
    "        self._riksdaler = 0\r\n",
    "        self._skilling = 0\r\n",
    "\r\n",
    "    def deposit(self, riksdaler: float = 0, skilling: float = 0) -> None:\r\n",
    "        if riksdaler < 0 or skilling < 0:\r\n",
    "            raise ValueError(f\"Stop depositing negative values. {riksdaler} riksdaler or {skilling} skillingar not okay\")\r\n",
    "        \r\n",
    "        self._riksdaler += riksdaler\r\n",
    "        self._skilling += skilling\r\n",
    "\r\n",
    "    def withdraw(self, riksdaler: float = 0, skilling: float = 0) -> None:\r\n",
    "        if riksdaler > self._riksdaler or skilling > self._skilling:\r\n",
    "            raise ValueError(\"You can't withdraw more coins than you have\")\r\n",
    "        self._riksdaler -= riksdaler\r\n",
    "        self._skilling -= skilling\r\n",
    "\r\n",
    "    def check_balance(self) -> str:\r\n",
    "        return f\"Coins in stash: {self._riksdaler} riksdaler and {self._skilling} skillingar\"\r\n",
    "\r\n",
    "    def __repr__(self) -> str:\r\n",
    "        return f\"OldCoinStash(owner='{self.owner}')\"\r\n",
    "\r\n",
    "stash1 = OldCoinStash(\"Gore Bod\")\r\n",
    "\r\n",
    "print(stash1) # testing __repr__\r\n",
    "print(stash1.check_balance()) # testing check_balance()\r\n",
    "stash1.deposit(riksdaler = 500, skilling = 3000) # testing deposit()\r\n",
    "print(stash1.check_balance())\r\n",
    "\r\n",
    "try:\r\n",
    "    stash1.deposit(-20,35)\r\n",
    "except ValueError as err:\r\n",
    "    print(err)\r\n",
    "\r\n",
    "print(stash1.withdraw(100, 100)) # testing withdraw()\r\n",
    "print(stash1.check_balance())\r\n",
    "\r\n",
    "try:\r\n",
    "    stash1.withdraw(2000000) # trying to rob the stash\r\n",
    "except ValueError as err:\r\n",
    "    print(err)\r\n",
    "\r\n",
    "print(stash1.check_balance())\r\n",
    "\r\n",
    "# försök att råna den här stashen :)\r\n",
    "\r\n",
    "# works, but don't do this -> can access private attributes, but SHOULD NOT\r\n",
    "stash1._riksdaler = 100000000\r\n",
    "print(stash1.check_balance())"
   ],
   "outputs": [
    {
     "output_type": "stream",
     "name": "stdout",
     "text": [
      "OldCoinStash(owner='Gore Bod')\n",
      "Coins in stash: 0 riksdaler and 0 skillingar\n",
      "Coins in stash: 500 riksdaler and 3000 skillingar\n",
      "Stop depositing negative values. -20 riksdaler or 35 skillingar not okay\n",
      "None\n",
      "Coins in stash: 400 riksdaler and 2900 skillingar\n",
      "You can't withdraw more coins than you have\n",
      "Coins in stash: 400 riksdaler and 2900 skillingar\n",
      "Coins in stash: 100000000 riksdaler and 2900 skillingar\n"
     ]
    }
   ],
   "metadata": {}
  },
  {
   "cell_type": "markdown",
   "source": [
    "## Properties"
   ],
   "metadata": {}
  },
  {
   "cell_type": "code",
   "execution_count": 40,
   "source": [
    "class Student: # StudentRepresentative\r\n",
    "    def __init__(self, name: str, age: float) -> None:\r\n",
    "        self.name = name\r\n",
    "        self.age = age  # note no underscore\r\n",
    "\r\n",
    "    @property\r\n",
    "    def age(self) -> float:\r\n",
    "        print(\"age getter is running ...\")\r\n",
    "        return self._age\r\n",
    "    \r\n",
    "    @age.setter\r\n",
    "    def age(self, value: float) -> None:\r\n",
    "        print(\"age-setter is running ... \")\r\n",
    "        if not isinstance(value, (int, float)):\r\n",
    "            raise TypeError(f\"Age must be an int or a float not {type(value)}\")\r\n",
    "        \r\n",
    "        if not (0 <= value < 125):\r\n",
    "            raise ValueError(\"Your age must be between 0 and 124\")\r\n",
    "\r\n",
    "        self._age = value\r\n",
    "\r\n",
    "student1 = Student(\"Gore Bord\", 25)\r\n",
    "print(student1.age)\r\n",
    "print(student1.name)\r\n",
    "print(student1._age)\r\n",
    "\r\n",
    "try:\r\n",
    "    student1.age = \"25\"\r\n",
    "except TypeError as err:\r\n",
    "    print(err)\r\n",
    "\r\n",
    "tuple(method for method in dir(student1) if method[:2] != \"__\")"
   ],
   "outputs": [
    {
     "output_type": "stream",
     "name": "stdout",
     "text": [
      "age-setter is running ... \n",
      "age getter is running ...\n",
      "25\n",
      "Gore Bord\n",
      "25\n",
      "age-setter is running ... \n",
      "Age must be an int or a float not <class 'str'>\n"
     ]
    },
    {
     "output_type": "execute_result",
     "data": {
      "text/plain": [
       "('_age', 'age', 'name')"
      ]
     },
     "metadata": {},
     "execution_count": 40
    }
   ],
   "metadata": {}
  },
  {
   "cell_type": "code",
   "execution_count": 23,
   "source": [
    "class Person:\r\n",
    "    def __init__(self, name, age, height) -> None:\r\n",
    "        self.name = name \r\n",
    "        self.age = age\r\n",
    "        self.height = height\r\n",
    "\r\n",
    "    @property\r\n",
    "    def age(self):\r\n",
    "        return self._age\r\n",
    "\r\n",
    "    @age.setter\r\n",
    "    def age(self, value):\r\n",
    "        self._age = Person.validate_number(value) \r\n",
    "\r\n",
    "    @property\r\n",
    "    def height(self):\r\n",
    "        return self._height\r\n",
    "\r\n",
    "    @height.setter\r\n",
    "    def height(self, value):\r\n",
    "        self._height = Person.validate_number(value)\r\n",
    "\r\n",
    "    @staticmethod\r\n",
    "    def validate_number(value):\r\n",
    "        if not isinstance(value, (int, float)):\r\n",
    "            raise TypeError(f\"Ange en int eller float inte {type(value)}\")\r\n",
    "        return value\r\n",
    "\r\n",
    "try:\r\n",
    "    p1 = Person(\"Gore\", \"55\", 155)\r\n",
    "except TypeError as err:\r\n",
    "    print(err)\r\n",
    "\r\n",
    "p2 = Person(\"gor\", 34, 157)\r\n",
    "print(p2.age)"
   ],
   "outputs": [
    {
     "output_type": "stream",
     "name": "stdout",
     "text": [
      "Ange en int eller float inte <class 'str'>\n",
      "34\n"
     ]
    }
   ],
   "metadata": {}
  }
 ],
 "metadata": {
  "orig_nbformat": 4,
  "language_info": {
   "name": "python",
   "version": "3.9.6",
   "mimetype": "text/x-python",
   "codemirror_mode": {
    "name": "ipython",
    "version": 3
   },
   "pygments_lexer": "ipython3",
   "nbconvert_exporter": "python",
   "file_extension": ".py"
  },
  "kernelspec": {
   "name": "python3",
   "display_name": "Python 3.9.6 64-bit ('Programmering-med-Python-OZ4PsT_E': pipenv)"
  },
  "interpreter": {
   "hash": "4d790a4ba7424cef7dc64ec6f6de1f04bad761d237b8926ff99fd2151ec1d86b"
  }
 },
 "nbformat": 4,
 "nbformat_minor": 2
}