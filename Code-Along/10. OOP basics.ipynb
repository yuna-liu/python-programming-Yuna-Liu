{
 "cells": [
  {
   "cell_type": "markdown",
   "source": [
    "# OOPs basics"
   ],
   "metadata": {}
  },
  {
   "cell_type": "markdown",
   "source": [
    "<img src=\"../assets/OOP.png\">"
   ],
   "metadata": {}
  },
  {
   "cell_type": "code",
   "execution_count": null,
   "source": [
    "class Antagning: # creates a class, like a sheet file in excel\r\n",
    "    def __init__(self):\r\n",
    "        pass\r\n",
    "\r\n",
    "\r\n",
    "a1 = Antagning()  # instantiated an object from the class Antagning, like the first column in different observations/rows in excel\r\n",
    "print(a1)"
   ],
   "outputs": [],
   "metadata": {}
  },
  {
   "cell_type": "code",
   "execution_count": 1,
   "source": [
    "class Antagning:\r\n",
    "    # self refers to the object that is created \r\n",
    "    # for functions or methods - positional parameters first, then default parameter\r\n",
    "    def __init__(self, school1111, program2222, name3333, accept4444) -> None: # dunder init\r\n",
    "        # assign the arguments to object attributes(egenskaper/variabler)\r\n",
    "        self.school = school1111   # self refers to which observation, then school refers to label in stata\r\n",
    "        self.program = program2222 # school1111 refers to the value for the observation for that variable.\r\n",
    "        self.name = name3333\r\n",
    "        self.accept = accept4444\r\n",
    "\r\n",
    "    def __repr__(self): # dunder __repr__ read: \"repper\"\r\n",
    "        return f\"Antagning(school='{self.school}',program='{self.program}', name='{self.name}', accept={self.accept})\"\r\n",
    "    #return f\"Antagning('{self.school}','{self.program}', '{self.name}', {self.accept})\"\r\n",
    "\r\n",
    "# note that the object is sent to the self parameter, so you only pass in 4 arguments and not 5\r\n",
    "person1 = Antagning(\"Cool school\", \"AI\", accept4444=True, name3333=\"Kokchun\") # constructor\r\n",
    "person2 = Antagning(\"Cooler school\", \"Data science\", accept4444=False, name3333 = \"Gore Bord\") \r\n",
    "\r\n",
    "\r\n",
    "print(person1.__dict__) # dunder dict\r\n",
    "\r\n",
    "print(person1.name)\r\n",
    "print(person1.school)\r\n",
    "print(person2.name)\r\n",
    "print(person2.accept)\r\n",
    "\r\n",
    "print(person2)  # dunder repr\r\n",
    "print(person1)"
   ],
   "outputs": [
    {
     "output_type": "stream",
     "name": "stdout",
     "text": [
      "{'school': 'Cool school', 'program': 'AI', 'name': 'Kokchun', 'accept': True}\n",
      "Kokchun\n",
      "Cool school\n",
      "Gore Bord\n",
      "False\n",
      "Antagning(school='Cooler school',program='Data science', name='Gore Bord', accept=False)\n",
      "Antagning(school='Cool school',program='AI', name='Kokchun', accept=True)\n"
     ]
    },
    {
     "output_type": "execute_result",
     "data": {
      "text/plain": [
       "Antagning(school='Cool school',program='AI', name='Kokchun', accept=True)"
      ]
     },
     "metadata": {},
     "execution_count": 1
    }
   ],
   "metadata": {}
  },
  {
   "cell_type": "markdown",
   "source": [
    "## Exempel old coins in Sweden\r\n",
    "- don't remember the reference"
   ],
   "metadata": {}
  },
  {
   "cell_type": "code",
   "execution_count": 3,
   "source": [
    "class OldCoinsStash:\r\n",
    "    def __init__(self, owner):\r\n",
    "        self.owner = owner\r\n",
    "\r\n",
    "        # these attributes are \"private\" - only allow to access them in the class\r\n",
    "        self._riksdaler = 0\r\n",
    "        self._skilling = 0\r\n",
    "\r\n",
    "stash1 = OldCoinsStash(\"Gore Bord\")\r\n",
    "\r\n",
    "try:\r\n",
    "    print(stash1.riksdaler)\r\n",
    "except AttributeError as err:\r\n",
    "    print(err)\r\n"
   ],
   "outputs": [
    {
     "output_type": "stream",
     "name": "stdout",
     "text": [
      "'OldCoinsStash' object has no attribute 'riksdaler'\n"
     ]
    }
   ],
   "metadata": {}
  },
  {
   "cell_type": "code",
   "execution_count": 12,
   "source": [
    "class OldCoinsStash:\r\n",
    "    def __init__(self, owner):\r\n",
    "        self.owner = owner\r\n",
    "\r\n",
    "        # these attributes are \"private\" - only allow to access them in the class\r\n",
    "        self._riksdaler = 0\r\n",
    "        self._skilling = 0\r\n",
    "\r\n",
    "stash1 = OldCoinsStash(\"Gore Bord\")\r\n",
    "print(stash1._riksdaler)\r\n",
    "stash1._riksdaler = 1000\r\n",
    "print(stash1._riksdaler)\r\n",
    "### one can change the riksdaler, but one should not do that!!! Convention!\r\n",
    "### If you want to change the riksdaler, do with def deposit..."
   ],
   "outputs": [
    {
     "output_type": "stream",
     "name": "stdout",
     "text": [
      "0\n",
      "1000\n"
     ]
    }
   ],
   "metadata": {}
  },
  {
   "cell_type": "markdown",
   "source": [
    "## Encapsulation\r\n",
    "- in OOP, you want to encapsulate some information and only show relevant information outwards"
   ],
   "metadata": {}
  },
  {
   "cell_type": "code",
   "execution_count": 17,
   "source": [
    "class OldCoinsStash:\r\n",
    "    def __init__(self, owner: str) -> None:\r\n",
    "        self.owner = owner\r\n",
    "\r\n",
    "        # these attributes are \"private\" - only allow to access them in the class\r\n",
    "        # private - by convention use underscore prefix\r\n",
    "        self._riksdaler = 0\r\n",
    "        self._skilling = 0\r\n",
    "\r\n",
    "    def deposit(self, riksdaler: float, skilling: float) -> None:\r\n",
    "        if riksdaler <= 0 or skilling <= 0:\r\n",
    "            raise ValueError(\r\n",
    "                f\"You try to deposit {riksdaler} riksdaler and {skilling} skilling. They have to be positive\")\r\n",
    "\r\n",
    "        self._riksdaler += riksdaler\r\n",
    "        self._skilling += skilling\r\n",
    "\r\n",
    "    def withdraw(self, riksdaler: float or int, skilling: float or int)-> None:\r\n",
    "        if riksdaler > self._riksdaler or skilling > self._skilling:\r\n",
    "            raise ValueError(\r\n",
    "                f\"You can't withdraw more than you have in your stash\")\r\n",
    "\r\n",
    "        self._riksdaler -= riksdaler\r\n",
    "        self._skilling -= skilling\r\n",
    "\r\n",
    "    def check_balance(self)  -> str:\r\n",
    "        return f\"Coins in stash: {self._riksdaler} riksdaler, {self._skilling} skilling\"\r\n",
    "\r\n",
    "    def __repr__(self) -> str:\r\n",
    "        return f\"OldCoinStash(owner='{self.owner}')\"\r\n",
    "\r\n",
    "stash1 = OldCoinsStash(\"Gore Bord\")\r\n",
    "print(stash1) # testing _repr_\r\n",
    "print(stash1.check_balance()) # resting checkc_balance()\r\n",
    "\r\n",
    "try:\r\n",
    "    stash1.deposit(-5, 31)  # check if I can rob the stash\r\n",
    "except ValueError as err:\r\n",
    "    print(err)\r\n",
    "\r\n",
    "print(stash1.check_balance())  ## .check_balance() is a action to change variable values\r\n",
    "stash1.deposit(50, 42)    ## .deposit() is a action to change variable values\r\n",
    "print(stash1.check_balance())\r\n",
    "\r\n",
    "try:\r\n",
    "    stash1.withdraw(500, 31)  # check if I can rob the stash again\r\n",
    "except ValueError as err:\r\n",
    "    print(err)\r\n",
    "\r\n",
    "print(stash1.check_balance())\r\n",
    "stash1.withdraw(25, 20)\r\n",
    "print(stash1.check_balance())\r\n",
    "\r\n",
    "# there are ways to rob the stash -> try and see if you can find them :)\r\n",
    "# then try to fix this bug (or feature ;) ?)\r\n",
    "\r\n",
    "\r\n",
    "try:\r\n",
    "    stash1.withdraw(25, 40)  # check if I can rob the stash again\r\n",
    "except ValueError as err:\r\n",
    "    print(err)\r\n",
    "\r\n",
    "# check if I can rob the stash again\r\n",
    "\r\n",
    "# works, but don't do this  -> can access private attributes, but SHOULD NOT\r\n",
    "stash1._riksdaler = 10000000\r\n",
    "print(stash1.check_balance())\r\n"
   ],
   "outputs": [
    {
     "output_type": "stream",
     "name": "stdout",
     "text": [
      "OldCoinStash(owner='Gore Bord')\n",
      "Coins in stash: 0 riksdaler, 0 skilling\n",
      "You try to deposit -5 riksdaler and 31 skilling. They have to be positive\n",
      "Coins in stash: 0 riksdaler, 0 skilling\n",
      "Coins in stash: 50 riksdaler, 42 skilling\n",
      "You can't withdraw more than you have in your stash\n",
      "Coins in stash: 50 riksdaler, 42 skilling\n",
      "Coins in stash: 25 riksdaler, 22 skilling\n",
      "You can't withdraw more than you have in your stash\n"
     ]
    }
   ],
   "metadata": {}
  },
  {
   "cell_type": "markdown",
   "source": [
    "## Properties"
   ],
   "metadata": {}
  },
  {
   "cell_type": "code",
   "execution_count": 24,
   "source": [
    "# In this case, note underscore is used in __init__\r\n",
    "# self._age=age\r\n",
    "\r\n",
    "class Student: # StudentRepresentative\r\n",
    "    def __init__(self, name: str, age: float) -> None:\r\n",
    "        self.name = name\r\n",
    "        self._age = age  # note underscore\r\n",
    "\r\n",
    "    @property\r\n",
    "    def age(self) -> float:\r\n",
    "        print(\"age getter is running ...\")\r\n",
    "        return self._age\r\n",
    "    \r\n",
    "    @age.setter\r\n",
    "    def age(self, value: float) -> None:\r\n",
    "        print(\"age-setter is running ... \")\r\n",
    "        if not isinstance(value, (int, float)):\r\n",
    "            raise TypeError(f\"Age must be an int or a float not {type(value)}\")\r\n",
    "        \r\n",
    "        if not (0 <= value < 125):\r\n",
    "            raise ValueError(\"Your age must be between 0 and 124\")\r\n",
    "\r\n",
    "        self._age = value\r\n",
    "\r\n",
    "student1 = Student(\"Gore Bord\", 25) # __initl__ is running -> student1._age = 25\r\n",
    "\r\n",
    "\r\n",
    "print(student1.age) # @property is called -> age getter is running -> return student1._age -> return 25\r\n",
    "\r\n",
    "student1.age=28 # age-setter is running -> student1._age =28\r\n",
    "\r\n",
    "print(student1._age) # 28\r\n",
    "\r\n",
    "print(student1.age) # @property is called -> age getter is running -> return student1._age -> return 28\r\n",
    "\r\n",
    "try:\r\n",
    "    student1.age = \"25\" # age-setter is running -> err\r\n",
    "except TypeError as err:\r\n",
    "    print(err)\r\n",
    "\r\n",
    "tuple(method for method in dir(student1) if method[:2] != \"__\")"
   ],
   "outputs": [
    {
     "output_type": "stream",
     "name": "stdout",
     "text": [
      "age getter is running ...\n",
      "25\n",
      "age-setter is running ... \n",
      "28\n",
      "age getter is running ...\n",
      "28\n",
      "age-setter is running ... \n",
      "Age must be an int or a float not <class 'str'>\n"
     ]
    },
    {
     "output_type": "execute_result",
     "data": {
      "text/plain": [
       "('_age', 'age', 'name')"
      ]
     },
     "metadata": {},
     "execution_count": 24
    }
   ],
   "metadata": {}
  },
  {
   "cell_type": "code",
   "execution_count": 25,
   "source": [
    "# In this case, self.age = age, note no underscore\r\n",
    "# I actually want to verify the age is float and in a range (0,125)\r\n",
    "# So, I need property and setter\r\n",
    "\r\n",
    "class Student: # StudentRepresentative\r\n",
    "    def __init__(self, name: str, age: float) -> None:\r\n",
    "        self.name = name\r\n",
    "        self.age = age  # note no underscore\r\n",
    "\r\n",
    "    @property\r\n",
    "    def age(self) -> float:\r\n",
    "        print(\"age getter is running ...\")\r\n",
    "        return self._age\r\n",
    "    \r\n",
    "    @age.setter\r\n",
    "    def age(self, value: float) -> None:\r\n",
    "        print(\"age-setter is running ... \")\r\n",
    "        if not isinstance(value, (int, float)):\r\n",
    "            raise TypeError(f\"Age must be an int or a float not {type(value)}\")\r\n",
    "        \r\n",
    "        if not (0 <= value < 125):\r\n",
    "            raise ValueError(\"Your age must be between 0 and 124\")\r\n",
    "\r\n",
    "        self._age = value\r\n",
    "\r\n",
    "student1 = Student(\"Gore Bord\", 25) # __init__ is running -> student1.age = 25 -> age-setter is runing... -> student1._age = 25\r\n",
    "\r\n",
    "print(student1.age) # @property is running -> age getter is running -> student1.age is called -> return student1._age -> 25\r\n",
    "\r\n",
    "student1.age=28 # age-setter is running -> student1._age =28\r\n",
    "\r\n",
    "print(student1._age) # student1._age =28\r\n",
    "print(student1.age) # @property is running -> age getter is running -> student1.age is called -> return student1._age -> 28\r\n",
    "\r\n",
    "try:\r\n",
    "    student1.age = \"25\" # age-setter is running -> err\r\n",
    "except TypeError as err:\r\n",
    "    print(err)\r\n",
    "\r\n",
    "tuple(method for method in dir(student1) if method[:2] != \"__\")"
   ],
   "outputs": [
    {
     "output_type": "stream",
     "name": "stdout",
     "text": [
      "age-setter is running ... \n",
      "age getter is running ...\n",
      "25\n",
      "age-setter is running ... \n",
      "28\n",
      "age getter is running ...\n",
      "28\n",
      "age-setter is running ... \n",
      "Age must be an int or a float not <class 'str'>\n"
     ]
    },
    {
     "output_type": "execute_result",
     "data": {
      "text/plain": [
       "('_age', 'age', 'name')"
      ]
     },
     "metadata": {},
     "execution_count": 25
    }
   ],
   "metadata": {}
  },
  {
   "cell_type": "code",
   "execution_count": 30,
   "source": [
    "class Student:\r\n",
    "    \"\"\"Student class for representing students with name, age and active \"\"\"\r\n",
    "    \r\n",
    "    # note the type hinting\r\n",
    "    def __init__(self, name: str, age: int, active: bool) -> None: \r\n",
    "        self._name = name\r\n",
    "        self.age = age\r\n",
    "        self.active = active\r\n",
    "\r\n",
    "    # read only property - only has a getter, no setter as we don't want to change the name\r\n",
    "    @property\r\n",
    "    def name(self) -> str:\r\n",
    "        \"\"\" Read-only property, can't set the name\"\"\"\r\n",
    "        return self._name # note underscore\r\n",
    "\r\n",
    "\r\n",
    "    def __repr__(self) -> str:\r\n",
    "        return f\"Student(name={self.name}, age={self.age}, active={self.active})\"\r\n",
    "\r\n",
    "\r\n",
    "s1 = Student(\"Gore Bord\", 55, True) # __init__ is called -> s1._name = \"Gore Bord\"\r\n",
    "print(s1.name) #@property is called -> name getter is running -> return s1._name -> print \"Gore Bord\"\r\n"
   ],
   "outputs": [
    {
     "output_type": "stream",
     "name": "stdout",
     "text": [
      "Gore Bord\n"
     ]
    }
   ],
   "metadata": {}
  },
  {
   "cell_type": "code",
   "execution_count": 35,
   "source": [
    "class Student:\r\n",
    "    \"\"\"Student class for representing students with name, age and active \"\"\"\r\n",
    "    \r\n",
    "    # note the type hinting\r\n",
    "    def __init__(self, name: str, age: int, active: bool) -> None: \r\n",
    "        self.name = name  # note no underscore\r\n",
    "        self.age = age\r\n",
    "        self.active = active\r\n",
    "\r\n",
    "    # read only property - only has a getter, no setter as we don't want to change the name\r\n",
    "    @property\r\n",
    "    def name(self) -> str:\r\n",
    "        \"\"\" Read-only property, can't set the name\"\"\"\r\n",
    "        return self._name # note underscore\r\n",
    "\r\n",
    "\r\n",
    "    def __repr__(self) -> str:\r\n",
    "        return f\"Student(name={self.name}, age={self.age}, active={self.active})\"\r\n",
    "\r\n",
    "\r\n",
    "s1 = Student(\"Gore Bord\", 55, True) # __init__ is called -> s1.name = \"Gore Bord\" -> note setter is missing...\r\n",
    "\r\n",
    "try:\r\n",
    "    print(s1.name) #@property is called -> name getter is running -> return s1._name \r\n",
    "# -> cannot print \"Gore Bord\" because we lacks s1._name...\r\n",
    "\r\n",
    "except AttributeError as err1:\r\n",
    "    print(err1)\r\n"
   ],
   "outputs": [
    {
     "output_type": "error",
     "ename": "AttributeError",
     "evalue": "can't set attribute",
     "traceback": [
      "\u001b[1;31m---------------------------------------------------------------------------\u001b[0m",
      "\u001b[1;31mAttributeError\u001b[0m                            Traceback (most recent call last)",
      "\u001b[1;32mC:\\Users\\YUNALI~1\\AppData\\Local\\Temp/ipykernel_9612/688068846.py\u001b[0m in \u001b[0;36m<module>\u001b[1;34m\u001b[0m\n\u001b[0;32m     19\u001b[0m \u001b[1;33m\u001b[0m\u001b[0m\n\u001b[0;32m     20\u001b[0m \u001b[1;33m\u001b[0m\u001b[0m\n\u001b[1;32m---> 21\u001b[1;33m \u001b[0ms1\u001b[0m \u001b[1;33m=\u001b[0m \u001b[0mStudent\u001b[0m\u001b[1;33m(\u001b[0m\u001b[1;34m\"Gore Bord\"\u001b[0m\u001b[1;33m,\u001b[0m \u001b[1;36m55\u001b[0m\u001b[1;33m,\u001b[0m \u001b[1;32mTrue\u001b[0m\u001b[1;33m)\u001b[0m \u001b[1;31m# __init__ is called -> s1.name = \"Gore Bord\" -> note setter is missing...\u001b[0m\u001b[1;33m\u001b[0m\u001b[1;33m\u001b[0m\u001b[0m\n\u001b[0m\u001b[0;32m     22\u001b[0m \u001b[1;33m\u001b[0m\u001b[0m\n\u001b[0;32m     23\u001b[0m \u001b[1;32mtry\u001b[0m\u001b[1;33m:\u001b[0m\u001b[1;33m\u001b[0m\u001b[1;33m\u001b[0m\u001b[0m\n",
      "\u001b[1;32mC:\\Users\\YUNALI~1\\AppData\\Local\\Temp/ipykernel_9612/688068846.py\u001b[0m in \u001b[0;36m__init__\u001b[1;34m(self, name, age, active)\u001b[0m\n\u001b[0;32m      4\u001b[0m     \u001b[1;31m# note the type hinting\u001b[0m\u001b[1;33m\u001b[0m\u001b[1;33m\u001b[0m\u001b[1;33m\u001b[0m\u001b[0m\n\u001b[0;32m      5\u001b[0m     \u001b[1;32mdef\u001b[0m \u001b[0m__init__\u001b[0m\u001b[1;33m(\u001b[0m\u001b[0mself\u001b[0m\u001b[1;33m,\u001b[0m \u001b[0mname\u001b[0m\u001b[1;33m:\u001b[0m \u001b[0mstr\u001b[0m\u001b[1;33m,\u001b[0m \u001b[0mage\u001b[0m\u001b[1;33m:\u001b[0m \u001b[0mint\u001b[0m\u001b[1;33m,\u001b[0m \u001b[0mactive\u001b[0m\u001b[1;33m:\u001b[0m \u001b[0mbool\u001b[0m\u001b[1;33m)\u001b[0m \u001b[1;33m->\u001b[0m \u001b[1;32mNone\u001b[0m\u001b[1;33m:\u001b[0m\u001b[1;33m\u001b[0m\u001b[1;33m\u001b[0m\u001b[0m\n\u001b[1;32m----> 6\u001b[1;33m         \u001b[0mself\u001b[0m\u001b[1;33m.\u001b[0m\u001b[0mname\u001b[0m \u001b[1;33m=\u001b[0m \u001b[0mname\u001b[0m  \u001b[1;31m# note no underscore\u001b[0m\u001b[1;33m\u001b[0m\u001b[1;33m\u001b[0m\u001b[0m\n\u001b[0m\u001b[0;32m      7\u001b[0m         \u001b[0mself\u001b[0m\u001b[1;33m.\u001b[0m\u001b[0mage\u001b[0m \u001b[1;33m=\u001b[0m \u001b[0mage\u001b[0m\u001b[1;33m\u001b[0m\u001b[1;33m\u001b[0m\u001b[0m\n\u001b[0;32m      8\u001b[0m         \u001b[0mself\u001b[0m\u001b[1;33m.\u001b[0m\u001b[0mactive\u001b[0m \u001b[1;33m=\u001b[0m \u001b[0mactive\u001b[0m\u001b[1;33m\u001b[0m\u001b[1;33m\u001b[0m\u001b[0m\n",
      "\u001b[1;31mAttributeError\u001b[0m: can't set attribute"
     ]
    }
   ],
   "metadata": {}
  },
  {
   "cell_type": "code",
   "execution_count": 14,
   "source": [
    "class Person:\r\n",
    "    def __init__(self, name, age, height) -> None:\r\n",
    "        self.name = name \r\n",
    "        self.age = age\r\n",
    "        self.height = height\r\n",
    "\r\n",
    "    @property\r\n",
    "    def age(self):\r\n",
    "        return self._age\r\n",
    "\r\n",
    "    @age.setter\r\n",
    "    def age(self, value):\r\n",
    "        self._age = Person.validate_number(value) \r\n",
    "\r\n",
    "    @property\r\n",
    "    def height(self):\r\n",
    "        return self._height\r\n",
    "\r\n",
    "    @height.setter\r\n",
    "    def height(self, value):\r\n",
    "        self._height = Person.validate_number(value)\r\n",
    "\r\n",
    "    @staticmethod\r\n",
    "    def validate_number(value):\r\n",
    "        if not isinstance(value, (int, float)):\r\n",
    "            raise TypeError(f\"Ange en int eller float inte {type(value)}\")\r\n",
    "        return value\r\n",
    "\r\n",
    "try:\r\n",
    "    p1 = Person(\"Gore\", \"55\", 155)\r\n",
    "except TypeError as err:\r\n",
    "    print(err)\r\n",
    "\r\n",
    "p2 = Person(\"gor\", 34, 157)\r\n",
    "print(p2._age)\r\n",
    "print(p2.age)"
   ],
   "outputs": [
    {
     "output_type": "stream",
     "name": "stdout",
     "text": [
      "Ange en int eller float inte <class 'str'>\n",
      "34\n",
      "34\n"
     ]
    }
   ],
   "metadata": {}
  }
 ],
 "metadata": {
  "orig_nbformat": 4,
  "language_info": {
   "name": "python",
   "version": "3.9.6",
   "mimetype": "text/x-python",
   "codemirror_mode": {
    "name": "ipython",
    "version": 3
   },
   "pygments_lexer": "ipython3",
   "nbconvert_exporter": "python",
   "file_extension": ".py"
  },
  "kernelspec": {
   "name": "python3",
   "display_name": "Python 3.9.6 64-bit ('python-programming-Yuna-Liu-WA6ACBfR': pipenv)"
  },
  "interpreter": {
   "hash": "8111105f47d12ec1fb8af24cde7e4ba5898ee01916168ee13b7453f45f559afc"
  }
 },
 "nbformat": 4,
 "nbformat_minor": 2
}