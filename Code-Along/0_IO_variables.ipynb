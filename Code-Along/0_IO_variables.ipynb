{
 "cells": [
  {
   "cell_type": "markdown",
   "source": [
    "# Input/output and variables"
   ],
   "metadata": {}
  },
  {
   "cell_type": "code",
   "execution_count": 11,
   "source": [
    "# det här är en kommentar som ignoreras vid körning\n",
    "name = \"Kokchun\" # skapar en variabel som heter name och innehåller värdet \"Kokchun\" \n",
    "print(\"Hello\")\n",
    "\n",
    "age = 30 # skapat en variabel vid namn age och tilldelat det värdet 30\n",
    "\n",
    "print('hej', name, \"!\") # ett sätt att blanda strängar och variabler i en print\n",
    "print(f\"Hej {name}, du är {age} år gammal\") # f-string (formatted string), {} kallas för måsvingar/krullparanteser\n",
    "\n",
    "name = \"Anna\" # tilldelat nytt värde till variabeln name\n",
    "print(f\"Hej {name}\")\n",
    "\n",
    "name = 35 # att byta datatyp fungerar också. Variabelnamnet bör vara beskrivande\n",
    "print(f\"Hej {name}\")\n",
    "\n",
    "age = 30.4 # datatypen är en float\n",
    "print(f\"Mer specifikt är jag {age} år gammal\")"
   ],
   "outputs": [
    {
     "output_type": "stream",
     "name": "stdout",
     "text": [
      "Hello\n",
      "hej Kokchun !\n",
      "Hej Kokchun, du är 30 år gammal\n",
      "Hej Anna\n",
      "Hej 35\n",
      "Mer specifikt är jag 30.4 år gammal\n"
     ]
    }
   ],
   "metadata": {}
  },
  {
   "cell_type": "markdown",
   "source": [
    "## Input från användare"
   ],
   "metadata": {}
  },
  {
   "cell_type": "code",
   "execution_count": 13,
   "source": [
    "name = input(\"Vad heter du? \") # name kommer ha en sträng, Hanna\n",
    "age = input(\"Hur gammal är du? \") # 16\n",
    "\n",
    "print(f\"Du heter {name}, du är {age} år gammal\")"
   ],
   "outputs": [
    {
     "output_type": "stream",
     "name": "stdout",
     "text": [
      "Du heter Hanna, du är 16 år gammal\n"
     ]
    }
   ],
   "metadata": {}
  },
  {
   "cell_type": "code",
   "execution_count": 14,
   "source": [
    "# F = m*g\n",
    "gravity = 9.82 \n",
    "mass = input(\"Hur mycket väger du? \")\n",
    "\n",
    "force = mass*gravity # fungerar inte pga mass är en str medans gravity är en float\n",
    "\n",
    "print(f\"Din tyngd är {force}N\")"
   ],
   "outputs": [
    {
     "output_type": "error",
     "ename": "TypeError",
     "evalue": "can't multiply sequence by non-int of type 'float'",
     "traceback": [
      "\u001b[0;31m---------------------------------------------------------------------------\u001b[0m",
      "\u001b[0;31mTypeError\u001b[0m                                 Traceback (most recent call last)",
      "\u001b[0;32m<ipython-input-14-40c2a51dee33>\u001b[0m in \u001b[0;36m<module>\u001b[0;34m\u001b[0m\n\u001b[1;32m      3\u001b[0m \u001b[0mmass\u001b[0m \u001b[0;34m=\u001b[0m \u001b[0minput\u001b[0m\u001b[0;34m(\u001b[0m\u001b[0;34m\"Hur mycket väger du? \"\u001b[0m\u001b[0;34m)\u001b[0m\u001b[0;34m\u001b[0m\u001b[0;34m\u001b[0m\u001b[0m\n\u001b[1;32m      4\u001b[0m \u001b[0;34m\u001b[0m\u001b[0m\n\u001b[0;32m----> 5\u001b[0;31m \u001b[0mforce\u001b[0m \u001b[0;34m=\u001b[0m \u001b[0mmass\u001b[0m\u001b[0;34m*\u001b[0m\u001b[0mgravity\u001b[0m\u001b[0;34m\u001b[0m\u001b[0;34m\u001b[0m\u001b[0m\n\u001b[0m\u001b[1;32m      6\u001b[0m \u001b[0;34m\u001b[0m\u001b[0m\n\u001b[1;32m      7\u001b[0m \u001b[0mprint\u001b[0m\u001b[0;34m(\u001b[0m\u001b[0;34mf\"Din tyngd är {force}N\"\u001b[0m\u001b[0;34m)\u001b[0m\u001b[0;34m\u001b[0m\u001b[0;34m\u001b[0m\u001b[0m\n",
      "\u001b[0;31mTypeError\u001b[0m: can't multiply sequence by non-int of type 'float'"
     ]
    }
   ],
   "metadata": {}
  },
  {
   "cell_type": "code",
   "execution_count": 17,
   "source": [
    "gravity = 9.82\n",
    "mass = float(input(\"Hur mycket väger du? \")) #har typomvandlat från str -> float\n",
    "\n",
    "force = mass*gravity # float * float\n",
    "\n",
    "print(f\"Din tyngd är {force}N\")\n",
    "print(f\"Din tyngd är {force:.1f}N\")"
   ],
   "outputs": [
    {
     "output_type": "stream",
     "name": "stdout",
     "text": [
      "Din tyngd är 641.246N\n",
      "Din tyngd är 641.2N\n"
     ]
    }
   ],
   "metadata": {}
  },
  {
   "cell_type": "code",
   "execution_count": 20,
   "source": [
    "# upphöjtoperatorn ** \n",
    "print(2**2)\n",
    "\n",
    "# heltalsdivision //\n",
    "print(2//3)"
   ],
   "outputs": [
    {
     "output_type": "stream",
     "name": "stdout",
     "text": [
      "4\n",
      "0\n"
     ]
    }
   ],
   "metadata": {}
  }
 ],
 "metadata": {
  "orig_nbformat": 4,
  "language_info": {
   "name": "python",
   "version": "3.8.3",
   "mimetype": "text/x-python",
   "codemirror_mode": {
    "name": "ipython",
    "version": 3
   },
   "pygments_lexer": "ipython3",
   "nbconvert_exporter": "python",
   "file_extension": ".py"
  },
  "kernelspec": {
   "name": "python3",
   "display_name": "Python 3.8.3 64-bit"
  },
  "interpreter": {
   "hash": "aee8b7b246df8f9039afb4144a1f6fd8d2ca17a180786b69acc140d282b71a49"
  }
 },
 "nbformat": 4,
 "nbformat_minor": 2
}