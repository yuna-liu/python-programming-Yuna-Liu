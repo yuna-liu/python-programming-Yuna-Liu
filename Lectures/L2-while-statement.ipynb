{
 "cells": [
  {
   "cell_type": "markdown",
   "source": [
    "\r\n",
    "<a href=\"https://colab.research.google.com/github/kokchun/Programmering-med-Python-21/blob/main/Lectures/L2-while-statement.ipynb\" target=\"_parent\"><img align=\"left\" src=\"https://colab.research.google.com/assets/colab-badge.svg\" alt=\"Open In Colab\"/></a> &nbsp; for interacting with the code"
   ],
   "metadata": {}
  },
  {
   "cell_type": "markdown",
   "source": [
    "---\n",
    "# Lecture notes - while-statement\n",
    "\n",
    "---\n",
    "This is the lecture note for **while-statement**, but it's built upon contents from previous lectures such as: \n",
    "- input-output\n",
    "- variables\n",
    "- if-statement\n",
    "---"
   ],
   "metadata": {}
  },
  {
   "cell_type": "markdown",
   "source": [
    "## while \n",
    "\n",
    "Informally you can view a while statement as an \"if-loop\" where code is repeated as long as the condition evaluates to True. Note that the code that is repeated is under the code scope, that is indented. \n",
    "\n",
    "```python\n",
    "while condition:\n",
    "    statements\n",
    "    ...\n",
    "```\n",
    "\n",
    "While loop is preferred when not knowing in beforehand the number of iterations\n",
    "\n",
    "Read more [w3schools while](https://www.w3schools.com/python/python_while_loops.asp)"
   ],
   "metadata": {}
  },
  {
   "cell_type": "code",
   "execution_count": 6,
   "source": [
    "n = 0\r\n",
    "while n < 5: \r\n",
    "    print(f\"Hello {n}\")\r\n",
    "    n += 1 # adds one to n"
   ],
   "outputs": [
    {
     "output_type": "stream",
     "name": "stdout",
     "text": [
      "Hello 0\n",
      "Hello 1\n",
      "Hello 2\n",
      "Hello 3\n",
      "Hello 4\n"
     ]
    }
   ],
   "metadata": {}
  },
  {
   "cell_type": "markdown",
   "source": [
    "### Example - oil leakage\n",
    "There is an oil leakage causing the bird population in an island to 1/2 in each year. From start there were 80000 birds, how many years does it take for it to have 1/10 remaining?"
   ],
   "metadata": {}
  },
  {
   "cell_type": "code",
   "execution_count": 11,
   "source": [
    "birds = 80000\r\n",
    "year = 0\r\n",
    "\r\n",
    "while birds > 8000:\r\n",
    "    print(f\"Year {year} there were {birds:.0f} birds\") \r\n",
    "    birds /= 2 # divide by half \r\n",
    "    year += 1\r\n",
    "\r\n",
    "print(f\"It takes {year} years for the birds to have 1/10 remaining\")"
   ],
   "outputs": [
    {
     "output_type": "stream",
     "name": "stdout",
     "text": [
      "Year 0 there were 80000 birds\n",
      "Year 1 there were 40000 birds\n",
      "Year 2 there were 20000 birds\n",
      "Year 3 there were 10000 birds\n",
      "It takes 4 years for the birds to have 1/10 remaining\n"
     ]
    }
   ],
   "metadata": {}
  },
  {
   "cell_type": "markdown",
   "source": [
    "## Assignment operators\n",
    "\n",
    "As we have seen already in previous examples, assignment operators can be useful in loops. Used for assigning values to variables. For example\n",
    "\n",
    "```python\n",
    "x = 0 # assigns 0 to variable x\n",
    "x += 1 # x = x + 1 i.e. adds one to x \n",
    "```\n",
    "\n",
    "| Operator | Example | Result    |\n",
    "| :------: | :-----: | --------- |\n",
    "|    =     |  x = 4  | x = 4     |\n",
    "|    +=    | x += 2  | x = x + 2 |\n",
    "|    -=    | x -= 2  | x = x - 2 |\n",
    "|    /=    | x /= 2  | x = x / 2 |\n",
    "|    *=    | x *= 2  | x = x * 2 |\n",
    "\n",
    "For more assignment operators see [w3schools - assignment operators](https://www.w3schools.com/python/gloss_python_assignment_operators.asp)"
   ],
   "metadata": {}
  },
  {
   "cell_type": "code",
   "execution_count": 17,
   "source": [
    "# print out all odd numbers between -10 and 10 \r\n",
    "n = -9 \r\n",
    "while n <= 10:\r\n",
    "    print(n, end=\" \") # by default print ends with \\n a newline, but here we end it with an empty space\r\n",
    "    n += 2 "
   ],
   "outputs": [
    {
     "output_type": "stream",
     "name": "stdout",
     "text": [
      "-9 -7 -5 -3 -1 1 3 5 7 9 "
     ]
    }
   ],
   "metadata": {}
  },
  {
   "cell_type": "markdown",
   "source": [
    "---\n",
    "## break statement\n",
    "\n",
    "With the **break** statement, we can break a while loop when it is running. A common use case for this is when you have an infinite loop.  "
   ],
   "metadata": {}
  },
  {
   "cell_type": "code",
   "execution_count": 3,
   "source": [
    "import random as rnd # this module has functions for generating random numbers \r\n",
    "\r\n",
    "while True: \r\n",
    "    number1 = rnd.randint(1,10)\r\n",
    "    number2 = rnd.randint(1,10)\r\n",
    "    print(number1, number2)\r\n",
    "    \r\n",
    "    user_answer = int(input(f\"What is {number1}*{number2}? \"))\r\n",
    "    if user_answer == number1*number2:\r\n",
    "        print(\"Correct\")\r\n",
    "    else:\r\n",
    "        print(f\"{user_answer} is unfortunately wrong\")\r\n",
    "\r\n",
    "    play_again = input(\"Wanna play again (y for yes)? \")\r\n",
    "    \r\n",
    "    if play_again != \"y\":\r\n",
    "        print(\"Have a nice day!\")\r\n",
    "        break"
   ],
   "outputs": [
    {
     "output_type": "stream",
     "name": "stdout",
     "text": [
      "3 2\n"
     ]
    },
    {
     "output_type": "error",
     "ename": "ValueError",
     "evalue": "invalid literal for int() with base 10: ''",
     "traceback": [
      "\u001b[1;31m---------------------------------------------------------------------------\u001b[0m",
      "\u001b[1;31mValueError\u001b[0m                                Traceback (most recent call last)",
      "\u001b[1;32mC:\\Users\\YUNALI~1\\AppData\\Local\\Temp/ipykernel_7476/2152226747.py\u001b[0m in \u001b[0;36m<module>\u001b[1;34m\u001b[0m\n\u001b[0;32m      6\u001b[0m     \u001b[0mprint\u001b[0m\u001b[1;33m(\u001b[0m\u001b[0mnumber1\u001b[0m\u001b[1;33m,\u001b[0m \u001b[0mnumber2\u001b[0m\u001b[1;33m)\u001b[0m\u001b[1;33m\u001b[0m\u001b[1;33m\u001b[0m\u001b[0m\n\u001b[0;32m      7\u001b[0m \u001b[1;33m\u001b[0m\u001b[0m\n\u001b[1;32m----> 8\u001b[1;33m     \u001b[0muser_answer\u001b[0m \u001b[1;33m=\u001b[0m \u001b[0mint\u001b[0m\u001b[1;33m(\u001b[0m\u001b[0minput\u001b[0m\u001b[1;33m(\u001b[0m\u001b[1;34mf\"What is {number1}*{number2}? \"\u001b[0m\u001b[1;33m)\u001b[0m\u001b[1;33m)\u001b[0m\u001b[1;33m\u001b[0m\u001b[1;33m\u001b[0m\u001b[0m\n\u001b[0m\u001b[0;32m      9\u001b[0m     \u001b[1;32mif\u001b[0m \u001b[0muser_answer\u001b[0m \u001b[1;33m==\u001b[0m \u001b[0mnumber1\u001b[0m\u001b[1;33m*\u001b[0m\u001b[0mnumber2\u001b[0m\u001b[1;33m:\u001b[0m\u001b[1;33m\u001b[0m\u001b[1;33m\u001b[0m\u001b[0m\n\u001b[0;32m     10\u001b[0m         \u001b[0mprint\u001b[0m\u001b[1;33m(\u001b[0m\u001b[1;34m\"Correct\"\u001b[0m\u001b[1;33m)\u001b[0m\u001b[1;33m\u001b[0m\u001b[1;33m\u001b[0m\u001b[0m\n",
      "\u001b[1;31mValueError\u001b[0m: invalid literal for int() with base 10: ''"
     ]
    }
   ],
   "metadata": {}
  },
  {
   "cell_type": "markdown",
   "source": [
    "---\r\n",
    "\r\n",
    "Kokchun Giang\r\n",
    "\r\n",
    "[LinkedIn][linkedIn_kokchun]\r\n",
    "\r\n",
    "[GitHub portfolio][github_portfolio]\r\n",
    "\r\n",
    "[linkedIn_kokchun]: https://www.linkedin.com/in/kokchungiang/\r\n",
    "[github_portfolio]: https://github.com/kokchun/Portfolio-Kokchun-Giang\r\n",
    "\r\n",
    "---"
   ],
   "metadata": {}
  }
 ],
 "metadata": {
  "orig_nbformat": 4,
  "language_info": {
   "name": "python",
   "version": "3.9.6",
   "mimetype": "text/x-python",
   "codemirror_mode": {
    "name": "ipython",
    "version": 3
   },
   "pygments_lexer": "ipython3",
   "nbconvert_exporter": "python",
   "file_extension": ".py"
  },
  "kernelspec": {
   "name": "python3",
   "display_name": "Python 3.9.6 64-bit"
  },
  "interpreter": {
   "hash": "2971b745844267d7cb4483e5f20d838014d69d8df52b415790673c9e258dc44a"
  }
 },
 "nbformat": 4,
 "nbformat_minor": 2
}