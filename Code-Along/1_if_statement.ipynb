{
 "cells": [
  {
   "cell_type": "markdown",
   "source": [
    "# if-sats\n",
    "\n",
    "```python\n",
    "if condition:\n",
    "    statement 1\n",
    "    statement 2\n",
    "    ...\n",
    "else:\n",
    "    statement 1\n",
    "    statement 2\n",
    "    ...\n",
    "\n",
    "```"
   ],
   "metadata": {}
  },
  {
   "cell_type": "code",
   "execution_count": 2,
   "source": [
    "age = int(input(\"Hur gammal är du? \")) # typomvandlar sträng till heltal, # 18\n",
    "\n",
    "if age < 18:\n",
    "    print(\"Du får inte gå till puben\")\n",
    "else: \n",
    "    print(\"Du får gå till puben\")\n",
    "\n",
    "print(\"programmet fortsätter här\")"
   ],
   "outputs": [
    {
     "output_type": "stream",
     "name": "stdout",
     "text": [
      "Du får gå till puben\n",
      "programmet fortsätter här\n"
     ]
    }
   ],
   "metadata": {}
  },
  {
   "cell_type": "code",
   "execution_count": 4,
   "source": [
    "age = 15\n",
    "height = 150\n",
    "\n",
    "# för att få åka balder: åldersgräns 11år & höjd på 130cm\n",
    "if age >= 11 and height >= 130: # båda villkoren ska vara sanna\n",
    "    print(\"Du får åka balder\")\n",
    "else:\n",
    "    print(\"Åk rabalder istället\")\n",
    "\n",
    "print(\"ha så kul på liseberg\")"
   ],
   "outputs": [
    {
     "output_type": "stream",
     "name": "stdout",
     "text": [
      "Du får åka balder\n",
      "ha så kul på liseberg\n"
     ]
    }
   ],
   "metadata": {}
  },
  {
   "cell_type": "code",
   "execution_count": 7,
   "source": [
    "age = 15\n",
    "height = 129\n",
    "\n",
    "# för att få åka balder: åldersgräns 11år eller höjd på 130cm\n",
    "if age >= 11 or height >= 130: # minst ett av villkoren ska vara sanna\n",
    "    print(\"Du får åka balder\")\n",
    "else:\n",
    "    print(\"Åk rabalder istället\")\n",
    "\n",
    "print(\"ha så kul på liseberg\")"
   ],
   "outputs": [
    {
     "output_type": "stream",
     "name": "stdout",
     "text": [
      "Du får åka balder\n",
      "ha så kul på liseberg\n"
     ]
    }
   ],
   "metadata": {}
  },
  {
   "cell_type": "code",
   "execution_count": 11,
   "source": [
    "# modulusoperator % --> ger resten vid en heltalsdivision\n",
    "\n",
    "number = 8\n",
    "# hur checkar vi om number är jämnt eller udda?\n",
    "# dividera talet med 2 och kolla om resten är 0\n",
    "\n",
    "print(number%2) # 8/2 ger 4 rest 0 och % ger resten\n",
    "\n",
    "if number % 2 == 0: \n",
    "    print(f\"{number} är jämnt\")\n",
    "else:\n",
    "    print(f\"{number} är udda\")"
   ],
   "outputs": [
    {
     "output_type": "stream",
     "name": "stdout",
     "text": [
      "0\n",
      "8 är jämnt\n"
     ]
    }
   ],
   "metadata": {}
  }
 ],
 "metadata": {
  "orig_nbformat": 4,
  "language_info": {
   "name": "python",
   "version": "3.8.3",
   "mimetype": "text/x-python",
   "codemirror_mode": {
    "name": "ipython",
    "version": 3
   },
   "pygments_lexer": "ipython3",
   "nbconvert_exporter": "python",
   "file_extension": ".py"
  },
  "kernelspec": {
   "name": "python3",
   "display_name": "Python 3.8.3 64-bit"
  },
  "interpreter": {
   "hash": "aee8b7b246df8f9039afb4144a1f6fd8d2ca17a180786b69acc140d282b71a49"
  }
 },
 "nbformat": 4,
 "nbformat_minor": 2
}