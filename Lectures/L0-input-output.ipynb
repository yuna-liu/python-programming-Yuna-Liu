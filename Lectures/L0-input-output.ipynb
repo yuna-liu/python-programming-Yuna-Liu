{
 "cells": [
  {
   "cell_type": "markdown",
   "source": [
    "\r\n",
    "<a href=\"https://colab.research.google.com/github/kokchun/Programmering-med-Python-21/blob/main/Lectures/L0-input-output.ipynb\" target=\"_parent\"><img align=\"left\" src=\"https://colab.research.google.com/assets/colab-badge.svg\" alt=\"Open In Colab\"/></a> &nbsp; for interacting with the code"
   ],
   "metadata": {}
  },
  {
   "cell_type": "markdown",
   "source": [
    "---\r\n",
    "# Lecture notes - input-output\r\n",
    "\r\n",
    "---\r\n",
    "This is the lecture note for **input**, **output** and **variables**. You will learn: \r\n",
    "- comments\r\n",
    "- how to use print\r\n",
    "- how to create variables\r\n",
    "- how to prompt user for input \r\n",
    "- basic f-strings\r\n",
    "\r\n",
    "## Python code\r\n",
    "Since this is the first lecture you should know that Python can be written in: \r\n",
    "- Python interactive shell\r\n",
    "- a Python script file (.py)\r\n",
    "- a Jupyter Notebook file (.ipynb)\r\n",
    "---"
   ],
   "metadata": {}
  },
  {
   "cell_type": "markdown",
   "source": [
    "## Print statement\r\n",
    "\r\n",
    "- Read more here: [w3schools - print()](https://www.w3schools.com/python/ref_func_print.asp)"
   ],
   "metadata": {}
  },
  {
   "cell_type": "code",
   "execution_count": 1,
   "source": [
    "# this is a comment starting with hashtag. Comments are ignored by Python interpretor\r\n",
    "print(\"Hello world!\") # prints Hello world!\r\n",
    "print('My name is Kokchun') # notice that you can write strings with '' as well as with \"\""
   ],
   "outputs": [
    {
     "output_type": "stream",
     "name": "stdout",
     "text": [
      "Hello world!\n",
      "My name is Kokchun\n"
     ]
    }
   ],
   "metadata": {}
  },
  {
   "cell_type": "markdown",
   "source": [
    "---\r\n",
    "## Variables \r\n",
    "With variables you store data in a container. You create variable and assigns a value to it. The data type is inferred by the interpretor. Important when creating variable name is to use describing names, so that it is easy to understand your code.\r\n",
    "\r\n",
    "<img src=\"../assets/variables.png\" width=600>\r\n",
    "\r\n",
    "Read more here: \r\n",
    "- [w3schools - variables](https://www.w3schools.com/python/python_variables.asp)\r\n",
    "- [w3schools - data type](https://www.w3schools.com/python/python_datatypes.asp)\r\n",
    "- [real python - f-strings](https://realpython.com/python-f-strings/)"
   ],
   "metadata": {}
  },
  {
   "cell_type": "code",
   "execution_count": 2,
   "source": [
    "firstname = \"Kokchun\" # firstname is assigned with the value \"Kokchun\"\r\n",
    "lastname = \"Giang\" \r\n",
    "age = 30 \r\n",
    "\r\n",
    "# this is an f-string, which allows you to incorporate variable into the strings\r\n",
    "print(f\"My name is {firstname} {lastname}\")\r\n",
    "print(f\"My age is {age}\")\r\n",
    "\r\n",
    "# reassign another value to an existing variable\r\n",
    "age = 30.4\r\n",
    "print(f\"More specifically, I am {age} years old\")"
   ],
   "outputs": [
    {
     "output_type": "stream",
     "name": "stdout",
     "text": [
      "My name is Kokchun Giang\n",
      "My age is 30\n",
      "More specifically, I am 30.4 years old\n"
     ]
    }
   ],
   "metadata": {}
  },
  {
   "cell_type": "markdown",
   "source": [
    "---\r\n",
    "## Input from user\r\n",
    "\r\n",
    "Read more here: \r\n",
    "- [w3schools - input](https://www.w3schools.com/python/ref_func_input.asp)"
   ],
   "metadata": {}
  },
  {
   "cell_type": "code",
   "execution_count": 3,
   "source": [
    "name = input(\"What is your name? \") # Hanna\r\n",
    "age = input(\"How old are you {name}? \") # 22\r\n",
    "print(f\"{name} is {age} years old\")"
   ],
   "outputs": [
    {
     "output_type": "stream",
     "name": "stdout",
     "text": [
      "Hanna is 22 years old\n"
     ]
    }
   ],
   "metadata": {}
  },
  {
   "cell_type": "markdown",
   "source": [
    "---\r\n",
    "## Type conversions\r\n",
    "\r\n",
    "Sometimes you need to convert data types from one type to another. For example when prompting users for a number using ```input()```, you need to convert it to either an **int** or a **float** to be able to do calculations with it. Note that it has to be numeric in order for it to work, e.g. ```int(\"five\")``` will generate a ValueError."
   ],
   "metadata": {}
  },
  {
   "cell_type": "markdown",
   "source": [
    "### Force"
   ],
   "metadata": {}
  },
  {
   "cell_type": "code",
   "execution_count": 1,
   "source": [
    "gravity = 9.82\r\n",
    "# converts the string from input() to float\r\n",
    "mass = float(input(\"Enter your weight in kg? \")) # try to skip the conversion and see what happens\r\n",
    "force = mass*gravity\r\n",
    "\r\n",
    "print(f\"Your force is {force}N\") # entered 65, note the output \r\n",
    "\r\n",
    "# you can use f-string to format the output to 1 decimal\r\n",
    "print(f\"Your force is {force:.1f}N\")"
   ],
   "outputs": [
    {
     "output_type": "stream",
     "name": "stdout",
     "text": [
      "Your force is 638.3000000000001N\n",
      "Your force is 638.3N\n"
     ]
    }
   ],
   "metadata": {}
  },
  {
   "cell_type": "markdown",
   "source": [
    "### Circle geometry\r\n",
    "\r\n",
    "$\r\n",
    "A_{circle} = \\pi r^2\r\n",
    "$\r\n",
    "<br>\r\n",
    "$\r\n",
    "O_{circle} = 2\\pi r\r\n",
    "$"
   ],
   "metadata": {}
  },
  {
   "cell_type": "code",
   "execution_count": 8,
   "source": [
    "import math # math module has many constants and functions for mathematics \r\n",
    "radius = float(input(\"Enter a radius: \"))\r\n",
    "area = math.pi*radius**2 # ** is the power operator\r\n",
    "circumference = 2*math.pi*radius\r\n",
    "\r\n",
    "# \\n gives newlines in prints\r\n",
    "print(f\"Circle with radius {radius} has \\n area: {area:.2f} a.u. \\n circumference: {circumference:.2f} l.u.\") "
   ],
   "outputs": [
    {
     "output_type": "stream",
     "name": "stdout",
     "text": [
      "Circle with radius 10.0 has \n",
      " area: 314.16 a.u. \n",
      " circumference: 62.83 l.u.\n"
     ]
    }
   ],
   "metadata": {}
  },
  {
   "cell_type": "markdown",
   "source": [
    "---\r\n",
    "\r\n",
    "Kokchun Giang\r\n",
    "\r\n",
    "[LinkedIn][linkedIn_kokchun]\r\n",
    "\r\n",
    "[GitHub portfolio][github_portfolio]\r\n",
    "\r\n",
    "[linkedIn_kokchun]: https://www.linkedin.com/in/kokchungiang/\r\n",
    "[github_portfolio]: https://github.com/kokchun/Portfolio-Kokchun-Giang\r\n",
    "\r\n",
    "---"
   ],
   "metadata": {}
  }
 ],
 "metadata": {
  "orig_nbformat": 4,
  "language_info": {
   "name": "python",
   "version": "3.9.5",
   "mimetype": "text/x-python",
   "codemirror_mode": {
    "name": "ipython",
    "version": 3
   },
   "pygments_lexer": "ipython3",
   "nbconvert_exporter": "python",
   "file_extension": ".py"
  },
  "kernelspec": {
   "name": "python3",
   "display_name": "Python 3.9.5 64-bit"
  },
  "interpreter": {
   "hash": "a6af3a3bb251bcb72cfdd789c0ff929377064d8a2e64281876c18e53714e278c"
  }
 },
 "nbformat": 4,
 "nbformat_minor": 2
}