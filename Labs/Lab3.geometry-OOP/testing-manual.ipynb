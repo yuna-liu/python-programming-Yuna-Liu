{
 "cells": [
  {
   "cell_type": "markdown",
   "source": [
    "# Lab 3 - Geometry OOP\r\n",
    "- The purpose of this lab is to use object-oriented programming in Python to\r\n",
    "design programs with good structure.\r\n",
    "- In this laboratory I will start by planning how I want to structure my classes with help\r\n",
    "of UML and then implement my planning in Python.\r\n",
    "\r\n",
    "Date: 2021-09-30\r\n"
   ],
   "metadata": {}
  },
  {
   "cell_type": "code",
   "execution_count": 1,
   "source": [
    "from math import pi\r\n",
    "from math import sqrt\r\n",
    "from geometry_shape import Shape\r\n",
    "from circle import Circle\r\n",
    "from rectangle import Rectangle\r\n",
    "from cube import Cube\r\n",
    "from sphere import Sphere"
   ],
   "outputs": [],
   "metadata": {}
  },
  {
   "cell_type": "code",
   "execution_count": 2,
   "source": [
    "cirkel1 = Circle(x=0,y=0, radius=1) # enhetscirkel\r\n",
    "cirkel2 = Circle(x=1,y=1, radius=1)\r\n",
    "print(cirkel1)\r\n",
    "print(cirkel1.radius)\r\n",
    "print(cirkel2)\r\n",
    "\r\n",
    "print(cirkel1.area())\r\n",
    "print(cirkel2.area())\r\n",
    "\r\n",
    "print(cirkel1.perimeter())\r\n",
    "print(cirkel2.perimeter())\r\n",
    "\r\n",
    "print(cirkel1.is_inside(0.1, 0.1))\r\n",
    "print(cirkel2.is_inside(0.1, 0.1))\r\n",
    "\r\n",
    "print(cirkel1.is_inside(0.99, 0.99)) \r\n",
    "print(cirkel1.is_inside(0.5, 0.7)) \r\n",
    "print(cirkel2.is_inside(0.8, 0.8)) \r\n"
   ],
   "outputs": [
    {
     "output_type": "stream",
     "name": "stdout",
     "text": [
      "Circle with center point: (0, 0) with radius: 1\n",
      "1\n",
      "Circle with center point: (1, 1) with radius: 1\n",
      "3.141592653589793\n",
      "3.141592653589793\n",
      "6.283185307179586\n",
      "6.283185307179586\n",
      "True\n",
      "False\n",
      "False\n",
      "True\n",
      "True\n"
     ]
    }
   ],
   "metadata": {}
  },
  {
   "cell_type": "code",
   "execution_count": 3,
   "source": [
    "try:\r\n",
    "    Shape.eu_dis(0,1,0,\"2\",0,0)\r\n",
    "except TypeError as err:\r\n",
    "    print(err)"
   ],
   "outputs": [
    {
     "output_type": "stream",
     "name": "stdout",
     "text": [
      "integer or float needed here, not <class 'str'>.\n"
     ]
    }
   ],
   "metadata": {}
  },
  {
   "cell_type": "code",
   "execution_count": 4,
   "source": [
    "print(cirkel1==cirkel2) # True\r\n",
    "print(cirkel1.area())\r\n",
    "print(cirkel2.area())"
   ],
   "outputs": [
    {
     "output_type": "stream",
     "name": "stdout",
     "text": [
      "True\n",
      "3.141592653589793\n",
      "3.141592653589793\n"
     ]
    }
   ],
   "metadata": {}
  },
  {
   "cell_type": "code",
   "execution_count": 5,
   "source": [
    "cirkel1.translate(5,5)\r\n",
    "print(cirkel1.x)\r\n",
    "print(cirkel1.y)"
   ],
   "outputs": [
    {
     "output_type": "stream",
     "name": "stdout",
     "text": [
      "5\n",
      "5\n"
     ]
    }
   ],
   "metadata": {}
  },
  {
   "cell_type": "code",
   "execution_count": 7,
   "source": [
    "try:\r\n",
    "    cirkel1.translate(\"TRE\",5)\r\n",
    "except TypeError as err:\r\n",
    "    print(err)\r\n"
   ],
   "outputs": [
    {
     "output_type": "stream",
     "name": "stdout",
     "text": [
      "integer or float needed here, not <class 'str'>.\n"
     ]
    }
   ],
   "metadata": {}
  },
  {
   "cell_type": "code",
   "execution_count": 14,
   "source": [
    "try:\r\n",
    "    rektangel = Rectangle(0,0,0, 1)\r\n",
    "except ValueError as err:\r\n",
    "    print(err)\r\n",
    "    \r\n",
    "rektangel = Rectangle(x=0,y=0,side1=1, side2=1)\r\n",
    "\r\n",
    "print(rektangel.area())\r\n",
    "print(rektangel.perimeter())\r\n",
    "print(cirkel2==rektangel) # False\r\n",
    "print(rektangel.is_inside(0.5, 0.5)) # True\r\n",
    "print(rektangel.is_inside(0.6, 0.5)) # False\r\n"
   ],
   "outputs": [
    {
     "output_type": "stream",
     "name": "stdout",
     "text": [
      "positive number needed here. 0 is not ok.\n",
      "1\n",
      "4\n",
      "False\n",
      "True\n",
      "False\n"
     ]
    }
   ],
   "metadata": {}
  },
  {
   "cell_type": "code",
   "execution_count": 15,
   "source": [
    "rektange2 = Rectangle(x=0,y=0,side1=2, side2=1)\r\n",
    "rektange3 = Rectangle(x=0,y=0,side1=1, side2=2)\r\n",
    "print(rektange2 == rektange3)"
   ],
   "outputs": [
    {
     "output_type": "stream",
     "name": "stdout",
     "text": [
      "True\n"
     ]
    }
   ],
   "metadata": {}
  },
  {
   "cell_type": "code",
   "execution_count": 16,
   "source": [
    "rektangel.translate(5,-5)\r\n",
    "print(rektangel.x)\r\n",
    "print(rektangel.y)"
   ],
   "outputs": [
    {
     "output_type": "stream",
     "name": "stdout",
     "text": [
      "5\n",
      "-5\n"
     ]
    }
   ],
   "metadata": {}
  },
  {
   "cell_type": "code",
   "execution_count": 25,
   "source": [
    "cube1 = Cube(0, 0, 0, 1)\r\n",
    "print(cube1)\r\n",
    "print(cube1.is_inside(0.5, 0.5, 0.5))\r\n",
    "print(cube1.is_inside(0.6, 0.5, 0.5))\r\n",
    "\r\n",
    "cube2 = Cube(1, 1, 1, 1)\r\n",
    "print(cube1)\r\n",
    "print(cube1.area())\r\n",
    "print(cube2.area())\r\n",
    "\r\n",
    "print(cube1.volume())\r\n",
    "print(cube2.volume())\r\n",
    "\r\n",
    "cube1==cube2"
   ],
   "outputs": [
    {
     "output_type": "stream",
     "name": "stdout",
     "text": [
      "Cube with center point: (0, 0, 0) with side length: 1\n",
      "True\n",
      "False\n",
      "Cube with center point: (0, 0, 0) with side length: 1\n",
      "6\n",
      "6\n",
      "1\n",
      "1\n"
     ]
    },
    {
     "output_type": "execute_result",
     "data": {
      "text/plain": [
       "True"
      ]
     },
     "metadata": {},
     "execution_count": 25
    }
   ],
   "metadata": {}
  },
  {
   "cell_type": "code",
   "execution_count": 26,
   "source": [
    "cube1.translate(1,1,1)\r\n"
   ],
   "outputs": [],
   "metadata": {}
  },
  {
   "cell_type": "code",
   "execution_count": 27,
   "source": [
    "print(cube1.x)\r\n",
    "print(cube1.y)\r\n",
    "print(cube1.z)"
   ],
   "outputs": [
    {
     "output_type": "stream",
     "name": "stdout",
     "text": [
      "1\n",
      "1\n",
      "1\n"
     ]
    }
   ],
   "metadata": {}
  },
  {
   "cell_type": "code",
   "execution_count": 28,
   "source": [
    "sphere1 = Sphere(x=0,y=0, z=0, radius=1) \r\n",
    "sphere2 = Sphere(x=1,y=1, z=1, radius=1)\r\n",
    "print(sphere1)\r\n",
    "print(sphere1.radius)\r\n",
    "print(sphere2)\r\n",
    "\r\n",
    "print(sphere1.surface_area())\r\n",
    "print(sphere2.surface_area())\r\n",
    "\r\n",
    "print(sphere1.volume())\r\n",
    "print(sphere2.volume())\r\n",
    "\r\n",
    "print(sphere1.is_inside(0.99, 0.99, 0.99)) \r\n",
    "print(sphere1.is_inside(0.5, 0.6,0.6)) \r\n",
    "print(sphere2.is_inside(0.1, 0.1, 0.1)) "
   ],
   "outputs": [
    {
     "output_type": "stream",
     "name": "stdout",
     "text": [
      "Sphere with center point: (0, 0, 0) with radius: 1\n",
      "1\n",
      "Sphere with center point: (1, 1, 1) with radius: 1\n",
      "12.566370614359172\n",
      "12.566370614359172\n",
      "4.1887902047863905\n",
      "4.1887902047863905\n",
      "False\n",
      "True\n",
      "False\n"
     ]
    }
   ],
   "metadata": {}
  },
  {
   "cell_type": "code",
   "execution_count": 29,
   "source": [
    "print(Shape.eu_dis(0, 0.5, 0, 0.6, 0, 0.6))"
   ],
   "outputs": [
    {
     "output_type": "stream",
     "name": "stdout",
     "text": [
      "0.9848857801796105\n"
     ]
    }
   ],
   "metadata": {}
  }
 ],
 "metadata": {
  "orig_nbformat": 4,
  "language_info": {
   "name": "python",
   "version": "3.9.6",
   "mimetype": "text/x-python",
   "codemirror_mode": {
    "name": "ipython",
    "version": 3
   },
   "pygments_lexer": "ipython3",
   "nbconvert_exporter": "python",
   "file_extension": ".py"
  },
  "kernelspec": {
   "name": "python3",
   "display_name": "Python 3.9.6 64-bit ('python-programming-Yuna-Liu-WA6ACBfR': pipenv)"
  },
  "interpreter": {
   "hash": "8111105f47d12ec1fb8af24cde7e4ba5898ee01916168ee13b7453f45f559afc"
  }
 },
 "nbformat": 4,
 "nbformat_minor": 2
}