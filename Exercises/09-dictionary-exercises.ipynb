{
 "cells": [
  {
   "cell_type": "markdown",
   "source": [
    "# The solution to exercise 09: dictionary exercises\r\n",
    "\r\n",
    "Date: 2021-09-15\r\n",
    "\r\n",
    "The questions can be found [here][exercise_link]:\r\n",
    "\r\n",
    "[exercise_link]: https://github.com/kokchun/Programmering-med-Python-21/blob/main/Exercises/09-dictionary-exercises.ipynb"
   ],
   "metadata": {}
  },
  {
   "cell_type": "markdown",
   "source": [
    "## 1. Curriculum (*)\r\n",
    "\r\n",
    "Create a dictionary containing all the courses that you will study in this program, with the course names as **keys** and the amount of points as **value**. Then calculate the number of points that you will study in total. (*)\r\n",
    "\r\n",
    "<details>\r\n",
    "\r\n",
    "<summary>Answer</summary>\r\n",
    "\r\n",
    "Look at your course program curriculum\r\n",
    "\r\n",
    "</details>\r\n"
   ],
   "metadata": {}
  },
  {
   "cell_type": "code",
   "execution_count": 35,
   "source": [
    "courses_ai21 = dict(\r\n",
    "    databaser = 25,\r\n",
    "    databehandling = 25,\r\n",
    "    djup_maskininlärning = 40,\r\n",
    "    examensarbete = 15,\r\n",
    "    introduktionskurs_till_AI = 5,\r\n",
    "    LIA_1 = 40,\r\n",
    "    LIA_2 = 70,\r\n",
    "    maskininlärning = 45,\r\n",
    "    praktisk_maskininlärning_och_projektmetodik\t= 45,\r\n",
    "    programmering_med_Python = 40,\r\n",
    "    statistiska_metoder = 30,\r\n",
    "    visualisering_presentationer_och_storytelling = 20\r\n",
    ")\r\n",
    "\r\n",
    "total_points = 0\r\n",
    "for key, value in courses_ai21.items():\r\n",
    "    total_points += value\r\n",
    "\r\n",
    "\"\"\" #Another method: Loop through every key, like a list\r\n",
    "for course in courses_ai21: \r\n",
    "    total_points += courses_ai21[course] \"\"\"\r\n",
    "\r\n",
    "print(f\"The total points that I am study is: {total_points}.\")"
   ],
   "outputs": [
    {
     "output_type": "stream",
     "name": "stdout",
     "text": [
      "The total points that I am study is: 400.\n"
     ]
    }
   ],
   "metadata": {}
  },
  {
   "cell_type": "markdown",
   "source": [
    "---\n",
    "## 2. Dice simulation (*)\n",
    "\n",
    "Simulate 1000000 dice rolls and save the number of ones, twos, ..., sixes in a dictionary. Then print them out in the terminal. (*)\n",
    "\n",
    "<details>\n",
    "\n",
    "<summary>Answer</summary>\n",
    "\n",
    "```\n",
    "1: 166481\n",
    "2: 166844\n",
    "3: 166154\n",
    "4: 167400\n",
    "5: 167260\n",
    "6: 165861\n",
    "```\n",
    "\n",
    "</details>\n"
   ],
   "metadata": {}
  },
  {
   "cell_type": "code",
   "execution_count": 50,
   "source": [
    "import random as rnd\r\n",
    "\r\n",
    "n_of_dices = 1000000\r\n",
    "list_of_outcomes = [\"Ones\", \"Twos\", \"Threes\", \"Fours\", \"Fives\", \"Sixes\"]\r\n",
    "\r\n",
    "#created a dictionary of outcomes and limits.\r\n",
    "outcome_limits = {outcome: i+1 for i, outcome in enumerate(list_of_outcomes)}\r\n",
    "print(outcome_limits)\r\n",
    "\r\n",
    "\r\n",
    "#create a dictionary of counted outcomes.\r\n",
    "outcome_count = {key: 0 for key in list_of_outcomes}\r\n",
    "print(outcome_count)\r\n",
    "\r\n",
    "#Simulate dice rolls\r\n",
    "dice_results = [rnd.randint(1,6) for _ in range(n_of_dices)]\r\n",
    "\r\n",
    "# for each dice roll result, compare it with all categories (code: limit) in the first dictionary\r\n",
    "# the value (code:count) in the second dictionary changes if any condition is satisfied.\r\n",
    "# The connection between these two sets is that: They have the same keys\r\n",
    "for dice_result in dice_results:\r\n",
    "    for outcome, limit in outcome_limits.items(): # the first dictionary\r\n",
    "        if dice_result == limit:\r\n",
    "            outcome_count[outcome] += 1 #the second dictionary\r\n",
    "print(f\"dice rolls count: {outcome_count}\") "
   ],
   "outputs": [
    {
     "output_type": "stream",
     "name": "stdout",
     "text": [
      "{'Ones': 1, 'Twos': 2, 'Threes': 3, 'Fours': 4, 'Fives': 5, 'Sixes': 6}\n",
      "{'Ones': 0, 'Twos': 0, 'Threes': 0, 'Fours': 0, 'Fives': 0, 'Sixes': 0}\n",
      "dice rolls count: {'Ones': 166948, 'Twos': 166687, 'Threes': 166921, 'Fours': 166596, 'Fives': 166537, 'Sixes': 166311}\n"
     ]
    }
   ],
   "metadata": {}
  },
  {
   "cell_type": "markdown",
   "source": [
    "---\r\n",
    "## 3. Pokemon list (*)\r\n",
    "\r\n",
    "Read in the file pokemon_list.txt in Python. Create a variable with name pokedex with the key:value **\"pokemon\":\"type, index\"**. For example when searching for the keys \"Gengar\" and \"Pikachu\": (*)\r\n",
    "\r\n",
    "```python\r\n",
    "\r\n",
    "print(pokedex[\"Gengar\"])\r\n",
    "print(pokedex[\"Pikachu\"])\r\n",
    "\r\n",
    "Spöke/Gift\r\n",
    "Elektrisk\r\n",
    "```\r\n",
    "\r\n",
    "<details>\r\n",
    "\r\n",
    "<summary>Answer</summary>\r\n",
    "\r\n",
    "```\r\n",
    "{'Bulbasaur': 'Gräs/Gift',\r\n",
    " 'Ivysaur': 'Gräs/Gift',\r\n",
    " 'Venusaur': 'Gräs/Gift',\r\n",
    " 'Charmander': 'Eld',\r\n",
    " 'Charmeleon': 'Eld',\r\n",
    " 'Charizard': 'Eld/Flygande',\r\n",
    " 'Squirtle': 'Vatten',\r\n",
    " 'Wartortle': 'Vatten',\r\n",
    " 'Blastoise': 'Vatten',\r\n",
    " ...\r\n",
    "}\r\n",
    "```\r\n",
    "\r\n",
    "</details>\r\n"
   ],
   "metadata": {}
  },
  {
   "cell_type": "code",
   "execution_count": 45,
   "source": [
    "with open(\"../Files/pokemon_list.txt\", \"r\", encoding=\"utf8\") as f:\r\n",
    "    pokedex = {line.split()[1] : line.split()[2] for line in f.readlines()}\r\n",
    "print(f\"a. The dictionary pokedex is: {pokedex}\")\r\n",
    "print(f\"\\nb. The value of Gengar is: {pokedex['Gengar']}\")\r\n",
    "print(f\"\\nc. The value of Pikachu is: {pokedex['Pikachu']}\")"
   ],
   "outputs": [
    {
     "output_type": "stream",
     "name": "stdout",
     "text": [
      "a. The dictionary pokedex is: {'Bulbasaur': 'Gräs/Gift', 'Ivysaur': 'Gräs/Gift', 'Venusaur': 'Gräs/Gift', 'Charmander': 'Eld', 'Charmeleon': 'Eld', 'Charizard': 'Eld/Flygande', 'Squirtle': 'Vatten', 'Wartortle': 'Vatten', 'Blastoise': 'Vatten', 'Caterpie': 'Insekt', 'Metapod': 'Insekt', 'Butterfree': 'Insekt/Flygande', 'Weedle': 'Insekt/Gift', 'Kakuna': 'Insekt/Gift', 'Beedrill': 'Insekt/Gift', 'Pidgey': 'Normal/Flygande', 'Pidgeotto': 'Normal/Flygande', 'Pidgeot': 'Normal/Flygande', 'Rattata': 'Normal', 'Raticate': 'Normal', 'Spearow': 'Normal/Flygande', 'Fearow': 'Normal/Flygande', 'Ekans': 'Gift', 'Arbok': 'Gift', 'Pikachu': 'Elektrisk', 'Raichu': 'Elektrisk', 'Sandshrew': 'Mark', 'Sandslash': 'Mark', 'Nidoran♀': 'Gift', 'Nidorina': 'Gift', 'Nidoqueen': 'Gift/Mark', 'Nidoran♂': 'Gift', 'Nidorino': 'Gift', 'Nidoking': 'Gift/Mark', 'Clefairy': 'Fé', 'Clefable': 'Fé', 'Vulpix': 'Eld', 'Ninetales': 'Eld', 'Jigglypuff': 'Normal/Fé', 'Wigglytuff': 'Normal/Fé', 'Zubat': 'Gift/Flygande', 'Golbat': 'Gift/Flygande', 'Oddish': 'Gräs/Gift', 'Gloom': 'Gräs/Gift', 'Vileplume': 'Gräs/Gift', 'Paras': 'Insekt/Gräs', 'Parasect': 'Insekt/Gräs', 'Venonat': 'Insekt/Gift', 'Venomoth': 'Insekt/Gift', 'Diglett': 'Mark', 'Dugtrio': 'Mark', 'Meowth': 'Normal', 'Persian': 'Normal', 'Psyduck': 'Vatten', 'Golduck': 'Vatten', 'Mankey': 'Kamp', 'Primeape': 'Kamp', 'Growlithe': 'Eld', 'Arcanine': 'Eld', 'Poliwag': 'Vatten', 'Poliwhirl': 'Vatten', 'Poliwrath': 'Vatten/Kamp', 'Abra': 'Psykisk', 'Kadabra': 'Psykisk', 'Alakazam': 'Psykisk', 'Machop': 'Kamp', 'Machoke': 'Kamp', 'Machamp': 'Kamp', 'Bellsprout': 'Gräs/Gift', 'Weepinbell': 'Gräs/Gift', 'Victreebel': 'Gräs/Gift', 'Tentacool': 'Vatten/Gift', 'Tentacruel': 'Vatten/Gift', 'Geodude': 'Sten/Mark', 'Graveler': 'Sten/Mark', 'Golem': 'Sten/Mark', 'Ponyta': 'Eld', 'Rapidash': 'Eld', 'Slowpoke': 'Vatten/Psykisk', 'Slowbro': 'Vatten/Psykisk', 'Magnemite': 'Elektrisk/Stål', 'Magneton': 'Elektrisk/Stål', \"Farfetch'd\": 'Normal/Flygande', 'Doduo': 'Normal/Flygande', 'Dodrio': 'Normal/Flygande', 'Seel': 'Vatten', 'Dewgong': 'Vatten/Is', 'Grimer': 'Gift', 'Muk': 'Gift', 'Shellder': 'Vatten', 'Cloyster': 'Vatten/Is', 'Gastly': 'Spöke/Gift', 'Haunter': 'Spöke/Gift', 'Gengar': 'Spöke/Gift', 'Onix': 'Sten/Mark', 'Drowzee': 'Psykisk', 'Hypno': 'Psykisk', 'Krabby': 'Vatten', 'Kingler': 'Vatten', 'Voltorb': 'Elektrisk', 'Electrode': 'Elektrisk', 'Exeggcute': 'Gräs/Psykisk', 'Exeggutor': 'Gräs/Psykisk', 'Cubone': 'Mark', 'Marowak': 'Mark', 'Hitmonlee': 'Kamp', 'Hitmonchan': 'Kamp', 'Lickitung': 'Normal', 'Koffing': 'Gift', 'Weezing': 'Gift', 'Rhyhorn': 'Mark/Sten', 'Rhydon': 'Mark/Sten', 'Chansey': 'Normal', 'Tangela': 'Gräs', 'Kangaskhan': 'Normal', 'Horsea': 'Vatten', 'Seadra': 'Vatten', 'Goldeen': 'Vatten', 'Seaking': 'Vatten', 'Staryu': 'Vatten', 'Starmie': 'Vatten/Psykisk', 'Mr.': '122', 'Scyther': 'Insekt/Flygande', 'Jynx': 'Is/Psykisk', 'Electabuzz': 'Elektrisk', 'Magmar': 'Eld', 'Pinsir': 'Insekt', 'Tauros': 'Normal', 'Magikarp': 'Vatten', 'Gyarados': 'Vatten/Flygande', 'Lapras': 'Vatten/Is', 'Ditto': 'Normal', 'Eevee': 'Normal', 'Vaporeon': 'Vatten', 'Jolteon': 'Elektrisk', 'Flareon': 'Eld', 'Porygon': 'Normal', 'Omanyte': 'Sten/Vatten', 'Omastar': 'Sten/Vatten', 'Kabuto': 'Sten/Vatten', 'Kabutops': 'Sten/Vatten', 'Aerodactyl': 'Sten/Flygande', 'Snorlax': 'Normal', 'Articuno': 'Is/Flygande', 'Zapdos': 'Elektrisk/Flygande', 'Moltres': 'Eld/Flygande', 'Dratini': 'Drake', 'Dragonair': 'Drake', 'Dragonite': 'Drake/Flygande', 'Mewtwo': 'Psykisk'}\n",
      "\n",
      "b. The value of Gengar is: Spöke/Gift\n",
      "\n",
      "c. The value of Pikachu is: Elektrisk\n"
     ]
    }
   ],
   "metadata": {}
  },
  {
   "cell_type": "code",
   "execution_count": 39,
   "source": [
    "# Another way:\r\n",
    "pokedex = {}\r\n",
    "\r\n",
    "with open(\"../Files/pokemon_list.txt\", \"r\", encoding=\"utf8\") as f:\r\n",
    "    for line in f.readlines():\r\n",
    "        key = line.split()[1] \r\n",
    "        val = line.split() [2]                       \r\n",
    "        pokedex[key] = val"
   ],
   "outputs": [],
   "metadata": {}
  },
  {
   "cell_type": "markdown",
   "source": [
    "---\r\n",
    "## 4. Morse code (**)\r\n",
    "\r\n",
    "Read in the file morse.txt, save it in a dictionary and create a function that lets the user input a message to get it translated to morse code. For example  (**)\r\n",
    "\r\n",
    "```python\r\n",
    "\r\n",
    "print(morse[\"SOS\"])\r\n",
    "print(morse[\"POKEMON\"])\r\n",
    "\r\n",
    "...---...\r\n",
    ".------.-.------.\r\n",
    "```"
   ],
   "metadata": {}
  },
  {
   "cell_type": "code",
   "execution_count": 100,
   "source": [
    "with open(\"../Files/morse.txt\", \"r\", encoding=\"utf8\") as f4:\r\n",
    "    morse_dic = {line.strip(\"\\n\").split(\": \")[0] : line.strip(\"\\n\").split(\": \")[1] for line in f4.readlines()}\r\n",
    "    print(morse_dic)\r\n",
    "\r\n",
    "def morse(word):\r\n",
    "    morse_results = \"\"\r\n",
    "    word_input = word.upper()\r\n",
    "    for letter in word_input:\r\n",
    "        morse_results += morse_dic[letter] \r\n",
    "\r\n",
    "    return morse_results\r\n",
    "\r\n",
    "print(f\"\\n\\nThe morse message of 'sos' is: {morse('sos')}\")\r\n",
    "print(f\"\\n\\nThe morse message of 'Pokemon' is: {morse('POKEMON')}\")\r\n",
    "\r\n",
    "hi_word = input(\"Please choose a word\")\r\n",
    "    \r\n",
    "\r\n",
    "\"\"\" print(f\"The morse message of {word} is: {morse('word')}\")\r\n",
    "     \"\"\""
   ],
   "outputs": [
    {
     "output_type": "stream",
     "name": "stdout",
     "text": [
      "{'A': '.-', 'B': '-...', 'C': '-.-.', 'D': '-..', 'E': '.', 'F': '..-.', 'G': '--', 'H': '....', 'I': '..', 'J': '.---', 'K': '-.-', 'L': '.-..', 'M': '--', 'N': '-.', 'O': '---', 'P': '.--', 'Q': '--.-', 'R': '.-.', 'S': '...', 'T': '-', 'U': '..-', 'V': '...-', 'W': '.--', 'X': '-..-', 'Y': '-.--', 'Z': '--..', 'Å': '.--.-', 'Ä': '.-.-', 'Ö': '---'}\n",
      "\n",
      "\n",
      "The morse message of 'sos' is: ...---...\n",
      "\n",
      "\n",
      "The morse message of 'Pokemon' is: .------.-.------.\n"
     ]
    },
    {
     "output_type": "error",
     "ename": "TypeError",
     "evalue": "'str' object is not callable",
     "traceback": [
      "\u001b[1;31m---------------------------------------------------------------------------\u001b[0m",
      "\u001b[1;31mTypeError\u001b[0m                                 Traceback (most recent call last)",
      "\u001b[1;32mC:\\Users\\YUNALI~1\\AppData\\Local\\Temp/ipykernel_11352/892750044.py\u001b[0m in \u001b[0;36m<module>\u001b[1;34m\u001b[0m\n\u001b[0;32m     14\u001b[0m \u001b[0mprint\u001b[0m\u001b[1;33m(\u001b[0m\u001b[1;34mf\"\\n\\nThe morse message of 'Pokemon' is: {morse('POKEMON')}\"\u001b[0m\u001b[1;33m)\u001b[0m\u001b[1;33m\u001b[0m\u001b[1;33m\u001b[0m\u001b[0m\n\u001b[0;32m     15\u001b[0m \u001b[1;33m\u001b[0m\u001b[0m\n\u001b[1;32m---> 16\u001b[1;33m \u001b[0mhi_word\u001b[0m \u001b[1;33m=\u001b[0m \u001b[0minput\u001b[0m\u001b[1;33m(\u001b[0m\u001b[1;34m\"Please choose a word\"\u001b[0m\u001b[1;33m)\u001b[0m\u001b[1;33m\u001b[0m\u001b[1;33m\u001b[0m\u001b[0m\n\u001b[0m\u001b[0;32m     17\u001b[0m \u001b[1;33m\u001b[0m\u001b[0m\n\u001b[0;32m     18\u001b[0m \u001b[1;33m\u001b[0m\u001b[0m\n",
      "\u001b[1;31mTypeError\u001b[0m: 'str' object is not callable"
     ]
    }
   ],
   "metadata": {}
  }
 ],
 "metadata": {
  "interpreter": {
   "hash": "8111105f47d12ec1fb8af24cde7e4ba5898ee01916168ee13b7453f45f559afc"
  },
  "kernelspec": {
   "name": "python3",
   "display_name": "Python 3.9.6 64-bit ('python-programming-Yuna-Liu-WA6ACBfR': pipenv)"
  },
  "language_info": {
   "name": "python",
   "version": "3.9.6",
   "mimetype": "text/x-python",
   "codemirror_mode": {
    "name": "ipython",
    "version": 3
   },
   "pygments_lexer": "ipython3",
   "nbconvert_exporter": "python",
   "file_extension": ".py"
  },
  "orig_nbformat": 4
 },
 "nbformat": 4,
 "nbformat_minor": 2
}