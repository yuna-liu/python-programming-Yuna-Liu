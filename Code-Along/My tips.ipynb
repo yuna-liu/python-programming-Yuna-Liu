{
 "cells": [
  {
   "cell_type": "markdown",
   "source": [
    "# My tips"
   ],
   "metadata": {}
  },
  {
   "cell_type": "markdown",
   "source": [
    "## The difference of list() and .split() to a string"
   ],
   "metadata": {}
  },
  {
   "cell_type": "code",
   "execution_count": 5,
   "source": [
    "fruits = \"apple, orange, melon\"\r\n",
    "print(len(fruits))\r\n",
    "\r\n",
    "# use comma and blank to split\r\n",
    "fruits_list = fruits.split(\", \")\r\n",
    "print(fruits_list)\r\n",
    "print(len(fruits_list))\r\n",
    "\r\n",
    "# use blank to split\r\n",
    "fruits_list_default = fruits.split()\r\n",
    "print(fruits_list_default)\r\n",
    "print(len(fruits_list_default))\r\n",
    "\r\n",
    "# use list() to change a string to letters/characters\r\n",
    "fruits_list_2 = list(fruits)\r\n",
    "print(fruits_list_2)\r\n",
    "print(len(fruits_list_2))\r\n",
    "\r\n",
    "\r\n"
   ],
   "outputs": [
    {
     "output_type": "stream",
     "name": "stdout",
     "text": [
      "20\n",
      "['apple', 'orange', 'melon']\n",
      "3\n",
      "['apple,', 'orange,', 'melon']\n",
      "3\n",
      "['a', 'p', 'p', 'l', 'e', ',', ' ', 'o', 'r', 'a', 'n', 'g', 'e', ',', ' ', 'm', 'e', 'l', 'o', 'n']\n",
      "20\n"
     ]
    }
   ],
   "metadata": {}
  },
  {
   "cell_type": "markdown",
   "source": [
    "## how to make multiple lines comments:\r\n",
    "Press Shift+Alt+A"
   ],
   "metadata": {}
  }
 ],
 "metadata": {
  "orig_nbformat": 4,
  "language_info": {
   "name": "python",
   "version": "3.9.6",
   "mimetype": "text/x-python",
   "codemirror_mode": {
    "name": "ipython",
    "version": 3
   },
   "pygments_lexer": "ipython3",
   "nbconvert_exporter": "python",
   "file_extension": ".py"
  },
  "kernelspec": {
   "name": "python3",
   "display_name": "Python 3.9.6 64-bit ('python-programming-Yuna-Liu-WA6ACBfR': pipenv)"
  },
  "interpreter": {
   "hash": "8111105f47d12ec1fb8af24cde7e4ba5898ee01916168ee13b7453f45f559afc"
  }
 },
 "nbformat": 4,
 "nbformat_minor": 2
}