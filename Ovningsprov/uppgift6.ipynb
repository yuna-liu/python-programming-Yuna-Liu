{
 "cells": [
  {
   "cell_type": "code",
   "execution_count": 4,
   "metadata": {},
   "outputs": [
    {
     "name": "stdout",
     "output_type": "stream",
     "text": [
      "The dealer show his first card: 8.\n",
      "You have 2 cards: ['Q', '10'], your total point is 20.\n",
      "The dealer has: ['8', '3'], the total is: 11.\n",
      "You have cards: ['Q', '10'], your total point is 20.\n",
      "You win! Congratulations!\n"
     ]
    }
   ],
   "source": [
    "import random\n",
    "\n",
    "deck_element = \"A 2 3 4 5 6 7 8 9 10 J Q K\".split()\n",
    "\n",
    "# After splitting, a string becomes a list, or use list(\"A23456\")\n",
    "\n",
    "deck = deck_element*4\n",
    "# list*4 is still a list\n",
    "\n",
    "# define a function to deal n of cards from the deck\n",
    "def deal(deck,n_of_cards):\n",
    "    hand = []\n",
    "    for i in range(n_of_cards):\n",
    "\t    random.shuffle(deck) #create a shuffled deck\n",
    "\t    card = deck.pop()\n",
    "\t    hand.append(card)\n",
    "    return hand\n",
    "\n",
    "#print(deal(deck, 2)) #randomly get two cards from deck\n",
    "\n",
    "def total(hand):\n",
    "    total = 0\n",
    "    for card in hand:\n",
    "        if card == \"J\" or card ==\"Q\" or card ==\"K\":\n",
    "            total += 10\n",
    "        elif card == \"A\":\n",
    "            total += 1 if total >= 11 else 11\n",
    "        else:\n",
    "            total += int(card)\n",
    "    return total\n",
    "\n",
    "def score(dealer_hand, player_hand):\n",
    "    if total(player_hand)<=21 and total(player_hand)>total(dealer_hand):\n",
    "        print(\"You win! Congratulations!\")\n",
    "    else:\n",
    "        print(\"You lose! \")\n",
    "\t\n",
    "def print_results(dealer_hand, player_hand):\n",
    "    print(f\"The dealer has: {dealer_hand}, the total is: {total(dealer_hand)}.\\nYou have cards: {player_hand}, your total point is {total(player_hand)}.\")\n",
    "\n",
    "def print_dealer_one_card(dealer_hand):\n",
    "    print(f\"The dealer show his first card: {dealer_hand[0]}.\")\n",
    "\n",
    "def print_player_cards(player_hand):\n",
    "    print(f\"You have {len(player_hand)} cards: {player_hand}, your total point is {total(player_hand)}.\")\n",
    "\n",
    "def print_deck(deck):\n",
    "    print(f\"There are {len(deck)} cards left in the deck.\")\n",
    "\n",
    "\n",
    "dealer_hand = deal(deck,2)\n",
    "\n",
    "print_dealer_one_card(dealer_hand)\n",
    "\n",
    "player_hand = deal(deck,2)\n",
    "\n",
    "print_player_cards(player_hand)\n",
    "\n",
    "while True:\n",
    "    choice_player = input(\"Do you want to [T]ake a new card, [S]top \")\n",
    "    choice = choice_player.lower()\n",
    "\n",
    "    if choice == \"t\":\n",
    "        new_card = deck.pop()\n",
    "        player_hand.append(new_card)\n",
    "        print_player_cards(player_hand)\n",
    "\n",
    "        if total(player_hand) >= 21:\n",
    "            break\n",
    "\n",
    "    elif choice == \"s\":\n",
    "        break\n",
    "\n",
    "    else:\n",
    "        print(\"Please input 'T' to take a new card, or 'S' to stop\" )\n",
    "\n",
    "print_results(dealer_hand, player_hand)\n",
    "score(dealer_hand, player_hand)\n",
    "\n",
    "\n"
   ]
  }
 ],
 "metadata": {
  "interpreter": {
   "hash": "8111105f47d12ec1fb8af24cde7e4ba5898ee01916168ee13b7453f45f559afc"
  },
  "kernelspec": {
   "display_name": "Python 3.9.6 64-bit ('python-programming-Yuna-Liu-WA6ACBfR': pipenv)",
   "name": "python3"
  },
  "language_info": {
   "codemirror_mode": {
    "name": "ipython",
    "version": 3
   },
   "file_extension": ".py",
   "mimetype": "text/x-python",
   "name": "python",
   "nbconvert_exporter": "python",
   "pygments_lexer": "ipython3",
   "version": "3.9.6"
  },
  "orig_nbformat": 4
 },
 "nbformat": 4,
 "nbformat_minor": 2
}
