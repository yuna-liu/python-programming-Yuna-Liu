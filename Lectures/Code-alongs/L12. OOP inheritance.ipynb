{
 "cells": [
  {
   "cell_type": "code",
   "execution_count": 8,
   "source": [
    "import oldcoins\r\n",
    "\r\n",
    "class Person:\r\n",
    "    def __init__(self, name, age) -> None:\r\n",
    "        self.age = age\r\n",
    "        self.name = name\r\n",
    "    \r\n",
    "    @property\r\n",
    "    def age(self):\r\n",
    "        return self._age\r\n",
    "\r\n",
    "    @age.setter\r\n",
    "    def age(self, value):\r\n",
    "        if not isinstance(value, int):\r\n",
    "            raise TypeError(\"Must be int\")\r\n",
    "\r\n",
    "    # TODO: make a property for name and use e.g. regex to check that we have a valid name\r\n",
    "\r\n",
    "    def say_hi(self):\r\n",
    "        print(f\"Person {self.name} says hi\")\r\n",
    "\r\n",
    "class Student(Person): # Student inherits from Person, i.e. Student is a Person\r\n",
    "    def __init__(self, name, age, language) -> None:\r\n",
    "        super().__init__(name, age)\r\n",
    "   \r\n",
    "        self.language = language\r\n",
    "\r\n",
    "    # TODO: make language into property\r\n",
    "\r\n",
    "    def say_hi(self):\r\n",
    "        print(f\"Student {self.name} says yo in language {self.language}\")\r\n",
    "\r\n",
    "class Viking(Person):\r\n",
    "    def __init__(self, name, age) -> None:\r\n",
    "        super().__init__(name, age)\r\n",
    "        self.stash = oldcoins.OldCoinStash(name)\r\n",
    "\r\n",
    "p1 = Person(\"Anita\", 45)\r\n",
    "\r\n",
    "try:\r\n",
    "    s1 = Student(\"Gore\", \"femtio\", \"Python\")\r\n",
    "except TypeError as err:\r\n",
    "    print(err)\r\n",
    "\r\n",
    "s2 = Student(\"Gore\", 50, \"Java\")\r\n",
    "v1 = Viking(\"Ragnar\", 50)\r\n",
    "\r\n",
    "for person in (p1, s2, v1):\r\n",
    "    person.say_hi()\r\n",
    "\r\n",
    "print(v1.stash)"
   ],
   "outputs": [
    {
     "output_type": "stream",
     "name": "stdout",
     "text": [
      "Must be int\n",
      "Person Anita says hi\n",
      "Student Gore says yo in language Java\n",
      "Person Ragnar says hi\n",
      "OldCoinStash(owner='Ragnar')\n"
     ]
    }
   ],
   "metadata": {}
  }
 ],
 "metadata": {
  "orig_nbformat": 4,
  "language_info": {
   "name": "python",
   "version": "3.9.6",
   "mimetype": "text/x-python",
   "codemirror_mode": {
    "name": "ipython",
    "version": 3
   },
   "pygments_lexer": "ipython3",
   "nbconvert_exporter": "python",
   "file_extension": ".py"
  },
  "kernelspec": {
   "name": "python3",
   "display_name": "Python 3.9.6 64-bit ('Programmering-med-Python-OZ4PsT_E': pipenv)"
  },
  "interpreter": {
   "hash": "4d790a4ba7424cef7dc64ec6f6de1f04bad761d237b8926ff99fd2151ec1d86b"
  }
 },
 "nbformat": 4,
 "nbformat_minor": 2
}