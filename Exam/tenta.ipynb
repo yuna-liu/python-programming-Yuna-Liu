{
 "cells": [
  {
   "cell_type": "markdown",
   "metadata": {},
   "source": [
    "## Exam\n",
    "- Date: Programmering med Python tenta 1\n",
    "- Points: 19/20\n",
    "- VG"
   ]
  },
  {
   "cell_type": "code",
   "execution_count": 1,
   "metadata": {},
   "outputs": [],
   "source": [
    "#1. create en list with the name \"frukter\", there are three strings in this list.\n",
    "\n",
    "#2. create godfrukt string, allocate it with the value equal to the 3-rd of frukter list: \"grape\". so: godfrukt = \"grape\"\n",
    "\n",
    "#3. print the last letter of the godfrukt string: \"e\". The output is: e"
   ]
  },
  {
   "cell_type": "code",
   "execution_count": 2,
   "metadata": {},
   "outputs": [
    {
     "name": "stdout",
     "output_type": "stream",
     "text": [
      "x o o o o  \n",
      "x x o o o  \n",
      "x x x o o  \n",
      "x x x x o  \n",
      "x x x x x  \n"
     ]
    }
   ],
   "source": [
    "def matrix_n(n):\n",
    "\n",
    "    if not isinstance(n, int):\n",
    "\n",
    "        raise ValueError (f\"Please input a integer, not {type(n)}\")\n",
    "\n",
    "    for row in range(n):\n",
    "\n",
    "        for colume in range(n):\n",
    "\n",
    "            if colume <= row:\n",
    "\n",
    "                print(\"x\", end=\" \")\n",
    "\n",
    "            else:\n",
    "\n",
    "                print(\"o\", end=\" \")\n",
    "\n",
    "        print(\" \")  #to go to a next row.\n",
    "\n",
    "# Now I can test with instance n=5:\n",
    "\n",
    "matrix_n(5)"
   ]
  },
  {
   "cell_type": "code",
   "execution_count": 3,
   "metadata": {},
   "outputs": [
    {
     "name": "stdout",
     "output_type": "stream",
     "text": [
      "Please input a positive number.\n",
      "1385.4423602330987\n"
     ]
    }
   ],
   "source": [
    "from math import pi\n",
    "\n",
    "\n",
    "\n",
    "# define volume function\n",
    "\n",
    "def volume(radius, height):\n",
    "\n",
    "    return pi*radius**2*height\n",
    "\n",
    "\n",
    "\n",
    "while True:\n",
    "    \n",
    "    try:\n",
    "\n",
    "        radius = float(input(\"Please choose a radius, which is  a positive number\"))\n",
    "\n",
    "        if not isinstance(radius, (float, int)):\n",
    "\n",
    "            raise ValueError(\"Please input a positive number.\")\n",
    "\n",
    "        if not radius >0:  \n",
    "\n",
    "            raise ValueError(\"Please input a positive number.\")\n",
    "\n",
    "        break\n",
    "\n",
    "    except ValueError as err:\n",
    "\n",
    "        print(err)\n",
    "\n",
    "\n",
    "\n",
    "while True:\n",
    "\n",
    "    try:\n",
    "\n",
    "        height = float(input(\"Please choose a height, which is a positive number\"))\n",
    "\n",
    "        if not isinstance(height, (float, int)):\n",
    "\n",
    "            raise ValueError(\"Please input a positive number.\")\n",
    "\n",
    "        if not height >0:  \n",
    "\n",
    "            raise ValueError(\"Please input a positive number.\")\n",
    "\n",
    "        break\n",
    "\n",
    "    except ValueError as err:\n",
    "\n",
    "        print(err)\n",
    "\n",
    "\n",
    "\n",
    "cylinder_volume=volume(radius, height)\n",
    "\n",
    "print(cylinder_volume)"
   ]
  },
  {
   "cell_type": "code",
   "execution_count": 14,
   "metadata": {},
   "outputs": [
    {
     "name": "stdout",
     "output_type": "stream",
     "text": [
      "v42\n",
      "Mån: Chili sin carne\n",
      "Tis: Pannkakor\n",
      "Ons: Ärtsoppa\n",
      "Tor: Kebab\n",
      "Fre: Vegetarisk lasagne\n"
     ]
    }
   ],
   "source": [
    "dagar = \"Mån Tis Ons Tor Fre\".split(\" \") # create a list of dagar\n",
    "\n",
    "path=\"bamba.txt\"\n",
    "\n",
    "with open(path, \"r\", encoding=\"utf8\") as f1:\n",
    "\n",
    "    txt = f1.readlines()[1:]  #read every line in bamba.txt, and erase the first row: v42 \n",
    "\n",
    "    # txt = [\"Chili sin carne\\n\", \"Pannkakor\\n\"...]\n",
    "\n",
    "    foods =[row.strip(\"\\n\") for row in txt]   #foods = [\"Chili sin carne\", \"Pannkakor\"...]\n",
    "\n",
    "print(\"v42\")\n",
    "\n",
    "for dag, food in zip(dagar, foods):\n",
    "\n",
    "    print(f\"{dag}: {food}\")"
   ]
  },
  {
   "cell_type": "code",
   "execution_count": 15,
   "metadata": {},
   "outputs": [
    {
     "name": "stdout",
     "output_type": "stream",
     "text": [
      "Tusenlapp: 3\n"
     ]
    }
   ],
   "source": [
    "def change(money):\n",
    "\n",
    "    lapp_values = [1000, 500, 200, 100, 50, 20, 10, 5, 2, 1]\n",
    "\n",
    "    lapp_names=\"Tusenlapp Femhundralapp Tvåhundralapp Hundralapp Femtiolapp Tjugolapp Tiokrona Femkrona Tvåkrona Enkrona\".split()\n",
    "\n",
    "    lapps=[]\n",
    "\n",
    "    for value in lapp_values:\n",
    "\n",
    "        n = money//value   #take the integer part when divide money to the face value of a lapp\n",
    "\n",
    "        lapps.append(n)\n",
    "\n",
    "        money -= n*value  \n",
    "\n",
    "    for lapp_name, lapp in zip(lapp_names, lapps):\n",
    "\n",
    "        if lapp!= 0:\n",
    "\n",
    "            return f\"{lapp_name}: {lapp}\"\n",
    "\n",
    "#test function:\n",
    "\n",
    "print(change(3214))\n",
    "\n",
    "##för den hoppar ut ur funktionen efter return\n",
    "##så du får spara i en lista eller sträng och därefter returnera"
   ]
  },
  {
   "cell_type": "code",
   "execution_count": 4,
   "metadata": {},
   "outputs": [
    {
     "data": {
      "text/plain": [
       "{'Tusenlapp': '3', 'Tvåhundralapp': '1', 'Tiokrona': '1', 'Tvåkrona': '2'}"
      ]
     },
     "execution_count": 4,
     "metadata": {},
     "output_type": "execute_result"
    }
   ],
   "source": [
    "def change(money):\n",
    "\n",
    "    lapp_values = [1000, 500, 200, 100, 50, 20, 10, 5, 2, 1]\n",
    "\n",
    "    lapp_names=\"Tusenlapp Femhundralapp Tvåhundralapp Hundralapp Femtiolapp Tjugolapp Tiokrona Femkrona Tvåkrona Enkrona\".split()\n",
    "\n",
    "    lapps=[]\n",
    "\n",
    "    result_dict = dict()\n",
    "\n",
    "    for value in lapp_values:\n",
    "\n",
    "        n = money//value   #take the integer part when divide money to the face value of a lapp\n",
    "\n",
    "        lapps.append(n)\n",
    "\n",
    "        money -= n*value  \n",
    "\n",
    "    for lapp_name, lapp in zip(lapp_names, lapps):\n",
    "\n",
    "        if lapp!= 0:\n",
    "\n",
    "            result_dict[f\"{lapp_name}\"] = f\"{lapp}\"\n",
    "\n",
    "    return result_dict\n",
    "\n",
    "#test function:\n",
    "\n",
    "change(3214)\n",
    "\n"
   ]
  },
  {
   "cell_type": "code",
   "execution_count": 16,
   "metadata": {},
   "outputs": [
    {
     "name": "stdout",
     "output_type": "stream",
     "text": [
      "Tusenlapp: 3\n",
      "Tvåhundralapp: 1\n",
      "Tiokrona: 1\n",
      "Tvåkrona: 2\n"
     ]
    }
   ],
   "source": [
    "def change(money):\n",
    "\n",
    "    lapp_values = [1000, 500, 200, 100, 50, 20, 10, 5, 2, 1]\n",
    "\n",
    "    lapp_names=\"Tusenlapp Femhundralapp Tvåhundralapp Hundralapp Femtiolapp Tjugolapp Tiokrona Femkrona Tvåkrona Enkrona\".split()\n",
    "\n",
    "    lapps=[]\n",
    "\n",
    "    for value in lapp_values:\n",
    "\n",
    "        n = money//value   #take the integer part when divide money to the face value of a lapp\n",
    "\n",
    "        lapps.append(n)\n",
    "\n",
    "        money -= n*value  \n",
    "\n",
    "    for lapp_name, lapp in zip(lapp_names, lapps):\n",
    "\n",
    "        if lapp!= 0:\n",
    "\n",
    "            print(f\"{lapp_name}: {lapp}\")\n",
    "\n",
    "#test function:\n",
    "\n",
    "change(3214)"
   ]
  },
  {
   "cell_type": "markdown",
   "metadata": {},
   "source": [
    "## PetOwner in Exam"
   ]
  },
  {
   "cell_type": "code",
   "execution_count": 17,
   "metadata": {},
   "outputs": [
    {
     "name": "stdout",
     "output_type": "stream",
     "text": [
      "\n",
      "        Anna owns:\n",
      "        [Dog: baby_dog, Dog: doggie]\n",
      "        [Fish: fish_baby, Fish: babyfish]\n",
      "        \n",
      "\n",
      "        Babie owns:\n",
      "        [Dog: hund]\n",
      "        [Fish: littleFish]\n",
      "        \n"
     ]
    }
   ],
   "source": [
    "class Animal:\n",
    "    def __init__(self, name):\n",
    "        self.name = name\n",
    "    \n",
    "    def __repr__(self):\n",
    "        return f\"Animal: {self.name}\"\n",
    "\n",
    "class Dog(Animal):\n",
    "    def __repr__(self):\n",
    "        return f\"Dog: {self.name}\"\n",
    "\n",
    "class Fish(Animal):\n",
    "    def __repr__(self):\n",
    "        return f\"Fish: {self.name}\"\n",
    "\n",
    "class PetOwner:\n",
    "    def __init__(self, owner, dogs_list=None, fishes_list=None):\n",
    "        self.owner = owner\n",
    "        self.dogs_list = dogs_list\n",
    "        self.fishes_list = fishes_list\n",
    "\n",
    "        self.dogs_list_own = []\n",
    "        self.fishes_list_own = []\n",
    "\n",
    "        for dog in self.dogs_list:\n",
    "            dog_repr = Dog(dog)\n",
    "            self.dogs_list_own.append(dog_repr)\n",
    "\n",
    "        for fish in self.fishes_list:\n",
    "            fish_repr = Fish(fish)\n",
    "            self.fishes_list_own.append(fish_repr)   \n",
    "\n",
    "    def __repr__(self):\n",
    "        return f\"\"\"\n",
    "        {self.owner} owns:\n",
    "        {self.dogs_list_own}\n",
    "        {self.fishes_list_own}\n",
    "        \"\"\"\n",
    "\n",
    "owner1 = PetOwner(\"Anna\", [\"baby_dog\", \"doggie\"], [\"fish_baby\", \"babyfish\"] )\n",
    "print(owner1)\n",
    "owner2 = PetOwner(\"Babie\", [\"hund\"], [\"littleFish\"])\n",
    "print(owner2)"
   ]
  }
 ],
 "metadata": {
  "interpreter": {
   "hash": "8111105f47d12ec1fb8af24cde7e4ba5898ee01916168ee13b7453f45f559afc"
  },
  "kernelspec": {
   "display_name": "Python 3.9.6 64-bit ('python-programming-Yuna-Liu-WA6ACBfR': pipenv)",
   "name": "python3"
  },
  "language_info": {
   "codemirror_mode": {
    "name": "ipython",
    "version": 3
   },
   "file_extension": ".py",
   "mimetype": "text/x-python",
   "name": "python",
   "nbconvert_exporter": "python",
   "pygments_lexer": "ipython3",
   "version": "3.9.6"
  },
  "orig_nbformat": 4
 },
 "nbformat": 4,
 "nbformat_minor": 2
}
