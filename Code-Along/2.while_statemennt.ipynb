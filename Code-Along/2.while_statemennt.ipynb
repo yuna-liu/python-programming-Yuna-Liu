{
 "cells": [
  {
   "cell_type": "markdown",
   "source": [
    "# Fåglar och oljeutsläpp\r\n"
   ],
   "metadata": {}
  },
  {
   "cell_type": "code",
   "execution_count": 5,
   "source": [
    "birds, year = 8000, 0\r\n",
    "\r\n",
    "while birds >= 800:\r\n",
    "    birds /= 2\r\n",
    "    year += 1\r\n",
    "    print(f\"År {year}: antal fåglar: {birds:.0f}st\")"
   ],
   "outputs": [
    {
     "output_type": "stream",
     "name": "stdout",
     "text": [
      "År 1: antal fåglar: 4000st\n",
      "År 2: antal fåglar: 2000st\n",
      "År 3: antal fåglar: 1000st\n",
      "År 4: antal fåglar: 500st\n"
     ]
    }
   ],
   "metadata": {}
  },
  {
   "cell_type": "markdown",
   "source": [
    "## Mjölkuppgift\r\n",
    "- 1L mjölk 1 500 000 bakterier i rumstemperatur\r\n",
    "- Bdfakterier ökar med 50% per timme i rumstemp\r\n",
    "- Mjölk surnar när vi har mer än 10 000 000 st bakterier\r\n",
    "- Hur många timmar tar det tills mjölken surnar? (hela timmar)"
   ],
   "metadata": {}
  },
  {
   "cell_type": "code",
   "execution_count": 2,
   "source": [
    "timmar, bakterier = 0, 1500000\r\n",
    "faktor =1.5\r\n",
    "sur = 10000000\r\n",
    "print(bakterier)\r\n",
    "\r\n",
    "while bakterier < sur:\r\n",
    "    bakterier *= faktor\r\n",
    "    timmar += 1\r\n",
    "print(f\"Efter {timmar:.0f} timmar, mjölk snurnar\")"
   ],
   "outputs": [
    {
     "output_type": "stream",
     "name": "stdout",
     "text": [
      "1500000\n",
      "Efter 5 timmar, mjölk snurnar\n"
     ]
    }
   ],
   "metadata": {}
  },
  {
   "cell_type": "markdown",
   "source": [],
   "metadata": {}
  },
  {
   "cell_type": "code",
   "execution_count": 7,
   "source": [
    "import matplotlib.pyplot as plt\r\n",
    "\r\n",
    "\r\n",
    "timmar, bakterier = 0, 1500000\r\n",
    "faktor =1.5\r\n",
    "sur = 10000000\r\n",
    "bakterie_lista = [bakterier]\r\n",
    "print(bakterier, bakterie_lista)\r\n",
    "\r\n",
    "while bakterier < sur:\r\n",
    "    bakterier *= faktor\r\n",
    "    timmar += 1\r\n",
    "    bakterie_lista.append(bakterier)\r\n",
    "print(f\"Efter {timmar:.0f} timmar, mjölk snurnar\")\r\n",
    "print(bakterie_lista)"
   ],
   "outputs": [
    {
     "output_type": "stream",
     "name": "stdout",
     "text": [
      "1500000 [1500000]\n",
      "Efter 5 timmar, mjölk snurnar\n",
      "[1500000, 2250000.0, 3375000.0, 5062500.0, 7593750.0, 11390625.0]\n"
     ]
    }
   ],
   "metadata": {}
  }
 ],
 "metadata": {
  "orig_nbformat": 4,
  "language_info": {
   "name": "python",
   "version": "3.9.6",
   "mimetype": "text/x-python",
   "codemirror_mode": {
    "name": "ipython",
    "version": 3
   },
   "pygments_lexer": "ipython3",
   "nbconvert_exporter": "python",
   "file_extension": ".py"
  },
  "kernelspec": {
   "name": "python3",
   "display_name": "Python 3.9.6 64-bit ('python-programming-Yuna-Liu-WA6ACBfR': pipenv)"
  },
  "interpreter": {
   "hash": "8111105f47d12ec1fb8af24cde7e4ba5898ee01916168ee13b7453f45f559afc"
  }
 },
 "nbformat": 4,
 "nbformat_minor": 2
}