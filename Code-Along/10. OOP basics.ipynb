{
 "cells": [
  {
   "cell_type": "markdown",
   "source": [
    "# OOPs basics"
   ],
   "metadata": {}
  },
  {
   "cell_type": "markdown",
   "source": [
    "<img src=\"../assets/OOP.png\">"
   ],
   "metadata": {}
  },
  {
   "cell_type": "code",
   "execution_count": null,
   "source": [
    "class Antagning: # creates a class, like a sheet file in excel\r\n",
    "    def __init__(self):\r\n",
    "        pass\r\n",
    "\r\n",
    "\r\n",
    "a1 = Antagning()  # instantiated an object from the class Antagning, like the first column in different observations/rows in excel\r\n",
    "print(a1)"
   ],
   "outputs": [],
   "metadata": {}
  },
  {
   "cell_type": "code",
   "execution_count": 7,
   "source": [
    "class Antagning:\r\n",
    "    # self refers to the object that is created \r\n",
    "    # for functions or methods - positional parameters first, then default parameter\r\n",
    "    def __init__(self, school1111, program2222, name3333, accept4444) -> None: # dunder init\r\n",
    "        # assign the arguments to object attributes(egenskaper/variabler)\r\n",
    "        self.school = school1111   # self refers to which observation, then school refers to label in stata\r\n",
    "        self.program = program2222 # school1111 refers to the value for the observation for that variable.\r\n",
    "        self.name = name3333\r\n",
    "        self.accept = accept4444\r\n",
    "\r\n",
    "    def __repr__(self): # dunder __repr__ read: \"repper\"\r\n",
    "        return f\"Antagning(school='{self.school}',program='{self.program}', name='{self.name}', accept={self.accept})\"\r\n",
    "    #return f\"Antagning('{self.school}','{self.program}', '{self.name}', {self.accept})\"\r\n",
    "\r\n",
    "# note that the object is sent to the self parameter, so you only pass in 4 arguments and not 5\r\n",
    "person1 = Antagning(\"Cool school\", \"AI\", accept4444=True, name3333=\"Kokchun\") # constructor\r\n",
    "person2 = Antagning(\"Cooler school\", \"Data science\", accept4444=False, name3333 = \"Gore Bord\") \r\n",
    "\r\n",
    "\r\n",
    "print(person1.__dict__) # dunder dict\r\n",
    "\r\n",
    "print(person1.name)\r\n",
    "print(person1.school)\r\n",
    "print(person2.name)\r\n",
    "print(person2.accept)\r\n",
    "\r\n",
    "print(person2)  # dunder repr\r\n",
    "print(person1)"
   ],
   "outputs": [
    {
     "output_type": "stream",
     "name": "stdout",
     "text": [
      "{'school': 'Cool school', 'program': 'AI', 'name': 'Kokchun', 'accept': True}\n",
      "Kokchun\n",
      "Cool school\n",
      "Gore Bord\n",
      "False\n",
      "Antagning(school='Cooler school',program='Data science', name='Gore Bord', accept=False)\n",
      "Antagning(school='Cool school',program='AI', name='Kokchun', accept=True)\n"
     ]
    }
   ],
   "metadata": {}
  }
 ],
 "metadata": {
  "orig_nbformat": 4,
  "language_info": {
   "name": "python",
   "version": "3.9.6",
   "mimetype": "text/x-python",
   "codemirror_mode": {
    "name": "ipython",
    "version": 3
   },
   "pygments_lexer": "ipython3",
   "nbconvert_exporter": "python",
   "file_extension": ".py"
  },
  "kernelspec": {
   "name": "python3",
   "display_name": "Python 3.9.6 64-bit ('python-programming-Yuna-Liu-WA6ACBfR': pipenv)"
  },
  "interpreter": {
   "hash": "8111105f47d12ec1fb8af24cde7e4ba5898ee01916168ee13b7453f45f559afc"
  }
 },
 "nbformat": 4,
 "nbformat_minor": 2
}