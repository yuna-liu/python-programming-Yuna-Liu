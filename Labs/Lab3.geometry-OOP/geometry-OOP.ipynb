{
 "cells": [
  {
   "cell_type": "markdown",
   "source": [
    "# Lab 3 - Geometry OOP\r\n",
    "- The purpose of this lab is to use object-oriented programming in Python to\r\n",
    "design programs with good structure.\r\n",
    "- In this laboratory I will start by planning how I want to structure my classes with help\r\n",
    "of UML and then implement my planning in Python.\r\n",
    "\r\n",
    "Date: 2021-09-30\r\n"
   ],
   "metadata": {}
  },
  {
   "cell_type": "markdown",
   "source": [
    "## Questions:\r\n",
    "- I have tested test_validate_number, should I test with self.assertRaises(TypeError) again this Shape.validate_number(\"5\") for testing translate method: \r\n",
    "def translate(self, x_move:float, y_move:float) -> None:\r\n",
    "        self._x =  self.x + Shape.validate_number(x_move)\r\n",
    "        self._y =  self.y + Shape.validate_number(y_move)\r\n",
    "- radius or sides should not be zero? Or else it is not a circle/rectangle but a point.\r\n",
    "- how can I use siblings method? For example, the is_inside() method in Circle to Sphere.\r\n",
    "- What about a rectangle with the same type, the same area, but different sides, for example (side1, side2): (1,2) and (2,1)\r\n",
    "- \"koden är välstrukturerad med lämpliga klasser, funktioner, metoder\", jag fattar inte hur välstrukturerad ska lösningar bli...\r\n"
   ],
   "metadata": {}
  },
  {
   "cell_type": "code",
   "execution_count": 4,
   "source": [
    "from math import pi\r\n",
    "from math import sqrt\r\n",
    "from geometry_shape import Shape\r\n",
    "from circle import Circle\r\n",
    "from rectangle import Rectangle\r\n",
    "from cube import Cube\r\n",
    "from sphere import Sphere"
   ],
   "outputs": [],
   "metadata": {}
  },
  {
   "cell_type": "code",
   "execution_count": 5,
   "source": [
    "cirkel1 = Circle(x=0,y=0, radius=1) # enhetscirkel\r\n",
    "cirkel2 = Circle(x=1,y=1, radius=1)\r\n",
    "print(cirkel1)\r\n",
    "print(cirkel1.radius)\r\n",
    "print(cirkel2)\r\n",
    "\r\n",
    "print(cirkel1.area())\r\n",
    "print(cirkel2.area())\r\n",
    "\r\n",
    "print(cirkel1.perimeter())\r\n",
    "print(cirkel2.perimeter())\r\n",
    "\r\n",
    "print(cirkel1.is_inside(0.1, 0.1))\r\n",
    "print(cirkel2.is_inside(0.1, 0.1))\r\n",
    "\r\n",
    "print(cirkel1.is_inside(0.99, 0.99)) \r\n",
    "print(cirkel1.is_inside(0.5, 0.7)) \r\n",
    "print(cirkel2.is_inside(0.8, 0.8)) \r\n"
   ],
   "outputs": [
    {
     "output_type": "stream",
     "name": "stdout",
     "text": [
      "Circle with center point: (0, 0) with radius: 1\n",
      "1\n",
      "Circle with center point: (1, 1) with radius: 1\n",
      "3.141592653589793\n",
      "3.141592653589793\n",
      "6.283185307179586\n",
      "6.283185307179586\n",
      "True\n",
      "False\n",
      "False\n",
      "True\n",
      "True\n"
     ]
    }
   ],
   "metadata": {}
  },
  {
   "cell_type": "code",
   "execution_count": 6,
   "source": [
    "try:\r\n",
    "    Shape.eu_dis(0,1,0,\"2\",0,0)\r\n",
    "except TypeError as err:\r\n",
    "    print(err)"
   ],
   "outputs": [
    {
     "output_type": "stream",
     "name": "stdout",
     "text": [
      "integer or float needed here, not <class 'str'>.\n"
     ]
    }
   ],
   "metadata": {}
  },
  {
   "cell_type": "code",
   "execution_count": 7,
   "source": [
    "print(cirkel1==cirkel2) # True\r\n",
    "print(cirkel1.area())\r\n",
    "print(cirkel2.area())"
   ],
   "outputs": [
    {
     "output_type": "stream",
     "name": "stdout",
     "text": [
      "True\n",
      "3.141592653589793\n",
      "3.141592653589793\n"
     ]
    }
   ],
   "metadata": {}
  },
  {
   "cell_type": "code",
   "execution_count": 6,
   "source": [
    "cirkel1.translate(5,5)\r\n",
    "print(cirkel1.x)\r\n",
    "print(cirkel1.y)"
   ],
   "outputs": [
    {
     "output_type": "stream",
     "name": "stdout",
     "text": [
      "5\n",
      "5\n"
     ]
    }
   ],
   "metadata": {}
  },
  {
   "cell_type": "code",
   "execution_count": 7,
   "source": [
    "print(cirkel1.translate(-5,5))"
   ],
   "outputs": [
    {
     "output_type": "stream",
     "name": "stdout",
     "text": [
      "None\n"
     ]
    }
   ],
   "metadata": {}
  },
  {
   "cell_type": "code",
   "execution_count": 8,
   "source": [
    "try:\r\n",
    "    cirkel1.translate(\"TRE\",5)\r\n",
    "except TypeError as err:\r\n",
    "    print(err)\r\n"
   ],
   "outputs": [
    {
     "output_type": "stream",
     "name": "stdout",
     "text": [
      "integer or float needed here, not <class 'str'>.\n"
     ]
    }
   ],
   "metadata": {}
  },
  {
   "cell_type": "code",
   "execution_count": 20,
   "source": [
    "try:\r\n",
    "    rektangel = Rectangle(0,0,0, 1)\r\n",
    "except ValueError as err:\r\n",
    "    print(err)\r\n",
    "    \r\n",
    "rektangel = Rectangle(x=0,y=0,side1=1, side2=1)\r\n",
    "\r\n",
    "print(rektangel.area())\r\n",
    "print(rektangel.perimeter())\r\n",
    "print(cirkel2==rektangel) # False\r\n",
    "print(rektangel.is_inside(0.5, 0.5)) # True\r\n",
    "print(rektangel.is_inside(0.6, 0.5)) # False\r\n"
   ],
   "outputs": [
    {
     "output_type": "stream",
     "name": "stdout",
     "text": [
      "positive number needed here. 0 is not ok.\n",
      "1\n",
      "4\n",
      "False\n",
      "True\n",
      "False\n"
     ]
    }
   ],
   "metadata": {}
  },
  {
   "cell_type": "code",
   "execution_count": 21,
   "source": [
    "rektange2 = Rectangle(x=0,y=0,side1=2, side2=1)\r\n",
    "rektange3 = Rectangle(x=0,y=0,side1=1, side2=2)\r\n",
    "print(rektange2 == rektange3)"
   ],
   "outputs": [
    {
     "output_type": "stream",
     "name": "stdout",
     "text": [
      "False\n"
     ]
    }
   ],
   "metadata": {}
  },
  {
   "cell_type": "code",
   "execution_count": 11,
   "source": [
    "rektangel.translate(5,-5)"
   ],
   "outputs": [],
   "metadata": {}
  },
  {
   "cell_type": "code",
   "execution_count": 12,
   "source": [
    "from geometry_shape import Shape\r\n",
    "\r\n",
    "class Cube(Shape):\r\n",
    "    def __init__(self, x: float, y: float, z:float, side: float) -> None:\r\n",
    "        super().__init__(x,y)\r\n",
    "        self.z = z\r\n",
    "        self.side = side\r\n",
    "\r\n",
    "    @property\r\n",
    "    def z(self) -> float:\r\n",
    "        return self._z\r\n",
    "    \r\n",
    "    @z.setter\r\n",
    "    def z(self, value: float) -> None:\r\n",
    "        self._z = Shape.validate_number(value)\r\n",
    "    \r\n",
    "    @property\r\n",
    "    def side(self) -> float:\r\n",
    "        return self._side\r\n",
    "    \r\n",
    "    @side.setter\r\n",
    "    def side(self, value: float) -> None:\r\n",
    "        self._side = Shape.validate_positive_number(value)\r\n",
    "    \r\n",
    "    def area(self) -> float:\r\n",
    "        return 6*self.side**2\r\n",
    "    \r\n",
    "    def perimeter(self) -> float:\r\n",
    "        return 12*self.side\r\n",
    "    \r\n",
    "    def volume(self) -> float:\r\n",
    "        return self.side**3\r\n",
    "\r\n",
    "    # return whether a point is in a shape.\r\n",
    "    # x_point, y_point, z_point are checked valid through Shape.hori_ver_dis() method.\r\n",
    "    def is_inside(self,x_point:float, y_point:float, z_point:float) -> bool:\r\n",
    "        return Shape.hori_ver_dis(self.x, x_point) <= 0.5*self.side and Shape.hori_ver_dis(self.y, y_point) <= 0.5*self.side and Shape.hori_ver_dis(self.z, z_point) <= 0.5*self.side\r\n",
    "\r\n",
    "    def translate(self, x_move:float, y_move:float,z_move:float) -> None:\r\n",
    "        super().translate(x_move, y_move)\r\n",
    "        self._z = self.z + Shape.validate_number(z_move) \r\n",
    "\r\n",
    "    def __eq__(self, other) -> bool:\r\n",
    "        return type(self) == type(self) and self.side() == other.side()\r\n",
    " \r\n",
    "    def __repr__(self) -> str:\r\n",
    "        return f\"Cube with center point: ({self.x}, {self.y}, {self.z}) with side length: {self.side}\"        "
   ],
   "outputs": [],
   "metadata": {}
  },
  {
   "cell_type": "code",
   "execution_count": 13,
   "source": [
    "cube1 = Cube(0, 0, 0, 1)\r\n",
    "print(cube1)\r\n",
    "print(cube1.is_inside(0.5, 0.5, 0.5))\r\n",
    "print(cube1.is_inside(0.6, 0.5, 0.5))\r\n"
   ],
   "outputs": [
    {
     "output_type": "stream",
     "name": "stdout",
     "text": [
      "cube with center point: (0, 0, 0) with side length: 1\n",
      "True\n",
      "False\n"
     ]
    }
   ],
   "metadata": {}
  },
  {
   "cell_type": "code",
   "execution_count": 14,
   "source": [
    "cube1.translate(1,1,1)\r\n"
   ],
   "outputs": [],
   "metadata": {}
  },
  {
   "cell_type": "code",
   "execution_count": 15,
   "source": [
    "print(cube1.x)\r\n",
    "print(cube1.y)\r\n",
    "print(cube1.z)"
   ],
   "outputs": [
    {
     "output_type": "stream",
     "name": "stdout",
     "text": [
      "1\n",
      "1\n",
      "1\n"
     ]
    }
   ],
   "metadata": {}
  },
  {
   "cell_type": "code",
   "execution_count": 4,
   "source": [
    "from geometry_shape import Shape\r\n",
    "from math import pi\r\n",
    "\r\n",
    "\r\n",
    "class Sphere(Shape):\r\n",
    "    def __init__(self, x: float, y: float, z:float, radius: float) -> None:\r\n",
    "        super().__init__(x,y)\r\n",
    "        self.z = z\r\n",
    "        self.radius = radius\r\n",
    "\r\n",
    "    @property\r\n",
    "    def z(self) -> float:\r\n",
    "        return self._z\r\n",
    "    \r\n",
    "    @z.setter\r\n",
    "    def z(self, value: float) -> None:\r\n",
    "        self._z = Shape.validate_number(value)\r\n",
    "    \r\n",
    "    @property\r\n",
    "    def radius(self) -> float:\r\n",
    "        return self._radius\r\n",
    "    \r\n",
    "    @radius.setter\r\n",
    "    def radius(self, value: float) -> None:\r\n",
    "        self._radius = Shape.validate_positive_number(value)\r\n",
    "    \r\n",
    "    def surface_area(self) -> float:\r\n",
    "        return 4*pi*self.radius**2\r\n",
    "    \r\n",
    "    def volume(self) -> float:\r\n",
    "        return (4/3)*pi*self.radius**3\r\n",
    "\r\n",
    "    # return whether a point is in a shape\r\n",
    "    # x_point, y_point, z_point are checked valid through Shape.eu_dis() method.\r\n",
    "    def is_inside(self,x_point:float, y_point:float, z_point:float) -> bool:\r\n",
    "        mid_to_point = Shape.eu_dis(self.x, x_point, self.y, y_point, self.z, z_point)\r\n",
    "        return mid_to_point <= self.radius\r\n",
    "\r\n",
    "    def translate(self, x_move:float, y_move:float,z_move:float) -> None:\r\n",
    "        super().translate(x_move, y_move)\r\n",
    "        self._z = self.z + Shape.validate_number(z_move) \r\n",
    "\r\n",
    "    # to compare whether two shapes have the same area\r\n",
    "    def __eq__(self, other) -> bool:\r\n",
    "        return type(self) == type(other) and self.radius() == other.radius()\r\n",
    " \r\n",
    "    def __repr__(self) -> str:\r\n",
    "        return f\"Sphere with center point: ({self.x}, {self.y}, {self.z}) with radius: {self.radius}\" "
   ],
   "outputs": [],
   "metadata": {}
  },
  {
   "cell_type": "code",
   "execution_count": 5,
   "source": [
    "sphere1 = Sphere(x=0,y=0, z=0, radius=1) \r\n",
    "sphere2 = Sphere(x=1,y=1, z=1, radius=1)\r\n",
    "print(sphere1)\r\n",
    "print(sphere1.radius)\r\n",
    "print(sphere2)\r\n",
    "\r\n",
    "print(sphere1.area())\r\n",
    "print(sphere2.area())\r\n",
    "\r\n",
    "print(sphere1.perimeter())\r\n",
    "print(sphere2.perimeter())\r\n",
    "\r\n",
    "\r\n",
    "print(sphere1.is_inside(0.99, 0.99, 0.99)) \r\n",
    "print(sphere1.is_inside(0.5, 0.6,0.6)) \r\n",
    "print(sphere2.is_inside(0.1, 0.1, 0.1)) "
   ],
   "outputs": [
    {
     "output_type": "stream",
     "name": "stdout",
     "text": [
      "Sphere with center point: (0, 0, 0) with radius: 1\n",
      "1\n",
      "Sphere with center point: (1, 1, 1) with radius: 1\n",
      "12.566370614359172\n",
      "12.566370614359172\n",
      "6.283185307179586\n",
      "6.283185307179586\n",
      "False\n",
      "True\n",
      "False\n"
     ]
    }
   ],
   "metadata": {}
  },
  {
   "cell_type": "code",
   "execution_count": 18,
   "source": [
    "print(Shape.eu_dis(0, 0.5, 0, 0.6, 0, 0.6))"
   ],
   "outputs": [
    {
     "output_type": "stream",
     "name": "stdout",
     "text": [
      "0.9848857801796105\n"
     ]
    }
   ],
   "metadata": {}
  }
 ],
 "metadata": {
  "orig_nbformat": 4,
  "language_info": {
   "name": "python",
   "version": "3.9.6",
   "mimetype": "text/x-python",
   "codemirror_mode": {
    "name": "ipython",
    "version": 3
   },
   "pygments_lexer": "ipython3",
   "nbconvert_exporter": "python",
   "file_extension": ".py"
  },
  "kernelspec": {
   "name": "python3",
   "display_name": "Python 3.9.6 64-bit ('python-programming-Yuna-Liu-WA6ACBfR': pipenv)"
  },
  "interpreter": {
   "hash": "8111105f47d12ec1fb8af24cde7e4ba5898ee01916168ee13b7453f45f559afc"
  }
 },
 "nbformat": 4,
 "nbformat_minor": 2
}