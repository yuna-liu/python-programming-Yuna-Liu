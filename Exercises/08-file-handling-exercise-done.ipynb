{
 "cells": [
  {
   "cell_type": "markdown",
   "metadata": {},
   "source": [
    "# The solution to exercise 08: file handling exercises\n",
    "\n",
    "Date: 2021-09-13\n",
    "\n",
    "The questions can be found [here][exercise_link]:\n",
    "\n",
    "[exercise_link]: https://github.com/kokchun/Programmering-med-Python-21/blob/main/Exercises/08-file-handling.ipynb"
   ]
  },
  {
   "cell_type": "markdown",
   "metadata": {},
   "source": [
    "## 1. Dice rolls (*)\n",
    "Create a textfile called **dice_rolls.txt** using Python. Also for each subtask, write adequate headers. \n",
    "\n",
    "&nbsp; a) &nbsp; Simulate 20 dice rolls and write them to your textfile. (*)\n",
    "\n",
    "&nbsp; b) &nbsp; Sort the dice rolls from a) and write them to a separate row in the same textfile. (*)\n",
    "\n",
    "&nbsp; c) &nbsp; Count the number of fours in the dice rolls and write them to a separate row in the same textfile. (*)\n",
    "\n",
    "<details>\n",
    "\n",
    "<summary>Answer </summary>\n",
    "\n",
    "For example: \n",
    "\n",
    "```\n",
    "\n",
    "Simulate 20 dice rolls:\n",
    "[3 4 4 3 1 2 6 6 4 6 2 4 5 3 1 2 1 3 3 1]\n",
    "\n",
    "Sorted dice rolls:\n",
    "[1 1 1 1 2 2 2 3 3 3 3 3 4 4 4 4 5 6 6 6]\n",
    "\n",
    "Number of fours: 4\n",
    "\n",
    "```\n",
    "\n",
    "</details>"
   ]
  },
  {
   "cell_type": "code",
   "execution_count": 22,
   "metadata": {},
   "outputs": [
    {
     "name": "stdout",
     "output_type": "stream",
     "text": [
      "<_io.TextIOWrapper name='../files/dice_rolls.txt' mode='w' encoding='cp1252'>\n",
      "<class '_io.TextIOWrapper'>\n"
     ]
    },
    {
     "data": {
      "text/plain": [
       "' 4\\n5\\n3\\n5\\n5\\n4\\n4\\n5\\n4\\n1\\n1\\n5\\n6\\n3\\n5\\n4\\n2\\n6\\n3\\n2 '"
      ]
     },
     "execution_count": 22,
     "metadata": {},
     "output_type": "execute_result"
    }
   ],
   "source": [
    "import random\n",
    "\n",
    "path = \"../files/dice_rolls.txt\"\n",
    "\n",
    "\n",
    "\n",
    "with open(path, \"w\") as f1:\n",
    "    for i in range(20):\n",
    "        dice_roll = random.randint(1,6)  # two variables.\n",
    "        f1.write(f\"{dice_roll} \" )  # write only accept string.\n",
    "    print(f1)\n",
    "    print(type(f1))\n",
    "\n",
    "# print( , end= \" \"), for example: print(f\"{i}\", end =\"*\"), or print(n, end=\" \")\n",
    "\n",
    "# f1.write(f\"{dice_roll}, end=' ' \"): then output is:\n",
    "#6, end=' ' 3, end=' ' 6, end=' ' 5, end=' ' 4, end=' ' 1, end=' ' 5, end=' ' 1, end=' ' 1, end=' ' 6, end=' ' 5, end=' ' 1, end=' ' 4, end=' ' 3, end=' ' 6, end=' ' 5, end=' ' 6, end=' ' 4, end=' ' 3,\n",
    "\n",
    "# f1.write(f\"{dice_roll}\", end=' '), the output is:\n",
    "# TypeError: TextIOWrapper.write() takes no keyword arguments\n",
    "\n",
    "# f1.write(f\"{dice_roll}\\n\" ), output is:\n",
    "\"\"\" 4\n",
    "5\n",
    "3\n",
    "5\n",
    "5\n",
    "4\n",
    "4\n",
    "5\n",
    "4\n",
    "1\n",
    "1\n",
    "5\n",
    "6\n",
    "3\n",
    "5\n",
    "4\n",
    "2\n",
    "6\n",
    "3\n",
    "2 \"\"\"\n",
    "\n",
    "# f1.write(f\"{dice_roll}\" )，output is\n",
    "# 64541461366265335312\n",
    "\n",
    "\n",
    "# f1.write(f\"{dice_roll} \" )， output is\n",
    "# 1 1 6 5 1 6 3 1 3 1 5 4 4 1 5 2 6 3 6 4\n",
    "\n",
    "# \"r\" then f1.append; but \"w\" then  f1.write\n",
    "# press \"ESC\" then \"L\" shows the number of lines."
   ]
  },
  {
   "cell_type": "code",
   "execution_count": 16,
   "metadata": {},
   "outputs": [
    {
     "name": "stdout",
     "output_type": "stream",
     "text": [
      "<class '_io.TextIOWrapper'>\n",
      "<_io.TextIOWrapper name='../files/dice_rolls_2.txt' mode='w' encoding='cp1252'>\n"
     ]
    }
   ],
   "source": [
    "import random\n",
    "\n",
    "path = \"../files/dice_rolls_2.txt\"\n",
    "\n",
    "with open(path, \"w\") as f1:\n",
    "    dice_rolls = [random.randint(1,6)for _ in range(20)]  # dice_rolls is now a list\n",
    "    #f1.write(dice_rolls)  #TypeError: write() argument must be str, not list\n",
    "    f1.write(f\"{dice_rolls}\") #för du kan inte skriva en lista med hjälp av write, utan du behöver typomvandla den till str, vilket görs med f-string\n",
    "    print(type(f1))\n",
    "    print(f1) \n",
    "\n",
    "# output is:\n",
    "# [6, 4, 6, 2, 1, 5, 6, 2, 1, 5, 4, 5, 5, 6, 4, 4, 3, 1, 3, 6]"
   ]
  },
  {
   "cell_type": "code",
   "execution_count": 19,
   "metadata": {},
   "outputs": [
    {
     "name": "stdout",
     "output_type": "stream",
     "text": [
      "['6 3 3 4 2 1 2 5 6 4 3 5 1 3 3 6 3 5 1 2 ']\n",
      "['6', '3', '3', '4', '2', '1', '2', '5', '6', '4', '3', '5', '1', '3', '3', '6', '3', '5', '1', '2']\n",
      "<class 'list'>\n",
      "['1', '1', '1', '2', '2', '2', '3', '3', '3', '3', '3', '3', '4', '4', '5', '5', '5', '6', '6', '6']\n"
     ]
    }
   ],
   "source": [
    "path = \"../files/dice_rolls.txt\"\n",
    "\n",
    "with open(path, \"r+\") as f1:\n",
    "    text_1 = f1.readlines() #f1.readlines() generates a list of strings, where one string created for each row.\n",
    "    print(text_1)   # text is a list of one string. This string is very long.\n",
    "    text = text_1[0].split() # when I use text = text_1[0].split(\" \"), it generates a string \" \".\n",
    "    print(text)\n",
    "    print(type(text))\n",
    "    text.sort()\n",
    "    #text_sorted = sorted(text)\n",
    "    print(text)\n",
    "   \n",
    "    # f1.write(f\"\\n{text}\")  # output: ['1', '1', '1', '2', '2', '2', '3', '3', '3', '3', '3', '4', '4', '4', '5', '5', '6', '6', '6', '6']\n",
    "    \n",
    "    f1.write(f\"\\n\\nSort it: \\n\")\n",
    "    for num in text:\n",
    "        #f1.write(num,\" \")\n",
    "        f1.write(f\"{num} \")\n",
    "    # 1 1 1 2 2 2 3 3 3 3 3 4 4 4 5 5 6 6 6 6 \n",
    "\n",
    "# l = [1,2,3]\n",
    "# with open (...) as f:\n",
    "#    f.write(f\"{l}\")\n",
    "\n"
   ]
  },
  {
   "cell_type": "code",
   "execution_count": 23,
   "metadata": {},
   "outputs": [
    {
     "name": "stdout",
     "output_type": "stream",
     "text": [
      "2 2 6 1 2 5 1 1 2 2 1 4 4 1 3 5 2 1 6 1 \n",
      "<class 'str'>\n",
      "['1', '1', '1', '1', '1', '1', '1', '2', '2', '2', '2', '2', '2', '3', '4', '4', '5', '5', '6', '6']\n"
     ]
    }
   ],
   "source": [
    "path = \"../files/dice_rolls.txt\"\n",
    "with open(path, \"r+\") as f1:\n",
    "    text_1 = f1.read() # f1 has only one line, so it is better to use f1.read() into one string\n",
    "    print(text_1)\n",
    "    print(type(text_1))\n",
    "    text = text_1.split() # when I use text = text_1[0].split(\" \"), it generates a string \" \".\n",
    "    text.sort()\n",
    "    #text_sorted = sorted(text)\n",
    "    print(text)"
   ]
  },
  {
   "cell_type": "code",
   "execution_count": 42,
   "metadata": {},
   "outputs": [
    {
     "name": "stdout",
     "output_type": "stream",
     "text": [
      "['2', '2', '6', '1', '2', '5', '1', '1', '2', '2', '1', '4', '4', '1', '3', '5', '2', '1', '6', '1']\n",
      "2\n",
      "2\n",
      "0\n"
     ]
    }
   ],
   "source": [
    "with open(path, \"r+\") as f1:\n",
    "    text = f1.readlines()\n",
    "    text = text[0].split()\n",
    "    print(text)\n",
    "    \n",
    "    fours = [int(i_) for i_ in text if i_ == \"4\"]\n",
    "    print(len(fours))\n",
    "\n",
    "    fours_count = text.count(\"4\")\n",
    "    print(fours_count)\n",
    "\n",
    "    \n",
    "    fours_count = text.count(4)\n",
    "    print(fours_count)\n",
    "    \n",
    "    f1.write(f\"\\n\\n\")\n",
    "    f1.write(f\"There are {len(fours)} fours\")"
   ]
  },
  {
   "cell_type": "markdown",
   "metadata": {},
   "source": [
    "---\n",
    "## 2. Test results (*)\n",
    "Read in the file [test_result.txt][test_result] in Python.\n",
    "\n",
    "[test_result]: https://github.com/kokchun/Programmering-med-Python-21/blob/main/Files/test_result.txt\n",
    "\n",
    "&nbsp; a) &nbsp; Print out the text in the terminal (*)\n",
    "\n",
    "&nbsp; b) &nbsp; Create new rows in the same file and write the people and their corresponding scores in alphabetical order. (*)\n",
    "\n",
    "&nbsp; c) &nbsp; Create additional rows in the same file and sort the people after their grades. The grade limits are: (**)\n",
    "\n",
    "- F < 20\n",
    "- E: 20-29\n",
    "- D: 30-39\n",
    "- C: 40-49\n",
    "- B: 50-59\n",
    "- A: 60-70\n",
    "\n",
    "<details>\n",
    "\n",
    "<summary>Hint </summary>\n",
    "\n",
    "Open the file using option \"r\" for read and open the file using option \"a\" for append. \n",
    "\n",
    "</details>\n",
    "<br>\n",
    "<details>\n",
    "\n",
    "<summary>Answer </summary>\n",
    "\n",
    "```\n",
    "\n",
    "Adam Gustafsson 25\n",
    "Emil Johansson 23\n",
    "Sven Erik Karlsson 13\n",
    "Ove Karlsten 41\n",
    "Emma Boden 32\n",
    "Ida Håkansson 23\n",
    "Ella Ester 41\n",
    "Hanna Karlsson 23 \n",
    "Johan Johansson 42\n",
    "Sven Erik Lundin 39\n",
    "Björn Björnsson 39\n",
    "Karl Karlsson 32\n",
    "Bose Bosseson 32\n",
    "Håkan Håkanson 24\n",
    "Jonas Jonasson 31\n",
    "Erik Eriksson 31\n",
    "Gore Bord 55\n",
    "Jakob Kallander 65\n",
    "Fredrika Ulven 10\n",
    "\n",
    "Sorted alphabetically\n",
    "Adam Gustafsson 25\n",
    "Björn Björnsson 39\n",
    "Bose Bosseson 32\n",
    "Ella Ester 41\n",
    "Emil Johansson 23\n",
    "Emma Boden 32\n",
    "Erik Eriksson 31\n",
    "Fredrika Ulven 10\n",
    "Gore Bord 55\n",
    "Hanna Karlsson 23\n",
    "Håkan Håkanson 24\n",
    "Ida Håkansson 23\n",
    "Jakob Kallander 65\n",
    "Johan Johansson 42\n",
    "Jonas Jonasson 31\n",
    "Karl Karlsson 32\n",
    "Ove Karlsten 41\n",
    "Sven Erik Karlsson 13\n",
    "Sven Erik Lundin 39\n",
    "\n",
    "Sorted results: \n",
    "Grade: F\n",
    "Fredrika Ulven 10\n",
    "Sven Erik Karlsson 13\n",
    "Grade: E\n",
    "Adam Gustafsson 25\n",
    "Emil Johansson 23\n",
    "Hanna Karlsson 23\n",
    "Håkan Håkanson 24\n",
    "Ida Håkansson 23\n",
    "Grade: D\n",
    "Björn Björnsson 39\n",
    "Bose Bosseson 32\n",
    "Emma Boden 32\n",
    "Erik Eriksson 31\n",
    "Jonas Jonasson 31\n",
    "Karl Karlsson 32\n",
    "Sven Erik Lundin 39\n",
    "Grade: C\n",
    "Ella Ester 41\n",
    "Johan Johansson 42\n",
    "Ove Karlsten 41\n",
    "Grade: B\n",
    "Gore Bord 55\n",
    "Grade: A\n",
    "Jakob Kallander 65\n",
    "\n",
    "```\n",
    "\n",
    "</details>"
   ]
  },
  {
   "cell_type": "code",
   "execution_count": 89,
   "metadata": {},
   "outputs": [
    {
     "name": "stdout",
     "output_type": "stream",
     "text": [
      "['Adam Gustafsson 25', 'Björn Björnsson 39', 'Bose Bosseson 32', 'Ella Ester 41', 'Emil Johansson 23', 'Emma Boden 32', 'Erik Eriksson 31', 'Fredrika Ulven 10', 'Gore Bord 55', 'Hanna Karlsson 23 ', 'Håkan Håkanson 24', 'Ida Håkansson 23', 'Jakob Kallander 65', 'Johan Johansson 42', 'Jonas Jonasson 31', 'Karl Karlsson 32', 'Ove Karlsten 41', 'Sven Erik Karlsson 13', 'Sven Erik Lundin 39']\n"
     ]
    }
   ],
   "source": [
    "path = \"../Files/test_result.txt\"\n",
    "path_new = \"../Files/test_result_new.txt\"\n",
    "\n",
    "with open(path, \"r\", encoding = \"utf8\") as f1, open(path_new, \"w\", encoding = \"utf8\") as f2:\n",
    "    # remove all \"\\n\" when reading f1 (code: .strip(\"\\n\"))\n",
    "    text = [text.strip(\"\\n\") for text in f1.readlines()] \n",
    "    \n",
    "    text.sort()\n",
    "    print(text)\n",
    "    #f2.write(f\"{text}\")  # generate a list of strings: [a, b, c, ...]\n",
    "    \n",
    "    f2.write(\"Sorted alphabetically: \\n\\n\")\n",
    "    for name_score in text:\n",
    "        f2.write(f\"{name_score}\\n\")\n",
    "    \n",
    "    text_sorted = sorted (text, key = lambda data_entry: data_entry.split()[-1] )\n",
    " \n",
    "\n",
    "    f2.write(\"\\n\\nSorted results:\\n\")\n",
    "    grades = list(\"FEDCBA\")\n",
    "    i = 10\n",
    "    j = 20\n",
    "    for grade in grades:\n",
    "        f2.write(f\"\\nGrade: {grade}\")\n",
    "        for name_score in text_sorted:\n",
    "            score = int(name_score.split()[-1])\n",
    "            if i <= score < j:\n",
    "                f2.write(f\"\\n{name_score}\")\n",
    "        i += 10\n",
    "        j += 10\n",
    "           \n",
    "    "
   ]
  },
  {
   "cell_type": "markdown",
   "metadata": {},
   "source": [
    "---\n",
    "## 3. National test (*)\n",
    "Read in the file [NPvt19Ma2A.txt][files] and [NPvt19Ma2C.txt][files] in Python. Use **matplotlib** to plot pie charts for each grade categories in each file. (*)\n",
    "\n",
    "[files]: https://github.com/kokchun/Programmering-med-Python-21/tree/main/Files\n",
    "\n",
    "<details>\n",
    "\n",
    "<summary>Hint </summary>\n",
    "\n",
    "Use **subplot** in **matplotlib**\n",
    "\n",
    "</details>\n",
    "<br>\n",
    "<details>\n",
    "\n",
    "<summary>Answer </summary>\n",
    "\n",
    "<img align=\"left\" src=\"../assets/NP.png\" width=\"300\"/>\n",
    "\n",
    "</details>"
   ]
  },
  {
   "cell_type": "code",
   "execution_count": 98,
   "metadata": {},
   "outputs": [
    {
     "name": "stdout",
     "output_type": "stream",
     "text": [
      "['0.0', '0.0', '2.4', '5.3', '37.3', '55.0']\n",
      "['8.4', '14.2', '26.9', '16.6', '21.3', '12.6']\n"
     ]
    },
    {
     "data": {
      "image/png": "[encoded data removed]",
      "text/plain": [
       "<Figure size 1500x600 with 2 Axes>"
      ]
     },
     "metadata": {},
     "output_type": "display_data"
    }
   ],
   "source": [
    "import matplotlib.pyplot as plt\n",
    "\n",
    "path_1 = \"../Files/NPvt19Ma2A.txt\"\n",
    "path_2 = \"../Files/NPvt19Ma2C.txt\"\n",
    "\n",
    "def get_data(path):\n",
    "    with open(path, \"r\") as f1:\n",
    "        #plt.pie will automatically calculate the % through autopct=\"%1.1f%%\"\n",
    "        txt = f1.readlines()\n",
    "        y_number = [line.strip(\"\\n\").replace(\"%\", \"\").split()[1] for line in txt]\n",
    "        print(y_number)\n",
    "        # remember of using readlines.() for only one time\n",
    "        y_number = [float(i) for i in y_number]\n",
    "        grades = [line.strip(\"\\n\").replace(\"%\", \"\").split()[0] for line in txt]\n",
    "        return [y_number, grades]\n",
    "\n",
    "def draw_data(y1_number, grades_1, y2_number, grades_2):\n",
    "    myexplode = [0, 0, 0, 0, 0, 0.1]\n",
    "    fig, ax = plt.subplots(1, 2, dpi=150, figsize=(10, 4))\n",
    "    fig.set_facecolor('lightgrey')\n",
    "    ax[0].pie(y1_number, labels = grades_1, explode = myexplode, autopct='%1.1f%%')\n",
    "    ax[0].legend(loc=\"upper right\")\n",
    "    ax[1].pie(y2_number, labels = grades_2, explode = myexplode, autopct='%1.1f%%')\n",
    "    ax[1].legend(loc=\"upper right\") \n",
    "    \n",
    "\n",
    "grades_percentages_1 = get_data(path_1)\n",
    "grades_percentages_2 = get_data(path_2)\n",
    "draw_data(grades_percentages_1[0], grades_percentages_1[1], grades_percentages_2[0], grades_percentages_2[1])"
   ]
  },
  {
   "cell_type": "code",
   "execution_count": 77,
   "metadata": {},
   "outputs": [
    {
     "data": {
      "image/png": "[encoded data removed]",
      "text/plain": [
       "<Figure size 432x288 with 1 Axes>"
      ]
     },
     "metadata": {},
     "output_type": "display_data"
    }
   ],
   "source": [
    "# Python matplotlib Pie Chart Examples\n",
    "\n",
    "from matplotlib import pyplot as plt\n",
    "\n",
    "x = [\"22\", \"9\", \"40\", \"27\", \"55\"]  # the program converts str to float self.\n",
    "y = ['C', 'C++', 'Java', 'Python', 'JavaScript']\n",
    "\n",
    "plt.pie(x, labels = y, autopct = '%1.2f%%')\n",
    "plt.show()"
   ]
  },
  {
   "cell_type": "markdown",
   "metadata": {},
   "source": [
    "---\n",
    "## 4. Dice roll experiment (**)\n",
    "Simulate 10, 100, 1000, 10000, 100000 dice rolls and count the freqencies and probabilities for each number in each simulation. Create a new text file using Python with the name \"simulation.txt\" and write the results to that text file.(**)\n",
    "\n",
    "[files]: https://github.com/kokchun/Programmering-med-Python-21/tree/main/Files\n",
    "\n",
    "<details>\n",
    "\n",
    "<summary>Answer </summary>\n",
    "\n",
    "```\n",
    "\n",
    "Number of rolls: 10 \n",
    "Ones: 4, probability: 0.4\n",
    "Twos: 1, probability: 0.1\n",
    "Threes: 1, probability: 0.1\n",
    "Fours: 2, probability: 0.2\n",
    "Fives: 1, probability: 0.1\n",
    "Sixes: 1, probability: 0.1\n",
    "\n",
    "Number of rolls: 100 \n",
    "Ones: 16, probability: 0.16\n",
    "Twos: 12, probability: 0.12\n",
    "Threes: 24, probability: 0.24\n",
    "Fours: 18, probability: 0.18\n",
    "Fives: 16, probability: 0.16\n",
    "Sixes: 14, probability: 0.14\n",
    "\n",
    "Number of rolls: 1000 \n",
    "Ones: 181, probability: 0.181\n",
    "Twos: 167, probability: 0.167\n",
    "Threes: 184, probability: 0.184\n",
    "Fours: 152, probability: 0.152\n",
    "Fives: 168, probability: 0.168\n",
    "Sixes: 148, probability: 0.148\n",
    "\n",
    "Number of rolls: 10000 \n",
    "Ones: 1630, probability: 0.163\n",
    "Twos: 1666, probability: 0.1666\n",
    "Threes: 1686, probability: 0.1686\n",
    "Fours: 1616, probability: 0.1616\n",
    "Fives: 1677, probability: 0.1677\n",
    "Sixes: 1725, probability: 0.1725\n",
    "\n",
    "Number of rolls: 100000 \n",
    "Ones: 16804, probability: 0.16804\n",
    "Twos: 16625, probability: 0.16625\n",
    "Threes: 16646, probability: 0.16646\n",
    "Fours: 16660, probability: 0.1666\n",
    "Fives: 16576, probability: 0.16576\n",
    "Sixes: 16689, probability: 0.16689\n",
    "\n",
    "```"
   ]
  },
  {
   "cell_type": "code",
   "execution_count": 92,
   "metadata": {},
   "outputs": [],
   "source": [
    "import random as rnd\n",
    "n_of_rolls = [10, 100, 1000, 10000, 100000]\n",
    "dices = list(range(1,7))\n",
    "\n",
    "with open(\"../Files/simulation.txt\", \"w\") as f_dice:\n",
    "    \n",
    "    for roll in n_of_rolls:\n",
    "        roll_results = [rnd.randint(1,6) for _ in range(roll)]\n",
    "        #it's just a variable like any other, but by convention it means that you don't intend to use that value, just read it and ignore it.\n",
    "        for dice in dices:\n",
    "            f_dice.write(f\"In total {roll} rolls: the frequency of '{dice}' is: {roll_results.count(dice)}. And the probability is: {(roll_results.count(dice)/roll)*100:0.2f}%\\n\\n\")\n",
    "\n",
    "\n"
   ]
  }
 ],
 "metadata": {
  "interpreter": {
   "hash": "8111105f47d12ec1fb8af24cde7e4ba5898ee01916168ee13b7453f45f559afc"
  },
  "kernelspec": {
   "display_name": "Python 3.9.6 64-bit ('python-programming-Yuna-Liu-WA6ACBfR': pipenv)",
   "name": "python3"
  },
  "language_info": {
   "codemirror_mode": {
    "name": "ipython",
    "version": 3
   },
   "file_extension": ".py",
   "mimetype": "text/x-python",
   "name": "python",
   "nbconvert_exporter": "python",
   "pygments_lexer": "ipython3",
   "version": "3.9.6"
  },
  "orig_nbformat": 4
 },
 "nbformat": 4,
 "nbformat_minor": 2
}
