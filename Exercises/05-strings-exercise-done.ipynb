{
 "cells": [
  {
   "cell_type": "markdown",
   "metadata": {},
   "source": [
    "# The solution to exercise 05: for statement\n",
    "\n",
    "Date: 2021-09-06\n",
    "\n",
    "The questions can be found [here][exercise_link]:\n",
    "\n",
    "[exercise_link]: hhttps://github.com/kokchun/Programmering-med-Python-21/blob/main/Exercises/05-strings-exercise.ipynb"
   ]
  },
  {
   "cell_type": "markdown",
   "metadata": {},
   "source": [
    "## 1. Counting letters (*)\n",
    "\n",
    "Let the user input a word: \n",
    "\n",
    "&nbsp; a) &nbsp; print out the number of letters in the word. (*) \n",
    "  \n",
    "&nbsp; b) &nbsp; print out the number of **uppercase** and **lowercase** letters of the word (*)   \n"
   ]
  },
  {
   "cell_type": "markdown",
   "metadata": {},
   "source": [
    "## len()\n",
    "\n",
    "- The len() function returns the number of items in an object/list.\n",
    "\n",
    "- When the object is a string, the len() function returns the number of characters in the string."
   ]
  },
  {
   "cell_type": "markdown",
   "metadata": {},
   "source": [
    "## 1. for a loooooong string"
   ]
  },
  {
   "cell_type": "code",
   "execution_count": 40,
   "metadata": {},
   "outputs": [
    {
     "name": "stdout",
     "output_type": "stream",
     "text": [
      "word: this is actually a sentence, not word.\n",
      "38\n",
      "word.capitalize() gets: This is actually a sentence, not word.\n",
      "After word.capitalize(), the word is still: this is actually a sentence, not word.\n",
      "word.lower() gets: this is actually a sentence, not word.\n",
      "After word.lower(), the word is still: this is actually a sentence, not word.\n",
      "word.upper() gets: THIS IS ACTUALLY A SENTENCE, NOT WORD.\n",
      "After word.upper(), the word is still: this is actually a sentence, not word.\n",
      "the index= 0 of word: t\n",
      "the index= 0 of word: t\n",
      "the index= 0 and 1 of word: th\n",
      "the index of actually is: 8\n",
      "substring not found\n",
      "the index of ac is: 8\n",
      "the index of a is: 8\n",
      "the index of e is: 20\n",
      "word string in a revert position: .drow ton ,ecnetnes a yllautca si siht\n"
     ]
    }
   ],
   "source": [
    "# For a long string\n",
    "word=\"this is actually a sentence, not word.\"\n",
    "print(f\"word: {word}\")\n",
    "print(len(word))\n",
    "print(f\"word.capitalize() gets: {word.capitalize()}\")\n",
    "print(f\"After word.capitalize(), the word is still: {word}\")\n",
    "print(f\"word.lower() gets: {word.lower()}\")\n",
    "print(f\"After word.lower(), the word is still: {word}\")\n",
    "print(f\"word.upper() gets: {word.upper()}\")\n",
    "print(f\"After word.upper(), the word is still: {word}\")\n",
    "print(f\"the index= 0 of word: {word[0:1]}\")\n",
    "print(f\"the index= 0 of word: {word[0]}\")\n",
    "print(f\"the index= 0 and 1 of word: {word[0:2]}\")\n",
    "\n",
    "n_actually = word.index(\"actually\")\n",
    "print(f\"the index of actually is: {n_actually}\")\n",
    "\n",
    "try:\n",
    "    n_acu = word.index(\"acu\")\n",
    "    print(n_acu)\n",
    "except ValueError as err:\n",
    "    print(err)\n",
    "\n",
    "\n",
    "try:\n",
    "    n_ac = word.index(\"ac\")\n",
    "    print(f\"the index of ac is: {n_ac}\")\n",
    "except ValueError as err:\n",
    "    print(err)\n",
    "\n",
    "\n",
    "n_a = word.index(\"a\")\n",
    "print(f\"the index of a is: {n_a}\")\n",
    "\n",
    "try:\n",
    "    n_e = word.index(\"e\")\n",
    "    print(f\"the index of e is: {n_e}\")\n",
    "except ValueError as err:\n",
    "    print(err)\n",
    "\n",
    "print(f\"word string in a revert position: {word[::-1]}\")"
   ]
  },
  {
   "cell_type": "markdown",
   "metadata": {},
   "source": [
    "## 2. Both List and string can use len( ), index, splicing operator.\n",
    "- However, list.index() return the index of a word in a list.\n",
    "- str.index() return the index of a letter in a long string."
   ]
  },
  {
   "cell_type": "code",
   "execution_count": 27,
   "metadata": {},
   "outputs": [
    {
     "name": "stdout",
     "output_type": "stream",
     "text": [
      "word: ['this', 'is', 'actually', 'a', 'sentence,', 'not', 'word.']\n",
      "7\n",
      "the index= 0 of word: ['this']\n",
      "the index= 0 of word: this\n",
      "the index= 0 and 1 of word: ['this', 'is']\n",
      "the index of actually is: 2\n",
      "the index of a is: 3\n",
      "'e' is not in list\n",
      "word list in a revert position: ['word.', 'not', 'sentence,', 'a', 'actually', 'is', 'this']\n"
     ]
    }
   ],
   "source": [
    "# Now this long string becomes list of words\n",
    "word=\"this is actually a sentence, not word.\"\n",
    "word = word.split(\" \")\n",
    "print(f\"word: {word}\")\n",
    "print(len(word))\n",
    "\n",
    "print(f\"the index= 0 of word: {word[0:1]}\")\n",
    "print(f\"the index= 0 of word: {word[0]}\")\n",
    "print(f\"the index= 0 and 1 of word: {word[0:2]}\")\n",
    "\n",
    "n_actually = word.index(\"actually\")\n",
    "print(f\"the index of actually is: {n_actually}\")\n",
    "\n",
    "n_a = word.index(\"a\")\n",
    "print(f\"the index of a is: {n_a}\")\n",
    "\n",
    "try:\n",
    "    n_e = word.index(\"e\")\n",
    "    print(n_e)\n",
    "except ValueError as err:\n",
    "    print(err)\n",
    "\n",
    "print(f\"word list in a revert position: {word[::-1]}\")"
   ]
  },
  {
   "cell_type": "markdown",
   "metadata": {},
   "source": [
    "## 3. These are only for string, not for list."
   ]
  },
  {
   "cell_type": "code",
   "execution_count": 30,
   "metadata": {},
   "outputs": [
    {
     "name": "stdout",
     "output_type": "stream",
     "text": [
      "word.capitalize() gets: This is actually a sentence, not word.\n",
      "After word.capitalize(), the word is still: this is actually a sentence, not word.\n",
      "word.lower() gets: this is actually a sentence, not word.\n",
      "After word.lower(), the word is still: this is actually a sentence, not word.\n",
      "word.upper() gets: THIS IS ACTUALLY A SENTENCE, NOT WORD.\n",
      "After word.upper(), the word is still: this is actually a sentence, not word.\n"
     ]
    }
   ],
   "source": [
    "word=\"this is actually a sentence, not word.\"\n",
    "\n",
    "print(f\"word.capitalize() gets: {word.capitalize()}\")\n",
    "print(f\"After word.capitalize(), the word is still: {word}\")\n",
    "print(f\"word.lower() gets: {word.lower()}\")\n",
    "print(f\"After word.lower(), the word is still: {word}\")\n",
    "print(f\"word.upper() gets: {word.upper()}\")\n",
    "print(f\"After word.upper(), the word is still: {word}\")"
   ]
  },
  {
   "cell_type": "code",
   "execution_count": 2,
   "metadata": {},
   "outputs": [
    {
     "name": "stdout",
     "output_type": "stream",
     "text": [
      "a) The number of letters in the word 'Expression' is: 10\n",
      "b) The number of uppercase letters in the word 'Expression' is: 1\n",
      "b) The number of lowercase letters in the word 'Expression' is: 9\n"
     ]
    }
   ],
   "source": [
    "word = input(\"Please input a word\")\n",
    "\n",
    "print(f\"a) The number of letters in the word '{word}' is: {len(word)}\")\n",
    "word_uppercase = [letter for letter in word if letter.isupper()]\n",
    "print(f\"b) The number of uppercase letters in the word '{word}' is: {len(word_uppercase)}\")\n",
    "word_lowercase = [letter for letter in word if letter.islower()]\n",
    "print(f\"b) The number of lowercase letters in the word '{word}' is: {len(word_lowercase)}\")\n",
    "\n",
    "## for letter in word(whose type is string): loop through every letter in a word.\n",
    "## len(a string word): counting number of letters in a string word.\n",
    "## len(word_uppercase): couting number of items in a list. Word_uppercase here is a list of uppercase letter.\n",
    "## f_string: 1st step: print(len(word_uppercase)), 2nd step: adding the words, meanwhile f-string format."
   ]
  },
  {
   "cell_type": "markdown",
   "metadata": {},
   "source": [
    "---\n",
    "## 2. Counting words (*)\n",
    "\n",
    "Count the number of words in this sentence: \"A picture says more than a thousand words, a matematical formula says more than a thousand pictures.\" (*) \n",
    "\n",
    "<details>\n",
    "\n",
    "<summary>Answer</summary>\n",
    "\n",
    "```\n",
    "There are 17 words in that sentence\n",
    "```"
   ]
  },
  {
   "cell_type": "code",
   "execution_count": 3,
   "metadata": {},
   "outputs": [
    {
     "name": "stdout",
     "output_type": "stream",
     "text": [
      "['A', 'picture', 'says', 'more', 'than', 'a', 'thousand', 'words,', 'a', 'matematical', 'formula', 'says', 'more', 'than', 'a', 'thousand', 'pictures.']\n",
      "a) The number of words in the sentence 'A picture says more than a thousand words, a matematical formula says more than a thousand pictures.' is: 17\n"
     ]
    }
   ],
   "source": [
    "sentence = \"A picture says more than a thousand words, a matematical formula says more than a thousand pictures.\"\n",
    "words_list = sentence.split(\" \")  # change a sentence to a list of strings.\n",
    "print(words_list)\n",
    "print(f\"a) The number of words in the sentence '{sentence}' is: {len(words_list)}\")\n",
    "\n",
    "## len(sentence): the number of all letters/characters.\n",
    "## here, we need to count the number of words in this sentence, not letters. Therefore we need a list of all words.\n",
    "## len(a list of words): the number of words.\n",
    "## To accieve it, we need to change this long sentence string to a list of words, through .split()"
   ]
  },
  {
   "cell_type": "markdown",
   "metadata": {},
   "source": [
    "---\n",
    "## 3. Palindrome (*)\n",
    "\n",
    "A palindrome is a sequence of characters that is the same, when read forward as backwards (ignoring spaces). For example:\n",
    "- \"Anna\" is a palindrome\n",
    "- \"Ni talar bra latin\"\n",
    "- bjkjb \n",
    "\n",
    "Let the user input a sequence of characters and check if it is a palindrome. (*)"
   ]
  },
  {
   "cell_type": "code",
   "execution_count": 31,
   "metadata": {},
   "outputs": [
    {
     "name": "stdout",
     "output_type": "stream",
     "text": [
      "The sentence 'bjkjb' is a palindrome.\n"
     ]
    }
   ],
   "source": [
    "sentence = input(\"please input a sentence\")\n",
    "sentence_backwards = sentence[::-1]   ## ::-1 means start:stop:step\n",
    "\n",
    "if sentence == sentence_backwards:\n",
    "    print(f\"The sentence '{sentence}' is a palindrome.\")\n",
    "else:\n",
    "    print(f\"The sentence '{sentence}' is not a palindrome.\")"
   ]
  },
  {
   "cell_type": "markdown",
   "metadata": {},
   "source": [
    "---\n",
    "## 4. Vowels (**)\n",
    "\n",
    "Count the number of vowels in this sentence: \"Pure mathematics is, in its way, the poetry of logical ideas\"\n",
    "\n",
    "<details>\n",
    "\n",
    "<summary>Answer</summary>\n",
    "\n",
    "```\n",
    "\n",
    "There are 22 vowels in this sentence\n",
    "\n",
    "```\n",
    "</details>"
   ]
  },
  {
   "cell_type": "code",
   "execution_count": 5,
   "metadata": {},
   "outputs": [
    {
     "name": "stdout",
     "output_type": "stream",
     "text": [
      "22\n",
      "['P', 'u', 'r', 'e', ' ', 'm', 'a', 't', 'h', 'e', 'm', 'a', 't', 'i', 'c', 's', ' ', 'i', 's', ',', ' ', 'i', 'n', ' ', 'i', 't', 's', ' ', 'w', 'a', 'y', ',', ' ', 't', 'h', 'e', ' ', 'p', 'o', 'e', 't', 'r', 'y', ' ', 'o', 'f', ' ', 'l', 'o', 'g', 'i', 'c', 'a', 'l', ' ', 'i', 'd', 'e', 'a', 's']\n"
     ]
    }
   ],
   "source": [
    "sentence = \"Pure mathematics is, in its way, the poetry of logical ideas\"\n",
    "\n",
    "number_vowels = 0\n",
    "for letter in sentence:\n",
    "    if letter == \"a\" or letter == \"e\" or letter == \"i\" or letter == \"o\" or letter == \"u\" or letter == \"y\":\n",
    "        number_vowels += 1\n",
    "print(number_vowels)\n",
    "\n",
    "## again, for letter in sentence: loop every letter in a sentence.\n",
    "## list(sentence) will also generate all these letters in a list.\n",
    "## print(list(sentence))"
   ]
  },
  {
   "cell_type": "markdown",
   "metadata": {},
   "source": [
    "---\n",
    "## 5. Encryption (**)\n",
    "\n",
    "Let the user input a word and: \n",
    "\n",
    "&nbsp; a) &nbsp; encrypt the message by replacing each letter with the next letter. If the letter is in the end of the alphabet, use the first letter instead. \n",
    "\n",
    "e.g. in Swedish: \"höst\" $\\rightarrow$ \"iatu\"\n",
    "\n",
    "&nbsp; b) &nbsp; decrypt the message\n",
    "\n",
    "&nbsp; c) &nbsp; let the user choose either encryption or decryption."
   ]
  },
  {
   "cell_type": "code",
   "execution_count": 36,
   "metadata": {},
   "outputs": [
    {
     "name": "stdout",
     "output_type": "stream",
     "text": [
      "höst\n",
      "['a', 'b', 'c', 'd', 'e', 'f', 'g', 'h', 'i', 'j', 'k', 'l', 'm', 'n', 'o', 'p', 'k', 'r', 's', 't', 'u', 'v', 'w', 'x', 'y', 'z', 'å', 'ä', 'ö', 'a']\n",
      "['h', 'ö', 's', 't']\n",
      "a): The encryption of the word 'Höst' is: \n",
      "iatu\n"
     ]
    }
   ],
   "source": [
    "# a) method 1\n",
    "word = input(\"Please input a word with lowercase\")\n",
    "word_lower = word.lower()\n",
    "print(word_lower)\n",
    "\n",
    "alfabet = \"a b c d e f g h i j k l m n o p k r s t u v w x y z å ä ö a\".split()\n",
    "print(alfabet)\n",
    "\n",
    "letters = list(word_lower)    # change a string word to a list of letters.\n",
    "print(letters)\n",
    "encryption = f\"a): The encryption of the word '{word}' is: \\n\"\n",
    "\n",
    "for letter in letters: \n",
    "    index = alfabet.index(letter) \n",
    "    letter = alfabet[index+1]\n",
    "    encryption += f\"{letter}\"\n",
    "\n",
    "print(encryption)\n",
    "\n",
    "## get a list of alfabet: alfabet = \"string of alfabets\".split(): Spliting the string (by default blank).\n",
    "## list(of a string): change a string to a list of letters.\n",
    "## a list.index(letter): return the index of this letter in this list."
   ]
  },
  {
   "cell_type": "code",
   "execution_count": 7,
   "metadata": {},
   "outputs": [
    {
     "name": "stdout",
     "output_type": "stream",
     "text": [
      "höst\n",
      "['a', 'b', 'c', 'd', 'e', 'f', 'g', 'h', 'i', 'j', 'k', 'l', 'm', 'n', 'o', 'p', 'k', 'r', 's', 't', 'u', 'v', 'w', 'x', 'y', 'z', 'å', 'ä', 'ö', 'a']\n",
      "a): The encryption of the word 'höst' is: \n",
      "iatu\n"
     ]
    }
   ],
   "source": [
    "# a) method 2\n",
    "word = input(\"Please input a word with lowercase\")\n",
    "word = word.lower()\n",
    "print(word)\n",
    "\n",
    "alfabet = \"a b c d e f g h i j k l m n o p k r s t u v w x y z å ä ö a\".split()\n",
    "print(alfabet)\n",
    "\n",
    "encryption = f\"a): The encryption of the word '{word}' is: \\n\"\n",
    "\n",
    "for letter in word: \n",
    "    index = alfabet.index(letter) \n",
    "    letter = alfabet[index+1]\n",
    "    encryption += f\"{letter}\"\n",
    "\n",
    "print(encryption)\n",
    "\n",
    "## a string.index(letter): return the index of this letter in this string.\n",
    "## From method 1 and method 2, both string and list have index, and both are changable."
   ]
  },
  {
   "cell_type": "code",
   "execution_count": 9,
   "metadata": {},
   "outputs": [
    {
     "name": "stdout",
     "output_type": "stream",
     "text": [
      "iatu\n",
      "['ö', 'a', 'b', 'c', 'd', 'e', 'f', 'g', 'h', 'i', 'j', 'k', 'l', 'm', 'n', 'o', 'p', 'k', 'r', 's', 't', 'u', 'v', 'w', 'x', 'y', 'z', 'å', 'ä', 'ö']\n",
      "b): The decryption of the word 'iatu' is: \n",
      "höst\n"
     ]
    }
   ],
   "source": [
    "# b)\n",
    "\n",
    "word = input(\"Please input a word with lowercase\")\n",
    "word_lower = word.lower()\n",
    "print(word_lower)\n",
    "\n",
    "alfabet = \"ö a b c d e f g h i j k l m n o p k r s t u v w x y z å ä ö\".split()\n",
    "print(alfabet)\n",
    "\n",
    "decryption = f\"b): The decryption of the word '{word}' is: \\n\"\n",
    "\n",
    "for letter in word_lower: \n",
    "    index = alfabet.index(letter) \n",
    "    letter = alfabet[index-1]\n",
    "    decryption += f\"{letter}\"\n",
    "\n",
    "print(decryption)"
   ]
  },
  {
   "cell_type": "code",
   "execution_count": 11,
   "metadata": {},
   "outputs": [
    {
     "name": "stdout",
     "output_type": "stream",
     "text": [
      "c): The decryption of the word 'iatu' is: \n",
      "höst\n"
     ]
    }
   ],
   "source": [
    "# c)\n",
    "choose = input(\"Please choose either encryption or decryption by type 'en' eller 'de'. \")\n",
    "word = input(\"Please input a word with lowercase\")\n",
    "word = word.lower()\n",
    "\n",
    "alfabet = \"ö a b c d e f g h i j k l m n o p k r s t u v w x y z å ä ö a\".split()\n",
    "\n",
    "if choose == \"en\":\n",
    "    encryption = f\"c): The encryption of the word '{word}' is: \\n\"\n",
    "    for letter in word: \n",
    "        index = alfabet.index(letter) \n",
    "        letter = alfabet[index+1]\n",
    "        encryption += f\"{letter}\"\n",
    "    print(encryption)\n",
    "else:\n",
    "    decryption = f\"c): The decryption of the word '{word}' is: \\n\"\n",
    "    for letter in word: \n",
    "        index = alfabet.index(letter) \n",
    "        letter = alfabet[index-1]\n",
    "        decryption += f\"{letter}\"\n",
    "    print(decryption)\n"
   ]
  }
 ],
 "metadata": {
  "interpreter": {
   "hash": "8111105f47d12ec1fb8af24cde7e4ba5898ee01916168ee13b7453f45f559afc"
  },
  "kernelspec": {
   "display_name": "Python 3.9.6 64-bit ('python-programming-Yuna-Liu-WA6ACBfR': pipenv)",
   "name": "python3"
  },
  "language_info": {
   "codemirror_mode": {
    "name": "ipython",
    "version": 3
   },
   "file_extension": ".py",
   "mimetype": "text/x-python",
   "name": "python",
   "nbconvert_exporter": "python",
   "pygments_lexer": "ipython3",
   "version": "3.9.6"
  },
  "orig_nbformat": 4
 },
 "nbformat": 4,
 "nbformat_minor": 2
}
