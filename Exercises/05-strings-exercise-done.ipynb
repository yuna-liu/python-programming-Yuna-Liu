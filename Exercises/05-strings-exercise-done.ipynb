{
 "cells": [
  {
   "cell_type": "markdown",
   "source": [
    "# The solution to exercise 05: for statement\r\n",
    "\r\n",
    "Date: 2021-09-06\r\n",
    "\r\n",
    "The questions to exercise 03 can be found [here][exercise_link]:\r\n",
    "\r\n",
    "[exercise_link]: hhttps://github.com/kokchun/Programmering-med-Python-21/blob/main/Exercises/05-strings-exercise.ipynb"
   ],
   "metadata": {}
  },
  {
   "cell_type": "markdown",
   "source": [
    "## 1. Counting letters (*)\r\n",
    "\r\n",
    "Let the user input a word: \r\n",
    "\r\n",
    "&nbsp; a) &nbsp; print out the number of letters in the word. (*) \r\n",
    "  \r\n",
    "&nbsp; b) &nbsp; print out the number of **uppercase** and **lowercase** letters of the word (*)   \r\n"
   ],
   "metadata": {}
  },
  {
   "cell_type": "code",
   "execution_count": 2,
   "source": [
    "word = input(\"Please input a word\")\r\n",
    "word_list = list(word)\r\n",
    "print(f\"a) The number of letters in the word '{word}' is: {len(word_list)}\")\r\n",
    "word_uppercase = [letter for letter in word_list if letter.isupper()]\r\n",
    "print(f\"b) The number of uppercase letters in the word '{word}' is: {len(word_uppercase)}\")\r\n",
    "word_lowercase = [letter for letter in word_list if letter.islower()]\r\n",
    "print(f\"b) The number of lowercase letters in the word '{word}' is: {len(word_lowercase)}\")"
   ],
   "outputs": [
    {
     "output_type": "stream",
     "name": "stdout",
     "text": [
      "a) The number of letters in the word 'Expression' is: 10\n",
      "b) The number of uppercase letters in the word 'Expression' is: 1\n",
      "b) The number of lowercase letters in the word 'Expression' is: 9\n"
     ]
    }
   ],
   "metadata": {}
  },
  {
   "cell_type": "markdown",
   "source": [
    "---\r\n",
    "## 2. Counting words (*)\r\n",
    "\r\n",
    "Count the number of words in this sentence: \"A picture says more than a thousand words, a matematical formula says more than a thousand pictures.\" (*) \r\n",
    "\r\n",
    "<details>\r\n",
    "\r\n",
    "<summary>Answer</summary>\r\n",
    "\r\n",
    "```\r\n",
    "There are 17 words in that sentence\r\n",
    "```"
   ],
   "metadata": {}
  },
  {
   "cell_type": "code",
   "execution_count": 25,
   "source": [
    "sentence = \"A picture says more than a thousand words, a matematical formula says more than a thousand pictures.\"\r\n",
    "words_list = sentence.split(\" \")\r\n",
    "print(words_list)\r\n",
    "print(f\"a) The number of words in the sentence '{sentence}' is: {len(words_list)}\")"
   ],
   "outputs": [
    {
     "output_type": "stream",
     "name": "stdout",
     "text": [
      "['A', 'picture', 'says', 'more', 'than', 'a', 'thousand', 'words,', 'a', 'matematical', 'formula', 'says', 'more', 'than', 'a', 'thousand', 'pictures.']\n",
      "a) The number of words in the sentence 'A picture says more than a thousand words, a matematical formula says more than a thousand pictures.' is: 17\n"
     ]
    }
   ],
   "metadata": {}
  },
  {
   "cell_type": "markdown",
   "source": [
    "---\r\n",
    "## 3. Palindrome (*)\r\n",
    "\r\n",
    "A palindrome is a sequence of characters that is the same, when read forward as backwards (ignoring spaces). For example:\r\n",
    "- \"Anna\" is a palindrome\r\n",
    "- \"Ni talar bra latin\"\r\n",
    "- bjkjb \r\n",
    "\r\n",
    "Let the user input a sequence of characters and check if it is a palindrome. (*)"
   ],
   "metadata": {}
  },
  {
   "cell_type": "code",
   "execution_count": 3,
   "source": [
    "sentence = input(\"please input a sentence\")\r\n",
    "sentence_backwards = sentence[::-1]\r\n",
    "\r\n",
    "if sentence == sentence_backwards:\r\n",
    "    print(f\"The sentence '{sentence}' is a palindrome.\")\r\n",
    "else:\r\n",
    "    print(f\"The sentence '{sentence}' is not a palindrome.\")\r\n",
    "\r\n",
    "\r\n"
   ],
   "outputs": [
    {
     "output_type": "stream",
     "name": "stdout",
     "text": [
      "The sentence 'bjkjb' is a palindrome.\n"
     ]
    }
   ],
   "metadata": {}
  },
  {
   "cell_type": "markdown",
   "source": [
    "---\r\n",
    "## 4. Vowels (**)\r\n",
    "\r\n",
    "Count the number of vowels in this sentence: \"Pure mathematics is, in its way, the poetry of logical ideas\"\r\n",
    "\r\n",
    "<details>\r\n",
    "\r\n",
    "<summary>Answer</summary>\r\n",
    "\r\n",
    "```\r\n",
    "\r\n",
    "There are 22 vowels in this sentence\r\n",
    "\r\n",
    "```\r\n",
    "</details>"
   ],
   "metadata": {}
  },
  {
   "cell_type": "code",
   "execution_count": 4,
   "source": [
    "sentence = \"Pure mathematics is, in its way, the poetry of logical ideas\"\r\n",
    "\r\n",
    "number_vowels = 0\r\n",
    "for letter in sentence:\r\n",
    "    if letter == \"a\" or letter == \"e\" or letter == \"i\" or letter == \"o\" or letter == \"u\" or letter == \"y\":\r\n",
    "        number_vowels += 1\r\n",
    "print(number_vowels)\r\n"
   ],
   "outputs": [
    {
     "output_type": "stream",
     "name": "stdout",
     "text": [
      "22\n"
     ]
    }
   ],
   "metadata": {}
  },
  {
   "cell_type": "markdown",
   "source": [
    "---\r\n",
    "## 5. Encryption (**)\r\n",
    "\r\n",
    "Let the user input a word and: \r\n",
    "\r\n",
    "&nbsp; a) &nbsp; encrypt the message by replacing each letter with the next letter. If the letter is in the end of the alphabet, use the first letter instead. \r\n",
    "\r\n",
    "e.g. in Swedish: \"höst\" $\\rightarrow$ \"iatu\"\r\n",
    "\r\n",
    "&nbsp; b) &nbsp; decrypt the message\r\n",
    "\r\n",
    "&nbsp; c) &nbsp; let the user choose either encryption or decryption."
   ],
   "metadata": {}
  },
  {
   "cell_type": "code",
   "execution_count": 36,
   "source": [
    "# a)\r\n",
    "word = input(\"Please input a word with lowercase\")\r\n",
    "word_lower = word.lower()\r\n",
    "print(word_lower)\r\n",
    "\r\n",
    "alfabet = \"a b c d e f g h i j k l m n o p k r s t u v w x y z å ä ö a\".split()\r\n",
    "print(alfabet)\r\n",
    "\r\n",
    "letters = list(word_lower)    # change a string word to a list of letters.\r\n",
    "print(letters)\r\n",
    "encryption = f\"a): The encryption of the word '{word}' is: \\n\"\r\n",
    "\r\n",
    "for letter in letters: \r\n",
    "    index = alfabet.index(letter) \r\n",
    "    letter = alfabet[index+1]\r\n",
    "    encryption += f\"{letter}\"\r\n",
    "\r\n",
    "print(encryption)"
   ],
   "outputs": [
    {
     "output_type": "stream",
     "name": "stdout",
     "text": [
      "höst\n",
      "['a', 'b', 'c', 'd', 'e', 'f', 'g', 'h', 'i', 'j', 'k', 'l', 'm', 'n', 'o', 'p', 'k', 'r', 's', 't', 'u', 'v', 'w', 'x', 'y', 'z', 'å', 'ä', 'ö', 'a']\n",
      "['h', 'ö', 's', 't']\n",
      "a): The encryption of the word 'Höst' is: \n",
      "iatu\n"
     ]
    }
   ],
   "metadata": {}
  },
  {
   "cell_type": "code",
   "execution_count": 35,
   "source": [
    "# b)\r\n",
    "\r\n",
    "word = input(\"Please input a word with lowercase\")\r\n",
    "word_lower = word.lower()\r\n",
    "print(word_lower)\r\n",
    "\r\n",
    "alfabet = \"ö a b c d e f g h i j k l m n o p k r s t u v w x y z å ä ö\".split()\r\n",
    "print(alfabet)\r\n",
    "\r\n",
    "letters = list(word_lower)\r\n",
    "print(letters)\r\n",
    "decryption = f\"b): The decryption of the word '{word}' is: \\n\"\r\n",
    "\r\n",
    "for letter in letters: \r\n",
    "    index = alfabet.index(letter) \r\n",
    "    letter = alfabet[index-1]\r\n",
    "    decryption += f\"{letter}\"\r\n",
    "\r\n",
    "print(decryption)"
   ],
   "outputs": [
    {
     "output_type": "stream",
     "name": "stdout",
     "text": [
      "iatu\n",
      "['ö', 'a', 'b', 'c', 'd', 'e', 'f', 'g', 'h', 'i', 'j', 'k', 'l', 'm', 'n', 'o', 'p', 'k', 'r', 's', 't', 'u', 'v', 'w', 'x', 'y', 'z', 'å', 'ä', 'ö']\n",
      "['i', 'a', 't', 'u']\n",
      "b): The decryption of the word 'Iatu' is: \n",
      "höst\n"
     ]
    }
   ],
   "metadata": {}
  },
  {
   "cell_type": "code",
   "execution_count": 34,
   "source": [
    "# c)\r\n",
    "choose = input(\"Please choose either encryption or decryption by type 'en' eller 'de'. \")\r\n",
    "word = input(\"Please input a word with lowercase\")\r\n",
    "word_lower = word.lower()\r\n",
    "letters = list(word_lower)\r\n",
    "\r\n",
    "alfabet = \"ö a b c d e f g h i j k l m n o p k r s t u v w x y z å ä ö a\".split()\r\n",
    "\r\n",
    "if choose == \"en\":\r\n",
    "    encryption = f\"c): The encryption of the word '{word}' is: \\n\"\r\n",
    "    for letter in letters: \r\n",
    "        index = alfabet.index(letter) \r\n",
    "        letter = alfabet[index+1]\r\n",
    "        encryption += f\"{letter}\"\r\n",
    "    print(encryption)\r\n",
    "else:\r\n",
    "    decryption = f\"c): The decryption of the word '{word}' is: \\n\"\r\n",
    "    for letter in letters: \r\n",
    "        index = alfabet.index(letter) \r\n",
    "        letter = alfabet[index-1]\r\n",
    "        decryption += f\"{letter}\"\r\n",
    "    print(decryption)\r\n"
   ],
   "outputs": [
    {
     "output_type": "stream",
     "name": "stdout",
     "text": [
      "c): The decryption of the word 'Iatu' is: \n",
      "höst\n"
     ]
    }
   ],
   "metadata": {}
  }
 ],
 "metadata": {
  "interpreter": {
   "hash": "8111105f47d12ec1fb8af24cde7e4ba5898ee01916168ee13b7453f45f559afc"
  },
  "kernelspec": {
   "name": "python3",
   "display_name": "Python 3.9.6 64-bit ('python-programming-Yuna-Liu-WA6ACBfR': pipenv)"
  },
  "language_info": {
   "name": "python",
   "version": "3.9.6",
   "mimetype": "text/x-python",
   "codemirror_mode": {
    "name": "ipython",
    "version": 3
   },
   "pygments_lexer": "ipython3",
   "nbconvert_exporter": "python",
   "file_extension": ".py"
  },
  "orig_nbformat": 4
 },
 "nbformat": 4,
 "nbformat_minor": 2
}