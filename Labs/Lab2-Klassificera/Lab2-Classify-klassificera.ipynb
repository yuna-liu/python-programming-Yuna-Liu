{
 "cells": [
  {
   "cell_type": "markdown",
   "source": [
    "# Labb2 uppgiter: klassificera\r\n",
    "\r\n",
    "Datum: 2021-9-16\r\n",
    "\r\n",
    "I den här laborationen finns (simulerad) data på Pichus och Pikachus längder och bredder. Du\r\n",
    "ska skapa en algoritm som baserat på den givna datan kunna avgöra om en ny data ska\r\n",
    "klassificeras som Pichu eller Pikachu."
   ],
   "metadata": {}
  },
  {
   "cell_type": "markdown",
   "source": [
    "## 1. read data and save in a right data structure, and plot in the same figure.\r\n"
   ],
   "metadata": {}
  },
  {
   "cell_type": "code",
   "execution_count": 27,
   "source": [
    "import matplotlib.pyplot as plt\r\n",
    "\r\n",
    "path_pikachu = \"pikachu.txt\"\r\n",
    "path_pichu = \"pichu.txt\"\r\n",
    "\r\n",
    "with open (path_pikachu, \"r\") as data_pikachu, open(path_pichu, \"r\") as data_pichu:\r\n",
    "         \r\n",
    "    \"\"\" for line in data_pikachu.readlines():\r\n",
    "        line_bracket = line.strip(\"\\n\")\r\n",
    "        line_no_left_bracket = line_bracket.replace(\"(\", \"\")\r\n",
    "        line_no_bracket = line_no_left_bracket.replace(\")\", \"\")\r\n",
    "        line_split = line_no_bracket.split(\", \") \"\"\"\r\n",
    "    df_pikachu = data_pikachu.readlines()[1:]\r\n",
    "    df_pichu = data_pichu.readlines()[1:]\r\n",
    "    pikachu_list = [line.strip(\"\\n\").replace(\"(\", \"\").replace(\")\", \"\").split(\", \") for line in df_pikachu]\r\n",
    "    pichu_list = [line.strip(\"\\n\").replace(\"(\", \"\").replace(\")\", \"\").split(\", \") for line in df_pichu]\r\n",
    "   \r\n",
    "    print(len(pikachu_list))\r\n",
    "    print(len(pichu_list))\r\n",
    "\r\n",
    "    x_pikachu = [float(one_pikachu[0]) for one_pikachu in pikachu_list ]\r\n",
    "    x_pichu = [float(one_pichu[0]) for one_pichu in pichu_list ]\r\n",
    " \r\n",
    "    y_pikachu = [float(one_pikachu[1]) for one_pikachu in pikachu_list ]\r\n",
    "    y_pichu = [float(one_pichu[1]) for one_pichu in pichu_list ]\r\n",
    "    \r\n",
    "    #Plot all points with different colors in one figure\r\n",
    "    plt.scatter(x_pikachu, y_pikachu, c=\"orange\")\r\n",
    "    plt.scatter(x_pichu, y_pichu, c=\"yellow\")\r\n",
    "    plt.ylabel(\"Height (cm)\")\r\n",
    "    plt.xlabel(\"Width (cm)\") \r\n",
    "    plt.title(\"Widths and heights for Pikachu (orange) and Pichu (yellow)\")   \r\n",
    "    plt.legend()\r\n",
    "    plt.show()\r\n"
   ],
   "outputs": [
    {
     "output_type": "stream",
     "name": "stderr",
     "text": [
      "No handles with labels found to put in legend.\n"
     ]
    },
    {
     "output_type": "stream",
     "name": "stdout",
     "text": [
      "50\n",
      "50\n"
     ]
    },
    {
     "output_type": "display_data",
     "data": {
      "image/png": "[encoded data removed]",
      "text/plain": [
       "<Figure size 432x288 with 1 Axes>"
      ]
     },
     "metadata": {
      "needs_background": "light"
     }
    }
   ],
   "metadata": {}
  },
  {
   "cell_type": "markdown",
   "source": [
    "## read in, clean and save test data"
   ],
   "metadata": {}
  },
  {
   "cell_type": "code",
   "execution_count": 64,
   "source": [
    "with open (\"test_points.txt\", \"r\") as data_test:\r\n",
    "    test_points_raw = data_test.readlines()[0].split(\"),\")\r\n",
    "    print(test_points_raw)\r\n",
    "\r\n",
    "    test_points = [each_point.strip(\"( )\") for each_point in test_points_raw]\r\n",
    "    print(repr(test_points))\r\n",
    "\r\n",
    "    x_test = [float(point[0:2]) for point in test_points]\r\n",
    "    print(x_test)\r\n",
    "\r\n",
    "    y_test = [float(point[-2:]) for point in test_points]\r\n",
    "    print(y_test)\r\n"
   ],
   "outputs": [
    {
     "output_type": "stream",
     "name": "stdout",
     "text": [
      "['(25, 35', ' (15,14', ' (26,30', ' (22,45)']\n",
      "['25, 35', '15,14', '26,30', '22,45']\n",
      "[25.0, 15.0, 26.0, 22.0]\n",
      "[35.0, 14.0, 30.0, 45.0]\n"
     ]
    }
   ],
   "metadata": {}
  }
 ],
 "metadata": {
  "orig_nbformat": 4,
  "language_info": {
   "name": "python",
   "version": "3.9.6",
   "mimetype": "text/x-python",
   "codemirror_mode": {
    "name": "ipython",
    "version": 3
   },
   "pygments_lexer": "ipython3",
   "nbconvert_exporter": "python",
   "file_extension": ".py"
  },
  "kernelspec": {
   "name": "python3",
   "display_name": "Python 3.9.6 64-bit ('python-programming-Yuna-Liu-WA6ACBfR': pipenv)"
  },
  "interpreter": {
   "hash": "8111105f47d12ec1fb8af24cde7e4ba5898ee01916168ee13b7453f45f559afc"
  }
 },
 "nbformat": 4,
 "nbformat_minor": 2
}