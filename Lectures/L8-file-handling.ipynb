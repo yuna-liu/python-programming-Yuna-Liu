{
 "cells": [
  {
   "cell_type": "markdown",
   "source": [
    "\r\n",
    "<a href=\"https://colab.research.google.com/github/kokchun/Programmering-med-Python-21/blob/main/Lectures/L8-file-handling.ipynb\" target=\"_parent\"><img align=\"left\" src=\"https://colab.research.google.com/assets/colab-badge.svg\" alt=\"Open In Colab\"/></a> &nbsp; for interacting with the code"
   ],
   "metadata": {}
  },
  {
   "cell_type": "markdown",
   "source": [
    "---\r\n",
    "# Lecture notes - file handling\r\n",
    "\r\n",
    "---\r\n",
    "This is the lecture note for **file handling**, but it's built upon contents from previous lectures such as: \r\n",
    "- input-output\r\n",
    "- variables\r\n",
    "- if-statement\r\n",
    "- for loop\r\n",
    "- while \r\n",
    "- lists\r\n",
    "- random\r\n",
    "- strings\r\n",
    "- functions\r\n",
    "- error handling\r\n",
    "\r\n",
    "<p class = \"alert alert-info\" role=\"alert\"><b>Note</b> that this lecture note gives a brief introduction to file handling. I encourage you to read further about file handling.\r\n",
    "\r\n",
    "Read more [w3schools - file handling](https://www.w3schools.com/python/python_file_handling.asp). Learn about the different functions of file handling in this resource, but don't use it exactly as stated. Use in combination with the **with** statement to ensure safe working with files.\r\n",
    "\r\n",
    "Read more [real python - with statement](https://realpython.com/python-with-statement/)\r\n",
    "\r\n",
    "Files used is found here: [Files](https://github.com/kokchun/Programmering-med-Python-21/tree/main/Files)\r\n",
    "\r\n",
    "---"
   ],
   "metadata": {}
  },
  {
   "cell_type": "markdown",
   "source": [
    "## with statement\r\n",
    "- **with** statement together with **open** is used to safely open files and cleaning up the resource afterwards\r\n",
    "- another way is to use try..except..finally and remember to close the file, but is too verbose\r\n",
    "\r\n",
    "syntax: \r\n",
    "```python\r\n",
    "with open(path, option) as file_name: \r\n",
    "    statements \r\n",
    "    ...\r\n",
    "```\r\n",
    "option\r\n",
    "- \"r\" - read\r\n",
    "- \"a\" - append, creates the file if it doesn't exist\r\n",
    "- \"w\" - write - opens a file for writing, creates it if it doesn't exist\r\n",
    "- \"x\" - create - creates a file, error if it already exists"
   ],
   "metadata": {}
  },
  {
   "cell_type": "code",
   "execution_count": 78,
   "source": [
    "path = \"../Files/quotes.txt\" # it's a relative path from '..' goes up a folder\r\n",
    "\r\n",
    "with open(path, \"r\") as f:\r\n",
    "    text = f.read() # reads the whole file\r\n",
    "\r\n",
    "print(repr(text)) # prints out the raw string"
   ],
   "outputs": [
    {
     "output_type": "stream",
     "name": "stdout",
     "text": [
      "'  If     we     knew what it was      we were doing, it would not be called research,          would it?     - Albert Einstein\\n\\nTime is a drug. Too       much of it kills you.  -  Terry Pratchett\\n\\n\\n An expert is a person who       has made all the mistakes that           can be made in a          very narrow field - Niels Bohr\\n\\n   Everything must be made as simple as possible. But not simpler. - Albert Einstein     \\n\\n\\n  Nothing in life                is to be feared, it is only to be understood. Now is the time to understand more, so that we may fear less. - Marie  Curie  \\n\\nIf I have seen further     it is by standing on the shoulders of Giants. - Isaac Newton'\n"
     ]
    }
   ],
   "metadata": {}
  },
  {
   "cell_type": "markdown",
   "source": [
    "---\r\n",
    "## Clean up quotes.txt\r\n",
    "\r\n",
    "Strategy\r\n",
    "- inspect the txt-file (and notice that some prankster has added random noise in form of whitespaces)\r\n",
    "- remove all leading and trailing whitespaces\r\n",
    "- remove excessive white spaces\r\n",
    "- add quote numbers"
   ],
   "metadata": {}
  },
  {
   "cell_type": "code",
   "execution_count": 79,
   "source": [
    "import re \r\n",
    "\r\n",
    "quotes, i = [], 1 # i is used for quotenumber\r\n",
    "\r\n",
    "# opens two files, one for reading and one for writing\r\n",
    "with open(\"../Files/quotes.txt\", \"r\") as f_read, open(\"../Files/quotes_cleaned.txt\", \"w\") as f_write: \r\n",
    "    \r\n",
    "    f_write.write(\"Famous quotes\\n\\n\")\r\n",
    "    for quote in f_read:\r\n",
    "        quote = quote.strip(\" \\n\") # removes leading and trailing space and newlines\r\n",
    "        quote = re.sub(\" +\", \" \", quote) # regular expression to substitute >=1 whitespace with 1 whitespace\r\n",
    "        \r\n",
    "        #print(quote, end=\"\")\r\n",
    "        # some lines are empty due to vertical whitespaces\r\n",
    "        if quote != \"\":\r\n",
    "            f_write.write(f\"{i}. {quote}\\n\")\r\n",
    "            i+=1"
   ],
   "outputs": [],
   "metadata": {}
  },
  {
   "cell_type": "markdown",
   "source": [
    "---\r\n",
    "## Extract authors\r\n",
    "\r\n",
    "Strategy\r\n",
    "- check for digits to find the quotes\r\n",
    "- extract first name and last names\r\n",
    "- join them into full name \r\n",
    "- extract unique values"
   ],
   "metadata": {}
  },
  {
   "cell_type": "code",
   "execution_count": 80,
   "source": [
    "with open(\"../Files/quotes_cleaned.txt\", \"r\") as f_read, open(\"../Files/quotes_cleaned.txt\", \"a\") as f_append:\r\n",
    "    quotes = [quote.strip(\"\\n\") for quote in f_read.readlines() if quote[0].isdigit()] # save if it's a quote by searching the number\r\n",
    "    authors = [quote.split()[-2:] for quote in quotes] # gets first name and last name\r\n",
    "    print(authors)\r\n",
    "    authors = set([\" \".join(author) for author in authors]) # a set contains only the unique values\r\n",
    "    print(authors)\r\n",
    "\r\n",
    "    f_append.write(\"\\nAuthors: \")\r\n",
    "    for author in authors: \r\n",
    "        f_append.write(f\"{author}, \")"
   ],
   "outputs": [
    {
     "output_type": "stream",
     "name": "stdout",
     "text": [
      "[['Albert', 'Einstein'], ['Terry', 'Pratchett'], ['Niels', 'Bohr'], ['Albert', 'Einstein'], ['Marie', 'Curie'], ['Isaac', 'Newton']]\n",
      "{'Niels Bohr', 'Terry Pratchett', 'Isaac Newton', 'Albert Einstein', 'Marie Curie'}\n"
     ]
    }
   ],
   "metadata": {}
  },
  {
   "cell_type": "markdown",
   "source": [
    "---\r\n",
    "\r\n",
    "Kokchun Giang\r\n",
    "\r\n",
    "[LinkedIn][linkedIn_kokchun]\r\n",
    "\r\n",
    "[GitHub portfolio][github_portfolio]\r\n",
    "\r\n",
    "[linkedIn_kokchun]: https://www.linkedin.com/in/kokchungiang/\r\n",
    "[github_portfolio]: https://github.com/kokchun/Portfolio-Kokchun-Giang\r\n",
    "\r\n",
    "---"
   ],
   "metadata": {}
  }
 ],
 "metadata": {
  "orig_nbformat": 4,
  "language_info": {
   "name": "python",
   "version": "3.9.6",
   "mimetype": "text/x-python",
   "codemirror_mode": {
    "name": "ipython",
    "version": 3
   },
   "pygments_lexer": "ipython3",
   "nbconvert_exporter": "python",
   "file_extension": ".py"
  },
  "kernelspec": {
   "name": "python3",
   "display_name": "Python 3.9.6 64-bit"
  },
  "interpreter": {
   "hash": "a6af3a3bb251bcb72cfdd789c0ff929377064d8a2e64281876c18e53714e278c"
  }
 },
 "nbformat": 4,
 "nbformat_minor": 2
}