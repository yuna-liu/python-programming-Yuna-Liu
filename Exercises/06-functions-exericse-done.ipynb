{
 "cells": [
  {
   "cell_type": "markdown",
   "metadata": {},
   "source": [
    "# The solution to exercise 06: functions\n",
    "\n",
    "Date: 2021-09-07\n",
    "\n",
    "The questions can be found [here][exercise_link]:\n",
    "\n",
    "[exercise_link]: https://github.com/kokchun/Programmering-med-Python-21/blob/main/Exercises/06-functions-exericse.ipynb"
   ]
  },
  {
   "cell_type": "markdown",
   "metadata": {},
   "source": [
    "## 1. Area (*)\n",
    "\n",
    "Create a function that takes the base and height of a triangle as input parameters and returns the area of the triangle."
   ]
  },
  {
   "cell_type": "code",
   "execution_count": 2,
   "metadata": {},
   "outputs": [
    {
     "name": "stdout",
     "output_type": "stream",
     "text": [
      "The area of the triangle is: 6.0\n"
     ]
    }
   ],
   "source": [
    "def area(base, height):\n",
    "    return (base*height/2)\n",
    "print(f\"The area of the triangle is: {area(3,4)}\")"
   ]
  },
  {
   "cell_type": "markdown",
   "metadata": {},
   "source": [
    "---\n",
    "\n",
    "## 2. Euclidean distance (*)\n",
    "\n",
    "The formula for Euclidean distance in 2D between $P: (p_1, p_2)$ and $Q: (q_1, q_2)$  is: \n",
    "\n",
    "$d(P,Q) = \\sqrt{(p_1-q_1)^2 + (p_2-q_2)^2}$\n",
    "\n",
    "&nbsp; a) &nbsp; Create a function that takes two points as input parameters and return the Euclidean between them. (*)\n",
    "\n",
    "&nbsp; b) &nbsp; Let the user input two points. Call the function using the users input points. (*)\n",
    "\n",
    "&nbsp; c) &nbsp; Use your function to calculate distances between the origin (0, 0) and each of these points: (10, 3), (-1, -9), (10, -10), (4, -2), (9, -10). (*)\n",
    "\n",
    "<details>\n",
    "\n",
    "<summary>Hint</summary>\n",
    "\n",
    "Use a **for** statement\n",
    "\n",
    "</details>\n",
    "<br>\n",
    "<details>\n",
    "\n",
    "<summary>Answer</summary>\n",
    "\n",
    "c)\n",
    "\n",
    "```\n",
    "[10.4, 9.1, 14.1, 4.5, 13.5]\n",
    "```\n",
    "\n",
    "</details>\n"
   ]
  },
  {
   "cell_type": "code",
   "execution_count": 9,
   "metadata": {},
   "outputs": [
    {
     "name": "stdout",
     "output_type": "stream",
     "text": [
      "The eucliden distance between the points are: 2.83\n",
      "The eucliden distance between the origin (0, 0) and each of these points is: 10.44\n",
      "The eucliden distance between the origin (0, 0) and each of these points is: 9.06\n",
      "The eucliden distance between the origin (0, 0) and each of these points is: 14.14\n",
      "The eucliden distance between the origin (0, 0) and each of these points is: 4.47\n",
      "The eucliden distance between the origin (0, 0) and each of these points is: 13.45\n"
     ]
    }
   ],
   "source": [
    "# a\n",
    "def euclidean_distance(p1,p2,q1,q2):\n",
    "    return (((p1-q1)**2+(p2-q2)**2)**0.5)\n",
    "\n",
    "# b\n",
    "p1 = float(input(\"please enter the x of the first point\"))\n",
    "p2 = float(input(\"please enter the y of the first point\"))\n",
    "q1 = float(input(\"please enter the x of the second point\"))\n",
    "q2 = float(input(\"please enter the y of the second point\"))\n",
    "print(f\"The eucliden distance between the points are: {euclidean_distance(p1,p2,q1,q2):.2f}\")\n",
    "\n",
    "# c\n",
    "points = [(10, 3), (-1, -9), (10, -10), (4, -2), (9, -10)]\n",
    "for point in points:\n",
    "    print(f\"The eucliden distance between the origin (0, 0) and each of these points is: {euclidean_distance(0,0,point[0],point[1]):.2f}\")\n"
   ]
  },
  {
   "cell_type": "markdown",
   "metadata": {},
   "source": [
    "---\n",
    "## 3. Mathematical functions (*)\n",
    "\n",
    "Make the following functions with **def** or **lambda** and plot their graphs in the same figure window, with $x\\in [-10,10]$ :\n",
    "\n",
    "&nbsp; a) &nbsp;  $f(x) = x^2 -3$ (*)\n",
    "\n",
    "&nbsp; b) &nbsp; $g(x) = 4x-7$ (*)\n",
    "\n",
    "What could the relation between $f(x)$ and $g(x)$ be?\n",
    "\n",
    "<details>\n",
    "\n",
    "<summary>Hint</summary>\n",
    "Use numpy's linspace function:\n",
    "\n",
    "```python\n",
    "import numpy as np\n",
    "x = np.linspace(-10,10)\n",
    "```\n",
    "\n",
    "[Derivative video][derivative_video] (Swedish)\n",
    "\n",
    "[Derivative of polynomials][derivative_polynomial] (Swedish)\n",
    "\n",
    "[derivative_video]: https://www.youtube.com/watch?v=hzXJxOXkU_M\n",
    "[derivative_polynomial]: https://www.youtube.com/watch?v=dFnro1sBn1Y\n",
    "\n",
    "</details>\n",
    "<br>\n",
    "<details>\n",
    "\n",
    "<summary>Answer</summary>\n",
    "\n",
    "<img align=\"left\" src=\"../assets/functions_graph.png\" width=\"200\"/>\n",
    "\n",
    "</details>\n"
   ]
  },
  {
   "cell_type": "code",
   "execution_count": 7,
   "metadata": {},
   "outputs": [
    {
     "data": {
      "text/plain": [
       "Text(0.5, 1.0, 'f(x) and g(x)')"
      ]
     },
     "execution_count": 7,
     "metadata": {},
     "output_type": "execute_result"
    },
    {
     "data": {
      "image/png": "[encoded data removed]",
      "text/plain": [
       "<Figure size 432x288 with 1 Axes>"
      ]
     },
     "metadata": {
      "needs_background": "light"
     },
     "output_type": "display_data"
    }
   ],
   "source": [
    "import matplotlib.pyplot as plt \n",
    "import numpy as np\n",
    "\n",
    "f = lambda x: x**2-3\n",
    "g = lambda x: 4*x-7\n",
    "\n",
    "x = np.linspace(-10,10)\n",
    "plt.plot(x, f(x))\n",
    "plt.plot(x, g(x))\n",
    "plt.xlabel(\"x\")\n",
    "plt.ylabel(\"y\")\n",
    "plt.title(\"f(x) and g(x)\")"
   ]
  },
  {
   "cell_type": "code",
   "execution_count": 8,
   "metadata": {},
   "outputs": [
    {
     "name": "stdout",
     "output_type": "stream",
     "text": [
      "[-10, -9, -8, -7, -6, -5, -4, -3, -2, -1, 0, 1, 2, 3, 4, 5, 6, 7, 8, 9]\n"
     ]
    },
    {
     "data": {
      "image/png": "[encoded data removed]",
      "text/plain": [
       "<Figure size 432x288 with 1 Axes>"
      ]
     },
     "metadata": {
      "needs_background": "light"
     },
     "output_type": "display_data"
    }
   ],
   "source": [
    "import matplotlib.pyplot as plt \n",
    "\n",
    "def draw_f(x, title=\"\"):\n",
    "    y = [x_**2-3 for x_ in x]\n",
    "\n",
    "    plt.plot(x,y)\n",
    "    plt.xlabel(\"x\")\n",
    "    plt.ylabel(\"y\")\n",
    "    plt.title(title)\n",
    "\n",
    "\n",
    "def draw_g(x, title=\"\"):\n",
    "    y = [4*x_-7 for x_ in x]\n",
    "\n",
    "    plt.plot(x,y)\n",
    "    plt.xlabel(\"x\")\n",
    "    plt.ylabel(\"y\")\n",
    "    plt.title(title)\n",
    "\n",
    "x = list(range(-10,10))\n",
    "print(x)\n",
    "\n",
    "draw_f(x, title=\"Lines f(x)\")\n",
    "draw_g(x, title=\"Lines g(x)\")\n",
    "\n",
    "## define a drawing function, where x is a list of range(), and y is a list of numbers according to the given function.\n",
    "## plt.plot(x, y); x is list(range(-10,10)); y = [f(x_) for x_ in x]"
   ]
  },
  {
   "cell_type": "markdown",
   "metadata": {},
   "source": [
    "---\n",
    "## 4. Name cleaner (*)\n",
    "\n",
    "Create a function that takes a name as an input and:\n",
    "\n",
    "- removes all leading and trailing blank spaces\n",
    "- make capitalize the first character of each name, and make the rest lowercase\n",
    "\n",
    "Use your function on this list of strings: \n",
    "\n",
    "```\n",
    "[\"  MaRcUs \", \" iDA aNderSon\", \"OLOF Olofsson            \"  ]\n",
    "```\n",
    "\n",
    "\n",
    "<details>\n",
    "\n",
    "<summary>Hint</summary>\n",
    "Use \n",
    "\n",
    "- [title() method][str_title]\n",
    "- [strip() method][str_strip]\n",
    "- [join() method][str_join]\n",
    "- [split() method][str_split]\n",
    "\n",
    "[str_title]: https://www.w3schools.com/python/ref_string_title.asp\n",
    "[str_strip]: https://www.w3schools.com/python/ref_string_strip.asp\n",
    "[str_join]: https://www.w3schools.com/python/ref_string_join.asp\n",
    "[str_split]: https://www.w3schools.com/python/ref_string_split.asp \n",
    "\n",
    "</details>\n",
    "<br>\n",
    "<details>\n",
    "\n",
    "<summary>Answer</summary>\n",
    "\n",
    "```\n",
    "Marcus\n",
    "Ida Anderson\n",
    "Olof Olofsson\n",
    "```\n",
    "\n",
    "</details>\n"
   ]
  },
  {
   "cell_type": "code",
   "execution_count": 23,
   "metadata": {},
   "outputs": [
    {
     "name": "stdout",
     "output_type": "stream",
     "text": [
      "Marcus\n",
      "Ida Anderson\n",
      "Olof Olofsson\n"
     ]
    }
   ],
   "source": [
    "def name_cleaner(name):\n",
    "    name = name.strip().title()\n",
    "    print(name)\n",
    "\n",
    "names = [\"  MaRcUs \", \" iDA aNderSon\", \"OLOF Olofsson            \"  ]\n",
    "\n",
    "for name in names:\n",
    "    name_cleaner(name)"
   ]
  },
  {
   "cell_type": "code",
   "execution_count": 4,
   "metadata": {},
   "outputs": [
    {
     "name": "stdout",
     "output_type": "stream",
     "text": [
      "'Marcus' 'Ida Anderson' 'Olof Olofsson' "
     ]
    }
   ],
   "source": [
    "def name_cleaner(names):\n",
    "    for name in names:\n",
    "        cleaned_name = name.strip().title()\n",
    "        print(f\"'{cleaned_name}'\", end=\" \")\n",
    "\n",
    "names = [\"  MaRcUs \", \" iDA aNderSon\", \"OLOF Olofsson            \"  ]\n",
    "name_cleaner(names)\n"
   ]
  },
  {
   "cell_type": "code",
   "execution_count": 43,
   "metadata": {},
   "outputs": [
    {
     "data": {
      "text/plain": [
       "['Marcus', 'Ida Anderson', 'Olof Olofsson']"
      ]
     },
     "execution_count": 43,
     "metadata": {},
     "output_type": "execute_result"
    }
   ],
   "source": [
    "def name_cleaner(names):\n",
    "        cleaned_name = [name.strip().title() for name in names] # construct a list to save all cleaned_names in each loop.\n",
    "        return cleaned_name   #print(cleaned_name) works the same\n",
    "        \n",
    "\n",
    "names = [\"  MaRcUs \", \" iDA aNderSon\", \"OLOF Olofsson            \"  ]\n",
    "name_cleaner(names)"
   ]
  },
  {
   "cell_type": "markdown",
   "metadata": {},
   "source": [
    "---\n",
    "## 5. Change (**)\n",
    "\n",
    "Create a function that takes a value as input parameter and print out the banknotes and coins in Swedish currency representing this value. For example 5289 would give the following printout: \n",
    "\n",
    "- 5st 1000-lapp\n",
    "- 1st 200-lapp\n",
    "- 1st 50-lapp\n",
    "- 1st 20-lapp\n",
    "- 1st 10-krona\n",
    "- 1st 5-krona\n",
    "- 2st 2-krona\n",
    "\n",
    "Now let the user input a value, and use the function to calculate the change."
   ]
  },
  {
   "cell_type": "code",
   "execution_count": 20,
   "metadata": {},
   "outputs": [
    {
     "name": "stdout",
     "output_type": "stream",
     "text": [
      "The value can change to:\n",
      "    -5st 1000-lapp \n",
      "    -0st 500-lapp \n",
      "    -1st 200-lapp \n",
      "    -0st 100-lapp \n",
      "    -1st 50-lapp \n",
      "    -1st 20-lapp \n",
      "    -1st 10-kr \n",
      "    -1st 5-kr \n",
      "    -2st 2-kr \n",
      "    -0st 1-kr \n",
      "    \n"
     ]
    }
   ],
   "source": [
    "def change_money(value):\n",
    "    numbers = [1000, 500, 200, 100, 50, 20, 10, 5, 2, 1]\n",
    "    lapps_list = []\n",
    "    \n",
    "    for number in numbers:\n",
    "        lapps = value //number  #The floor division operator (//): it rounds down to the nearest integer\n",
    "        value -= lapps*number #The amount that remains after removing the previous value\n",
    "        lapps_list.append(lapps)\n",
    "    return (f\"\"\"The value can change to:\n",
    "    -{lapps_list[0]}st 1000-lapp \n",
    "    -{lapps_list[1]}st 500-lapp \n",
    "    -{lapps_list[2]}st 200-lapp \n",
    "    -{lapps_list[3]}st 100-lapp \n",
    "    -{lapps_list[4]}st 50-lapp \n",
    "    -{lapps_list[5]}st 20-lapp \n",
    "    -{lapps_list[6]}st 10-kr \n",
    "    -{lapps_list[7]}st 5-kr \n",
    "    -{lapps_list[8]}st 2-kr \n",
    "    -{lapps_list[9]}st 1-kr \n",
    "    \"\"\")\n",
    "\n",
    "print(change_money(int(input(\"Please input the value of your money that you want to change.\"))))"
   ]
  }
 ],
 "metadata": {
  "interpreter": {
   "hash": "8111105f47d12ec1fb8af24cde7e4ba5898ee01916168ee13b7453f45f559afc"
  },
  "kernelspec": {
   "display_name": "Python 3.9.6 64-bit ('python-programming-Yuna-Liu-WA6ACBfR': pipenv)",
   "name": "python3"
  },
  "language_info": {
   "codemirror_mode": {
    "name": "ipython",
    "version": 3
   },
   "file_extension": ".py",
   "mimetype": "text/x-python",
   "name": "python",
   "nbconvert_exporter": "python",
   "pygments_lexer": "ipython3",
   "version": "3.9.6"
  },
  "orig_nbformat": 4
 },
 "nbformat": 4,
 "nbformat_minor": 2
}
