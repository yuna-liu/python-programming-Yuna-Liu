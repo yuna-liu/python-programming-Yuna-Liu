{
 "cells": [
  {
   "cell_type": "markdown",
   "source": [
    "# Solution to exercise1"
   ],
   "metadata": {}
  },
  {
   "cell_type": "markdown",
   "source": [
    "## Count with Python\r\n",
    "\r\n",
    "The exercise1 is [here][here].\r\n",
    "\r\n",
    "[here]: https://github.com/kokchun/Programmering-med-Python-21/blob/main/Exercises/00-Count-with-Python-exercise.ipynb"
   ],
   "metadata": {}
  },
  {
   "cell_type": "markdown",
   "source": [
    "1. Pythagorean theorem"
   ],
   "metadata": {}
  },
  {
   "cell_type": "code",
   "execution_count": 11,
   "source": [
    "# To solve 1a) \r\n",
    "\r\n",
    "import math\r\n",
    "a = 3\r\n",
    "b = 4\r\n",
    "c = math.sqrt(a**2+b**2)\r\n",
    "\r\n",
    "print(f\"The hypothenuse is {c} length unit\")"
   ],
   "outputs": [
    {
     "output_type": "stream",
     "name": "stdout",
     "text": [
      "The hypothenuse is 5.0 length unit\n"
     ]
    }
   ],
   "metadata": {}
  },
  {
   "cell_type": "code",
   "execution_count": 13,
   "source": [
    "# To solve 1b) \r\n",
    "\r\n",
    "import math\r\n",
    "a = 5\r\n",
    "c = 7\r\n",
    "b = math.sqrt(c**2-a**2)\r\n",
    "\r\n",
    "print(f\"The other cathetus is {b:.1f} length unit\")"
   ],
   "outputs": [
    {
     "output_type": "stream",
     "name": "stdout",
     "text": [
      "The other cathetus is 4.9 length unit\n"
     ]
    }
   ],
   "metadata": {}
  },
  {
   "cell_type": "markdown",
   "source": [
    "2. Classification accuracy"
   ],
   "metadata": {}
  },
  {
   "cell_type": "code",
   "execution_count": 14,
   "source": [
    "total_predictions = 365\r\n",
    "correct_predictions = 300\r\n",
    "\r\n",
    "accuracy = correct_predictions/total_predictions*100\r\n",
    "\r\n",
    "print (f\"The accuracy of this model is {accuracy:.1f} %\")"
   ],
   "outputs": [
    {
     "output_type": "stream",
     "name": "stdout",
     "text": [
      "The accuracy of this model is 82.2 %\n"
     ]
    }
   ],
   "metadata": {}
  }
 ],
 "metadata": {
  "orig_nbformat": 4,
  "language_info": {
   "name": "python",
   "version": "3.9.6",
   "mimetype": "text/x-python",
   "codemirror_mode": {
    "name": "ipython",
    "version": 3
   },
   "pygments_lexer": "ipython3",
   "nbconvert_exporter": "python",
   "file_extension": ".py"
  },
  "kernelspec": {
   "name": "python3",
   "display_name": "Python 3.9.6 64-bit"
  },
  "interpreter": {
   "hash": "2971b745844267d7cb4483e5f20d838014d69d8df52b415790673c9e258dc44a"
  }
 },
 "nbformat": 4,
 "nbformat_minor": 2
}