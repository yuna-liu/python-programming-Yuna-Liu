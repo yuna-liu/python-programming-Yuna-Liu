{
 "cells": [
  {
   "cell_type": "markdown",
   "source": [
    "\n",
    "<a href=\"https://colab.research.google.com/github/kokchun/Programmering-med-Python-21/blob/main/Lectures/Lec10-OOP_basics.ipynb\" target=\"_parent\"><img align=\"left\" src=\"https://colab.research.google.com/assets/colab-badge.svg\" alt=\"Open In Colab\"/></a> &nbsp; for interacting with the code"
   ],
   "metadata": {}
  },
  {
   "cell_type": "markdown",
   "source": [
    "---\r\n",
    "# Lecture notes - OOP basics\r\n",
    "\r\n",
    "---\r\n",
    "This is the lecture note for basic **OOP** - Object Oriented Programming, but it's built upon contents from previous lectures such as: \r\n",
    "- input-output\r\n",
    "- variables\r\n",
    "- if-statement\r\n",
    "- for loop\r\n",
    "- while \r\n",
    "- lists\r\n",
    "- random\r\n",
    "- strings\r\n",
    "- functions\r\n",
    "- error handling\r\n",
    "- file handling\r\n",
    "- dictionary\r\n",
    "\r\n",
    "<p class = \"alert alert-info\" role=\"alert\"><b>Note</b> that this lecture note gives a brief introduction to OOP. I encourage you to read further about OOP.\r\n",
    "\r\n",
    "Read more [w3schools - OOP](https://www.w3schools.com/python/python_classes.asp). \r\n",
    "\r\n",
    "---"
   ],
   "metadata": {}
  },
  {
   "cell_type": "markdown",
   "source": [
    "## class()\n",
    "\n",
    "- create a class using the ```class``` keyword \n",
    "- an object is instantiated from the class using the **constructor**\n",
    "- ```__init__()``` - \"dunder init\" is an **initializer** method which is called when the object is created \n",
    "- - used for setting initial values of **attributes**, which are variables associated with an object\n",
    "- - if not specified, Python will call a default ```__init__()```\n",
    "- **methods** - functions bound to the class\n",
    "- **self** - when a method of an object is called, the object itself is passed into the self parameter\n",
    "- all methods have a **self** parameter"
   ],
   "metadata": {}
  },
  {
   "cell_type": "code",
   "execution_count": 1,
   "source": [
    "class Antagning: # creates the class\r\n",
    "    # initializer - runs when instance of the class is created\r\n",
    "    def __init__(self, school, program, name, accept):\r\n",
    "        # assign the arguments to object attributes\r\n",
    "        self.school = school \r\n",
    "        self.program = program\r\n",
    "        self.name = name\r\n",
    "        self.accept = accept \r\n",
    "\r\n",
    "# note that the object is sent to the self parameter, so you only pass in 4 arguments and not 5\r\n",
    "person1 = Antagning(\"Cool school\", \"AI\", accept=True, name=\"Kokchun\") # constructor\r\n",
    "person2 = Antagning(\"Cooler school\", \"Data science\", accept=False, name = \"Gore Bord\") \r\n",
    "\r\n",
    "print(f\"person1: {person1}\") # an object of class Antagning() at a certain memory position\r\n",
    "print(f\"person2.program: {person2.program}\") # accesses an attribute of the object\r\n",
    "person2.program = \"UX\" # change an attribute\r\n",
    "print(f\"person2.program: {person2.program}\")\r\n",
    "\r\n",
    "# note that these are different as name are attributes of each object\r\n",
    "print(f\"person1.name: {person1.name}\")\r\n",
    "print(f\"person2.name: {person2.name}\")"
   ],
   "outputs": [
    {
     "output_type": "stream",
     "name": "stdout",
     "text": [
      "person1: <__main__.Antagning object at 0x7f8da58e18e0>\n",
      "person2.program: Data science\n",
      "person2.program: UX\n",
      "person1.name: Kokchun\n",
      "person2.name: Gore Bord\n"
     ]
    }
   ],
   "metadata": {}
  },
  {
   "cell_type": "markdown",
   "source": [
    "## \\_\\_repr\\_\\_ \n",
    "\n",
    "- dunder \"repper\" method for representing the object\n",
    "- write in a way for other developers to see how to create the object if possible"
   ],
   "metadata": {}
  },
  {
   "cell_type": "code",
   "execution_count": 4,
   "source": [
    "class Antagning: # creates the class\r\n",
    "    # initializer - runs when instance of the class is created\r\n",
    "    def __init__(self, school, program, name, accept):\r\n",
    "        # assign the arguments to object attributes\r\n",
    "        self.school = school \r\n",
    "        self.program = program\r\n",
    "        self.name = name\r\n",
    "        self.accept = accept\r\n",
    "\r\n",
    "    def __repr__(self):\r\n",
    "        return f\"Antagning(school='{self.school}',program='{self.program}', name='{self.name}', accept={self.accept})\"\r\n",
    "\r\n",
    "s = Antagning(\"Cool school\", \"Haskell\", \"Ada Lovelace\", True) \r\n",
    "print(s1)"
   ],
   "outputs": [
    {
     "output_type": "stream",
     "name": "stdout",
     "text": [
      "Antagning(school='Cool school',program='Haskell', name='Ada Lovelace', accept=True)\n"
     ]
    }
   ],
   "metadata": {}
  },
  {
   "cell_type": "markdown",
   "source": [
    "## Encapsulation - \"Private attributes\"\n",
    "\n",
    "- encapsulation is a concept in OOP to hide information so that it only can be accessed within the class\n",
    "- all attributes in Python are public\n",
    "- by convention you can make an attribute private by using _ in front of it\n",
    "- people knowledgeable in Python knows not to change it outside of the class, however technically you can change a private attribute outside the class\n",
    "- another way to make private attributes is through double underscore \\_\\_ -> which name mangles the attribute  "
   ],
   "metadata": {}
  },
  {
   "cell_type": "code",
   "execution_count": 18,
   "source": [
    "class Patient:\r\n",
    "    def __init__(self, name, diagnosis):\r\n",
    "        self._name = name\r\n",
    "        self.__diagnosis = diagnosis\r\n",
    "\r\n",
    "    def __repr__(self):\r\n",
    "        return f\"Patient({self._name}, {self.__diagnosis} )\"   \r\n",
    "\r\n",
    "patient1 = Patient(\"Gore Bord\", \"Migraine\")\r\n",
    "print(patient1)\r\n",
    "\r\n",
    "print(\"Change patient name\")\r\n",
    "patient1._name = \"Gree Bree\" # can change this but really should not \r\n",
    "print(patient1)\r\n",
    "\r\n",
    "# try access diagnosis\r\n",
    "try: \r\n",
    "    print(patient1.__diagnosis) # can't access because named has been mangled \r\n",
    "except AttributeError as err:\r\n",
    "    print(err)\r\n",
    "\r\n",
    "print(patient1.__dict__) # {attributes : attribute_values}\r\n",
    "print(patient1._Patient__diagnosis) # can access the attribute\r\n",
    "\r\n",
    "# this is for understanding purposes, DON'T access private attributes from outside the class "
   ],
   "outputs": [
    {
     "output_type": "stream",
     "name": "stdout",
     "text": [
      "Patient(Gore Bord, Migraine )\n",
      "Change patient name\n",
      "Patient(Gree Bree, Migraine )\n",
      "'Patient' object has no attribute '__diagnosis'\n",
      "{'_name': 'Gree Bree', '_Patient__diagnosis': 'Migraine'}\n",
      "Migraine\n"
     ]
    }
   ],
   "metadata": {}
  },
  {
   "cell_type": "code",
   "execution_count": 41,
   "source": [
    "class OldCoinsStash:\r\n",
    "    def __init__(self, owner):\r\n",
    "        self.owner = owner\r\n",
    "\r\n",
    "        # these attributes are \"private\" - only allow to access them in the class\r\n",
    "        self._riksdaler = 0\r\n",
    "        self._skilling = 0\r\n",
    "\r\n",
    "    def deposit(self, riksdaler, skilling):\r\n",
    "        if riksdaler <= 0 or skilling <= 0:\r\n",
    "            raise ValueError(\r\n",
    "                f\"You try to deposit {riksdaler} riksdaler and {skilling} skilling. They have to be positive\")\r\n",
    "\r\n",
    "        self._riksdaler += riksdaler\r\n",
    "        self._skilling += skilling\r\n",
    "\r\n",
    "    def withdraw(self, riksdaler, skilling):\r\n",
    "        if riksdaler > self._riksdaler or skilling > self._skilling:\r\n",
    "            raise ValueError(\r\n",
    "                f\"You can't withdraw more than you have in your stash\")\r\n",
    "\r\n",
    "        self._riksdaler -= riksdaler\r\n",
    "        self._skilling -= skilling\r\n",
    "\r\n",
    "    def check_balance(self):\r\n",
    "        return f\"Coins in stash: {self._riksdaler} riksdaler, {self._skilling} skilling\"\r\n",
    "\r\n",
    "    def __repr__(self):\r\n",
    "        return f\"OldCoinStash(owner='{self.owner}')\"\r\n",
    "\r\n",
    "stash1 = OldCoinsStash(\"Gore Bord\")\r\n",
    "print(stash1.check_balance())\r\n",
    "\r\n",
    "try:\r\n",
    "    stash1.deposit(-5, 31)  # check if I can rob the stash\r\n",
    "except ValueError as err:\r\n",
    "    print(err)\r\n",
    "\r\n",
    "print(stash1.check_balance())\r\n",
    "stash1.deposit(50, 42)\r\n",
    "print(stash1.check_balance())\r\n",
    "\r\n",
    "try:\r\n",
    "    stash1.withdraw(500, 31)  # check if I can rob the stash again\r\n",
    "except ValueError as err:\r\n",
    "    print(err)\r\n",
    "\r\n",
    "print(stash1.check_balance())\r\n",
    "stash1.withdraw(25, 20)\r\n",
    "print(stash1.check_balance())\r\n",
    "\r\n",
    "# there are ways to rob the stash -> try and see if you can find them :)\r\n",
    "# then try to fix this bug (or feature ;) ?)\r\n"
   ],
   "outputs": [
    {
     "output_type": "stream",
     "name": "stdout",
     "text": [
      "Coins in stash: 0 riksdaler, 0 skilling\n",
      "You try to deposit -5 riksdaler and 31 skilling. They have to be positive\n",
      "Coins in stash: 0 riksdaler, 0 skilling\n",
      "Coins in stash: 50 riksdaler, 42 skilling\n",
      "You can't withdraw more than you have in your stash\n",
      "Coins in stash: 50 riksdaler, 42 skilling\n",
      "Coins in stash: 25 riksdaler, 22 skilling\n"
     ]
    }
   ],
   "metadata": {}
  },
  {
   "cell_type": "markdown",
   "source": [
    "## Property and documentation\n",
    "\n",
    "- getter and setter\n",
    "- include error handling and other checks in setters\n",
    "- can make read-only property if you don't want to have private property\n",
    "\n",
    "### Docstring\n",
    "- docstring for documenting your class, use three quotes \"\"\" \"\"\" after class name\n",
    "- always write a docstring so that you, or other developers can easily understand your classes and methods \n",
    "- shows up when calling help()\n",
    "\n",
    "### Type hinting\n",
    "- Python is a dynamic language and hence the type is inferred \n",
    "- use type hinting to annotate parameters and return types\n"
   ],
   "metadata": {}
  },
  {
   "cell_type": "code",
   "execution_count": 7,
   "source": [
    "class Student:\r\n",
    "    \"\"\"Student class for representing students with name, age and active \"\"\"\r\n",
    "    \r\n",
    "    number_students = 0 # class variable - create before __init__\r\n",
    "\r\n",
    "    # note the type hinting\r\n",
    "    def __init__(self, name: str, age: int, active: bool) -> None: \r\n",
    "        self._name = name # note underscore\r\n",
    "        self.age = age\r\n",
    "        self.active = active\r\n",
    "        Student.number_students += 1 # access class variable \r\n",
    "\r\n",
    "    # read only property - only has a getter, no setter as we don't want to change the name\r\n",
    "    @property\r\n",
    "    def name(self) -> str:\r\n",
    "        \"\"\" Read-only property, can't set the name\"\"\"\r\n",
    "        return self._name # note underscore\r\n",
    "\r\n",
    "    @property\r\n",
    "    def age(self) -> float:\r\n",
    "        return self._age\r\n",
    "\r\n",
    "    @age.setter  # note the name must be same as under the property decorator\r\n",
    "    def age(self, value: float) -> None:\r\n",
    "        \"\"\" Setter for for age with error handling\"\"\"\r\n",
    "        if not isinstance(value, (int, float)):\r\n",
    "            raise TypeError(\r\n",
    "                f\"Age must be either int or float not {type(value)}\")\r\n",
    "\r\n",
    "        if not (0 < value < 125):\r\n",
    "            raise ValueError(\"Your age must be between 1 and 124\")\r\n",
    "\r\n",
    "        self._age = value\r\n",
    "\r\n",
    "    def __repr__(self) -> str:\r\n",
    "        return f\"Student(name={self.name}, age={self.age}, active={self.active})\"\r\n",
    "\r\n",
    "\r\n",
    "s1 = Student(\"Gore Bord\", 55, True)\r\n",
    "try:\r\n",
    "    s1.name = \"Gure Burd\"  # can't set read-only properties\r\n",
    "except AttributeError as err:\r\n",
    "    print(err)\r\n",
    "\r\n",
    "print(s1.name)\r\n",
    "s1.age = 58\r\n",
    "\r\n",
    "print(Student)\r\n",
    "print(s1, \"\\n\")  # calls the __repr__ method\r\n",
    "\r\n",
    "students = [Student(\"Gore Bord\", 35, True), Student(\"Har Pon\", 22, False), Student(\"Yo Lo\", 12, False)]\r\n",
    "print(students)\r\n",
    "print(students[0].name)\r\n",
    "\r\n",
    "print(f\"There are {Student.number_students} students created\")"
   ],
   "outputs": [
    {
     "output_type": "stream",
     "name": "stdout",
     "text": [
      "can't set attribute\n",
      "Gore Bord\n",
      "<class '__main__.Student'>\n",
      "Student(name=Gore Bord, age=58, active=True) \n",
      "\n",
      "[Student(name=Gore Bord, age=35, active=True), Student(name=Har Pon, age=22, active=False), Student(name=Yo Lo, age=12, active=False)]\n",
      "Gore Bord\n",
      "There are 4 students created\n"
     ]
    }
   ],
   "metadata": {}
  },
  {
   "cell_type": "code",
   "execution_count": 28,
   "source": [
    "class Student:\r\n",
    "    \"\"\"Student class for representing students with name, age and active \"\"\"\r\n",
    "    \r\n",
    "    number_students = 0 # class variable - create before __init__\r\n",
    "\r\n",
    "    # note the type hinting\r\n",
    "    def __init__(self, name: str, age: int, active: bool) -> None: \r\n",
    "        self._name = name # note underscore\r\n",
    "        self._age = age\r\n",
    "        self.active = active\r\n",
    "        Student.number_students += 1 # access class variable \r\n",
    "\r\n",
    "    # read only property - only has a getter, no setter as we don't want to change the name\r\n",
    "    @property\r\n",
    "    def name(self) -> str:\r\n",
    "        \"\"\" Read-only property, can't set the name\"\"\"\r\n",
    "        return self._name # note underscore\r\n",
    "\r\n",
    "    @property\r\n",
    "    def age(self) -> float:\r\n",
    "        return self._age\r\n",
    "\r\n",
    "    @age.setter  # note the name must be same as under the property decorator\r\n",
    "    def age(self, value: float) -> None:\r\n",
    "        \"\"\" Setter for for age with error handling\"\"\"\r\n",
    "        if not isinstance(value, (int, float)):\r\n",
    "            raise TypeError(\r\n",
    "                f\"Age must be either int or float not {type(value)}\")\r\n",
    "\r\n",
    "        if not (0 < value < 125):\r\n",
    "            raise ValueError(\"Your age must be between 1 and 124\")\r\n",
    "\r\n",
    "        self._age = value\r\n",
    "\r\n",
    "    def __repr__(self) -> str:\r\n",
    "        return f\"Student(name={self.name}, age={self.age}, active={self.active})\"\r\n",
    "\r\n",
    "\r\n",
    "s1 = Student(\"Gore Bord\", 55, True)\r\n",
    "try:\r\n",
    "    s1._name = \"Gure Burd\"  # can't set read-only properties\r\n",
    "except AttributeError as err:\r\n",
    "    print(err)\r\n",
    "\r\n",
    "print(s1.name)\r\n",
    "s1.age = 58\r\n",
    "print(s1.age)\r\n",
    "\r\n",
    "print(Student)\r\n",
    "print(s1, \"\\n\")  # calls the __repr__ method\r\n",
    "\r\n",
    "students = [Student(\"Gore Bord\", 35, True), Student(\"Har Pon\", 22, False), Student(\"Yo Lo\", 12, False)]\r\n",
    "print(students)\r\n",
    "print(students[0].name)\r\n",
    "\r\n",
    "print(f\"There are {Student.number_students} students created\")"
   ],
   "outputs": [
    {
     "output_type": "stream",
     "name": "stdout",
     "text": [
      "Gure Burd\n",
      "58\n",
      "<class '__main__.Student'>\n",
      "Student(name=Gure Burd, age=58, active=True) \n",
      "\n",
      "[Student(name=Gore Bord, age=35, active=True), Student(name=Har Pon, age=22, active=False), Student(name=Yo Lo, age=12, active=False)]\n",
      "Gore Bord\n",
      "There are 4 students created\n"
     ]
    }
   ],
   "metadata": {}
  },
  {
   "cell_type": "code",
   "execution_count": 27,
   "source": [
    "class Student:\r\n",
    "    \"\"\"Student class for representing students with name, age and active \"\"\"\r\n",
    "    \r\n",
    "    number_students = 0 # class variable - create before __init__\r\n",
    "\r\n",
    "    # note the type hinting\r\n",
    "    def __init__(self, name: str, age: int, active: bool) -> None: \r\n",
    "        self._name = name # note underscore\r\n",
    "        self._age = age  # tried self.age=age, the result is the same\r\n",
    "        self.active = active\r\n",
    "        Student.number_students += 1 # access class variable \r\n",
    "\r\n",
    "    # read only property - only has a getter, no setter as we don't want to change the name\r\n",
    "    @property\r\n",
    "    def name(self) -> str:\r\n",
    "        \"\"\" Read-only property, can't set the name\"\"\"\r\n",
    "        return self._name # note underscore\r\n",
    "\r\n",
    "    @property\r\n",
    "    def age(self) -> float:\r\n",
    "        return self._age\r\n",
    "\r\n",
    "    @age.setter  # note the name must be same as under the property decorator\r\n",
    "    def age(self, value: float) -> None:\r\n",
    "        \"\"\" Setter for for age with error handling\"\"\"\r\n",
    "        if not isinstance(value, (int, float)):\r\n",
    "            raise TypeError(\r\n",
    "                f\"Age must be either int or float not {type(value)}\")\r\n",
    "\r\n",
    "        if not (0 < value < 125):\r\n",
    "            raise ValueError(\"Your age must be between 1 and 124\")\r\n",
    "\r\n",
    "        self._age = value\r\n",
    "\r\n",
    "    def __repr__(self) -> str:\r\n",
    "        return f\"Student(name={self.name}, age={self.age}, active={self.active})\"\r\n",
    "\r\n",
    "\r\n",
    "s1 = Student(\"Gore Bord\", 55, True)\r\n",
    "try:\r\n",
    "    print(s1.age)\r\n",
    "except AttributeError as err:\r\n",
    "    print(err)\r\n",
    "\r\n",
    "try:\r\n",
    "    print(s1._age)\r\n",
    "except AttributeError as err:\r\n",
    "    print(err)"
   ],
   "outputs": [
    {
     "output_type": "stream",
     "name": "stdout",
     "text": [
      "55\n",
      "55\n"
     ]
    }
   ],
   "metadata": {}
  },
  {
   "cell_type": "code",
   "execution_count": 23,
   "source": [
    "class Student:\r\n",
    "    \"\"\"Student class for representing students with name, age and active \"\"\"\r\n",
    "    \r\n",
    "    number_students = 0 # class variable - create before __init__\r\n",
    "\r\n",
    "    # note the type hinting\r\n",
    "    def __init__(self, name: str, age: int, active: bool) -> None: \r\n",
    "        self._name = name # note underscore\r\n",
    "        self._age = age\r\n",
    "        self.active = active\r\n",
    "        Student.number_students += 1 # access class variable \r\n",
    "\r\n",
    "    \r\n",
    "    def __repr__(self) -> str:\r\n",
    "        return f\"Student(name={self.name}, age={self._age}, active={self.active})\"\r\n",
    "\r\n",
    "\r\n",
    "s1 = Student(\"Gore Bord\", 55, True)\r\n",
    "try:\r\n",
    "    s1.age \r\n",
    "except AttributeError as err:\r\n",
    "    print(err)\r\n"
   ],
   "outputs": [
    {
     "output_type": "stream",
     "name": "stdout",
     "text": [
      "'Student' object has no attribute 'age'\n"
     ]
    }
   ],
   "metadata": {}
  }
 ],
 "metadata": {
  "orig_nbformat": 4,
  "language_info": {
   "name": "python",
   "version": "3.9.6",
   "mimetype": "text/x-python",
   "codemirror_mode": {
    "name": "ipython",
    "version": 3
   },
   "pygments_lexer": "ipython3",
   "nbconvert_exporter": "python",
   "file_extension": ".py"
  },
  "kernelspec": {
   "name": "python3",
   "display_name": "Python 3.9.6 64-bit ('python-programming-Yuna-Liu-WA6ACBfR': pipenv)"
  },
  "interpreter": {
   "hash": "8111105f47d12ec1fb8af24cde7e4ba5898ee01916168ee13b7453f45f559afc"
  }
 },
 "nbformat": 4,
 "nbformat_minor": 2
}