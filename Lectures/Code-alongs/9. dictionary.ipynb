{
 "cells": [
  {
   "cell_type": "markdown",
   "source": [
    "# Dictionary\n",
    "\n",
    "- key:value pair "
   ],
   "metadata": {}
  },
  {
   "cell_type": "code",
   "execution_count": 4,
   "source": [
    "person = dict(\r\n",
    "    name = \"Kokchun\",\r\n",
    "    age = 30.4,\r\n",
    "    work = \"AI Teacher\",\r\n",
    "    interests = [\"math\", \"programming\", \"python\", \"yoga\"],\r\n",
    "    likes_job = True\r\n",
    ")\r\n",
    "\r\n",
    "print(f\"person dictionary {person}\")\r\n",
    "print(f\"Personens namn är {person['name']}\") # accessed the value of the key name in person\r\n",
    "print(f\"Personens ålder är {person['age']} år\")\r\n",
    "\r\n",
    "for interest in person[\"interests\"]:\r\n",
    "    print(f\"{person['name']} likes {interest}\")"
   ],
   "outputs": [
    {
     "output_type": "stream",
     "name": "stdout",
     "text": [
      "person dictionary {'name': 'Kokchun', 'age': 30.4, 'work': 'AI Teacher', 'interests': ['math', 'programming', 'python', 'yoga'], 'likes_job': True}\n",
      "Personens namn är Kokchun\n",
      "Personens ålder är 30.4 år\n",
      "Kokchun likes math\n",
      "Kokchun likes programming\n",
      "Kokchun likes python\n",
      "Kokchun likes yoga\n"
     ]
    }
   ],
   "metadata": {}
  },
  {
   "cell_type": "code",
   "execution_count": 17,
   "source": [
    "words = {\r\n",
    "    \"data structure\": \"means of storing and organizing data\",\r\n",
    "    \"lambda\": \"anonymous function\",\r\n",
    "    \"class\": \"blueprint for objects\"\r\n",
    "}\r\n",
    "\r\n",
    "print(\"Vi ska lära oss dessa ord: \")\r\n",
    "for key in words:\r\n",
    "    print(key, end=\", \")\r\n",
    "\r\n",
    "print(f\"\\n\\nGlosa {'':<15} Betydelse\")\r\n",
    "for key, value in words.items():\r\n",
    "    print(f\"{key:<21} {value}\")"
   ],
   "outputs": [
    {
     "output_type": "stream",
     "name": "stdout",
     "text": [
      "Vi ska lära oss dessa ord: \n",
      "data structure, lambda, class, \n",
      "\n",
      "Glosa                 Betydelse\n",
      "data structure        means of storing and organizing data\n",
      "lambda                anonymous function\n",
      "class                 blueprint for objects\n"
     ]
    }
   ],
   "metadata": {}
  },
  {
   "cell_type": "code",
   "execution_count": 19,
   "source": [
    "words[\"lambda\"] = \"an anonymous function\" # overwrites the previous value for the key lambda\r\n",
    "words[\"regression\"] = \"find a function that best fits observed data\" # adds another key:value pair\r\n",
    "print(words)"
   ],
   "outputs": [
    {
     "output_type": "stream",
     "name": "stdout",
     "text": [
      "{'data structure': 'means of storing and organizing data', 'lambda': 'an anonymous function', 'class': 'blueprint for objects', 'regression': 'find a function that best fits observed data'}\n"
     ]
    }
   ],
   "metadata": {}
  },
  {
   "cell_type": "code",
   "execution_count": 26,
   "source": [
    "# F<10, E: 10, D:20, C:30, B:40, A:50\r\n",
    "grade_limits = {}\r\n",
    "grades = list(\"ABCDEF\")\r\n",
    "\r\n",
    "print(grades)\r\n",
    "\r\n",
    "for i, grade in enumerate(grades[::-1]):\r\n",
    "    grade_limits[grade] = i*10\r\n",
    "\r\n",
    "grade_limits[\"F\"] = \"<10\"\r\n",
    "print(grade_limits)"
   ],
   "outputs": [
    {
     "output_type": "stream",
     "name": "stdout",
     "text": [
      "['A', 'B', 'C', 'D', 'E', 'F']\n",
      "{'F': '<10', 'E': 10, 'D': 20, 'C': 30, 'B': 40, 'A': 50}\n"
     ]
    }
   ],
   "metadata": {}
  },
  {
   "cell_type": "markdown",
   "source": [
    "## Dictionary comprehension"
   ],
   "metadata": {}
  },
  {
   "cell_type": "code",
   "execution_count": 47,
   "source": [
    "import random as rnd \r\n",
    "# creates a dictionary grade_limits through {}; key is grade; value is i*10\r\n",
    "# where i is enumerate(list); each key from this list.\r\n",
    "grade_limits = {grade: i*10 for i, grade in enumerate(\"FEDCBA\")}\r\n",
    "print(grade_limits)\r\n",
    "\r\n",
    "def generate_scores(number_scores):\r\n",
    "    rnd.seed(42)\r\n",
    "    scores = [rnd.randint(0,59) for _ in range(number_scores)]\r\n",
    "    return scores\r\n",
    "\r\n",
    "scores = generate_scores(20)\r\n",
    "print(f\"Student scores: {scores}\")\r\n",
    "\r\n",
    "grade_count = {key: 0 for key in grade_limits}\r\n",
    "\r\n",
    "print(grade_count)\r\n",
    "\r\n",
    "for score in scores: \r\n",
    "    for grade, limit in grade_limits.items():\r\n",
    "        if limit <= score < limit + 10: \r\n",
    "             grade_count[grade] += 1\r\n",
    "\r\n",
    "print(f\"Grade count {grade_count}\")"
   ],
   "outputs": [
    {
     "output_type": "stream",
     "name": "stdout",
     "text": [
      "{'F': 0, 'E': 10, 'D': 20, 'C': 30, 'B': 40, 'A': 50}\n",
      "Student scores: [40, 7, 1, 47, 17, 15, 14, 8, 47, 6, 43, 47, 57, 34, 5, 37, 27, 2, 1, 5]\n",
      "{'F': 0, 'E': 0, 'D': 0, 'C': 0, 'B': 0, 'A': 0}\n",
      "Grade count {'F': 8, 'E': 3, 'D': 1, 'C': 2, 'B': 5, 'A': 1}\n"
     ]
    }
   ],
   "metadata": {}
  }
 ],
 "metadata": {
  "orig_nbformat": 4,
  "language_info": {
   "name": "python",
   "version": "3.8.3",
   "mimetype": "text/x-python",
   "codemirror_mode": {
    "name": "ipython",
    "version": 3
   },
   "pygments_lexer": "ipython3",
   "nbconvert_exporter": "python",
   "file_extension": ".py"
  },
  "kernelspec": {
   "name": "python3",
   "display_name": "Python 3.8.3 64-bit ('Python_programming-Y6DWTcE3': pipenv)"
  },
  "interpreter": {
   "hash": "ba172e9133ac13726a3d8ff1460db7a5577e3778ee93c1aadc7eb3f4d8ce4f1c"
  }
 },
 "nbformat": 4,
 "nbformat_minor": 2
}