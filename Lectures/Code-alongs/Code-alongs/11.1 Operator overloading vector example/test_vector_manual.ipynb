{
 "cells": [
  {
   "cell_type": "code",
   "execution_count": 2,
   "source": [
    "import vector as vec\r\n",
    "\r\n",
    "v1 = vec.Vector(1,2)\r\n",
    "v2 = vec.Vector(1,1)\r\n",
    "\r\n",
    "print(v1.numbers)\r\n",
    "\r\n",
    "v_test = vec.Vector(True, False, 5)\r\n",
    "print(v_test.numbers)\r\n",
    "\r\n",
    "print(f\"v1 = {v1}\")\r\n",
    "print(f\"v2 = {v2}\")\r\n",
    "\r\n",
    "v3 = v1 + v2\r\n",
    "\r\n",
    "print(f\"v3 = v1 + v2 = {v3}\")\r\n",
    "\r\n",
    "try:\r\n",
    "    v3 + v_test\r\n",
    "except TypeError as err:\r\n",
    "    print(err)\r\n",
    "\r\n",
    "v3[0]"
   ],
   "outputs": [
    {
     "output_type": "stream",
     "name": "stdout",
     "text": [
      "(1.0, 2.0)\n",
      "(1.0, 0.0, 5.0)\n",
      "v1 = (1.0, 2.0)\n",
      "v2 = (1.0, 1.0)\n",
      "v3 = v1 + v2 = (2.0, 3.0)\n",
      "Both must be Vector and same length\n"
     ]
    },
    {
     "output_type": "execute_result",
     "data": {
      "text/plain": [
       "2.0"
      ]
     },
     "metadata": {},
     "execution_count": 2
    }
   ],
   "metadata": {}
  },
  {
   "cell_type": "code",
   "execution_count": 3,
   "source": [
    "print(f\"len(v1): {len(v1)}\")\r\n",
    "print(f\"len(v_test): {len(v_test)}\")"
   ],
   "outputs": [
    {
     "output_type": "stream",
     "name": "stdout",
     "text": [
      "len(v1): 2\n",
      "len(v_test): 3\n"
     ]
    }
   ],
   "metadata": {}
  },
  {
   "cell_type": "code",
   "execution_count": 3,
   "source": [
    "isinstance(False, int)"
   ],
   "outputs": [
    {
     "output_type": "execute_result",
     "data": {
      "text/plain": [
       "True"
      ]
     },
     "metadata": {},
     "execution_count": 3
    }
   ],
   "metadata": {}
  },
  {
   "cell_type": "code",
   "execution_count": 1,
   "source": [
    "from vector import Vector\r\n",
    "\r\n",
    "v1 = Vector(1,1)\r\n",
    "v2 = Vector(1,1)\r\n",
    "v3 = Vector(1,5)\r\n",
    "\r\n",
    "print(f\"v1 == v2: {v1==v2}\")\r\n",
    "print(f\"v1 == v3: {v1==v3}\")\r\n",
    "print(f\"v1 - v3: {v1-v3}\")\r\n",
    "#print(f\"v1*5 = {v1*5}\")\r\n",
    "print(f\"5*v1 = {5*v1}\")\r\n"
   ],
   "outputs": [
    {
     "output_type": "stream",
     "name": "stdout",
     "text": [
      "v1 == v2: True\n",
      "v1 == v3: False\n",
      "v1 - v3: (0.0, -4.0)\n",
      "__rmul__ called\n",
      "__mul__ called ...\n",
      "5*v1 = (5.0, 5.0)\n"
     ]
    }
   ],
   "metadata": {}
  },
  {
   "cell_type": "code",
   "execution_count": 3,
   "source": [
    "v1.plot(v3, v1+v3)"
   ],
   "outputs": [
    {
     "output_type": "display_data",
     "data": {
      "image/png": "[encoded data removed]",
      "text/plain": [
       "<Figure size 432x288 with 1 Axes>"
      ]
     },
     "metadata": {
      "needs_background": "light"
     }
    }
   ],
   "metadata": {}
  },
  {
   "cell_type": "code",
   "execution_count": null,
   "source": [],
   "outputs": [],
   "metadata": {}
  }
 ],
 "metadata": {
  "orig_nbformat": 4,
  "language_info": {
   "name": "python",
   "version": "3.9.6",
   "mimetype": "text/x-python",
   "codemirror_mode": {
    "name": "ipython",
    "version": 3
   },
   "pygments_lexer": "ipython3",
   "nbconvert_exporter": "python",
   "file_extension": ".py"
  },
  "kernelspec": {
   "name": "python3",
   "display_name": "Python 3.9.6 64-bit ('Programmering-med-Python-OZ4PsT_E': pipenv)"
  },
  "interpreter": {
   "hash": "4d790a4ba7424cef7dc64ec6f6de1f04bad761d237b8926ff99fd2151ec1d86b"
  }
 },
 "nbformat": 4,
 "nbformat_minor": 2
}