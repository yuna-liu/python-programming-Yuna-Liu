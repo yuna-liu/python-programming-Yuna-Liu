{
 "cells": [
  {
   "cell_type": "markdown",
   "source": [
    "# Lists\r\n",
    "\r\n",
    "- access \r\n",
    "- slicing"
   ],
   "metadata": {}
  },
  {
   "cell_type": "code",
   "execution_count": 12,
   "source": [
    "tv_shows = [\"Antikrundan\", \"Mästerkockarna\", \"Aktuellt\", \"Talang\"]\r\n",
    "\r\n",
    "# access items - [] operator\r\n",
    "print(f\"tv_shows[0]: {tv_shows[0]}\")\r\n",
    "print(f\"tv_shows[1]: {tv_shows[1]}\")\r\n",
    "print(f\"tv_shows[-1]: {tv_shows[-1]}\")\r\n",
    "\r\n",
    "# slicing operator - : operator\r\n",
    "print(f\"tv_shows[:]: {tv_shows[:]}\")\r\n",
    "print(f\"tv_shows[1:]: {tv_shows[1:]}\") # starts in index 1 and \"goes\" to the end\r\n",
    "print(f\"tv_shows[1:3]: {tv_shows[1:3]}\") # note [start:end-1]\r\n",
    "print(f\"Backwards tv_shows[::-1]: {tv_shows[::-1]}\") # [start:end-1:step]"
   ],
   "outputs": [
    {
     "output_type": "stream",
     "name": "stdout",
     "text": [
      "tv_shows[0]: Antikrundan\n",
      "tv_shows[1]: Mästerkockarna\n",
      "tv_shows[-1]: Talang\n",
      "tv_shows[:]: ['Antikrundan', 'Mästerkockarna', 'Aktuellt', 'Talang']\n",
      "tv_shows[1:]: ['Mästerkockarna', 'Aktuellt', 'Talang']\n",
      "tv_shows[1:3]: ['Mästerkockarna', 'Aktuellt']\n",
      "Backwards tv_shows[::-1]: ['Talang', 'Aktuellt', 'Mästerkockarna', 'Antikrundan']\n"
     ]
    }
   ],
   "metadata": {}
  },
  {
   "cell_type": "code",
   "execution_count": 16,
   "source": [
    "# change list items\r\n",
    "tv_shows = [\"Antikrundan\", \"Mästerkockarna\", \"Aktuellt\", \"Talang\"]\r\n",
    "tv_shows[0] = \"Vetenskapens värld\"\r\n",
    "print(tv_shows)\r\n",
    "\r\n",
    "# add an item to the list\r\n",
    "tv_shows.append(\"Go kväll\")\r\n",
    "print(tv_shows)"
   ],
   "outputs": [
    {
     "output_type": "stream",
     "name": "stdout",
     "text": [
      "['Vetenskapens värld', 'Mästerkockarna', 'Aktuellt', 'Talang']\n",
      "['Vetenskapens värld', 'Mästerkockarna', 'Aktuellt', 'Talang', 'Go kväll']\n"
     ]
    }
   ],
   "metadata": {}
  },
  {
   "cell_type": "markdown",
   "source": [
    "## Iterate through list"
   ],
   "metadata": {}
  },
  {
   "cell_type": "code",
   "execution_count": 18,
   "source": [
    "for tv_show in tv_shows:\r\n",
    "    print(tv_show)"
   ],
   "outputs": [
    {
     "output_type": "stream",
     "name": "stdout",
     "text": [
      "Vetenskapens värld\n",
      "Mästerkockarna\n",
      "Aktuellt\n",
      "Talang\n",
      "Go kväll\n"
     ]
    }
   ],
   "metadata": {}
  },
  {
   "cell_type": "code",
   "execution_count": 20,
   "source": [
    "print(\"Tv tablå\")\r\n",
    "for i, tv_show in enumerate(tv_shows):\r\n",
    "    print(f\"{i}: {tv_show}\")"
   ],
   "outputs": [
    {
     "output_type": "stream",
     "name": "stdout",
     "text": [
      "Tv tablå\n",
      "0: Vetenskapens värld\n",
      "1: Mästerkockarna\n",
      "2: Aktuellt\n",
      "3: Talang\n",
      "4: Go kväll\n"
     ]
    }
   ],
   "metadata": {}
  },
  {
   "cell_type": "code",
   "execution_count": 22,
   "source": [
    "# list of cubes\r\n",
    "cubes = []\r\n",
    "\r\n",
    "for i in range(10):\r\n",
    "    cubes.append(i**3)\r\n",
    "\r\n",
    "print(cubes)"
   ],
   "outputs": [
    {
     "output_type": "stream",
     "name": "stdout",
     "text": [
      "[0, 1, 8, 27, 64, 125, 216, 343, 512, 729]\n"
     ]
    }
   ],
   "metadata": {}
  },
  {
   "cell_type": "code",
   "execution_count": 24,
   "source": [
    "# list comprehensions\r\n",
    "cubes2 = [x**3 for x in range(10)]\r\n",
    "print(cubes2)"
   ],
   "outputs": [
    {
     "output_type": "stream",
     "name": "stdout",
     "text": [
      "[0, 1, 8, 27, 64, 125, 216, 343, 512, 729]\n"
     ]
    }
   ],
   "metadata": {}
  },
  {
   "cell_type": "code",
   "execution_count": 2,
   "source": [
    "# cube every even number - list comprehension with if-statement inside\r\n",
    "cubes_even = [x**3 for x in range(10) if x%2==0]\r\n",
    "print(cubes_even)"
   ],
   "outputs": [
    {
     "output_type": "stream",
     "name": "stdout",
     "text": [
      "[0, 8, 64, 216, 512]\n"
     ]
    }
   ],
   "metadata": {}
  },
  {
   "cell_type": "code",
   "execution_count": 26,
   "source": [
    "import random as rnd \r\n",
    "dices = [rnd.randint(1,6) for _ in range(10)]\r\n",
    "print(dices)\r\n",
    "dices.sort() # returns None\r\n",
    "print(dices)"
   ],
   "outputs": [
    {
     "output_type": "stream",
     "name": "stdout",
     "text": [
      "[6, 1, 6, 5, 5, 2, 2, 3, 2, 6]\n",
      "[1, 2, 2, 2, 3, 5, 5, 6, 6, 6]\n"
     ]
    }
   ],
   "metadata": {}
  },
  {
   "cell_type": "code",
   "execution_count": 36,
   "source": [
    "tv_shows = [\"Äta\",'Vetenskapens värld', '1. Mästerkockarna', 'Aktuellt', 'Talang', 'Go kväll', \"89\" ]\r\n",
    "print(tv_shows)\r\n",
    "\r\n",
    "tv_shows.sort() # sort works for digits, works for str, but not a mix of data types\r\n",
    "print(tv_shows)\r\n",
    "\r\n",
    "tv_shows.sort(reverse=True)\r\n",
    "print(tv_shows)"
   ],
   "outputs": [
    {
     "output_type": "stream",
     "name": "stdout",
     "text": [
      "['Äta', 'Vetenskapens värld', '1. Mästerkockarna', 'Aktuellt', 'Talang', 'Go kväll', '89']\n",
      "['1. Mästerkockarna', '89', 'Aktuellt', 'Go kväll', 'Talang', 'Vetenskapens värld', 'Äta']\n",
      "['Äta', 'Vetenskapens värld', 'Talang', 'Go kväll', 'Aktuellt', '89', '1. Mästerkockarna']\n"
     ]
    }
   ],
   "metadata": {}
  },
  {
   "cell_type": "code",
   "execution_count": 39,
   "source": [
    "example_tuple = (1,2,3)\r\n",
    "example_tuple[2] = 5"
   ],
   "outputs": [
    {
     "output_type": "error",
     "ename": "TypeError",
     "evalue": "'tuple' object does not support item assignment",
     "traceback": [
      "\u001b[1;31m---------------------------------------------------------------------------\u001b[0m",
      "\u001b[1;31mTypeError\u001b[0m                                 Traceback (most recent call last)",
      "\u001b[1;32m~\\AppData\\Local\\Temp/ipykernel_10588/2379984724.py\u001b[0m in \u001b[0;36m<module>\u001b[1;34m\u001b[0m\n\u001b[0;32m      1\u001b[0m \u001b[0mexample_tuple\u001b[0m \u001b[1;33m=\u001b[0m \u001b[1;33m(\u001b[0m\u001b[1;36m1\u001b[0m\u001b[1;33m,\u001b[0m\u001b[1;36m2\u001b[0m\u001b[1;33m,\u001b[0m\u001b[1;36m3\u001b[0m\u001b[1;33m)\u001b[0m\u001b[1;33m\u001b[0m\u001b[1;33m\u001b[0m\u001b[0m\n\u001b[1;32m----> 2\u001b[1;33m \u001b[0mexample_tuple\u001b[0m\u001b[1;33m[\u001b[0m\u001b[1;36m2\u001b[0m\u001b[1;33m]\u001b[0m \u001b[1;33m=\u001b[0m \u001b[1;36m5\u001b[0m\u001b[1;33m\u001b[0m\u001b[1;33m\u001b[0m\u001b[0m\n\u001b[0m",
      "\u001b[1;31mTypeError\u001b[0m: 'tuple' object does not support item assignment"
     ]
    }
   ],
   "metadata": {}
  },
  {
   "cell_type": "code",
   "execution_count": 1,
   "source": [
    "# list in a list \r\n",
    "grades = [[\"A\", 30], [\"B\", 25], [\"C\", 20]]\r\n",
    "print(f\"grades[1]: {grades[1]}\")\r\n",
    "print(f\"grades[1][0]: Betyg {grades[1][0]}\")"
   ],
   "outputs": [
    {
     "output_type": "stream",
     "name": "stdout",
     "text": [
      "grades[1]: ['B', 25]\n",
      "grades[1][0]: Betyg B\n"
     ]
    }
   ],
   "metadata": {}
  },
  {
   "cell_type": "code",
   "execution_count": null,
   "source": [],
   "outputs": [],
   "metadata": {}
  },
  {
   "cell_type": "markdown",
   "source": [
    "tv_shows"
   ],
   "metadata": {}
  }
 ],
 "metadata": {
  "orig_nbformat": 4,
  "language_info": {
   "name": "python",
   "version": "3.9.6",
   "mimetype": "text/x-python",
   "codemirror_mode": {
    "name": "ipython",
    "version": 3
   },
   "pygments_lexer": "ipython3",
   "nbconvert_exporter": "python",
   "file_extension": ".py"
  },
  "kernelspec": {
   "name": "python3",
   "display_name": "Python 3.9.6 64-bit ('Programmering-med-Python-OZ4PsT_E': pipenv)"
  },
  "interpreter": {
   "hash": "4d790a4ba7424cef7dc64ec6f6de1f04bad761d237b8926ff99fd2151ec1d86b"
  }
 },
 "nbformat": 4,
 "nbformat_minor": 2
}