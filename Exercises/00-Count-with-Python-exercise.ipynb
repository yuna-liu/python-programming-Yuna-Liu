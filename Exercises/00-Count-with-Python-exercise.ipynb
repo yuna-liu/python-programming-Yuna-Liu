{
 "cells": [
  {
   "cell_type": "markdown",
   "source": [
    "# Solution to exercise1"
   ],
   "metadata": {}
  },
  {
   "cell_type": "markdown",
   "source": [
    "## 00-Count-with-Python-exercise\r\n",
    "\r\n",
    "This exercise can be found [here][here].\r\n",
    "\r\n",
    "[here]: https://github.com/kokchun/Programmering-med-Python-21/blob/main/Exercises/00-Count-with-Python-exercise.ipynb"
   ],
   "metadata": {}
  },
  {
   "cell_type": "markdown",
   "source": [
    "## 1. Pythagorean theorem"
   ],
   "metadata": {}
  },
  {
   "cell_type": "code",
   "execution_count": 11,
   "source": [
    "# To solve 1a) \r\n",
    "\r\n",
    "import math\r\n",
    "a = 3\r\n",
    "b = 4\r\n",
    "c = math.sqrt(a**2+b**2)\r\n",
    "\r\n",
    "print(f\"The hypothenuse is {c} length unit\")"
   ],
   "outputs": [
    {
     "output_type": "stream",
     "name": "stdout",
     "text": [
      "The hypothenuse is 5.0 length unit\n"
     ]
    }
   ],
   "metadata": {}
  },
  {
   "cell_type": "code",
   "execution_count": 13,
   "source": [
    "# To solve 1b) \r\n",
    "\r\n",
    "import math\r\n",
    "a = 5\r\n",
    "c = 7\r\n",
    "b = math.sqrt(c**2-a**2)\r\n",
    "\r\n",
    "print(f\"The other cathetus is {b:.1f} length unit\")"
   ],
   "outputs": [
    {
     "output_type": "stream",
     "name": "stdout",
     "text": [
      "The other cathetus is 4.9 length unit\n"
     ]
    }
   ],
   "metadata": {}
  },
  {
   "cell_type": "markdown",
   "source": [
    "## 2. Classification accuracy"
   ],
   "metadata": {}
  },
  {
   "cell_type": "code",
   "execution_count": 14,
   "source": [
    "total_predictions = 365\r\n",
    "correct_predictions = 300\r\n",
    "\r\n",
    "accuracy = correct_predictions/total_predictions*100\r\n",
    "\r\n",
    "print (f\"The accuracy of this model is {accuracy:.1f} %\")"
   ],
   "outputs": [
    {
     "output_type": "stream",
     "name": "stdout",
     "text": [
      "The accuracy of this model is 82.2 %\n"
     ]
    }
   ],
   "metadata": {}
  },
  {
   "cell_type": "markdown",
   "source": [
    "## 3. Classification accuracy"
   ],
   "metadata": {}
  },
  {
   "cell_type": "code",
   "execution_count": 16,
   "source": [
    "TP = 2\r\n",
    "FP = 2\r\n",
    "FN = 11 \r\n",
    "TN = 985\r\n",
    "\r\n",
    "accuracy = (TP+TN)/(TP+TN+FP+FN)*100\r\n",
    "\r\n",
    "print (f\"The accuracy of this model is {accuracy:.1f} %\")\r\n",
    "\r\n",
    "good_model = 90\r\n",
    "\r\n",
    "if accuracy >= good_model:\r\n",
    "    print (\"This model is a good model!\")\r\n",
    "else:\r\n",
    "    print (\"This is a bad model...\")"
   ],
   "outputs": [
    {
     "output_type": "stream",
     "name": "stdout",
     "text": [
      "The accuracy of this model is 98.7 %\n",
      "This model is a good model!\n"
     ]
    }
   ],
   "metadata": {}
  },
  {
   "cell_type": "markdown",
   "source": [
    "## 4. Line"
   ],
   "metadata": {}
  },
  {
   "cell_type": "code",
   "execution_count": 9,
   "source": [
    "# Compute the slope k based on two points A and B\r\n",
    "\r\n",
    "A = [4,4]\r\n",
    "B = [0,1]\r\n",
    "\r\n",
    "slope = (A[1]-B[1])/(A[0]-B[0])\r\n",
    "m = A[1]-slope*A[0]\r\n",
    "\r\n",
    "print (f\"The slope is {slope:.2f}, and the constant is {m:.1f}\")\r\n"
   ],
   "outputs": [
    {
     "output_type": "stream",
     "name": "stdout",
     "text": [
      "The slope is 0.75, and the constant is 1.0\n"
     ]
    }
   ],
   "metadata": {}
  },
  {
   "cell_type": "markdown",
   "source": [
    "## 5. Euclidean distance"
   ],
   "metadata": {}
  },
  {
   "cell_type": "code",
   "execution_count": 17,
   "source": [
    "import math\r\n",
    "\r\n",
    "P1 = [3,5]\r\n",
    "P2 = [-2,4]\r\n",
    "\r\n",
    "distance = math.sqrt((P2[1]-P1[1])**2+(P2[0]-P1[0])**2)\r\n",
    "\r\n",
    "print(f\"The distance between P1 and P2 is {distance:.2f} length units.\")"
   ],
   "outputs": [
    {
     "output_type": "stream",
     "name": "stdout",
     "text": [
      "The distance between P1 and P2 is 5.10\n"
     ]
    }
   ],
   "metadata": {}
  }
 ],
 "metadata": {
  "orig_nbformat": 4,
  "language_info": {
   "name": "python",
   "version": "3.9.6",
   "mimetype": "text/x-python",
   "codemirror_mode": {
    "name": "ipython",
    "version": 3
   },
   "pygments_lexer": "ipython3",
   "nbconvert_exporter": "python",
   "file_extension": ".py"
  },
  "kernelspec": {
   "name": "python3",
   "display_name": "Python 3.9.6 64-bit"
  },
  "interpreter": {
   "hash": "2971b745844267d7cb4483e5f20d838014d69d8df52b415790673c9e258dc44a"
  }
 },
 "nbformat": 4,
 "nbformat_minor": 2
}