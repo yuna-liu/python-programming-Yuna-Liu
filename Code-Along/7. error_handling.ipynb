{
 "cells": [
  {
   "cell_type": "markdown",
   "source": [
    "# Error types\r\n",
    "\r\n",
    "- syntax error - Python parser don't understand the code\r\n",
    "- logical errors - hard to find - gives unpredictable results\r\n",
    "- exception errors - Pyhon parser knoes what to do, but can't do it"
   ],
   "metadata": {}
  },
  {
   "cell_type": "code",
   "execution_count": null,
   "source": [],
   "outputs": [],
   "metadata": {}
  }
 ],
 "metadata": {
  "orig_nbformat": 4,
  "language_info": {
   "name": "python"
  }
 },
 "nbformat": 4,
 "nbformat_minor": 2
}