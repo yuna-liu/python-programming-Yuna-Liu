{
 "cells": [
  {
   "cell_type": "code",
   "execution_count": 5,
   "source": [
    "class Student:\r\n",
    "    def __init__(self, name, student_number):\r\n",
    "        self.name = name\r\n",
    "        self.student_number = student_number\r\n",
    "        self.classes = []\r\n",
    "\r\n",
    "    def enrol(self, course_running):\r\n",
    "        self.classes.append(course_running)\r\n",
    "        course_running.add_student(self)\r\n",
    "\r\n",
    "class Department:\r\n",
    "    def __init__(self, name, department_code):\r\n",
    "        self.name = name\r\n",
    "        self.department_code = department_code\r\n",
    "        self.courses = {}\r\n",
    "\r\n",
    "    def add_course(self, description, course_code, credits):\r\n",
    "        self.courses[course_code] = Course(description, course_code, credits)\r\n",
    "        return self.courses[course_code]\r\n",
    "\r\n",
    "class Course:\r\n",
    "    def __init__(self, description, course_code, credits, department):\r\n",
    "        self.description = description\r\n",
    "        self.course_code = course_code\r\n",
    "        self.credits = credits\r\n",
    "        self.department = department\r\n",
    "        self.department.add_course(self)\r\n",
    "\r\n",
    "        self.runnings = []\r\n",
    "\r\n",
    "    def add_running(self, year):\r\n",
    "        self.runnings.append(CourseRunning(self, year))\r\n",
    "        return self.runnings[-1]\r\n",
    "\r\n",
    "class CourseRunning:\r\n",
    "    def __init__(self, course, year):\r\n",
    "        self.course = course\r\n",
    "        self.year = year\r\n",
    "        self.students = []\r\n",
    "\r\n",
    "    def add_student(self, student):\r\n",
    "        self.students.append(student)\r\n",
    "\r\n",
    "maths_dept = Department(\"Mathematics and Applied Mathematics\", \"MAM\")\r\n",
    "mam1000w = maths_dept.add_course(\"Mathematics 1000\",\"MAM1000W\", 1)\r\n",
    "mam1000w_2013 = mam1000w.add_running(2013)\r\n",
    "bob = Student(\"Bob\", \"Smith\")\r\n",
    "bob.enrol(mam1000w_2013)"
   ],
   "outputs": [
    {
     "output_type": "error",
     "ename": "TypeError",
     "evalue": "__init__() missing 1 required positional argument: 'department'",
     "traceback": [
      "\u001b[1;31m---------------------------------------------------------------------------\u001b[0m",
      "\u001b[1;31mTypeError\u001b[0m                                 Traceback (most recent call last)",
      "\u001b[1;32mC:\\Users\\YUNALI~1\\AppData\\Local\\Temp/ipykernel_17268/2935610251.py\u001b[0m in \u001b[0;36m<module>\u001b[1;34m\u001b[0m\n\u001b[0;32m     43\u001b[0m \u001b[1;33m\u001b[0m\u001b[0m\n\u001b[0;32m     44\u001b[0m \u001b[0mmaths_dept\u001b[0m \u001b[1;33m=\u001b[0m \u001b[0mDepartment\u001b[0m\u001b[1;33m(\u001b[0m\u001b[1;34m\"Mathematics and Applied Mathematics\"\u001b[0m\u001b[1;33m,\u001b[0m \u001b[1;34m\"MAM\"\u001b[0m\u001b[1;33m)\u001b[0m\u001b[1;33m\u001b[0m\u001b[1;33m\u001b[0m\u001b[0m\n\u001b[1;32m---> 45\u001b[1;33m \u001b[0mmam1000w\u001b[0m \u001b[1;33m=\u001b[0m \u001b[0mmaths_dept\u001b[0m\u001b[1;33m.\u001b[0m\u001b[0madd_course\u001b[0m\u001b[1;33m(\u001b[0m\u001b[1;34m\"Mathematics 1000\"\u001b[0m\u001b[1;33m,\u001b[0m\u001b[1;34m\"MAM1000W\"\u001b[0m\u001b[1;33m,\u001b[0m \u001b[1;36m1\u001b[0m\u001b[1;33m)\u001b[0m\u001b[1;33m\u001b[0m\u001b[1;33m\u001b[0m\u001b[0m\n\u001b[0m\u001b[0;32m     46\u001b[0m \u001b[0mmam1000w_2013\u001b[0m \u001b[1;33m=\u001b[0m \u001b[0mmam1000w\u001b[0m\u001b[1;33m.\u001b[0m\u001b[0madd_running\u001b[0m\u001b[1;33m(\u001b[0m\u001b[1;36m2013\u001b[0m\u001b[1;33m)\u001b[0m\u001b[1;33m\u001b[0m\u001b[1;33m\u001b[0m\u001b[0m\n\u001b[0;32m     47\u001b[0m \u001b[0mbob\u001b[0m \u001b[1;33m=\u001b[0m \u001b[0mStudent\u001b[0m\u001b[1;33m(\u001b[0m\u001b[1;34m\"Bob\"\u001b[0m\u001b[1;33m,\u001b[0m \u001b[1;34m\"Smith\"\u001b[0m\u001b[1;33m)\u001b[0m\u001b[1;33m\u001b[0m\u001b[1;33m\u001b[0m\u001b[0m\n",
      "\u001b[1;32mC:\\Users\\YUNALI~1\\AppData\\Local\\Temp/ipykernel_17268/2935610251.py\u001b[0m in \u001b[0;36madd_course\u001b[1;34m(self, description, course_code, credits)\u001b[0m\n\u001b[0;32m     16\u001b[0m \u001b[1;33m\u001b[0m\u001b[0m\n\u001b[0;32m     17\u001b[0m     \u001b[1;32mdef\u001b[0m \u001b[0madd_course\u001b[0m\u001b[1;33m(\u001b[0m\u001b[0mself\u001b[0m\u001b[1;33m,\u001b[0m \u001b[0mdescription\u001b[0m\u001b[1;33m,\u001b[0m \u001b[0mcourse_code\u001b[0m\u001b[1;33m,\u001b[0m \u001b[0mcredits\u001b[0m\u001b[1;33m)\u001b[0m\u001b[1;33m:\u001b[0m\u001b[1;33m\u001b[0m\u001b[1;33m\u001b[0m\u001b[0m\n\u001b[1;32m---> 18\u001b[1;33m         \u001b[0mself\u001b[0m\u001b[1;33m.\u001b[0m\u001b[0mcourses\u001b[0m\u001b[1;33m[\u001b[0m\u001b[0mcourse_code\u001b[0m\u001b[1;33m]\u001b[0m \u001b[1;33m=\u001b[0m \u001b[0mCourse\u001b[0m\u001b[1;33m(\u001b[0m\u001b[0mdescription\u001b[0m\u001b[1;33m,\u001b[0m \u001b[0mcourse_code\u001b[0m\u001b[1;33m,\u001b[0m \u001b[0mcredits\u001b[0m\u001b[1;33m)\u001b[0m\u001b[1;33m\u001b[0m\u001b[1;33m\u001b[0m\u001b[0m\n\u001b[0m\u001b[0;32m     19\u001b[0m         \u001b[1;32mreturn\u001b[0m \u001b[0mself\u001b[0m\u001b[1;33m.\u001b[0m\u001b[0mcourses\u001b[0m\u001b[1;33m[\u001b[0m\u001b[0mcourse_code\u001b[0m\u001b[1;33m]\u001b[0m\u001b[1;33m\u001b[0m\u001b[1;33m\u001b[0m\u001b[0m\n\u001b[0;32m     20\u001b[0m \u001b[1;33m\u001b[0m\u001b[0m\n",
      "\u001b[1;31mTypeError\u001b[0m: __init__() missing 1 required positional argument: 'department'"
     ]
    }
   ],
   "metadata": {}
  }
 ],
 "metadata": {
  "orig_nbformat": 4,
  "language_info": {
   "name": "python",
   "version": "3.9.6",
   "mimetype": "text/x-python",
   "codemirror_mode": {
    "name": "ipython",
    "version": 3
   },
   "pygments_lexer": "ipython3",
   "nbconvert_exporter": "python",
   "file_extension": ".py"
  },
  "kernelspec": {
   "name": "python3",
   "display_name": "Python 3.9.6 64-bit ('python-programming-Yuna-Liu-WA6ACBfR': pipenv)"
  },
  "interpreter": {
   "hash": "8111105f47d12ec1fb8af24cde7e4ba5898ee01916168ee13b7453f45f559afc"
  }
 },
 "nbformat": 4,
 "nbformat_minor": 2
}