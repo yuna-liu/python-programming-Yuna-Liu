{
 "cells": [
  {
   "cell_type": "markdown",
   "source": [
    "# for loop\r\n",
    "\r\n",
    "- \"foreach\" loop\r\n",
    "\r\n",
    "- for i in range(10) # in python\r\n",
    "- in some other languages: for (int i = 0; i<10; i++) "
   ],
   "metadata": {}
  },
  {
   "cell_type": "code",
   "execution_count": 1,
   "source": [
    "help(range)"
   ],
   "outputs": [
    {
     "output_type": "stream",
     "name": "stdout",
     "text": [
      "Help on class range in module builtins:\n",
      "\n",
      "class range(object)\n",
      " |  range(stop) -> range object\n",
      " |  range(start, stop[, step]) -> range object\n",
      " |  \n",
      " |  Return an object that produces a sequence of integers from start (inclusive)\n",
      " |  to stop (exclusive) by step.  range(i, j) produces i, i+1, i+2, ..., j-1.\n",
      " |  start defaults to 0, and stop is omitted!  range(4) produces 0, 1, 2, 3.\n",
      " |  These are exactly the valid indices for a list of 4 elements.\n",
      " |  When step is given, it specifies the increment (or decrement).\n",
      " |  \n",
      " |  Methods defined here:\n",
      " |  \n",
      " |  __bool__(self, /)\n",
      " |      self != 0\n",
      " |  \n",
      " |  __contains__(self, key, /)\n",
      " |      Return key in self.\n",
      " |  \n",
      " |  __eq__(self, value, /)\n",
      " |      Return self==value.\n",
      " |  \n",
      " |  __ge__(self, value, /)\n",
      " |      Return self>=value.\n",
      " |  \n",
      " |  __getattribute__(self, name, /)\n",
      " |      Return getattr(self, name).\n",
      " |  \n",
      " |  __getitem__(self, key, /)\n",
      " |      Return self[key].\n",
      " |  \n",
      " |  __gt__(self, value, /)\n",
      " |      Return self>value.\n",
      " |  \n",
      " |  __hash__(self, /)\n",
      " |      Return hash(self).\n",
      " |  \n",
      " |  __iter__(self, /)\n",
      " |      Implement iter(self).\n",
      " |  \n",
      " |  __le__(self, value, /)\n",
      " |      Return self<=value.\n",
      " |  \n",
      " |  __len__(self, /)\n",
      " |      Return len(self).\n",
      " |  \n",
      " |  __lt__(self, value, /)\n",
      " |      Return self<value.\n",
      " |  \n",
      " |  __ne__(self, value, /)\n",
      " |      Return self!=value.\n",
      " |  \n",
      " |  __reduce__(...)\n",
      " |      Helper for pickle.\n",
      " |  \n",
      " |  __repr__(self, /)\n",
      " |      Return repr(self).\n",
      " |  \n",
      " |  __reversed__(...)\n",
      " |      Return a reverse iterator.\n",
      " |  \n",
      " |  count(...)\n",
      " |      rangeobject.count(value) -> integer -- return number of occurrences of value\n",
      " |  \n",
      " |  index(...)\n",
      " |      rangeobject.index(value) -> integer -- return index of value.\n",
      " |      Raise ValueError if the value is not present.\n",
      " |  \n",
      " |  ----------------------------------------------------------------------\n",
      " |  Static methods defined here:\n",
      " |  \n",
      " |  __new__(*args, **kwargs) from builtins.type\n",
      " |      Create and return a new object.  See help(type) for accurate signature.\n",
      " |  \n",
      " |  ----------------------------------------------------------------------\n",
      " |  Data descriptors defined here:\n",
      " |  \n",
      " |  start\n",
      " |  \n",
      " |  step\n",
      " |  \n",
      " |  stop\n",
      "\n"
     ]
    }
   ],
   "metadata": {}
  },
  {
   "cell_type": "code",
   "execution_count": 65,
   "source": [
    "for i in range(10):\r\n",
    "    print(i) # For each i, it will end with a new line.\r\n"
   ],
   "outputs": [
    {
     "output_type": "stream",
     "name": "stdout",
     "text": [
      "0\n",
      "1\n",
      "2\n",
      "3\n",
      "4\n",
      "5\n",
      "6\n",
      "7\n",
      "8\n",
      "9\n"
     ]
    }
   ],
   "metadata": {}
  },
  {
   "cell_type": "code",
   "execution_count": 64,
   "source": [
    "for i in range(10):\r\n",
    "    print(i, end = \" \") # use one blank to end instead.\r\n"
   ],
   "outputs": [
    {
     "output_type": "stream",
     "name": "stdout",
     "text": [
      "0 1 2 3 4 5 6 7 8 9 "
     ]
    }
   ],
   "metadata": {}
  },
  {
   "cell_type": "code",
   "execution_count": 66,
   "source": [
    "for i in range(10):\r\n",
    "    print(i, end = \" \") \r\n",
    "\r\n",
    "\r\n",
    "for i in range(1, 20, 3): # evert third number from [1,20)\r\n",
    "    print(i, end = \" \")  # use one blank to end number, instead of \r\n",
    "\r\n",
    "\r\n",
    "print(f\"En lista från range(10): {list(range(10))}\")  #f-string and list to show the range"
   ],
   "outputs": [
    {
     "output_type": "stream",
     "name": "stdout",
     "text": [
      "0 1 2 3 4 5 6 7 8 9 1 4 7 10 13 16 19 En lista från range(10): [0, 1, 2, 3, 4, 5, 6, 7, 8, 9]\n"
     ]
    }
   ],
   "metadata": {}
  },
  {
   "cell_type": "code",
   "execution_count": 10,
   "source": [
    "for i in range(10):\r\n",
    "    print(i, end = \" \") \r\n",
    "\r\n",
    "print() # make a new line for the next forloop\r\n",
    "\r\n",
    "for i in range(1, 20, 3): # evert third number from [1,20)\r\n",
    "    print(i, end = \" \")  # use one blank to end number, instead of \r\n",
    "\r\n",
    "print()\r\n",
    "\r\n",
    "print(f\"En lista från range(10): {list(range(10))}\")"
   ],
   "outputs": [
    {
     "output_type": "stream",
     "name": "stdout",
     "text": [
      "0 1 2 3 4 5 6 7 8 9 \n",
      "1 4 7 10 13 16 19 \n",
      "En lista från range(10): [0, 1, 2, 3, 4, 5, 6, 7, 8, 9]\n"
     ]
    }
   ],
   "metadata": {}
  },
  {
   "cell_type": "code",
   "execution_count": 69,
   "source": [
    "for i in range(10):\r\n",
    "    print(i, end = \" \") \r\n",
    "\r\n",
    "print(\" \") # make a new line for the next forloop\r\n",
    "\r\n",
    "for i in range(1, 20, 3): # evert third number from [1,20)\r\n",
    "    print(i, end = \" \")  # use one blank to end number, instead of \r\n",
    "\r\n",
    "print(\" \")\r\n",
    "\r\n",
    "print(f\"En lista från range(10): {list(range(10))}\")"
   ],
   "outputs": [
    {
     "output_type": "stream",
     "name": "stdout",
     "text": [
      "0 1 2 3 4 5 6 7 8 9  \n",
      "1 4 7 10 13 16 19  \n",
      "En lista från range(10): [0, 1, 2, 3, 4, 5, 6, 7, 8, 9]\n"
     ]
    }
   ],
   "metadata": {}
  },
  {
   "cell_type": "code",
   "execution_count": 7,
   "source": [
    "# sum all numbers between 0-5\r\n",
    "sum_ = 0   # there exists a  in build function sum() in python\r\n",
    "\r\n",
    "for i in range(6):\r\n",
    "    sum_ += i\r\n",
    "\r\n",
    "    if i == 5:\r\n",
    "        continue   # skips the current iteration \"print(f\"{i}+\", end=\"\")\"\r\n",
    "    # but continue with \"for i in range(8)\" loop. here I can also use break.\r\n",
    "\r\n",
    "    print(f\"{i}+\", end=\"\")  # this line is printed for four times: 1-4\r\n",
    "    \r\n",
    "\r\n",
    "print(f\"{i}={sum_}\") # this line is only printed when i == 5\r\n",
    "\r\n",
    "print(sum(range(6)))  # use python sum() function with range()\r\n"
   ],
   "outputs": [
    {
     "output_type": "stream",
     "name": "stdout",
     "text": [
      "0+1+2+3+4+5=15\n",
      "15\n"
     ]
    }
   ],
   "metadata": {}
  },
  {
   "cell_type": "markdown",
   "source": [
    "## Dice simulations\r\n",
    "- calculate probability of dice roll 6\r\n",
    "\r\n",
    "$$\r\n",
    "P(roll 6) = \\frac{\\text{number of sixes}}{\\text{total number of rolls}}\r\n",
    "$$"
   ],
   "metadata": {}
  },
  {
   "cell_type": "code",
   "execution_count": 70,
   "source": [
    "import random as rnd\r\n",
    "\r\n",
    "num_of_six, total_num_of_dice_rolls = 0, 10000\r\n",
    "\r\n",
    "# count number of six\r\n",
    "for i in range(total_num_of_dice_rolls):\r\n",
    "    dice = rnd.randint(1,6)\r\n",
    "    if dice == 6:\r\n",
    "        num_of_six += 1\r\n",
    "print(f\"Number of six {num_of_six} in {total_num_of_dice_rolls} dice rolls\")\r\n",
    "\r\n",
    "print(f\"Probability of six is {num_of_six/total_num_of_dice_rolls}\")\r\n"
   ],
   "outputs": [
    {
     "output_type": "stream",
     "name": "stdout",
     "text": [
      "Number of six 1647 in 10000 dice rolls\n",
      "Probability of six is 0.1647\n"
     ]
    }
   ],
   "metadata": {}
  },
  {
   "cell_type": "markdown",
   "source": [
    "## Loop through list"
   ],
   "metadata": {}
  },
  {
   "cell_type": "code",
   "execution_count": 21,
   "source": [
    "fruits = [\"apple\", \"orange\", \"strawberry\", \"grape\"] # create a list of yummy fruits\r\n",
    "print(\"I love to eat: \")\r\n",
    "\r\n",
    "for fruit in fruits:\r\n",
    "    print(fruit)"
   ],
   "outputs": [
    {
     "output_type": "stream",
     "name": "stdout",
     "text": [
      "I love to eat: \n",
      "apple\n",
      "orange\n",
      "strawberry\n",
      "grape\n"
     ]
    }
   ],
   "metadata": {}
  },
  {
   "cell_type": "code",
   "execution_count": 25,
   "source": [
    "fruits = [\"apple\", \"orange\", \"strawberry\", \"grape\"] # create a list of yummy fruits\r\n",
    "print(\"I love to eat: \")\r\n",
    "\r\n",
    "for i, fruit in enumerate(fruits):  # we get index of fruits from enumerate()\r\n",
    "    print(f\"{i}.{fruit}\")"
   ],
   "outputs": [
    {
     "output_type": "stream",
     "name": "stdout",
     "text": [
      "I love to eat: \n",
      "0.apple\n",
      "1.orange\n",
      "2.strawberry\n",
      "3.grape\n"
     ]
    }
   ],
   "metadata": {}
  },
  {
   "cell_type": "markdown",
   "source": [
    "## Nationella prov - Ma3C pastauppgift\r\n",
    "\r\n",
    "<img align=\"left\" src=\"../assets/NP_Ma3C_HT14_uppg_18.png\" width=\"500\"/>"
   ],
   "metadata": {}
  },
  {
   "cell_type": "code",
   "execution_count": 3,
   "source": [
    "import math\r\n",
    "\r\n",
    "# math.exp(1)  means e^1\r\n",
    "# math.exp(2)  means e^2\r\n",
    "\r\n",
    "pasta_consumption = 0 #  the yearly pasta consumption in Kg per person\r\n",
    "t = 60 # the years after year 1960.\r\n",
    "\r\n",
    "\r\n",
    "# a)\r\n",
    "for year in range(t):\r\n",
    "    pasta_consumption = 0.791*math.exp(0.0526*year)  # Remember to use year instead of t\r\n",
    "    print(pasta_consumption)\r\n",
    "\r\n",
    "    \r\n",
    "    if pasta_consumption >= 15:\r\n",
    "        print(f\"År {year+1960} är pasta consumption 15kg\")\r\n",
    "        break # here the loop stop the first time after satisfying pasta_consumption > 15 and t<60. \r\n",
    "             # But if we use continue, the loop will continue untill t<60...\r\n"
   ],
   "outputs": [
    {
     "output_type": "stream",
     "name": "stdout",
     "text": [
      "0.791\n",
      "0.8337202944651071\n",
      "0.8787478247825345\n",
      "0.926207200048378\n",
      "0.9762297592415119\n",
      "1.0289539346908139\n",
      "1.0845256351725108\n",
      "1.143098649697829\n",
      "1.2048350731083948\n",
      "1.2699057546571677\n",
      "1.3384907708163183\n",
      "1.4107799236204916\n",
      "1.4869732659245734\n",
      "1.5672816550295539\n",
      "1.6519273362085967\n",
      "1.7411445577481557\n",
      "1.8351802192062083\n",
      "1.9342945546815926\n",
      "2.038761852985323\n",
      "2.148871216706891\n",
      "2.2649273622761843\n",
      "2.3872514632351183\n",
      "2.5161820390526426\n",
      "2.652075891942835\n",
      "2.795309094278624\n",
      "2.946278029333712\n",
      "3.105400488232841\n",
      "3.273116826146109\n",
      "3.4498911809269663\n",
      "3.6362127575663794\n",
      "3.832597182017725\n",
      "4.03958792813901\n",
      "4.257757821701324\n",
      "4.487710625625715\n",
      "4.730082710835474\n",
      "4.9855448173477415\n",
      "5.254803910478062\n",
      "5.538605137294772\n",
      "5.837733888737489\n",
      "6.1530179731063885\n",
      "6.485329906937236\n",
      "6.835589329601868\n",
      "7.204765548316325\n",
      "7.593880220599677\n",
      "8.004010181606972\n",
      "8.436290424160655\n",
      "8.891917239727412\n",
      "9.372151529032745\n",
      "9.878322291475072\n",
      "10.411830302995991\n",
      "10.974151992584755\n",
      "11.566843528144883\n",
      "12.19154512303005\n",
      "12.849985575167196\n",
      "13.543987051328415\n",
      "14.275470129791557\n",
      "15.046459115344701\n",
      "År 2016 är pasta consumption 15kg\n"
     ]
    }
   ],
   "metadata": {}
  },
  {
   "cell_type": "code",
   "execution_count": 19,
   "source": [
    "import matplotlib.pyplot as plt\r\n",
    "import math\r\n",
    "\r\n",
    "# pasta_consumption = 0 #  the yearly pasta consumption in Kg per person. This line is unnecessary.\r\n",
    "t = 150 # the years after year 1960.\r\n",
    "pasta_consumption_list = []\r\n",
    "\r\n",
    "for year in range(t):\r\n",
    "    pasta_consumption = 0.791*math.exp(0.0526*year)  # Remember to use year instead of t\r\n",
    "    pasta_consumption_list.append(pasta_consumption)\r\n",
    "        \r\n",
    "plt.figure(dpi=100) \r\n",
    "plt.plot(range(1960, t+1960), pasta_consumption_list, \"o-\")\r\n",
    "plt.xlabel(\"year\")\r\n",
    "plt.ylabel(\"Pasta consumption in kg per person\")\r\n",
    "plt.title(\"Pasta consumption in kg per person from 1960\")\r\n",
    "plt.show()"
   ],
   "outputs": [
    {
     "output_type": "display_data",
     "data": {
      "image/png": "[encoded data removed]",
      "text/plain": [
       "<Figure size 600x400 with 1 Axes>"
      ]
     },
     "metadata": {
      "needs_background": "light"
     }
    }
   ],
   "metadata": {}
  },
  {
   "cell_type": "code",
   "execution_count": 15,
   "source": [
    "import matplotlib.pyplot as plt \r\n",
    "\r\n",
    "pasta_per_year = []\r\n",
    "\r\n",
    "for year in range(140):\r\n",
    "    pasta_consumption = 0.791*math.exp(0.0526*year)\r\n",
    "    pasta_per_year.append(pasta_consumption)\r\n",
    "\r\n",
    "plt.figure(dpi=100)\r\n",
    "plt.plot(range(1960, 2100),pasta_per_year)\r\n",
    "plt.xlabel(\"År\")\r\n",
    "plt.ylabel(\"Pastakonsumption i kg\")\r\n",
    "plt.title(\"Pastakonsumptionsmodell per kg per person från 1960\")\r\n",
    "plt.show()\r\n",
    "\r\n",
    "print(\"Orimligt mycket pasta!\")"
   ],
   "outputs": [
    {
     "output_type": "display_data",
     "data": {
      "image/png": "[encoded data removed]",
      "text/plain": [
       "<Figure size 600x400 with 1 Axes>"
      ]
     },
     "metadata": {
      "needs_background": "light"
     }
    },
    {
     "output_type": "stream",
     "name": "stdout",
     "text": [
      "Orimligt mycket pasta!\n"
     ]
    }
   ],
   "metadata": {}
  },
  {
   "cell_type": "markdown",
   "source": [
    "## Nested loops\r\n",
    "\r\n",
    "- a loop in a loop\r\n",
    "\r\n",
    "$$\r\n",
    "\\begin{pmatrix}\r\n",
    " a_{11}& a_{12}  & a_{13}\\\\ \r\n",
    " a_{21}& a_{22} &a_{23} \\\\ \r\n",
    " a_{31}&a_{32}  & a_{33}\r\n",
    "\\end{pmatrix}\r\n",
    "$$"
   ],
   "metadata": {}
  },
  {
   "cell_type": "code",
   "execution_count": 7,
   "source": [
    "for row in range(0,3):\r\n",
    "    for column in range(0,3):\r\n",
    "        print(f\"({row},{column})\", end=\" \") # print the three columns which combined with \" \".\r\n",
    "    print()  # For each row, contruct a new line.\r\n"
   ],
   "outputs": [
    {
     "output_type": "stream",
     "name": "stdout",
     "text": [
      "(0,0) (0,1) (0,2) \n",
      "(1,0) (1,1) (1,2) \n",
      "(2,0) (2,1) (2,2) \n"
     ]
    }
   ],
   "metadata": {}
  },
  {
   "cell_type": "code",
   "execution_count": 8,
   "source": [
    "for row in range(1,4):\r\n",
    "    for column in range(1,4):\r\n",
    "        print(f\"({row},{column})\", end=\" \")\r\n",
    "    print()"
   ],
   "outputs": [
    {
     "output_type": "stream",
     "name": "stdout",
     "text": [
      "(1,1) (1,2) (1,3) \n",
      "(2,1) (2,2) (2,3) \n",
      "(3,1) (3,2) (3,3) \n"
     ]
    }
   ],
   "metadata": {}
  }
 ],
 "metadata": {
  "orig_nbformat": 4,
  "language_info": {
   "name": "python",
   "version": "3.9.6",
   "mimetype": "text/x-python",
   "codemirror_mode": {
    "name": "ipython",
    "version": 3
   },
   "pygments_lexer": "ipython3",
   "nbconvert_exporter": "python",
   "file_extension": ".py"
  },
  "kernelspec": {
   "name": "python3",
   "display_name": "Python 3.9.6 64-bit ('python-programming-Yuna-Liu-WA6ACBfR': pipenv)"
  },
  "interpreter": {
   "hash": "8111105f47d12ec1fb8af24cde7e4ba5898ee01916168ee13b7453f45f559afc"
  }
 },
 "nbformat": 4,
 "nbformat_minor": 2
}