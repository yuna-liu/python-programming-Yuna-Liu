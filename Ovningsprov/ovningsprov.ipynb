{
 "cells": [
  {
   "cell_type": "code",
   "execution_count": 25,
   "source": [
    "path = \"testpoints/testpunkter.txt\"\r\n",
    "from math import sqrt\r\n",
    "\r\n",
    "def eu_dis(x1, x2, y1, y2):\r\n",
    "    return sqrt((x2-x1)**2+(y2-y1)**2)\r\n",
    "\r\n",
    "distance_list = []\r\n",
    "\r\n",
    "with open (path, \"r\") as f:\r\n",
    "    txt = f.readlines()[1:]  #['(1,2), (0,0)\\n', '(2,0), (3,5)\\n', '(-2,-2), (9,2)\\n']\r\n",
    "    txt = [row.replace(\"(\", \"\").replace(\")\", \" \") for row in txt]  #['1,2 , 0,0 \\n', '2,0 , 3,5 \\n', '-2,-2 , 9,2 \\n']\r\n",
    "\r\n",
    "    txt = [row.strip(\"\\n\") for row in txt]\r\n",
    "    #zip(*[map(float, i.split(\",\")) for i in txt.split('\\n')])\r\n",
    "    #zip(*[map(float,i.split()) for i in txt.split('\\n')])\r\n",
    "    #testpunkter = zip(*[map(float, row.strip(\"\\n\").replace(\"(\", \"\").replace(\")\", \" \").split(\",\")) for row in txt])\r\n",
    "    \r\n",
    "print(repr(txt))\r\n",
    "\r\n",
    "\"\"\" for column_0, column_1, column_2 in testpunkter:\r\n",
    "    distance = eu_dis(column_0, column_2, column_1)\r\n",
    "    distance_list.append(distance)\r\n",
    "\r\n",
    "print(distance_list) \"\"\"\r\n",
    "\r\n",
    "#zip(*[map(float,i.split()) for i in s.split('\\n')])\r\n"
   ],
   "outputs": [
    {
     "output_type": "stream",
     "name": "stdout",
     "text": [
      "['1,2 , 0,0 ', '2,0 , 3,5 ', '-2,-2 , 9,2 ']\n"
     ]
    },
    {
     "output_type": "execute_result",
     "data": {
      "text/plain": [
       "' for column_0, column_1, column_2 in testpunkter:\\n    distance = eu_dis(column_0, column_2, column_1)\\n    distance_list.append(distance)\\n\\nprint(distance_list) '"
      ]
     },
     "metadata": {},
     "execution_count": 25
    }
   ],
   "metadata": {}
  },
  {
   "cell_type": "code",
   "execution_count": null,
   "source": [
    "\r\n",
    "    testpunkter_0 = [row.strip(\"\\n\").replace(\"(\", \"\").replace(\")\", \" \").split(\",\")[0] for row in txt]\r\n",
    "    testpunkter_1 = [row.strip(\"\\n\").replace(\"(\", \"\").replace(\")\", \" \").split(\",\")[1] for row in txt]\r\n",
    "    testpunkter_2 = [row.strip(\"\\n\").replace(\"(\", \"\").replace(\")\", \" \").split(\",\")[2] for row in txt]\r\n",
    "    testpunkter_3 = [row.strip(\"\\n\").replace(\"(\", \"\").replace(\")\", \" \").split(\",\")[3] for row in txt]\r\n",
    "   \r\n",
    "    testpunkter_0_float = [float(num) for num in testpunkter_0]\r\n",
    "    testpunkter_1_float = [float(num) for num in testpunkter_1]\r\n",
    "    testpunkter_2_float = [float(num) for num in testpunkter_2]\r\n",
    "    testpunkter_3_float = [float(num) for num in testpunkter_3]\r\n",
    "    \r\n",
    "    for column_0, column_1, column_2, column_3 in zip(testpunkter_0_float,testpunkter_1_float,testpunkter_2_float,testpunkter_3_float):\r\n",
    "        distance = eu_dis(column_0, column_2, column_1, column_3)\r\n",
    "        distance_list.append(distance)\r\n",
    "\r\n",
    "print(txt)\r\n",
    "\r\n",
    "print(distance_list)"
   ],
   "outputs": [],
   "metadata": {}
  },
  {
   "cell_type": "code",
   "execution_count": 3,
   "source": [
    " s=\"\"\"       2500.3410      -0.60960758\r\n",
    "...        2505.5803       -1.3031826\r\n",
    "...        2510.8197      -0.64067196\r\n",
    "...        2516.0593       -1.0230898\r\n",
    "...        2521.2991      -0.20078891\"\"\"\r\n",
    "print(repr(s))\r\n"
   ],
   "outputs": [
    {
     "output_type": "stream",
     "name": "stdout",
     "text": [
      "'       2500.3410      -0.60960758\\n       2505.5803       -1.3031826\\n       2510.8197      -0.64067196\\n       2516.0593       -1.0230898\\n       2521.2991      -0.20078891'\n"
     ]
    }
   ],
   "metadata": {}
  },
  {
   "cell_type": "code",
   "execution_count": 11,
   "source": [
    "[i.split() for i in s.split('\\n')]"
   ],
   "outputs": [
    {
     "output_type": "execute_result",
     "data": {
      "text/plain": [
       "[['2500.3410', '-0.60960758'],\n",
       " ['2505.5803', '-1.3031826'],\n",
       " ['2510.8197', '-0.64067196'],\n",
       " ['2516.0593', '-1.0230898'],\n",
       " ['2521.2991', '-0.20078891']]"
      ]
     },
     "metadata": {},
     "execution_count": 11
    }
   ],
   "metadata": {}
  },
  {
   "cell_type": "code",
   "execution_count": 6,
   "source": [
    "zip(*[map(float,i.split()) for i in s.split('\\n')])"
   ],
   "outputs": [
    {
     "output_type": "stream",
     "name": "stdout",
     "text": [
      "<zip object at 0x000002C074150480>\n"
     ]
    }
   ],
   "metadata": {}
  },
  {
   "cell_type": "code",
   "execution_count": 7,
   "source": [
    "map(list,zip(*[map(float,i.split()) for i in s.split('\\n')]))"
   ],
   "outputs": [
    {
     "output_type": "execute_result",
     "data": {
      "text/plain": [
       "<map at 0x2c07350be80>"
      ]
     },
     "metadata": {},
     "execution_count": 7
    }
   ],
   "metadata": {}
  }
 ],
 "metadata": {
  "orig_nbformat": 4,
  "language_info": {
   "name": "python",
   "version": "3.9.6",
   "mimetype": "text/x-python",
   "codemirror_mode": {
    "name": "ipython",
    "version": 3
   },
   "pygments_lexer": "ipython3",
   "nbconvert_exporter": "python",
   "file_extension": ".py"
  },
  "kernelspec": {
   "name": "python3",
   "display_name": "Python 3.9.6 64-bit ('python-programming-Yuna-Liu-WA6ACBfR': pipenv)"
  },
  "interpreter": {
   "hash": "8111105f47d12ec1fb8af24cde7e4ba5898ee01916168ee13b7453f45f559afc"
  }
 },
 "nbformat": 4,
 "nbformat_minor": 2
}