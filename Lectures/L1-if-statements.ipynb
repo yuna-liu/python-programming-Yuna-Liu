{
 "cells": [
  {
   "cell_type": "markdown",
   "source": [
    "\n",
    "<a href=\"https://colab.research.google.com/github/kokchun/Programmering-med-Python-21/blob/main/Lectures/L1-if-statements.ipynb\" target=\"_parent\"><img align=\"left\" src=\"https://colab.research.google.com/assets/colab-badge.svg\" alt=\"Open In Colab\"/></a> &nbsp; for interacting with the code"
   ],
   "metadata": {}
  },
  {
   "cell_type": "markdown",
   "source": [
    "---\n",
    "# Lecture notes - if-statement\n",
    "\n",
    "---\n",
    "This is the lecture note for **if-statements**, but it's built upon contents from previous lectures such as: \n",
    "- input-output\n",
    "- variables\n",
    "---"
   ],
   "metadata": {}
  },
  {
   "cell_type": "markdown",
   "source": [
    "## if-else\r\n",
    "\r\n",
    "if-statement is a construct called *conditional statement* which is used for handling decisions. Note the syntax with \"colon\" operator \":\" and the indentation to define a scope in the code (other languages use curly braces {})\r\n",
    "\r\n",
    "```python\r\n",
    "if condition: \r\n",
    "    statements\r\n",
    "    ... \r\n",
    "else: \r\n",
    "    statements\r\n",
    "    ...\r\n",
    "```\r\n",
    "condition is a so called **boolean** which evaluates to either True or False\r\n",
    "\r\n",
    "<img src=\"../assets/if-else-flowchart.png\" width=150/>\r\n",
    "\r\n",
    "Read more\r\n",
    "[w3schools - if..else](https://www.w3schools.com/python/python_conditions.asp)"
   ],
   "metadata": {}
  },
  {
   "cell_type": "code",
   "execution_count": 2,
   "source": [
    "age = int(input(\"Enter your age:\")) # 14\r\n",
    "age_limit = 15\r\n",
    "\r\n",
    "# note the syntax:\r\n",
    "if age < age_limit:\r\n",
    "    print(\"Sorry, you are too young to watch this scary movie\")\r\n",
    "    print(\"Watch this cartoon instead\")\r\n",
    "else:\r\n",
    "    print(\"Enjoy this scary movie\")"
   ],
   "outputs": [
    {
     "output_type": "stream",
     "name": "stdout",
     "text": [
      "Sorry, you are too young to watch this scary movie\n",
      "Watch this cartoon instead\n"
     ]
    }
   ],
   "metadata": {}
  },
  {
   "cell_type": "code",
   "execution_count": 3,
   "source": [
    "age = 15 \r\n",
    "height = 150\r\n",
    "\r\n",
    "if age > 11 and 130 < height < 210:\r\n",
    "    print(\"Du får åka balder\")\r\n",
    "else: \r\n",
    "    print(\"Du får inte åka balder\")"
   ],
   "outputs": [
    {
     "output_type": "stream",
     "name": "stdout",
     "text": [
      "Du får åka balder\n"
     ]
    }
   ],
   "metadata": {}
  },
  {
   "cell_type": "markdown",
   "source": [
    "### Modulo operator\r\n",
    "\r\n",
    "Gives the remainder of a division. Example: \r\n",
    "\r\n",
    "```\r\n",
    "5 % 3 = 2 # read out \"5 mod 3\"\r\n",
    "9 % 3 = 0\r\n",
    "```"
   ],
   "metadata": {}
  },
  {
   "cell_type": "code",
   "execution_count": 4,
   "source": [
    "number = 5\r\n",
    "if number % 2 == 0: \r\n",
    "    print(\"Even number\")\r\n",
    "else:\r\n",
    "    print(\"Odd number\")"
   ],
   "outputs": [
    {
     "output_type": "stream",
     "name": "stdout",
     "text": [
      "Odd number\n"
     ]
    }
   ],
   "metadata": {}
  },
  {
   "cell_type": "markdown",
   "source": [
    "---\r\n",
    "## if - elif - else\r\n",
    "\r\n",
    "```python\r\n",
    "if condition: \r\n",
    "    statements \r\n",
    "    ...\r\n",
    "elif condition: \r\n",
    "    statements\r\n",
    "    ...\r\n",
    "...\r\n",
    "elif condition:\r\n",
    "    statements\r\n",
    "    ...\r\n",
    "else:\r\n",
    "    statements\r\n",
    "    ...\r\n",
    "```\r\n",
    "Example: \r\n",
    "\r\n",
    "<img src=\"../assets/if-elif-else.png\" width=250>"
   ],
   "metadata": {}
  },
  {
   "cell_type": "code",
   "execution_count": 5,
   "source": [
    "weight = float(input(\"What is your weight? (kg) \")) # 40\r\n",
    "if weight < 20:\r\n",
    "    print(\"Give patient 500mg\")\r\n",
    "elif weight < 40:\r\n",
    "    print(\"Give patient 750mg\")\r\n",
    "else:\r\n",
    "    print(\"Give patient 1000mg\")"
   ],
   "outputs": [
    {
     "output_type": "stream",
     "name": "stdout",
     "text": [
      "Give patient 1000mg\n"
     ]
    }
   ],
   "metadata": {}
  },
  {
   "cell_type": "markdown",
   "source": [
    "---\n",
    "## Logical operators\n",
    "\n",
    "| Name                    | Symbol |   Example    | Result |\n",
    "| ----------------------- | :----: | :----------: | ------ |\n",
    "| Less than               |   <    |     3<2      | False  |\n",
    "| Less than or equal to   |   <=   |     3<=3     | True   |\n",
    "| Larger than             |   >    |     3>2      | True   |\n",
    "| Larger than or equal to |   >=   |    -3>=4     | False  |\n",
    "| Equal to                |   ==   |     3==3     | True   |\n",
    "| Not equal               |   !=   |     3!=2     | True   |\n",
    "| And operator            |  and   | 3==2 and 3>2 | False  |\n",
    "| Or operator             |   or   | 3==2 or 3>2  | True   |\n",
    "| Not operator            |   not  | not 3==2     | True   |"
   ],
   "metadata": {}
  },
  {
   "cell_type": "code",
   "execution_count": 1,
   "source": [
    "print(f\"True and False gives: {True and False}\")\r\n",
    "print(f\"True or False gives: {True or False}\")\r\n",
    "print(f\"False or False gives: {False or False}\")\r\n",
    "print(f\"True and True gives: {True and True}\")\r\n",
    "print(f\"True or True gives: {True or True}\")"
   ],
   "outputs": [
    {
     "output_type": "stream",
     "name": "stdout",
     "text": [
      "True and False gives: False\n",
      "True or False gives: True\n",
      "False or False gives: False\n",
      "True and True gives: True\n",
      "True or True gives: True\n"
     ]
    }
   ],
   "metadata": {}
  },
  {
   "cell_type": "markdown",
   "source": [
    "---\n",
    "## Nested if-statements\n",
    "\n",
    "if-statement within an if-statement"
   ],
   "metadata": {}
  },
  {
   "cell_type": "code",
   "execution_count": 15,
   "source": [
    "number = int(input(\"Give an integer: \")) #-100\r\n",
    "\r\n",
    "# if a number is divisible by 5, check if it also is even\r\n",
    "if number % 5 == 0: \r\n",
    "    print(f\"{number} is divisible by 5\")\r\n",
    "    if number % 2 == 0:\r\n",
    "        print(f\"{number} is an even number\")\r\n",
    "    else:\r\n",
    "        print(f\"{number} is an odd number\")"
   ],
   "outputs": [
    {
     "output_type": "stream",
     "name": "stdout",
     "text": [
      "-100 is divisible by 5\n",
      "-100 is an even number\n"
     ]
    }
   ],
   "metadata": {}
  },
  {
   "cell_type": "markdown",
   "source": [
    "---\n",
    "## One line if-statements\n",
    "\n",
    "When there is one statement, you can use one line if or one line if-else.\n",
    "\n",
    "Note: don't overuse this structure just because you can. Always favor code that maximizes readability. "
   ],
   "metadata": {}
  },
  {
   "cell_type": "code",
   "execution_count": 2,
   "source": [
    "name = \"Olivia\"\r\n",
    "gender = \"female\"\r\n",
    "\r\n",
    "# one line if \r\n",
    "if \"o\" in name: print(f\"{name} contains the letter 'o'\") \r\n",
    "\r\n",
    "# one line if-else\r\n",
    "print(f\"Hi mr {name}\") if gender == \"male\" else print(f\"Hi ms {name}\")\r\n"
   ],
   "outputs": [
    {
     "output_type": "stream",
     "name": "stdout",
     "text": [
      "Hi ms Olivia\n"
     ]
    }
   ],
   "metadata": {}
  },
  {
   "cell_type": "markdown",
   "source": [
    "---\r\n",
    "\r\n",
    "Kokchun Giang\r\n",
    "\r\n",
    "[LinkedIn][linkedIn_kokchun]\r\n",
    "\r\n",
    "[GitHub portfolio][github_portfolio]\r\n",
    "\r\n",
    "[linkedIn_kokchun]: https://www.linkedin.com/in/kokchungiang/\r\n",
    "[github_portfolio]: https://github.com/kokchun/Portfolio-Kokchun-Giang\r\n",
    "\r\n",
    "---"
   ],
   "metadata": {}
  }
 ],
 "metadata": {
  "orig_nbformat": 4,
  "language_info": {
   "name": "python",
   "version": "3.9.6",
   "mimetype": "text/x-python",
   "codemirror_mode": {
    "name": "ipython",
    "version": 3
   },
   "pygments_lexer": "ipython3",
   "nbconvert_exporter": "python",
   "file_extension": ".py"
  },
  "kernelspec": {
   "name": "python3",
   "display_name": "Python 3.9.6 64-bit"
  },
  "interpreter": {
   "hash": "2971b745844267d7cb4483e5f20d838014d69d8df52b415790673c9e258dc44a"
  }
 },
 "nbformat": 4,
 "nbformat_minor": 2
}