{
 "cells": [
  {
   "cell_type": "markdown",
   "source": [
    "# Lists\r\n",
    "\r\n",
    "- access\r\n",
    "- slicing\r\n",
    "\r\n",
    "\r\n",
    "<img align=\"left\" src=\"../assets/lists.png\" width=\"300\"/>\r\n"
   ],
   "metadata": {}
  },
  {
   "cell_type": "code",
   "execution_count": 1,
   "source": [
    "tv_shows = [\"Antikrundan\", \"Mästerkockarna\", \"Aktuellt\" , \"Talang\"]\r\n",
    "\r\n",
    "# access items - [] operator\r\n",
    "\r\n",
    "print(f\"tv_shows[0]: {tv_shows[0]}\")\r\n",
    "print(f\"tv_shows[1]: {tv_shows[1]}\")\r\n",
    "print(f\"tv_shows[2]: {tv_shows[2]}\")\r\n",
    "\r\n",
    "# slicing operator - : operator\r\n",
    "\r\n",
    "print(f\"tv_shows[:]: {tv_shows[:]}\") # returns value from index 0 and index 3\r\n",
    "print(f\"tv_shows[1:]: {tv_shows[1:]}\") # returns value from index 1 and \"goes\" to the end\r\n",
    "print(f\"tv_shows[1:3]: {tv_shows[1:3]}\")  #[start: end-1] returns value from index 1 and index 2\r\n",
    "print(f\"Backwards tv_shows[::-1]: {tv_shows[::-1]}\")  #[start: end-1:step] returns value from index 1 and index 2\r\n",
    "\r\n",
    "\r\n",
    "\r\n",
    "print(f\"tv_shows[-1]: {tv_shows[-1]}\") # access from right"
   ],
   "outputs": [
    {
     "output_type": "stream",
     "name": "stdout",
     "text": [
      "tv_shows[0]: Antikrundan\n",
      "tv_shows[1]: Mästerkockarna\n",
      "tv_shows[2]: Aktuellt\n",
      "tv_shows[:]: ['Antikrundan', 'Mästerkockarna', 'Aktuellt', 'Talang']\n",
      "tv_shows[1:]: ['Mästerkockarna', 'Aktuellt', 'Talang']\n",
      "tv_shows[1:3]: ['Mästerkockarna', 'Aktuellt']\n",
      "Backwards tv_shows[::-1]: ['Talang', 'Aktuellt', 'Mästerkockarna', 'Antikrundan']\n",
      "tv_shows[-1]: Talang\n"
     ]
    }
   ],
   "metadata": {}
  },
  {
   "cell_type": "code",
   "execution_count": 5,
   "source": [
    "# change list items\r\n",
    "\r\n",
    "tv_shows = [\"Antikrundan\", \"Mästerkockarna\", \"Aktuellt\" , \"Talang\"]\r\n",
    "tv_shows[0] = \"Vetenskapens värld\"\r\n",
    "print(tv_shows)\r\n",
    "\r\n",
    "# add an item to the lilst\r\n",
    "tv_shows.append(\"Go kväll\")\r\n",
    "print(tv_shows)"
   ],
   "outputs": [
    {
     "output_type": "stream",
     "name": "stdout",
     "text": [
      "['Vetenskapens värld', 'Mästerkockarna', 'Aktuellt', 'Talang']\n",
      "['Vetenskapens värld', 'Mästerkockarna', 'Aktuellt', 'Talang', 'Go kväll']\n"
     ]
    }
   ],
   "metadata": {}
  },
  {
   "cell_type": "code",
   "execution_count": 6,
   "source": [
    "help(list.append)"
   ],
   "outputs": [
    {
     "output_type": "stream",
     "name": "stdout",
     "text": [
      "Help on method_descriptor:\n",
      "\n",
      "append(self, object, /)\n",
      "    Append object to the end of the list.\n",
      "\n"
     ]
    }
   ],
   "metadata": {}
  },
  {
   "cell_type": "markdown",
   "source": [
    "---\r\n",
    "## Iterate through list"
   ],
   "metadata": {}
  },
  {
   "cell_type": "code",
   "execution_count": 7,
   "source": [
    "for tv_show in tv_shows: \r\n",
    "    print(tv_show)"
   ],
   "outputs": [
    {
     "output_type": "stream",
     "name": "stdout",
     "text": [
      "Vetenskapens värld\n",
      "Mästerkockarna\n",
      "Aktuellt\n",
      "Talang\n",
      "Go kväll\n"
     ]
    }
   ],
   "metadata": {}
  },
  {
   "cell_type": "code",
   "execution_count": 13,
   "source": [
    "print(\"TV tablå\")\r\n",
    "for i, tv_show in enumerate(tv_shows):  # with enumerate you also get index of the list item\r\n",
    "    print(f\"The {i} tv_show is: {tv_show}\")"
   ],
   "outputs": [
    {
     "output_type": "stream",
     "name": "stdout",
     "text": [
      "TV tablå\n",
      "The 0 tv_show is: Vetenskapens värld\n",
      "The 1 tv_show is: Mästerkockarna\n",
      "The 2 tv_show is: Aktuellt\n",
      "The 3 tv_show is: Talang\n",
      "The 4 tv_show is: Go kväll\n"
     ]
    }
   ],
   "metadata": {}
  },
  {
   "cell_type": "code",
   "execution_count": 14,
   "source": [
    "# list of cubs\r\n",
    "cubes = []\r\n",
    "\r\n",
    "for i in range(10):\r\n",
    "    cubes.append(i**3)\r\n",
    "\r\n",
    "print(cubes)"
   ],
   "outputs": [
    {
     "output_type": "stream",
     "name": "stdout",
     "text": [
      "[0, 1, 8, 27, 64, 125, 216, 343, 512, 729]\n"
     ]
    }
   ],
   "metadata": {}
  },
  {
   "cell_type": "code",
   "execution_count": 1,
   "source": [
    "# list comprehensions\r\n",
    "cubes2 = [x**3 for x in range(10)]\r\n",
    "print(cubes2)"
   ],
   "outputs": [
    {
     "output_type": "stream",
     "name": "stdout",
     "text": [
      "[0, 1, 8, 27, 64, 125, 216, 343, 512, 729]\n"
     ]
    }
   ],
   "metadata": {}
  },
  {
   "cell_type": "code",
   "execution_count": 2,
   "source": [
    "# cube every even number - list comprehension with if-statment inside\r\n",
    "cubes_even = [x**3 for x in range(10) if x%2==0]\r\n",
    "print(cubes_even)"
   ],
   "outputs": [
    {
     "output_type": "stream",
     "name": "stdout",
     "text": [
      "[0, 8, 64, 216, 512]\n"
     ]
    }
   ],
   "metadata": {}
  },
  {
   "cell_type": "markdown",
   "source": [
    "---\r\n",
    "# Sort list"
   ],
   "metadata": {}
  },
  {
   "cell_type": "code",
   "execution_count": 2,
   "source": [
    "import random as rnd\r\n",
    "dices = [rnd.randint(1,6) for _ in range(10)]\r\n",
    "print(dices)\r\n",
    "dices.sort()  # returns None\r\n",
    "print(dices)"
   ],
   "outputs": [
    {
     "output_type": "stream",
     "name": "stdout",
     "text": [
      "[6, 6, 3, 5, 1, 3, 3, 1, 2, 4]\n",
      "[1, 1, 2, 3, 3, 3, 4, 5, 6, 6]\n"
     ]
    }
   ],
   "metadata": {}
  },
  {
   "cell_type": "code",
   "execution_count": 27,
   "source": [
    "tv_shows = [\"Äta\", \"Antikrundan\", \"Mästerkockarna\", \"Aktuellt\" , \"Talang\", \"Go kväll\", \"89\"]\r\n",
    "print(tv_shows)\r\n",
    "tv_shows.sort()\r\n",
    "print(tv_shows)\r\n",
    "\r\n",
    "tv_shows.sort(reverse=True)\r\n",
    "print(tv_shows)"
   ],
   "outputs": [
    {
     "output_type": "stream",
     "name": "stdout",
     "text": [
      "['Äta', 'Antikrundan', 'Mästerkockarna', 'Aktuellt', 'Talang', 'Go kväll', '89']\n",
      "['89', 'Aktuellt', 'Antikrundan', 'Go kväll', 'Mästerkockarna', 'Talang', 'Äta']\n",
      "['Äta', 'Talang', 'Mästerkockarna', 'Go kväll', 'Antikrundan', 'Aktuellt', '89']\n"
     ]
    }
   ],
   "metadata": {}
  },
  {
   "cell_type": "markdown",
   "source": [
    "---\r\n",
    "# Range() vs rnd.randint()\r\n",
    "\r\n",
    "- range(): Return an object that produces a sequence of integers from start (inclusive)\r\n",
    " |  to stop (exclusive) by step.  range(i, j) produces i, i+1, i+2, ..., j-1.\r\n",
    "\r\n",
    "- rnd.randint(): Return random integer in range [a,b], including both end points."
   ],
   "metadata": {}
  },
  {
   "cell_type": "code",
   "execution_count": 27,
   "source": [
    "numbers = list(range(9))\r\n",
    "print(numbers)\r\n",
    "numbers = list(range(0, 9))\r\n",
    "print(numbers)\r\n",
    "\r\n",
    "numbers = list(range(1,9))\r\n",
    "print(numbers)\r\n",
    "\r\n",
    "numbers = [rnd.randint(1,9) for _ in range(20)]  \r\n",
    "print(numbers)\r\n",
    "\r\n",
    "help(range)\r\n",
    "help(rnd.randint)\r\n"
   ],
   "outputs": [
    {
     "output_type": "stream",
     "name": "stdout",
     "text": [
      "[0, 1, 2, 3, 4, 5, 6, 7, 8]\n",
      "[0, 1, 2, 3, 4, 5, 6, 7, 8]\n",
      "[1, 2, 3, 4, 5, 6, 7, 8]\n",
      "[3, 1, 8, 2, 3, 1, 8, 6, 9, 9, 6, 7, 2, 6, 5, 5, 3, 5, 4, 7]\n",
      "Help on class range in module builtins:\n",
      "\n",
      "class range(object)\n",
      " |  range(stop) -> range object\n",
      " |  range(start, stop[, step]) -> range object\n",
      " |  \n",
      " |  Return an object that produces a sequence of integers from start (inclusive)\n",
      " |  to stop (exclusive) by step.  range(i, j) produces i, i+1, i+2, ..., j-1.\n",
      " |  start defaults to 0, and stop is omitted!  range(4) produces 0, 1, 2, 3.\n",
      " |  These are exactly the valid indices for a list of 4 elements.\n",
      " |  When step is given, it specifies the increment (or decrement).\n",
      " |  \n",
      " |  Methods defined here:\n",
      " |  \n",
      " |  __bool__(self, /)\n",
      " |      self != 0\n",
      " |  \n",
      " |  __contains__(self, key, /)\n",
      " |      Return key in self.\n",
      " |  \n",
      " |  __eq__(self, value, /)\n",
      " |      Return self==value.\n",
      " |  \n",
      " |  __ge__(self, value, /)\n",
      " |      Return self>=value.\n",
      " |  \n",
      " |  __getattribute__(self, name, /)\n",
      " |      Return getattr(self, name).\n",
      " |  \n",
      " |  __getitem__(self, key, /)\n",
      " |      Return self[key].\n",
      " |  \n",
      " |  __gt__(self, value, /)\n",
      " |      Return self>value.\n",
      " |  \n",
      " |  __hash__(self, /)\n",
      " |      Return hash(self).\n",
      " |  \n",
      " |  __iter__(self, /)\n",
      " |      Implement iter(self).\n",
      " |  \n",
      " |  __le__(self, value, /)\n",
      " |      Return self<=value.\n",
      " |  \n",
      " |  __len__(self, /)\n",
      " |      Return len(self).\n",
      " |  \n",
      " |  __lt__(self, value, /)\n",
      " |      Return self<value.\n",
      " |  \n",
      " |  __ne__(self, value, /)\n",
      " |      Return self!=value.\n",
      " |  \n",
      " |  __reduce__(...)\n",
      " |      Helper for pickle.\n",
      " |  \n",
      " |  __repr__(self, /)\n",
      " |      Return repr(self).\n",
      " |  \n",
      " |  __reversed__(...)\n",
      " |      Return a reverse iterator.\n",
      " |  \n",
      " |  count(...)\n",
      " |      rangeobject.count(value) -> integer -- return number of occurrences of value\n",
      " |  \n",
      " |  index(...)\n",
      " |      rangeobject.index(value) -> integer -- return index of value.\n",
      " |      Raise ValueError if the value is not present.\n",
      " |  \n",
      " |  ----------------------------------------------------------------------\n",
      " |  Static methods defined here:\n",
      " |  \n",
      " |  __new__(*args, **kwargs) from builtins.type\n",
      " |      Create and return a new object.  See help(type) for accurate signature.\n",
      " |  \n",
      " |  ----------------------------------------------------------------------\n",
      " |  Data descriptors defined here:\n",
      " |  \n",
      " |  start\n",
      " |  \n",
      " |  step\n",
      " |  \n",
      " |  stop\n",
      "\n",
      "Help on method randint in module random:\n",
      "\n",
      "randint(a, b) method of random.Random instance\n",
      "    Return random integer in range [a, b], including both end points.\n",
      "\n"
     ]
    }
   ],
   "metadata": {}
  },
  {
   "cell_type": "markdown",
   "source": [
    "# 'tuple' object does not support item assignment"
   ],
   "metadata": {}
  },
  {
   "cell_type": "code",
   "execution_count": 28,
   "source": [
    "\r\n",
    "example_tuple = (1,2,3)\r\n",
    "example_tuple[2] = 5"
   ],
   "outputs": [
    {
     "output_type": "error",
     "ename": "TypeError",
     "evalue": "'tuple' object does not support item assignment",
     "traceback": [
      "\u001b[1;31m---------------------------------------------------------------------------\u001b[0m",
      "\u001b[1;31mTypeError\u001b[0m                                 Traceback (most recent call last)",
      "\u001b[1;32mC:\\Users\\YUNALI~1\\AppData\\Local\\Temp/ipykernel_14700/4125335232.py\u001b[0m in \u001b[0;36m<module>\u001b[1;34m\u001b[0m\n\u001b[0;32m      1\u001b[0m \u001b[1;31m# 'tuple' object does not support item assignment\u001b[0m\u001b[1;33m\u001b[0m\u001b[1;33m\u001b[0m\u001b[1;33m\u001b[0m\u001b[0m\n\u001b[0;32m      2\u001b[0m \u001b[0mexample_tuple\u001b[0m \u001b[1;33m=\u001b[0m \u001b[1;33m(\u001b[0m\u001b[1;36m1\u001b[0m\u001b[1;33m,\u001b[0m\u001b[1;36m2\u001b[0m\u001b[1;33m,\u001b[0m\u001b[1;36m3\u001b[0m\u001b[1;33m)\u001b[0m\u001b[1;33m\u001b[0m\u001b[1;33m\u001b[0m\u001b[0m\n\u001b[1;32m----> 3\u001b[1;33m \u001b[0mexample_tuple\u001b[0m\u001b[1;33m[\u001b[0m\u001b[1;36m2\u001b[0m\u001b[1;33m]\u001b[0m \u001b[1;33m=\u001b[0m \u001b[1;36m5\u001b[0m\u001b[1;33m\u001b[0m\u001b[1;33m\u001b[0m\u001b[0m\n\u001b[0m",
      "\u001b[1;31mTypeError\u001b[0m: 'tuple' object does not support item assignment"
     ]
    }
   ],
   "metadata": {}
  },
  {
   "cell_type": "markdown",
   "source": [
    "---\r\n",
    "# list in a list"
   ],
   "metadata": {}
  },
  {
   "cell_type": "code",
   "execution_count": 41,
   "source": [
    "grades = [[\"A\",30], [\"B\", 25], [\"C\", 20]]\r\n",
    "print(grades[1])\r\n",
    "print(grades[1][1])\r\n",
    "print(f\"grades[1]: {grades[1]}\")\r\n",
    "print(f\"grades[1][0]: Betyg {grades[1][0]}\")"
   ],
   "outputs": [
    {
     "output_type": "stream",
     "name": "stdout",
     "text": [
      "['B', 25]\n",
      "25\n",
      "grades[1]: ['B', 25]\n",
      "grades[1][0]: Betyg B\n"
     ]
    }
   ],
   "metadata": {}
  }
 ],
 "metadata": {
  "orig_nbformat": 4,
  "language_info": {
   "name": "python",
   "version": "3.9.6",
   "mimetype": "text/x-python",
   "codemirror_mode": {
    "name": "ipython",
    "version": 3
   },
   "pygments_lexer": "ipython3",
   "nbconvert_exporter": "python",
   "file_extension": ".py"
  },
  "kernelspec": {
   "name": "python3",
   "display_name": "Python 3.9.6 64-bit ('python-programming-Yuna-Liu-WA6ACBfR': pipenv)"
  },
  "interpreter": {
   "hash": "8111105f47d12ec1fb8af24cde7e4ba5898ee01916168ee13b7453f45f559afc"
  }
 },
 "nbformat": 4,
 "nbformat_minor": 2
}