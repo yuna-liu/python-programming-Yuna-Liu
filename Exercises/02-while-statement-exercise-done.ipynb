{
 "cells": [
  {
   "cell_type": "markdown",
   "source": [
    "# The solution to exercise while statement\r\n",
    "Date: 2021-08-28\r\n",
    "\r\n",
    "The questions of exercise02 can be downloaded [here][exercise_link].\r\n",
    "\r\n",
    "\r\n",
    "[exercise_link]: https://github.com/kokchun/Programmering-med-Python-21/blob/main/Exercises/02-while-statement-exercise.ipynb"
   ],
   "metadata": {}
  },
  {
   "cell_type": "markdown",
   "source": [
    "## 1. Count numbers (*)\r\n",
    "\r\n",
    "Use a **while** statement to count from -10 to 10 with one increment. \r\n"
   ],
   "metadata": {}
  },
  {
   "cell_type": "code",
   "execution_count": 2,
   "source": [
    "n = -10\r\n",
    "while n <= 10:\r\n",
    "    print(n, end=\", \")   # let end to avoid a seperate line\r\n",
    "    n += 1"
   ],
   "outputs": [
    {
     "output_type": "stream",
     "name": "stdout",
     "text": [
      "-10, -9, -8, -7, -6, -5, -4, -3, -2, -1, 0, 1, 2, 3, 4, 5, 6, 7, 8, 9, 10, "
     ]
    }
   ],
   "metadata": {}
  },
  {
   "cell_type": "markdown",
   "source": [
    "--- \r\n",
    "## 2. Arithmetic sum (*)\r\n",
    "Use a **while** statement to compute the following sums: \r\n",
    "\r\n",
    "&nbsp; a) &nbsp; $\\text{sum} = 1 + 2 + \\ldots + 99+ 100$\r\n",
    "\r\n",
    "&nbsp; b) &nbsp; $\\text{sum} = 1 + 3 + 5 + \\ldots + 97 + 99$\r\n",
    "\r\n",
    "<details>\r\n",
    "\r\n",
    "<summary>Answer </summary>\r\n",
    "\r\n",
    "```\r\n",
    "a) 1 + 2 + ... + 99 + 100 = 5050 \r\n",
    "\r\n",
    "b) 1 + 3 + 5 +...+ 97 + 99 = 2500\r\n",
    "```\r\n",
    "\r\n",
    "</details>"
   ],
   "metadata": {}
  },
  {
   "cell_type": "code",
   "execution_count": 3,
   "source": [
    "# a)\r\n",
    "n = 1\r\n",
    "sum = 0\r\n",
    "\r\n",
    "while n <= 100:\r\n",
    "    sum += n\r\n",
    "    n += 1\r\n",
    "\r\n",
    "print(sum)"
   ],
   "outputs": [
    {
     "output_type": "stream",
     "name": "stdout",
     "text": [
      "5050\n"
     ]
    }
   ],
   "metadata": {}
  },
  {
   "cell_type": "code",
   "execution_count": 4,
   "source": [
    "# b)\r\n",
    "n = 1\r\n",
    "sum = 0\r\n",
    "\r\n",
    "while n < 100:\r\n",
    "    sum += n\r\n",
    "    n += 2\r\n",
    "\r\n",
    "print(sum)"
   ],
   "outputs": [
    {
     "output_type": "stream",
     "name": "stdout",
     "text": [
      "2500\n"
     ]
    }
   ],
   "metadata": {}
  },
  {
   "cell_type": "markdown",
   "source": [
    "--- \r\n",
    "## 3. Guess number game (*)\r\n",
    "&nbsp; a) &nbsp; Create a guessing number game following this flow chart: \r\n",
    "\r\n",
    "<img align=\"left\" src=\"../assets/guessing_game.png\" width=\"300\"/>"
   ],
   "metadata": {}
  },
  {
   "cell_type": "code",
   "execution_count": 9,
   "source": [
    "import random as rnd\r\n",
    "n = rnd.randrange(1,100)\r\n",
    "guesses_n = 0\r\n",
    "\r\n",
    "while True:\r\n",
    "    guess = int(input(\"Please guess a integer from 0 to 100\"))\r\n",
    "    guesses_n += 1\r\n",
    "\r\n",
    "    if n == guess:\r\n",
    "        print(\"Congratulation! You win!!!\")\r\n",
    "        break\r\n",
    "    else:\r\n",
    "        if guess > n:\r\n",
    "            print(f\"Your guess is higher than the number. Please play again\")\r\n",
    "        else: \r\n",
    "            print(f\"Your guess is lower than the number. Please play again\")\r\n",
    "print(f\"You have guessed {guesses_n} times\")\r\n"
   ],
   "outputs": [
    {
     "output_type": "stream",
     "name": "stdout",
     "text": [
      "10\n",
      "Your guess is higher than the number. Please play again\n",
      "Your guess is higher than the number. Please play again\n",
      "Your guess is higher than the number. Please play again\n",
      "Your guess is lower than the number. Please play again\n"
     ]
    }
   ],
   "metadata": {}
  },
  {
   "cell_type": "markdown",
   "source": [
    "&nbsp; b) &nbsp; Make an algorithm to automatically guess the correct number. Can you optimize to get as few guesses as possible? (**)"
   ],
   "metadata": {}
  },
  {
   "cell_type": "code",
   "execution_count": 4,
   "source": [
    "# Firstly, I use a method that starts from 50, then increase or decrease by 1, depends on if it is smaller than the number or larger than the number.as_integer_ratio\r\n",
    " \r\n",
    "import random as rnd\r\n",
    "n = rnd.randrange(1,100)\r\n",
    "guesses_n = 0\r\n",
    "guess = 50\r\n",
    "\r\n",
    "while True:\r\n",
    "    guesses_n += 1\r\n",
    "    if n == guess:\r\n",
    "        print(\"Congratulation!\")\r\n",
    "        break\r\n",
    "    else:\r\n",
    "        if guess > n:\r\n",
    "            guess -= 1\r\n",
    "          \r\n",
    "        else: \r\n",
    "            guess += 1\r\n",
    "\r\n",
    "print(f\"You have guessed {guesses_n} times, the right number is {guess}.\")\r\n"
   ],
   "outputs": [
    {
     "output_type": "stream",
     "name": "stdout",
     "text": [
      "Congratulation!\n",
      "You have guessed 9 times, the right number is 42.\n"
     ]
    }
   ],
   "metadata": {}
  },
  {
   "cell_type": "code",
   "execution_count": 2,
   "source": [
    "# A second method is that I use the half strategy. I always guess the midnumber, which is the average of min and max in the guessing range.count\r\n",
    " \r\n",
    "import random as rnd\r\n",
    "n = rnd.randrange(1,100)\r\n",
    "guesses_n = 0\r\n",
    "guess = 50\r\n",
    "min = 1            # n belongs to range (1, 100)\r\n",
    "max = 100\r\n",
    "\r\n",
    "while True:\r\n",
    "    guesses_n += 1\r\n",
    "    if n == guess:\r\n",
    "        print(f\"Congratulation! You have guessed {guesses_n} times, the right number is {guess}.\")\r\n",
    "        break\r\n",
    "    elif guess > n:    # n is smaller than our guess (for example 50), therefore the range is now (1, guess-1)\r\n",
    "        print(f\"your guess {guess} is too big. Try another guess.\")\r\n",
    "        max = guess -1\r\n",
    "        guess = int((max + min)/2)\r\n",
    "    else:  # n is larger than our guess (for example 50), therefore the range is now (guess+1, 100)\r\n",
    "        print(f\"your guess {guess} is too small. Try another guess.\")\r\n",
    "        min = guess +1\r\n",
    "        guess = int((max + min)/2)"
   ],
   "outputs": [
    {
     "output_type": "stream",
     "name": "stdout",
     "text": [
      "your guess 50 is too small. Try another guess.\n",
      "your guess 75 is too big. Try another guess.\n",
      "your guess 62 is too small. Try another guess.\n",
      "Congratulation! You have guessed 4 times, the right number is 68.\n"
     ]
    }
   ],
   "metadata": {}
  },
  {
   "cell_type": "markdown",
   "source": [
    "--- \r\n",
    "## 4. Multiplication game (*)\r\n",
    "&nbsp; a) &nbsp; Create a multiplication game following this flow chart: "
   ],
   "metadata": {}
  },
  {
   "cell_type": "code",
   "execution_count": 14,
   "source": [
    "import random as rnd\r\n",
    "\r\n",
    "\r\n",
    "while True:\r\n",
    "    x = rnd.randrange(1,10)\r\n",
    "    y = rnd.randrange(1,10)\r\n",
    "\r\n",
    "    user_answer = int(input(f\"What is {x}*{y}? \"))\r\n",
    "    multiplication = x*y\r\n",
    "\r\n",
    "    if user_answer == multiplication:\r\n",
    "        print(\"Good work\")\r\n",
    "    else:\r\n",
    "        print(f\"No, the correct answer is {multiplication}\")\r\n",
    "\r\n",
    "    play_again = input(\"Will you play again (y for yes)?\")\r\n",
    "\r\n",
    "    if play_again != \"y\":\r\n",
    "        print(\"Thank you! The game ends\")\r\n",
    "        break\r\n"
   ],
   "outputs": [
    {
     "output_type": "stream",
     "name": "stdout",
     "text": [
      "No, the correct answer is 16\n"
     ]
    }
   ],
   "metadata": {}
  },
  {
   "cell_type": "markdown",
   "source": [
    "&nbsp; b) &nbsp; Add a menu for choosing difficulty level of the game\r\n",
    "\r\n",
    "&nbsp; c) &nbsp; Feel free to extend this program with features of your choice."
   ],
   "metadata": {}
  },
  {
   "cell_type": "code",
   "execution_count": 21,
   "source": [
    "#b\r\n",
    "\r\n",
    "import random as rnd\r\n",
    "\r\n",
    "while True:\r\n",
    "    difficulty_level = input(\"Please choose difficulty level of calculation from (Hard, Easy)\")\r\n",
    "    \r\n",
    "    if difficulty_level == \"Easy\":\r\n",
    "        x = rnd.randrange(1,10)\r\n",
    "        y = rnd.randrange(1,10)\r\n",
    "    else: \r\n",
    "        x = rnd.randrange(20,50)\r\n",
    "        y = rnd.randrange(20,50)\r\n",
    "    \r\n",
    "    user_answer = int(input(f\"What is {x}*{y}? \"))\r\n",
    "    multiplication = x*y\r\n",
    "\r\n",
    "    if user_answer == multiplication:\r\n",
    "        print(\"Good work\")\r\n",
    "    else:\r\n",
    "        print(f\"No, the correct answer is {multiplication}\")\r\n",
    "\r\n",
    "    play_again = input(\"Will you play again (y for yes)?\")\r\n",
    "\r\n",
    "    if play_again != \"y\":\r\n",
    "        print(\"Thank you! The game ends\")\r\n",
    "        break"
   ],
   "outputs": [
    {
     "output_type": "stream",
     "name": "stdout",
     "text": [
      "Good work\n",
      "Thank you! The game ends\n"
     ]
    }
   ],
   "metadata": {}
  },
  {
   "cell_type": "code",
   "execution_count": 25,
   "source": [
    "#c I would like to add a middle level of difficulty.\r\n",
    "\r\n",
    "import random as rnd\r\n",
    "\r\n",
    "while True:\r\n",
    "    difficulty_level = input(\"Please choose difficulty level of calculation from (Hard, Ok, Easy)\")\r\n",
    "    \r\n",
    "    if difficulty_level == \"Easy\":\r\n",
    "        x = rnd.randrange(1,10)\r\n",
    "        y = rnd.randrange(1,10)\r\n",
    "    elif difficulty_level == \"Ok\":\r\n",
    "        x = rnd.randrange(11,20)\r\n",
    "        y = rnd.randrange(11,20)\r\n",
    "    else: \r\n",
    "        x = rnd.randrange(20,50)\r\n",
    "        y = rnd.randrange(20,50)\r\n",
    "    \r\n",
    "    user_answer = int(input(f\"What is {x}*{y}? \"))\r\n",
    "    multiplication = x*y\r\n",
    "\r\n",
    "    if user_answer == multiplication:\r\n",
    "        print(\"Good work\")\r\n",
    "    else:\r\n",
    "        print(f\"No, the correct answer is {multiplication}\")\r\n",
    "\r\n",
    "    play_again = input(\"Will you play again (y for yes)?\")\r\n",
    "\r\n",
    "    if play_again != \"y\":\r\n",
    "        print(\"Thank you! The game ends\")\r\n",
    "        break"
   ],
   "outputs": [
    {
     "output_type": "stream",
     "name": "stdout",
     "text": [
      "No, the correct answer is 946\n",
      "Thank you! The game ends\n"
     ]
    }
   ],
   "metadata": {}
  },
  {
   "cell_type": "markdown",
   "source": [
    "--- \r\n",
    "## 5. Check convergence (**)\r\n",
    "Use a while statement to compute the following sums: \r\n",
    "\r\n",
    "&nbsp; a) &nbsp; $\\text{sum} = 1 + \\frac{1}{2} + \\frac{1}{4} + \\frac{1}{8} + \\dots + \\frac{1}{2^n}$\r\n",
    "\r\n",
    "&nbsp; b) &nbsp; $\\text{sum} = 1 - \\frac{1}{3} + \\frac{1}{5} - \\frac{1}{7} + \\dots + \\frac{(-1)^n}{2n+1}$\r\n",
    "\r\n",
    "Try different values on $n$ to see which value it converges to.\r\n",
    "\r\n",
    "<details>\r\n",
    "\r\n",
    "<summary>Answer </summary>\r\n",
    "\r\n",
    "&nbsp; a) &nbsp; $1 + \\frac{1}{2} + \\frac{1}{4} + \\frac{1}{8} + \\dots + \\frac{1}{2^n} \\xrightarrow[n\\rightarrow \\infty]{} 2$ \r\n",
    "\r\n",
    "&nbsp; b) &nbsp; $ 1 - \\frac{1}{3} + \\frac{1}{5} - \\frac{1}{7} + \\dots + \\frac{(-1)^n}{2n+1} \\xrightarrow[n\\rightarrow \\infty]{} \\frac{\\pi}{4}$\r\n",
    "\r\n",
    "</details>"
   ],
   "metadata": {}
  },
  {
   "cell_type": "code",
   "execution_count": 8,
   "source": [
    "n = 0   # sum = a_0 + a_1 + a_2 + ... + a_n where n = 0, 1, 2, ... max_n\r\n",
    "sum = 0   \r\n",
    "max_n = int(input(\"Please choose a max n\"))     # choose any n that you want converge to.\r\n",
    "\r\n",
    "while n <= max_n:\r\n",
    "    a_n = 1/2**n   # for each n = 0,1, 2,..., to max_n, there are correspondingly a_0, a_1, a_2...a_max_n   \r\n",
    "    sum += a_n  # sum begins with a_0 when n=0; this a_0 is exactly 1.\r\n",
    "    n += 1\r\n",
    "print(f\"the value converges to {sum:.0f} when n goes to {max_n}\")"
   ],
   "outputs": [
    {
     "output_type": "stream",
     "name": "stdout",
     "text": [
      "the value converges to 2 when n goes to 10000\n"
     ]
    }
   ],
   "metadata": {}
  },
  {
   "cell_type": "code",
   "execution_count": 7,
   "source": [
    "n = 0   # sum = a_0 + a_1 + a_2 + ... + a_n where n = 0, 1, 2, ... max_n\r\n",
    "sum = 0\r\n",
    "max_n = int(input(\"Please choose a max n\"))\r\n",
    "\r\n",
    "while n <= max_n:\r\n",
    "    a_n = (-1)**n/(2*n+1)\r\n",
    "    sum += a_n\r\n",
    "    n += 1\r\n",
    "print(f\"the value converges to {sum:.3f} when n goes to {max_n}\")"
   ],
   "outputs": [
    {
     "output_type": "stream",
     "name": "stdout",
     "text": [
      "the value converges to 0.785 when n goes to 10000\n"
     ]
    }
   ],
   "metadata": {}
  }
 ],
 "metadata": {
  "interpreter": {
   "hash": "2971b745844267d7cb4483e5f20d838014d69d8df52b415790673c9e258dc44a"
  },
  "kernelspec": {
   "name": "python3",
   "display_name": "Python 3.9.6 64-bit"
  },
  "language_info": {
   "name": "python",
   "version": "3.9.6",
   "mimetype": "text/x-python",
   "codemirror_mode": {
    "name": "ipython",
    "version": 3
   },
   "pygments_lexer": "ipython3",
   "nbconvert_exporter": "python",
   "file_extension": ".py"
  },
  "orig_nbformat": 4
 },
 "nbformat": 4,
 "nbformat_minor": 2
}