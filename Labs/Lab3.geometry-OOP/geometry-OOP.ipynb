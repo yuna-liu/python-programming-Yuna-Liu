{
 "cells": [
  {
   "cell_type": "markdown",
   "source": [
    "# Lab 3 - Geometry OOP\r\n",
    "- The purpose of this lab is to use object-oriented programming in Python to\r\n",
    "design programs with good structure.\r\n",
    "- In this laboratory I will start by planning how I want to structure my classes with help\r\n",
    "of UML and then implement my planning in Python.\r\n",
    "\r\n",
    "Date: 2021-09-30\r\n"
   ],
   "metadata": {}
  },
  {
   "cell_type": "markdown",
   "source": [
    "## Questions:\r\n",
    "- translation method, (5,5) is the movement of x and y? Should I return a new instance? Or should I replace the current instance by: self._x =  self.x + Shape.validate_number(x_move)\r\n",
    "- radius or sides should not be zero? Or else it is not a circle/rectangle but a point.\r\n",
    "- how can I use siblings method?\r\n"
   ],
   "metadata": {}
  },
  {
   "cell_type": "code",
   "execution_count": 4,
   "source": [
    "from math import pi\r\n",
    "from math import sqrt\r\n",
    "\r\n",
    "class Shape:\r\n",
    "    def __init__(self, x: float, y:float, type:str) -> None: #x: x coordinate, y: y coordinate\r\n",
    "        self.x = x\r\n",
    "        self.y = y\r\n",
    "        self.type = type\r\n",
    "\r\n",
    "    @property\r\n",
    "    def x(self)-> float:\r\n",
    "        return self._x\r\n",
    "    \r\n",
    "    @property\r\n",
    "    def y(self) -> float:\r\n",
    "        return self._y\r\n",
    "\r\n",
    "    @x.setter\r\n",
    "    def x(self, value: float) -> None:\r\n",
    "        self._x = Shape.validate_number(value)\r\n",
    "\r\n",
    "    @y.setter\r\n",
    "    def y(self, value: float) -> None:\r\n",
    "        self._y = Shape.validate_number(value)\r\n",
    "\r\n",
    "    @staticmethod\r\n",
    "    def validate_number(value):\r\n",
    "        if not isinstance(value, (int,float)):\r\n",
    "            raise TypeError (f\"integer or float needed here, not {type(value)}.\")\r\n",
    "        else:\r\n",
    "            return value\r\n",
    "\r\n",
    "    @staticmethod\r\n",
    "    def validate_non_negative_number(value):\r\n",
    "        if not isinstance(value, (int, float)):\r\n",
    "            raise TypeError (f\"integer or float number needed here, not {type(value)}.\")\r\n",
    "        if value < 0:\r\n",
    "            raise ValueError (f\"non-negative number needed here. {value} is negative.\")\r\n",
    "        else:\r\n",
    "            return value\r\n",
    "\r\n",
    "    @staticmethod\r\n",
    "    def validate_positive_number(value):\r\n",
    "        if not isinstance(value, (int, float)):\r\n",
    "            raise TypeError (f\"integer or float number needed here, not {type(value)}.\")\r\n",
    "        if value <= 0:\r\n",
    "            raise ValueError (f\"positive number needed here. {value} is not ok.\")\r\n",
    "        else:\r\n",
    "            return value\r\n",
    "\r\n",
    "    @staticmethod\r\n",
    "    def euclidean_distance(x1:float, y1:float, x2:float, y2:float) -> float:\r\n",
    "        return sqrt((x2-x1)**2+(y2-y1)**2)\r\n",
    "\r\n",
    "    # to calculate the horizontal or vertical distance of two points\r\n",
    "    # for example: abs(x2-x1) is the horizontal distance between two x-coordinates\r\n",
    "    # abs(y2-y1) is the vertical distance between two y-coordinates\r\n",
    "    @staticmethod      \r\n",
    "    def horizontal_or_vertical_distance(n1:float, n2:float) -> float:\r\n",
    "        return abs(n1-n2)\r\n",
    "\r\n",
    "          \r\n",
    "    # to compare whether two shapes have the same area\r\n",
    "    def __eq__(self, other) -> bool:\r\n",
    "        if self.area() == other.area():\r\n",
    "            return True\r\n",
    "        else:\r\n",
    "            return False\r\n",
    "    \r\n",
    "    # a translation method to move x by x_move, and move y by y_move\r\n",
    "    def translate(self, x_move:float, y_move:float) -> None:\r\n",
    "        self._x =  self.x + Shape.validate_number(x_move)\r\n",
    "        self._y =  self.y + Shape.validate_number(y_move)\r\n",
    "\r\n",
    "    def __repr__(self) -> str:\r\n",
    "        return f\"{self.type} with center point: ({self.x}, {self.y}).\"\r\n",
    "\r\n"
   ],
   "outputs": [],
   "metadata": {}
  },
  {
   "cell_type": "code",
   "execution_count": 5,
   "source": [
    "class Circle(Shape):\r\n",
    "    def __init__(self, x: float, y: float, radius: float, type=\"circle\") -> None:\r\n",
    "        super().__init__(x,y,type)\r\n",
    "        self.radius = radius\r\n",
    "    \r\n",
    "\r\n",
    "    @property\r\n",
    "    def radius(self) -> float:\r\n",
    "        return self._radius\r\n",
    "    \r\n",
    "    @radius.setter\r\n",
    "    def radius(self, value: float) -> None:\r\n",
    "        self._radius = Shape.validate_non_negative_number(value)\r\n",
    "    \r\n",
    "    def area(self) -> float:\r\n",
    "        return float(pi*(self.radius**2))\r\n",
    "    \r\n",
    "    def perimeter(self) -> float:\r\n",
    "        return 2*pi*self.radius\r\n",
    "\r\n",
    "    # return whether a point is in a shape\r\n",
    "    def is_inside(self,x_point:float, y_point:float) -> bool:\r\n",
    "               \r\n",
    "        x_point_verified = Shape.validate_number(x_point)\r\n",
    "        y_point_verified = Shape.validate_number(y_point)\r\n",
    "\r\n",
    "        dis_mid_to_point = Shape.euclidean_distance(self.x, self.y, x_point_verified, y_point_verified)\r\n",
    "        \r\n",
    "        if dis_mid_to_point <= self.radius:\r\n",
    "            return True\r\n",
    "        else:\r\n",
    "            return False\r\n",
    " \r\n",
    "\r\n",
    "    def __repr__(self) -> str:\r\n",
    "        return f\"{self.type} with center point: ({self.x}, {self.y}) with radius: {self.radius}\"       \r\n",
    "\r\n",
    "    \r\n",
    "        "
   ],
   "outputs": [],
   "metadata": {}
  },
  {
   "cell_type": "code",
   "execution_count": 6,
   "source": [
    "class Rectangle(Shape):\r\n",
    "    def __init__(self, x: float, y: float, side1: float, side2: float, type=\"rectangle\") -> None: \r\n",
    "\r\n",
    "        #side1 is the length on the horizontal line of the rectangle.\r\n",
    "        #side2 is the length on the vertical line of the rectangle.\r\n",
    "\r\n",
    "        super().__init__(x,y,type)\r\n",
    "        self.side1 = side1\r\n",
    "        self.side2 = side2\r\n",
    "    \r\n",
    "    @property\r\n",
    "    def side1(self) -> float:\r\n",
    "        return self._side1\r\n",
    "    \r\n",
    "    @side1.setter\r\n",
    "    def side1(self, value: float) -> None:\r\n",
    "        self._side1 = Shape.validate_positive_number(value)\r\n",
    "\r\n",
    "    @property\r\n",
    "    def side2(self) -> float:\r\n",
    "        return self._side2\r\n",
    "    \r\n",
    "    @side2.setter\r\n",
    "    def side2(self, value: float) -> None:\r\n",
    "        self._side2 = Shape.validate_positive_number(value)\r\n",
    "    \r\n",
    "    def area(self) -> float:\r\n",
    "        return self.side1*self.side2\r\n",
    "    \r\n",
    "    def perimeter(self) -> float:\r\n",
    "        return 2*(self.side1+self.side2)\r\n",
    "\r\n",
    "    # return whether a point is in a shape\r\n",
    "    def is_inside(self, x_point:float, y_point:float) -> bool:\r\n",
    "        x_point_verified = Shape.validate_number(x_point)\r\n",
    "        y_point_verified = Shape.validate_number(y_point)\r\n",
    "        if Shape.horizontal_or_vertical_distance(self.x, x_point_verified) <= 0.5*self.side1 and Shape.horizontal_or_vertical_distance(self.y, y_point_verified) <= 0.5*self.side2:\r\n",
    "            return True\r\n",
    "        else:\r\n",
    "            return False\r\n",
    "\r\n",
    "\r\n",
    "    def __repr__(self) -> str:\r\n",
    "        return f\"{self.type} with center point: ({self.x}, {self.y}) with (horizontal side, vertical side): ({self.side1}, {self.side2}).\"  "
   ],
   "outputs": [],
   "metadata": {}
  },
  {
   "cell_type": "code",
   "execution_count": 7,
   "source": [
    "cirkel1 = Circle(x=0,y=0, radius=1) # enhetscirkel\r\n",
    "cirkel2 = Circle(x=1,y=1, radius=1)\r\n",
    "print(cirkel1)\r\n",
    "print(cirkel1.radius)\r\n",
    "print(cirkel2)\r\n",
    "\r\n",
    "print(cirkel1.area())\r\n",
    "print(cirkel2.area())\r\n",
    "\r\n",
    "print(cirkel1.perimeter())\r\n",
    "print(cirkel2.perimeter())\r\n",
    "\r\n",
    "\r\n",
    "print(cirkel1.is_inside(0.99, 0.99)) \r\n",
    "print(cirkel1.is_inside(0.8, 0.7)) \r\n",
    "print(cirkel2.is_inside(0.8, 0.8)) \r\n"
   ],
   "outputs": [
    {
     "output_type": "stream",
     "name": "stdout",
     "text": [
      "circle with center point: (0, 0) with radius: 1\n",
      "1\n",
      "circle with center point: (1, 1) with radius: 1\n",
      "3.141592653589793\n",
      "3.141592653589793\n",
      "6.283185307179586\n",
      "6.283185307179586\n",
      "False\n",
      "False\n",
      "True\n"
     ]
    }
   ],
   "metadata": {}
  },
  {
   "cell_type": "code",
   "execution_count": 8,
   "source": [
    "print(cirkel1==cirkel2) # True\r\n",
    "print(cirkel1.area())\r\n",
    "print(cirkel2.area())"
   ],
   "outputs": [
    {
     "output_type": "stream",
     "name": "stdout",
     "text": [
      "True\n",
      "3.141592653589793\n",
      "3.141592653589793\n"
     ]
    }
   ],
   "metadata": {}
  },
  {
   "cell_type": "code",
   "execution_count": 9,
   "source": [
    "cirkel1.translate(5,5)\r\n",
    "print(cirkel1.x)\r\n",
    "print(cirkel1.y)"
   ],
   "outputs": [
    {
     "output_type": "stream",
     "name": "stdout",
     "text": [
      "5\n",
      "5\n"
     ]
    }
   ],
   "metadata": {}
  },
  {
   "cell_type": "code",
   "execution_count": 10,
   "source": [
    "print(cirkel1.translate(-5,5))"
   ],
   "outputs": [
    {
     "output_type": "stream",
     "name": "stdout",
     "text": [
      "None\n"
     ]
    }
   ],
   "metadata": {}
  },
  {
   "cell_type": "code",
   "execution_count": 11,
   "source": [
    "try:\r\n",
    "    cirkel1.translate(\"TRE\",5)\r\n",
    "except TypeError as err:\r\n",
    "    print(err)\r\n"
   ],
   "outputs": [
    {
     "output_type": "stream",
     "name": "stdout",
     "text": [
      "integer or float needed here, not <class 'str'>.\n"
     ]
    }
   ],
   "metadata": {}
  },
  {
   "cell_type": "code",
   "execution_count": 13,
   "source": [
    "try:\r\n",
    "    rektangel = Rectangle(0,0,0, 1)\r\n",
    "except ValueError as err:\r\n",
    "    print(err)\r\n",
    "    \r\n",
    "rektangel = Rectangle(x=0,y=0,side1=1, side2=1)\r\n",
    "\r\n",
    "print(rektangel.area())\r\n",
    "print(rektangel.perimeter())\r\n",
    "print(cirkel2==rektangel) # False\r\n",
    "print(rektangel.is_inside(0.5, 0.5)) # True\r\n",
    "print(rektangel.is_inside(0.6, 0.5)) # False\r\n"
   ],
   "outputs": [
    {
     "output_type": "stream",
     "name": "stdout",
     "text": [
      "positive number needed here. 0 is not ok.\n",
      "1\n",
      "4\n",
      "False\n",
      "True\n",
      "False\n"
     ]
    }
   ],
   "metadata": {}
  },
  {
   "cell_type": "code",
   "execution_count": 198,
   "source": [
    "rektangel.translate(5,-5)"
   ],
   "outputs": [],
   "metadata": {}
  },
  {
   "cell_type": "code",
   "execution_count": 14,
   "source": [
    "class Cube(Shape):\r\n",
    "    def __init__(self, x: float, y: float, z:float, side: float, type=\"cube\") -> None:\r\n",
    "        super().__init__(x,y,type)\r\n",
    "        self.z = z\r\n",
    "        self.side = side\r\n",
    "\r\n",
    "    @property\r\n",
    "    def z(self) -> float:\r\n",
    "        return self._z\r\n",
    "    \r\n",
    "    @z.setter\r\n",
    "    def z(self, value: float) -> None:\r\n",
    "        self._z = Shape.validate_number(value)\r\n",
    "    \r\n",
    "    @property\r\n",
    "    def side(self) -> float:\r\n",
    "        return self._side\r\n",
    "    \r\n",
    "    @side.setter\r\n",
    "    def side(self, value: float) -> None:\r\n",
    "        self._side = Shape.validate_positive_number(value)\r\n",
    "    \r\n",
    "    def area(self) -> float:\r\n",
    "        return 6*self.side**2\r\n",
    "    \r\n",
    "    def perimeter(self) -> float:\r\n",
    "        return 12*self.side\r\n",
    "\r\n",
    "    # return whether a point is in a shape\r\n",
    "    def is_inside(self,x_point:float, y_point:float, z_point:float) -> bool:\r\n",
    "        \r\n",
    "        x_point_verified = Shape.validate_number(x_point)\r\n",
    "        y_point_verified = Shape.validate_number(y_point)\r\n",
    "        z_point_verified = Shape.validate_number(z_point)\r\n",
    "\r\n",
    "        if Shape.horizontal_or_vertical_distance(self.x, x_point_verified) <= 0.5*self.side and Shape.horizontal_or_vertical_distance(self.y, y_point_verified) <= 0.5*self.side and Shape.horizontal_or_vertical_distance(self.z, z_point_verified) <= 0.5*self.side:\r\n",
    "            return True\r\n",
    "        else:\r\n",
    "            return False\r\n",
    "\r\n",
    "    def translate(self, x_move:float, y_move:float,z_move:float) -> None:\r\n",
    "        super().translate(x_move, y_move)\r\n",
    "        self._z = self.z + Shape.validate_number(z_move) \r\n",
    " \r\n",
    "    def __repr__(self) -> str:\r\n",
    "        return f\"{self.type} with center point: ({self.x}, {self.y}, {self.z}) with side length: {self.side}\"       "
   ],
   "outputs": [],
   "metadata": {}
  },
  {
   "cell_type": "code",
   "execution_count": 223,
   "source": [
    "cube1 = Cube(0, 0, 0, 1)\r\n",
    "print(cube1)\r\n",
    "print(cube1.is_inside(0.5, 0.5, 0.5))\r\n",
    "print(cube1.is_inside(0.6, 0.5, 0.5))\r\n"
   ],
   "outputs": [
    {
     "output_type": "stream",
     "name": "stdout",
     "text": [
      "cube with center point: (0, 0, 0) with side length: 1\n",
      "True\n",
      "False\n"
     ]
    }
   ],
   "metadata": {}
  },
  {
   "cell_type": "code",
   "execution_count": 228,
   "source": [
    "cube1.translate(1,1,1)\r\n"
   ],
   "outputs": [],
   "metadata": {}
  },
  {
   "cell_type": "code",
   "execution_count": 229,
   "source": [
    "print(cube1.x)\r\n",
    "print(cube1.y)\r\n",
    "print(cube1.z)"
   ],
   "outputs": [
    {
     "output_type": "stream",
     "name": "stdout",
     "text": [
      "3\n",
      "3\n",
      "3\n"
     ]
    }
   ],
   "metadata": {}
  },
  {
   "cell_type": "code",
   "execution_count": null,
   "source": [
    "class Sphere(Shape):\r\n",
    "    def __init__(self, x: float, y: float, z:float, radius: float, type=\"sphere\") -> None:\r\n",
    "        super().__init__(x,y,type)\r\n",
    "        self.z = z\r\n",
    "        self.radius = radius\r\n",
    "\r\n",
    "    @property\r\n",
    "    def z(self) -> float:\r\n",
    "        return self._z\r\n",
    "    \r\n",
    "    @z.setter\r\n",
    "    def z(self, value: float) -> None:\r\n",
    "        self._z = Shape.validate_number(value)\r\n",
    "    \r\n",
    "    @property\r\n",
    "    def radius(self) -> float:\r\n",
    "        return self._radius\r\n",
    "    \r\n",
    "    @radius.setter\r\n",
    "    def radius(self, value: float) -> None:\r\n",
    "        self._radius = Shape.validate_positive_number(value)\r\n",
    "    \r\n",
    "    def area(self) -> float:\r\n",
    "        return 4*pi*self.radius**2\r\n",
    "    \r\n",
    "    def perimeter(self) -> float:\r\n",
    "        return 2*pi*self.radius\r\n",
    "\r\n",
    "    # return whether a point is in a shape\r\n",
    "    def is_inside(self,x_point:float, y_point:float, z_point:float) -> bool:\r\n",
    "        \r\n",
    "        x_point_verified = Shape.validate_number(x_point)\r\n",
    "        y_point_verified = Shape.validate_number(y_point)\r\n",
    "        z_point_verified = Shape.validate_number(z_point)\r\n",
    "\r\n",
    "        if Shape.horizontal_or_vertical_distance(self.x, x_point_verified) <= 0.5*self.side and Shape.horizontal_or_vertical_distance(self.y, y_point_verified) <= 0.5*self.side and Shape.horizontal_or_vertical_distance(self.z, z_point_verified) <= 0.5*self.side:\r\n",
    "            return True\r\n",
    "        else:\r\n",
    "            return False\r\n",
    "\r\n",
    "    def translate(self, x_move:float, y_move:float,z_move:float) -> None:\r\n",
    "        super().translate(x_move, y_move)\r\n",
    "        self._z = self.z + Shape.validate_number(z_move) \r\n",
    " \r\n",
    "    def __repr__(self) -> str:\r\n",
    "        return f\"{self.type} with center point: ({self.x}, {self.y}, {self.z}) with radius: {self.radius}\"  "
   ],
   "outputs": [],
   "metadata": {}
  }
 ],
 "metadata": {
  "orig_nbformat": 4,
  "language_info": {
   "name": "python",
   "version": "3.9.6",
   "mimetype": "text/x-python",
   "codemirror_mode": {
    "name": "ipython",
    "version": 3
   },
   "pygments_lexer": "ipython3",
   "nbconvert_exporter": "python",
   "file_extension": ".py"
  },
  "kernelspec": {
   "name": "python3",
   "display_name": "Python 3.9.6 64-bit ('python-programming-Yuna-Liu-WA6ACBfR': pipenv)"
  },
  "interpreter": {
   "hash": "8111105f47d12ec1fb8af24cde7e4ba5898ee01916168ee13b7453f45f559afc"
  }
 },
 "nbformat": 4,
 "nbformat_minor": 2
}