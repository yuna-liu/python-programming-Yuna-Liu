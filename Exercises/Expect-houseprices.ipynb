{
 "cells": [
  {
   "cell_type": "markdown",
   "source": [
    "# Uppgift - Arbetsflöde för AI-projekt\r\n",
    "Ett projekt där maskininlärning eller djupinlärning är inblandat kräver oftast ett visst\r\n",
    "antal steg i arbetsflödet. Syftet med den här uppgiften är att få en teoretisk överblick\r\n",
    "över de vanliga stegen i arbetsflödet av en maskininlärningsapplikation.\r\n",
    "I den här uppgiften ska du teoretiskt beskriva dessa steg för ett scenario med maski\u0002ninlärningsalgoritmen linjär regression. Scenariot är att förutspå huspriser baserat på\r\n",
    "olika ”features” såsom antalet rum, geografiska läget, mm."
   ],
   "metadata": {}
  },
  {
   "cell_type": "markdown",
   "source": [
    "---\r\n",
    "## Krav\r\n",
    "- skriva en rapport på 300-800 ord med markdown och pusha till GitHub.\r\n",
    "- källhänvisa till samtliga källor du använt.\r\n",
    "- beskriv hur man kan göra för att samla in datan, vilka format, vart kan man spara\r\n",
    "datan?\r\n",
    "- beskriv hur man kan visualisera datan?\r\n",
    "- beskriv hur man kan göra för att bearbeta datan till rätt format?\r\n",
    "- beskriv hur linjär regression fungerar.\r\n",
    "- beskriv hur man kan göra för att driftsätta modellen?\r\n",
    "- vilka teknologier kan man använda i de olika stegen i maskininlärningsprocessen"
   ],
   "metadata": {}
  },
  {
   "cell_type": "markdown",
   "source": [
    "---\r\n",
    "# Arbetsflöde för AI-projekt om att förutspå huspriser"
   ],
   "metadata": {}
  },
  {
   "cell_type": "markdown",
   "source": [
    "Ett arbetsflöde för ett projekt med maskininlärning eller djupinlärning ingår flera steg. Ayush Pant(2019)1 berättar att arbetsflödet för maskininlärning i fem steg: samla data, förbehandling av data, undersöker modellen som är bäst för typen av data, träna och testa modellen och I sist Utvärdering. \r\n",
    "\r\n",
    "<img align=\"left\" src=\"../python-programming-Yuna-Liu/assets/workflow.png\" width=\"600\"/>"
   ],
   "metadata": {}
  },
  {
   "cell_type": "markdown",
   "source": [
    " För att svara på denna fråga, skrev Matthew Mayo, KDnuggets(2018)2 en summafattning om Gérons checklista3. Arbetsflödet för både nybörjare och utövare är: Rama in problemet, Skaffa data, Utforska data, Förbered data, Modellera data, Finjustera modellerna, Presentera lösningen och senare Starta ML –systemet."
   ],
   "metadata": {}
  },
  {
   "cell_type": "markdown",
   "source": [
    "I den här rapporten ska jag använda båda arbetsflöde undan. Därför jag ska beskriva mitt arbetsflöde om att utforska huspriser i åta steg undan: \r\n",
    "\r\n",
    " \r\n",
    "\r\n",
    "## Formulera ekonomiska frågor  \r\n",
    "\r\n",
    " I den här uppgiften ska jag förutspå huspriser baserat på data såsom antalet rum, antalet sovrum, antalet wc, yta, vilken våning,  geografiska läget. Målet är att analysera och förutsäga vart fastighetspriserna går. \r\n",
    "\r\n",
    " \r\n",
    "\r\n",
    "## Samla I data \r\n",
    "\r\n",
    "Jag fick min dataset om huspriser, i Sydney och Melbourne, från Kaggle4.  \r\n",
    "\r\n",
    "Kaggle är en repo som används mest för att öva algoritmer för maskininlärning och göra maskininlärningsmodeller. \r\n",
    "\r\n",
    "Datan är I form av .csv. Man kan spara den på dator eller på server hos iths.se. Filen I .csv kan ytterligare öppnas I olika verktygen, såsom EXCEL, STATA, SPSS, R, och Eviews. \r\n",
    "\r\n",
    " \r\n",
    "\r\n",
    "## Visualisera datan \r\n",
    "\r\n",
    "På kaggle får man se visualisering av statistik av datan. Eller man kan använda olika statiska verktygen för att visualisera data. I python får man också med bibliotek för att visualisera data, t.ex. Matplotlib. \r\n",
    "\r\n",
    " \r\n",
    "\r\n",
    "## Förbehandling av data \r\n",
    "\r\n",
    "Mest rådata som vi samlade från internet är röriga. Jag ska I den steg kolla och hantera datakvalitetsproblem så att jag bearbeta datan till rätt format. Det här steget betyder datarengöring av följande problem: \r\n",
    "\r\n",
    "1. Missing data: Data ibland saknas för en viss variabler, på grund av antigen rådata inte samlas kontinuerligt eller tekniska problem i applikationen, t.ex. IOT -system. \r\n",
    "\r\n",
    "2. Outliers: Outliners ibland uppstå på grund av antigen mänskliga fel (manuell insamling av data) eller något tekniskt problem med enheten när data samlas. \r\n",
    "\r\n",
    "3. Inkonsekventa data: Den felen uppstår på grund av mänskliga fel eller dubblering av data.  \r\n",
    "\r\n",
    "Hur kan förbehandla dessa dataproblem? Det är inte enkelt att förklara med generellt situation, men det finns några av de grundläggande förbehandlingsteknikerna som kan användas. \r\n",
    "\r\n",
    "1. Konvertering av data: Konvertera kategoriska och ordinala data till numeriska data. \r\n",
    "\r\n",
    "2. Ignorera de variablerna som saknade värdena mer än gränsen, t.ex 40%: När vi saknar några variabler för en stor mängden, är det bättre vi ta bort de variablerna i analyseringar.  \r\n",
    "\r\n",
    "3. Fyllning av de saknade värdena: När variablerna inte sakna mycket värdena, stöter vi saknade värdena genom att fylla i saknade data manuellt, oftast används medelvärdet, medianvärdet eller högsta frekvensvärdet, eller komplimentera med befintliga data från en annan källor. \r\n",
    "\r\n",
    "4. Detektering av överträdare eller outliers: Kolla statisk av variabler. Finns det några feldata som är orimliga? Ett exempel är att en outlier med människovikt = 800 kg. Det kan händas på grund av fel insats av en extra 0.  \r\n",
    "\r\n",
    "## Modellera data med linjär regression. \r\n",
    "\r\n",
    "För att utforska förhållandet mellan huspriser och andra “features” av hus, linjär regression med multipla variabler ska användas.  \r\n",
    "\r\n",
    "Huspriser = a+b*antalet_rum+c*antalet_sovrum+d*antalet_wc+c*yta+d*vilken_våning+e*geografiska_läget+f*renoverat_år+g*stad+h*condition+i*land \r\n",
    "\r\n",
    "## Driftsätta modellen \r\n",
    "\r\n",
    "Jag ska använda statiska verktygen för att modellera data med undan model, och senare bestämma vara coefficients. Genom detta får vi en förutsägningsmodell för huspriser. \r\n",
    "\r\n",
    "## Finjustera modellerna \r\n",
    "\r\n",
    "För att bättre träna den linjär regression modellen, ska jag dela min rådata till \"Träningsdata\", \"Valideringsdata\" och \"Testdata\". Från träningsdata får jag värdena av parametrarna. Ställa parametrarna till Valideringsdata förmodligen finjustera min modell. Senare ska jag testar modellen med \"Testdata\". Om jag fattar de data är inte tillgängligt att dela till tre grupper, ska jag bara dela dem till två grupper. Jag menar att skippa \"Valideringsdata\". \r\n",
    "\r\n",
    " \r\n",
    "\r\n",
    "## Presentera lösningen \r\n",
    "\r\n",
    " Presentera modellen och predikteringsförmågan med visualiseringsteknik. \r\n",
    "\r\n",
    " \r\n",
    "\r\n",
    "## Starta ML -systemet \r\n",
    "\r\n",
    "Pusha maskininlärningssystemet till kaggle eller github    som är klart för användningar. \r\n",
    "\r\n",
    " \r\n",
    "\r\n",
    "## teknologier som man får använda i de olika stegen i maskinlärningsprocessen \r\n",
    "\r\n",
    "Det finns många statiska verktygen och bibliotek till python som man får använda i de olika stegen i maskinlärningsprocessen. Som skrivit undan, finns statiska verktygen såsom Excel, Stata, Spss, R och Eviews i stegen Visualisera datan, Förbehandling av data, Modellera data med linjär regression och Driftsätta modellen. Det finns olika bibliotek i python. Vanliga bibliotek som man får importera är Numpy, Pandas, Sci-kit Learn och Matplotlib.5 "
   ],
   "metadata": {}
  },
  {
   "cell_type": "markdown",
   "source": [
    "## Referens\r\n",
    "- [Machine learning workflow][ML_workflow]\r\n",
    "- [Steps in machine learning workflow][steps_ML]\r\n",
    "\r\n",
    "[ML_workflow]: https://towardsdatascience.com/workflow-of-a-machine-learning-project-ec1dba419b94\r\n",
    "\r\n",
    "[steps_ML]: https://www.kdnuggets.com/2018/12/machine-learning-project-checklist.html\r\n"
   ],
   "metadata": {}
  }
 ],
 "metadata": {
  "orig_nbformat": 4,
  "language_info": {
   "name": "python"
  }
 },
 "nbformat": 4,
 "nbformat_minor": 2
}