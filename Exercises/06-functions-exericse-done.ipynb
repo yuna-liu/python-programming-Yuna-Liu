{
 "cells": [
  {
   "cell_type": "markdown",
   "source": [
    "# The solution to exercise 06: functions\r\n",
    "\r\n",
    "Date: 2021-09-07\r\n",
    "\r\n",
    "The questions can be found [here][exercise_link]:\r\n",
    "\r\n",
    "[exercise_link]: https://github.com/kokchun/Programmering-med-Python-21/blob/main/Exercises/06-functions-exericse.ipynb"
   ],
   "metadata": {}
  },
  {
   "cell_type": "markdown",
   "source": [
    "## 1. Area (*)\r\n",
    "\r\n",
    "Create a function that takes the base and height of a triangle as input parameters and returns the area of the triangle."
   ],
   "metadata": {}
  },
  {
   "cell_type": "code",
   "execution_count": 2,
   "source": [
    "def area(base, height):\r\n",
    "    return (base*height/2)\r\n",
    "print(f\"The area of the triangle is: {area(3,4)}\")"
   ],
   "outputs": [
    {
     "output_type": "stream",
     "name": "stdout",
     "text": [
      "The area of the triangle is: 6.0\n"
     ]
    }
   ],
   "metadata": {}
  },
  {
   "cell_type": "markdown",
   "source": [
    "---\r\n",
    "\r\n",
    "## 2. Euclidean distance (*)\r\n",
    "\r\n",
    "The formula for Euclidean distance in 2D between $P: (p_1, p_2)$ and $Q: (q_1, q_2)$  is: \r\n",
    "\r\n",
    "$d(P,Q) = \\sqrt{(p_1-q_1)^2 + (p_2-q_2)^2}$\r\n",
    "\r\n",
    "&nbsp; a) &nbsp; Create a function that takes two points as input parameters and return the Euclidean between them. (*)\r\n",
    "\r\n",
    "&nbsp; b) &nbsp; Let the user input two points. Call the function using the users input points. (*)\r\n",
    "\r\n",
    "&nbsp; c) &nbsp; Use your function to calculate distances between the origin (0, 0) and each of these points: (10, 3), (-1, -9), (10, -10), (4, -2), (9, -10). (*)\r\n",
    "\r\n",
    "<details>\r\n",
    "\r\n",
    "<summary>Hint</summary>\r\n",
    "\r\n",
    "Use a **for** statement\r\n",
    "\r\n",
    "</details>\r\n",
    "<br>\r\n",
    "<details>\r\n",
    "\r\n",
    "<summary>Answer</summary>\r\n",
    "\r\n",
    "c)\r\n",
    "\r\n",
    "```\r\n",
    "[10.4, 9.1, 14.1, 4.5, 13.5]\r\n",
    "```\r\n",
    "\r\n",
    "</details>\r\n"
   ],
   "metadata": {}
  },
  {
   "cell_type": "code",
   "execution_count": 9,
   "source": [
    "# a\r\n",
    "def euclidean_distance(p1,p2,q1,q2):\r\n",
    "    return (((p1-q1)**2+(p2-q2)**2)**0.5)\r\n",
    "\r\n",
    "# b\r\n",
    "p1 = float(input(\"please enter the x of the first point\"))\r\n",
    "p2 = float(input(\"please enter the y of the first point\"))\r\n",
    "q1 = float(input(\"please enter the x of the second point\"))\r\n",
    "q2 = float(input(\"please enter the y of the second point\"))\r\n",
    "print(f\"The eucliden distance between the points are: {euclidean_distance(p1,p2,q1,q2):.2f}\")\r\n",
    "\r\n",
    "# c\r\n",
    "points = [(10, 3), (-1, -9), (10, -10), (4, -2), (9, -10)]\r\n",
    "for point in points:\r\n",
    "    print(f\"The eucliden distance between the origin (0, 0) and each of these points is: {euclidean_distance(0,0,point[0],point[1]):.2f}\")\r\n"
   ],
   "outputs": [
    {
     "output_type": "stream",
     "name": "stdout",
     "text": [
      "The eucliden distance between the points are: 2.83\n",
      "The eucliden distance between the origin (0, 0) and each of these points is: 10.44\n",
      "The eucliden distance between the origin (0, 0) and each of these points is: 9.06\n",
      "The eucliden distance between the origin (0, 0) and each of these points is: 14.14\n",
      "The eucliden distance between the origin (0, 0) and each of these points is: 4.47\n",
      "The eucliden distance between the origin (0, 0) and each of these points is: 13.45\n"
     ]
    }
   ],
   "metadata": {}
  },
  {
   "cell_type": "markdown",
   "source": [
    "---\r\n",
    "## 3. Mathematical functions (*)\r\n",
    "\r\n",
    "Make the following functions with **def** or **lambda** and plot their graphs in the same figure window, with $x\\in [-10,10]$ :\r\n",
    "\r\n",
    "&nbsp; a) &nbsp;  $f(x) = x^2 -3$ (*)\r\n",
    "\r\n",
    "&nbsp; b) &nbsp; $g(x) = 4x-7$ (*)\r\n",
    "\r\n",
    "What could the relation between $f(x)$ and $g(x)$ be?\r\n",
    "\r\n",
    "<details>\r\n",
    "\r\n",
    "<summary>Hint</summary>\r\n",
    "Use numpy's linspace function:\r\n",
    "\r\n",
    "```python\r\n",
    "import numpy as np\r\n",
    "x = np.linspace(-10,10)\r\n",
    "```\r\n",
    "\r\n",
    "[Derivative video][derivative_video] (Swedish)\r\n",
    "\r\n",
    "[Derivative of polynomials][derivative_polynomial] (Swedish)\r\n",
    "\r\n",
    "[derivative_video]: https://www.youtube.com/watch?v=hzXJxOXkU_M\r\n",
    "[derivative_polynomial]: https://www.youtube.com/watch?v=dFnro1sBn1Y\r\n",
    "\r\n",
    "</details>\r\n",
    "<br>\r\n",
    "<details>\r\n",
    "\r\n",
    "<summary>Answer</summary>\r\n",
    "\r\n",
    "<img align=\"left\" src=\"../assets/functions_graph.png\" width=\"200\"/>\r\n",
    "\r\n",
    "</details>\r\n"
   ],
   "metadata": {}
  },
  {
   "cell_type": "code",
   "execution_count": 13,
   "source": [
    "import matplotlib.pyplot as plt \r\n",
    "\r\n",
    "def draw_f(x, title=\"\"):\r\n",
    "    y = [x_**2-3 for x_ in x]\r\n",
    "\r\n",
    "    plt.plot(x,y)\r\n",
    "    plt.xlabel(\"x\")\r\n",
    "    plt.ylabel(\"y\")\r\n",
    "    plt.title(title)\r\n",
    "\r\n",
    "\r\n",
    "def draw_g(x, title=\"\"):\r\n",
    "    y = [4*x_-7 for x_ in x]\r\n",
    "\r\n",
    "    plt.plot(x,y)\r\n",
    "    plt.xlabel(\"x\")\r\n",
    "    plt.ylabel(\"y\")\r\n",
    "    plt.title(title)\r\n",
    "\r\n",
    "x = list(range(-10,10))\r\n",
    "\r\n",
    "draw_f(x, title=\"Lines f(x)\")\r\n",
    "draw_g(x, title=\"Lines g(x)\")\r\n",
    "\r\n",
    "## define a drawing function, where x is a list of range(), and y is a list of numbers according to the given function.\r\n",
    "## plt.plot(x, y); x is list(range(-10,10)); y = [f(x_) for x_ in x]"
   ],
   "outputs": [
    {
     "output_type": "display_data",
     "data": {
      "image/png": "[encoded data removed]",
      "text/plain": [
       "<Figure size 432x288 with 1 Axes>"
      ]
     },
     "metadata": {
      "needs_background": "light"
     }
    }
   ],
   "metadata": {}
  },
  {
   "cell_type": "markdown",
   "source": [
    "---\r\n",
    "## 4. Name cleaner (*)\r\n",
    "\r\n",
    "Create a function that takes a name as an input and:\r\n",
    "\r\n",
    "- removes all leading and trailing blank spaces\r\n",
    "- make capitalize the first character of each name, and make the rest lowercase\r\n",
    "\r\n",
    "Use your function on this list of strings: \r\n",
    "\r\n",
    "```\r\n",
    "[\"  MaRcUs \", \" iDA aNderSon\", \"OLOF Olofsson            \"  ]\r\n",
    "```\r\n",
    "\r\n",
    "\r\n",
    "<details>\r\n",
    "\r\n",
    "<summary>Hint</summary>\r\n",
    "Use \r\n",
    "\r\n",
    "- [title() method][str_title]\r\n",
    "- [strip() method][str_strip]\r\n",
    "- [join() method][str_join]\r\n",
    "- [split() method][str_split]\r\n",
    "\r\n",
    "[str_title]: https://www.w3schools.com/python/ref_string_title.asp\r\n",
    "[str_strip]: https://www.w3schools.com/python/ref_string_strip.asp\r\n",
    "[str_join]: https://www.w3schools.com/python/ref_string_join.asp\r\n",
    "[str_split]: https://www.w3schools.com/python/ref_string_split.asp \r\n",
    "\r\n",
    "</details>\r\n",
    "<br>\r\n",
    "<details>\r\n",
    "\r\n",
    "<summary>Answer</summary>\r\n",
    "\r\n",
    "```\r\n",
    "Marcus\r\n",
    "Ida Anderson\r\n",
    "Olof Olofsson\r\n",
    "```\r\n",
    "\r\n",
    "</details>\r\n"
   ],
   "metadata": {}
  },
  {
   "cell_type": "code",
   "execution_count": 23,
   "source": [
    "def name_cleaner(name):\r\n",
    "    name = name.strip().title()\r\n",
    "    print(name)\r\n",
    "\r\n",
    "names = [\"  MaRcUs \", \" iDA aNderSon\", \"OLOF Olofsson            \"  ]\r\n",
    "\r\n",
    "for name in names:\r\n",
    "    name_cleaner(name)"
   ],
   "outputs": [
    {
     "output_type": "stream",
     "name": "stdout",
     "text": [
      "Marcus\n",
      "Ida Anderson\n",
      "Olof Olofsson\n"
     ]
    }
   ],
   "metadata": {}
  },
  {
   "cell_type": "code",
   "execution_count": 4,
   "source": [
    "def name_cleaner(names):\r\n",
    "    for name in names:\r\n",
    "        cleaned_name = name.strip().title()\r\n",
    "        print(f\"'{cleaned_name}'\", end=\" \")\r\n",
    "\r\n",
    "names = [\"  MaRcUs \", \" iDA aNderSon\", \"OLOF Olofsson            \"  ]\r\n",
    "name_cleaner(names)\r\n"
   ],
   "outputs": [
    {
     "output_type": "stream",
     "name": "stdout",
     "text": [
      "'Marcus' 'Ida Anderson' 'Olof Olofsson' "
     ]
    }
   ],
   "metadata": {}
  },
  {
   "cell_type": "code",
   "execution_count": 43,
   "source": [
    "def name_cleaner(names):\r\n",
    "        cleaned_name = [name.strip().title() for name in names] # construct a list to save all cleaned_names in each loop.\r\n",
    "        return cleaned_name   #print(cleaned_name) works the same\r\n",
    "        \r\n",
    "\r\n",
    "names = [\"  MaRcUs \", \" iDA aNderSon\", \"OLOF Olofsson            \"  ]\r\n",
    "name_cleaner(names)"
   ],
   "outputs": [
    {
     "output_type": "execute_result",
     "data": {
      "text/plain": [
       "['Marcus', 'Ida Anderson', 'Olof Olofsson']"
      ]
     },
     "metadata": {},
     "execution_count": 43
    }
   ],
   "metadata": {}
  },
  {
   "cell_type": "markdown",
   "source": [
    "---\r\n",
    "## 5. Change (**)\r\n",
    "\r\n",
    "Create a function that takes a value as input parameter and print out the banknotes and coins in Swedish currency representing this value. For example 5289 would give the following printout: \r\n",
    "\r\n",
    "- 5st 1000-lapp\r\n",
    "- 1st 200-lapp\r\n",
    "- 1st 50-lapp\r\n",
    "- 1st 20-lapp\r\n",
    "- 1st 10-krona\r\n",
    "- 1st 5-krona\r\n",
    "- 2st 2-krona\r\n",
    "\r\n",
    "Now let the user input a value, and use the function to calculate the change."
   ],
   "metadata": {}
  },
  {
   "cell_type": "code",
   "execution_count": 20,
   "source": [
    "def change_money(value):\r\n",
    "    numbers = [1000, 500, 200, 100, 50, 20, 10, 5, 2, 1]\r\n",
    "    lapps_list = []\r\n",
    "    \r\n",
    "    for number in numbers:\r\n",
    "        lapps = value //number  #The floor division operator (//): it rounds down to the nearest integer\r\n",
    "        value -= lapps*number #The amount that remains after removing the previous value\r\n",
    "        lapps_list.append(lapps)\r\n",
    "    return (f\"\"\"The value can change to:\r\n",
    "    -{lapps_list[0]}st 1000-lapp \r\n",
    "    -{lapps_list[1]}st 500-lapp \r\n",
    "    -{lapps_list[2]}st 200-lapp \r\n",
    "    -{lapps_list[3]}st 100-lapp \r\n",
    "    -{lapps_list[4]}st 50-lapp \r\n",
    "    -{lapps_list[5]}st 20-lapp \r\n",
    "    -{lapps_list[6]}st 10-kr \r\n",
    "    -{lapps_list[7]}st 5-kr \r\n",
    "    -{lapps_list[8]}st 2-kr \r\n",
    "    -{lapps_list[9]}st 1-kr \r\n",
    "    \"\"\")\r\n",
    "\r\n",
    "print(change_money(int(input(\"Please input the value of your money that you want to change.\"))))"
   ],
   "outputs": [
    {
     "output_type": "stream",
     "name": "stdout",
     "text": [
      "The value can change to:\n",
      "    -5st 1000-lapp \n",
      "    -0st 500-lapp \n",
      "    -1st 200-lapp \n",
      "    -0st 100-lapp \n",
      "    -1st 50-lapp \n",
      "    -1st 20-lapp \n",
      "    -1st 10-kr \n",
      "    -1st 5-kr \n",
      "    -2st 2-kr \n",
      "    -0st 1-kr \n",
      "    \n"
     ]
    }
   ],
   "metadata": {}
  }
 ],
 "metadata": {
  "orig_nbformat": 4,
  "language_info": {
   "name": "python",
   "version": "3.9.6",
   "mimetype": "text/x-python",
   "codemirror_mode": {
    "name": "ipython",
    "version": 3
   },
   "pygments_lexer": "ipython3",
   "nbconvert_exporter": "python",
   "file_extension": ".py"
  },
  "kernelspec": {
   "name": "python3",
   "display_name": "Python 3.9.6 64-bit ('python-programming-Yuna-Liu-WA6ACBfR': pipenv)"
  },
  "interpreter": {
   "hash": "8111105f47d12ec1fb8af24cde7e4ba5898ee01916168ee13b7453f45f559afc"
  }
 },
 "nbformat": 4,
 "nbformat_minor": 2
}