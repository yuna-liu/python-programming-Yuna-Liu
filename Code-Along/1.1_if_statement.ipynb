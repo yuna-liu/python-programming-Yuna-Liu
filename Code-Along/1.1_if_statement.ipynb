{
 "cells": [
  {
   "cell_type": "code",
   "execution_count": 14,
   "source": [
    "\"\"\"\r\n",
    "IG: 0-10\r\n",
    "G: 11-20\r\n",
    "VG: 21-30\r\n",
    "MVG: > 30\r\n",
    "\"\"\"\r\n",
    "import random as rnd\r\n",
    "\r\n",
    "#rnd.seed(42) # fixed number 7\r\n",
    "points = rnd.randint(0,35) # slumpat heltal mellan 0 och 35\r\n",
    "print(points)\r\n",
    "\r\n",
    "if points > 30:\r\n",
    "    print(\"MVG\")\r\n",
    "elif points > 20:\r\n",
    "    print(\"VG\")\r\n",
    "elif points > 10:\r\n",
    "    print(\"G\")\r\n",
    "else:\r\n",
    "    print(\"IG\")"
   ],
   "outputs": [
    {
     "output_type": "stream",
     "name": "stdout",
     "text": [
      "15\n",
      "G\n"
     ]
    }
   ],
   "metadata": {}
  },
  {
   "cell_type": "code",
   "execution_count": 38,
   "source": [
    "number = 10 \r\n",
    "if number % 2 == 0 and number % 5 == 0: \r\n",
    "    print(\"Jämnt och delbart med 5\")"
   ],
   "outputs": [
    {
     "output_type": "stream",
     "name": "stdout",
     "text": [
      "Jämnt och delbart med 5\n"
     ]
    }
   ],
   "metadata": {}
  },
  {
   "cell_type": "code",
   "execution_count": 15,
   "source": [
    "# nästlade if-satser\r\n",
    "number = 10\r\n",
    "if number % 2 == 0:\r\n",
    "    if number % 5 == 0:\r\n",
    "        print(\"Jämnt och delbart med 5\")\r\n"
   ],
   "outputs": [
    {
     "output_type": "stream",
     "name": "stdout",
     "text": [
      "Jämnt och delbart med 5\n"
     ]
    }
   ],
   "metadata": {}
  }
 ],
 "metadata": {
  "orig_nbformat": 4,
  "language_info": {
   "name": "python",
   "version": "3.9.6",
   "mimetype": "text/x-python",
   "codemirror_mode": {
    "name": "ipython",
    "version": 3
   },
   "pygments_lexer": "ipython3",
   "nbconvert_exporter": "python",
   "file_extension": ".py"
  },
  "kernelspec": {
   "name": "python3",
   "display_name": "Python 3.9.6 64-bit"
  },
  "interpreter": {
   "hash": "2971b745844267d7cb4483e5f20d838014d69d8df52b415790673c9e258dc44a"
  }
 },
 "nbformat": 4,
 "nbformat_minor": 2
}