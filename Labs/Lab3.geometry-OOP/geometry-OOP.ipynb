{
 "cells": [
  {
   "cell_type": "markdown",
   "source": [
    "# Labb 3 - Geometri OOP\r\n",
    "- Syftet med den här laborationen är att använda objektorienterad programmering i Python för att\r\n",
    "designa program med god struktur.\r\n",
    "- I den här laborationen ska jag börja med att planera hur jag vill strukturera mina klasser med hjälp\r\n",
    "av UML och därefter implementera min planering i Python.\r\n",
    "\r\n",
    "Date: 2021-09-30\r\n"
   ],
   "metadata": {}
  },
  {
   "cell_type": "code",
   "execution_count": 1,
   "source": [
    "class Shape:\r\n",
    "    def __init__(self, x: float, y:float) -> None: #x: x coordinate, y: y coordinate\r\n",
    "        self.x = x\r\n",
    "        self.y = y\r\n",
    "\r\n",
    "    @property\r\n",
    "    def x(self)-> float:\r\n",
    "        return self._x\r\n",
    "    \r\n",
    "    @property\r\n",
    "    def y(self) -> float:\r\n",
    "        return self._y\r\n",
    "\r\n",
    "    @x.setter\r\n",
    "    def x(self, value: float) -> None:\r\n",
    "        self._x = Shape.vadidate_number(value)\r\n",
    "\r\n",
    "    @y.setter\r\n",
    "    def y(self, value: float) -> None:\r\n",
    "        self._y = Shape.vadidate_number(value)\r\n",
    "\r\n",
    "    @staticmethod\r\n",
    "    def validate_number(value):\r\n",
    "        if not isinstance(value, (int,float)):\r\n",
    "            raise TypeError (f\"integer or float needed here, not {type(value)}.\")\r\n",
    "        else:\r\n",
    "            return value\r\n",
    "\r\n",
    "    @staticmethod\r\n",
    "    def validate_non_negative_number(value):\r\n",
    "        if not isinstance(value, (int, float)):\r\n",
    "            raise TypeError (f\"integer or float number needed here, not {type(value)}.\")\r\n",
    "        if value < 0:\r\n",
    "            raise ValueError (f\"non-negative number neededhere. {value} is negative.\")\r\n",
    "\r\n",
    "    def __eq__(self, other) -> bool:\r\n",
    "        if self.area == self.area:\r\n",
    "            return True\r\n",
    "        else:\r\n",
    "            return False\r\n",
    "\r\n",
    "    def area(self) -> float:\r\n",
    "        pass\r\n",
    "\r\n",
    "    def __repr__(self) -> str:\r\n",
    "        return f\"Shape with center point: ({x},{y}).\"\r\n",
    "\r\n"
   ],
   "outputs": [],
   "metadata": {}
  },
  {
   "cell_type": "code",
   "execution_count": null,
   "source": [
    "class Circle(Shape):\r\n",
    "    def __init__(self, x: float, y: float, radius: float) -> None:\r\n",
    "        super().__initl__(x,y)\r\n",
    "        self.radius = radius\r\n",
    "\r\n",
    "    @"
   ],
   "outputs": [],
   "metadata": {}
  }
 ],
 "metadata": {
  "orig_nbformat": 4,
  "language_info": {
   "name": "python",
   "version": "3.9.6",
   "mimetype": "text/x-python",
   "codemirror_mode": {
    "name": "ipython",
    "version": 3
   },
   "pygments_lexer": "ipython3",
   "nbconvert_exporter": "python",
   "file_extension": ".py"
  },
  "kernelspec": {
   "name": "python3",
   "display_name": "Python 3.9.6 64-bit ('python-programming-Yuna-Liu-WA6ACBfR': pipenv)"
  },
  "interpreter": {
   "hash": "8111105f47d12ec1fb8af24cde7e4ba5898ee01916168ee13b7453f45f559afc"
  }
 },
 "nbformat": 4,
 "nbformat_minor": 2
}