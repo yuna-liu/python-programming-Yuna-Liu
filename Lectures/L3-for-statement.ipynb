{
 "cells": [
  {
   "cell_type": "markdown",
   "source": [
    "\r\n",
    "<a href=\"https://colab.research.google.com/github/kokchun/Programmering-med-Python-21/blob/main/Lectures/L2-for-statement.ipynb\" target=\"_parent\"><img align=\"left\" src=\"https://colab.research.google.com/assets/colab-badge.svg\" alt=\"Open In Colab\"/></a> &nbsp; for interacting with the code"
   ],
   "metadata": {}
  },
  {
   "cell_type": "markdown",
   "source": [
    "---\r\n",
    "# Lecture notes - for-statement\r\n",
    "\r\n",
    "---\r\n",
    "This is the lecture note for **for-statement**, but it's built upon contents from previous lectures such as: \r\n",
    "- input-output\r\n",
    "- variables\r\n",
    "- if-statement\r\n",
    "\r\n",
    "for loop is used for repeating code by iterating over a sequence such as a list. \r\n",
    "\r\n",
    "Read more [w3schools - for loop](https://www.w3schools.com/python/python_for_loops.asp)\r\n",
    "\r\n",
    "---"
   ],
   "metadata": {}
  },
  {
   "cell_type": "markdown",
   "source": [
    "## range() function\r\n",
    "\r\n",
    "Used together with for loop to repeat code a certain number of times. \r\n",
    "\r\n",
    "```python\r\n",
    "for i in range(n): \r\n",
    "    print(i)\r\n",
    "```\r\n",
    "i will start from 0 and end with n-1. n must be an integer. \r\n",
    "\r\n",
    "```python\r\n",
    "for i in range(start, end, step):\r\n",
    "    print(i)\r\n",
    "``` \r\n",
    "prints i from start to end-1 with step as the increment"
   ],
   "metadata": {}
  },
  {
   "cell_type": "code",
   "execution_count": 4,
   "source": [
    "for i in range(3): # note that the count starts from 0\r\n",
    "    print(f\"{i} Hello\")"
   ],
   "outputs": [
    {
     "output_type": "stream",
     "name": "stdout",
     "text": [
      "0 Hello\n",
      "1 Hello\n",
      "2 Hello\n"
     ]
    }
   ],
   "metadata": {}
  },
  {
   "cell_type": "code",
   "execution_count": 7,
   "source": [
    "# print out numbers without newlines\r\n",
    "for i in range(10):\r\n",
    "    print(i, end=\" \")"
   ],
   "outputs": [
    {
     "output_type": "stream",
     "name": "stdout",
     "text": [
      "0 1 2 3 4 5 6 7 8 9 "
     ]
    }
   ],
   "metadata": {}
  },
  {
   "cell_type": "code",
   "execution_count": 12,
   "source": [
    "sum = 0\r\n",
    "# calculate sum from 0-5\r\n",
    "for i in range(6): # note that 6\r\n",
    "    sum += i\r\n",
    "\r\n",
    "print(f\"0+1+2+3+4+5={sum}\")"
   ],
   "outputs": [
    {
     "output_type": "stream",
     "name": "stdout",
     "text": [
      "0+1+2+3+4+5=15\n"
     ]
    }
   ],
   "metadata": {}
  },
  {
   "cell_type": "code",
   "execution_count": 31,
   "source": [
    "sum = 0\r\n",
    "# calculate sum of all odd numbers between 1 and 100\r\n",
    "for i in range(1,20,2):\r\n",
    "    sum += i # addition\r\n",
    "\r\n",
    "    # nice printing\r\n",
    "    print(f\"{i}\", end = \"\")\r\n",
    "    if i != 19:\r\n",
    "        print(\"+\", end=\"\")\r\n",
    "\r\n",
    "    if i == 19:\r\n",
    "        print(f\"={sum}\", end=\"\")"
   ],
   "outputs": [
    {
     "output_type": "stream",
     "name": "stdout",
     "text": [
      "1+3+5+7+9+11+13+15+17+19=100"
     ]
    }
   ],
   "metadata": {}
  },
  {
   "cell_type": "markdown",
   "source": [
    "---\r\n",
    "## random module\r\n",
    "\r\n",
    "Used to generate random numbers. \r\n",
    "\r\n",
    "Read more: [w3schools - random module](https://www.w3schools.com/python/module_random.asp)"
   ],
   "metadata": {}
  },
  {
   "cell_type": "code",
   "execution_count": 38,
   "source": [
    "import random as rnd # the random module can now be accessed through rnd \r\n",
    "\r\n",
    "num_six = 0\r\n",
    "dice_rolls = 10000\r\n",
    "\r\n",
    "# dice simulations - count number of sixes \r\n",
    "for i in range(dice_rolls):\r\n",
    "    dice = rnd.randint(1,6) # generates a random integer between 1 and 6\r\n",
    "    if dice == 6:\r\n",
    "        num_six += 1\r\n",
    "\r\n",
    "print(f\"Number of sixes {num_six} in {dice_rolls} dice rolls\")  \r\n",
    "print(f\"Probability of six {num_six/dice_rolls}\")"
   ],
   "outputs": [
    {
     "output_type": "stream",
     "name": "stdout",
     "text": [
      "Number of sixes 1672 in 10000 dice rolls\n",
      "Probability of six 0.1672\n"
     ]
    }
   ],
   "metadata": {}
  },
  {
   "cell_type": "markdown",
   "source": [
    "---\r\n",
    "## Loop through list\r\n",
    "\r\n",
    "A list is a data type to store several items in a variable. There will be a separate lecture note for lists.\r\n",
    "\r\n",
    "Read more [w3schools - lists](https://www.w3schools.com/python/python_lists.asp)"
   ],
   "metadata": {}
  },
  {
   "cell_type": "code",
   "execution_count": 41,
   "source": [
    "fruits = [\"apple\", \"orange\", \"grape\", \"strawberry\"]\r\n",
    "\r\n",
    "print(\"I love to eat\")\r\n",
    "for fruit in fruits: # variable fruit will contain a value at a time from fruits\r\n",
    "    print(fruit)"
   ],
   "outputs": [
    {
     "output_type": "stream",
     "name": "stdout",
     "text": [
      "I love to eat\n",
      "apple\n",
      "orange\n",
      "grape\n",
      "strawberry\n"
     ]
    }
   ],
   "metadata": {}
  },
  {
   "cell_type": "markdown",
   "source": [
    "---\r\n",
    "## Nested for loop\r\n",
    "\r\n",
    "A for loop inside another for loop. The inner loop will run for each iteration of the outer loop."
   ],
   "metadata": {}
  },
  {
   "cell_type": "code",
   "execution_count": 47,
   "source": [
    "# matrix coordinates\r\n",
    "for x in range(0,3):\r\n",
    "    for j in range(0,3):\r\n",
    "        print(f\"({x},{j})\", end=\"\")    \r\n",
    "    print() "
   ],
   "outputs": [
    {
     "output_type": "stream",
     "name": "stdout",
     "text": [
      "(0,0)(0,1)(0,2)\n",
      "(1,0)(1,1)(1,2)\n",
      "(2,0)(2,1)(2,2)\n"
     ]
    }
   ],
   "metadata": {}
  },
  {
   "cell_type": "markdown",
   "source": [
    "---\r\n",
    "\r\n",
    "Kokchun Giang\r\n",
    "\r\n",
    "[LinkedIn][linkedIn_kokchun]\r\n",
    "\r\n",
    "[GitHub portfolio][github_portfolio]\r\n",
    "\r\n",
    "[linkedIn_kokchun]: https://www.linkedin.com/in/kokchungiang/\r\n",
    "[github_portfolio]: https://github.com/kokchun/Portfolio-Kokchun-Giang\r\n",
    "\r\n",
    "---"
   ],
   "metadata": {}
  }
 ],
 "metadata": {
  "orig_nbformat": 4,
  "language_info": {
   "name": "python",
   "version": "3.9.5",
   "mimetype": "text/x-python",
   "codemirror_mode": {
    "name": "ipython",
    "version": 3
   },
   "pygments_lexer": "ipython3",
   "nbconvert_exporter": "python",
   "file_extension": ".py"
  },
  "kernelspec": {
   "name": "python3",
   "display_name": "Python 3.9.5 64-bit"
  },
  "interpreter": {
   "hash": "a6af3a3bb251bcb72cfdd789c0ff929377064d8a2e64281876c18e53714e278c"
  }
 },
 "nbformat": 4,
 "nbformat_minor": 2
}