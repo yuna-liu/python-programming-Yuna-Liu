{
 "cells": [
  {
   "cell_type": "markdown",
   "source": [
    "# Labb2 uppgiter: klassificera\r\n",
    "\r\n",
    "Datum: 2021-9-16\r\n",
    "\r\n",
    "I den här laborationen finns (simulerad) data på Pichus och Pikachus längder och bredder. Du\r\n",
    "ska skapa en algoritm som baserat på den givna datan kunna avgöra om en ny data ska\r\n",
    "klassificeras som Pichu eller Pikachu."
   ],
   "metadata": {}
  },
  {
   "cell_type": "markdown",
   "source": [
    "## 1. read data and save in a right data structure, and plot in the same figure.\r\n"
   ],
   "metadata": {}
  },
  {
   "cell_type": "code",
   "execution_count": 2,
   "source": [
    "import matplotlib.pyplot as plt\r\n",
    "\r\n",
    "path_pikachu = \"pikachu.txt\"\r\n",
    "path_pichu = \"pichu.txt\"\r\n",
    "\r\n",
    "with open (path_pikachu, \"r\") as data_pikachu, open(path_pichu, \"r\") as data_pichu:\r\n",
    "    \r\n",
    "    # for each line reading from the txt file, line.strip(\"\\n\") removes the ending \"\\n\".\r\n",
    "    # thereafter remove the left and right brackets, through .replace(\"(\", \"\") and .replace(\")\", \"\") respectively.\r\n",
    "    # thereafter split each line by comma: .split(\", \")\r\n",
    "    # Now I cleaned the data and get 50 lines of width and height in the form of strings: width height    \r\n",
    "    df_pikachu = data_pikachu.readlines()[1:] #[1:]: reading all lines from txt file and remove header\r\n",
    "    df_pichu = data_pichu.readlines()[1:] #[1:]: reading all lines from txt file and remove header\r\n",
    "    pikachu_list = [line.strip(\"\\n\").replace(\"(\", \"\").replace(\")\", \"\").split(\", \") for line in df_pikachu]\r\n",
    "    pichu_list = [line.strip(\"\\n\").replace(\"(\", \"\").replace(\")\", \"\").split(\", \") for line in df_pichu]\r\n",
    " \r\n",
    "\r\n",
    "    # Nested list is used here.\r\n",
    "    # I create a list for 50 points, where each point contains a list of three elements:\r\n",
    "    # the first element is the width of this point, changed from str to float\r\n",
    "    # the second element is the heigt of this point, changed from str to float\r\n",
    "    # the third element is a string which tells this point is pikachu or pichu\r\n",
    "    \r\n",
    "    pikachu = [[float(one_pikachu[0]), float(one_pikachu[1]), \"pikachu\"] for one_pikachu in pikachu_list ]\r\n",
    "    pichu = [[float(one_pichu[0]), float(one_pichu[1]), \"pichu\"] for one_pichu in pichu_list ]\r\n",
    "\r\n",
    "    # combine the pikachu list and pichu list to a list of totall points\r\n",
    "    # this makes selecting five nearest points much easier, \r\n",
    "    # than selecting seperately from pikachu and pichu lists and then compare among ten points. \r\n",
    "    pikachu_pichu= pikachu + pichu\r\n",
    "\r\n",
    "    # check length of each list to ensure I did not lose data.\r\n",
    "    print(len(pikachu))\r\n",
    "    print(len(pichu))\r\n",
    "    print(len(pikachu_pichu))\r\n",
    "\r\n",
    "    # To plot, I need the list of x and the list of y for pikachu or pichu list\r\n",
    "    x_pikachu = [point[0] for point in pikachu]\r\n",
    "    y_pikachu = [point[1] for point in pikachu]\r\n",
    "    x_pichu = [point[0] for point in pichu]\r\n",
    "    y_pichu = [point[1] for point in pichu]\r\n",
    "\r\n",
    "    # I tried with zip method: to map the similar index of multiple containers so that they can be used just using as single entity\r\n",
    "    \"\"\" type_pikachu = [\"pikachu\" for _ in range(100)]\r\n",
    "    ziped_pikachu = zip(x_pikachu, y_pikachu, type_pikachu)\r\n",
    "    print(list(ziped_pikachu)) \"\"\"\r\n",
    "    # Then I decided to drop this method, because it generates tuples in  a list\r\n",
    "    # These tuple objects later on could not support item assignment.\r\n",
    " \r\n",
    "    #Plot all points with different colors in one figure\r\n",
    "    plt.scatter(x_pikachu, y_pikachu, c=\"orange\")\r\n",
    "    plt.scatter(x_pichu, y_pichu, c=\"yellow\")\r\n",
    "    plt.ylabel(\"Height (cm)\")\r\n",
    "    plt.xlabel(\"Width (cm)\") \r\n",
    "    plt.title(\"Widths and heights for Pikachu (orange) and Pichu (yellow)\")   \r\n",
    "    plt.legend()\r\n",
    "    plt.show()\r\n"
   ],
   "outputs": [
    {
     "output_type": "stream",
     "name": "stderr",
     "text": [
      "No handles with labels found to put in legend.\n"
     ]
    },
    {
     "output_type": "stream",
     "name": "stdout",
     "text": [
      "50\n",
      "50\n",
      "100\n"
     ]
    },
    {
     "output_type": "display_data",
     "data": {
      "image/png": "[encoded data removed]",
      "text/plain": [
       "<Figure size 432x288 with 1 Axes>"
      ]
     },
     "metadata": {
      "needs_background": "light"
     }
    }
   ],
   "metadata": {}
  },
  {
   "cell_type": "markdown",
   "source": [
    "## read in, clean and save test data"
   ],
   "metadata": {}
  },
  {
   "cell_type": "code",
   "execution_count": 3,
   "source": [
    "with open (\"test_points.txt\", \"r\") as data_test:\r\n",
    "\r\n",
    "    # for each line reading from the txt file\r\n",
    "    # It is one str in a list, I split it by split(\"),\") to four strings.\r\n",
    "    test_points_raw = data_test.readlines()[0].split(\"),\")\r\n",
    "    print(test_points_raw)\r\n",
    "    \r\n",
    "    # thereafter remove the left and right brackets in each string\r\n",
    "    test_points_striped = [each_point.strip(\"( )\") for each_point in test_points_raw]\r\n",
    "    print(test_points_striped)\r\n",
    "\r\n",
    "    # thereafter split each string by comma: .split(\", \")    \r\n",
    "    test_points_split = [point.split(\",\") for point in test_points_striped]\r\n",
    "    print(test_points_split)\r\n",
    "\r\n",
    "    # first change element type from str to int\r\n",
    "    # then save these into a nested list called: test_points\r\n",
    "    # for each element in test_points list, there is a list with three elements:\r\n",
    "    # the first element is the width of this point, changed from str to float\r\n",
    "    # the second element is the heigt of this point, changed from str to float\r\n",
    "    # the third element is a string which tells this point is pikachu or pichu\r\n",
    "    test_points = [[int(test_point_split[0]), int(test_point_split[-1]), \"test_point\"] for test_point_split in test_points_split]\r\n",
    "    \r\n",
    "    # ensure I did not miss any test point\r\n",
    "    print(len(test_points))\r\n",
    "    \r\n",
    "    # get x-axis value list of all points\r\n",
    "    x_test = [point[0] for point in test_points]\r\n",
    "    print(x_test)\r\n",
    "\r\n",
    "    # get y-axis value list of all points\r\n",
    "    y_test = [point[1] for point in test_points]\r\n",
    "    print(y_test)\r\n",
    "\r\n",
    "    #Plot all points with different colors in one figure\r\n",
    "    plt.scatter(x_pikachu, y_pikachu, c=\"orange\")\r\n",
    "    plt.scatter(x_pichu, y_pichu, c=\"yellow\")\r\n",
    "    plt.scatter(x_test, y_test, c=\"red\")\r\n",
    "    plt.ylabel(\"Height (cm)\")\r\n",
    "    plt.xlabel(\"Width (cm)\") \r\n",
    "    plt.title(\"Widths and heights for Pikachu (orange) and Pichu (yellow) and test points (red)\")   \r\n",
    "    plt.show()\r\n"
   ],
   "outputs": [
    {
     "output_type": "stream",
     "name": "stdout",
     "text": [
      "['(25, 35', ' (15,14', ' (26,30', ' (22,45)']\n",
      "['25, 35', '15,14', '26,30', '22,45']\n",
      "[['25', ' 35'], ['15', '14'], ['26', '30'], ['22', '45']]\n",
      "4\n",
      "[25, 15, 26, 22]\n",
      "[35, 14, 30, 45]\n"
     ]
    },
    {
     "output_type": "display_data",
     "data": {
      "image/png": "[encoded data removed]",
      "text/plain": [
       "<Figure size 432x288 with 1 Axes>"
      ]
     },
     "metadata": {
      "needs_background": "light"
     }
    }
   ],
   "metadata": {}
  },
  {
   "cell_type": "markdown",
   "source": [
    "## Calculate the distance between the test points and all other points."
   ],
   "metadata": {}
  },
  {
   "cell_type": "code",
   "execution_count": 4,
   "source": [
    "def euclidean_distance(x1,y1,x2,y2):\r\n",
    "    return (((x1-x2)**2+(y1-y2)**2)**0.5)\r\n",
    "\r\n",
    "\r\n",
    "#test_points, in type of list, is the test points that I am going to decide wether it is pikachu or pichu\r\n",
    "#pikachu_pichu: a list of training data\r\n",
    "#n_of_nearest_points: how many nearest points are used to decide whether it is pikachu or pichu\r\n",
    "def find_pikachu_or_pichu(test_points, pikachu_pichu, n_of_nearest_points):\r\n",
    "\r\n",
    "    for test_point in test_points:\r\n",
    "\r\n",
    "        distance_type = []\r\n",
    "        for i in range(0,len(pikachu_pichu)): \r\n",
    "            eu_distance = euclidean_distance(test_point[0], test_point[1], pikachu_pichu[i][0], pikachu_pichu[i][1])\r\n",
    "            test_type = pikachu_pichu[i][2]     \r\n",
    "            test_points_distance = [eu_distance, test_type]\r\n",
    "    \r\n",
    "            distance_type.append(test_points_distance)\r\n",
    "        distance_type.sort()\r\n",
    "        distance_type_list = distance_type[0:n_of_nearest_points]\r\n",
    "\r\n",
    "        if n_of_nearest_points == 1:\r\n",
    "            print(f\"The {test_point} according to {n_of_nearest_points} nearest point metohd: is {distance_type_list[0][1]}.\")\r\n",
    "\r\n",
    "        else:\r\n",
    "            count_pikachu = distance_type_list[:][1].count(\"pikachu\")\r\n",
    "            count_pichu = distance_type_list[:][1].count(\"pichu\")\r\n",
    "\r\n",
    "            if count_pikachu > count_pichu:\r\n",
    "                print(f\"The {test_point} according to {n_of_nearest_points} nearest points metohd: is pikachu.\")\r\n",
    "            else:\r\n",
    "                print(f\"The {test_point} according to {n_of_nearest_points} nearest points metohd: is pichu.\")"
   ],
   "outputs": [],
   "metadata": {}
  },
  {
   "cell_type": "markdown",
   "source": [
    "## 0.  klassificerat testdatan "
   ],
   "metadata": {}
  },
  {
   "cell_type": "code",
   "execution_count": 5,
   "source": [
    "find_pikachu_or_pichu(test_points, pikachu_pichu, 1)"
   ],
   "outputs": [
    {
     "output_type": "stream",
     "name": "stdout",
     "text": [
      "The [25, 35, 'test_point'] according to 1 nearest point metohd: is pikachu.\n",
      "The [15, 14, 'test_point'] according to 1 nearest point metohd: is pichu.\n",
      "The [26, 30, 'test_point'] according to 1 nearest point metohd: is pichu.\n",
      "The [22, 45, 'test_point'] according to 1 nearest point metohd: is pikachu.\n"
     ]
    }
   ],
   "metadata": {}
  },
  {
   "cell_type": "markdown",
   "source": [
    "## 1. User input data to decide\r\n",
    "\r\n",
    "Låt användaren mata in en testpunkt och avgör om den dess klass. Ta med felhanteringen\r\n",
    "som tar hand om negativa tal och icke-numeriska inputs. Se till att ha användarvänliga\r\n",
    "felmeddelanden.\r\n"
   ],
   "metadata": {}
  },
  {
   "cell_type": "code",
   "execution_count": 7,
   "source": [
    "# let the user input width and height to decide if this point is pikachu or pichu\r\n",
    "\r\n",
    "# input width and error handling\r\n",
    "while True:\r\n",
    "    width_user = input(\"Please input a non-negative width\")\r\n",
    "    try:\r\n",
    "        width_user = float(width_user)\r\n",
    "        if width_user <= 0:\r\n",
    "            raise ValueError(f\"width should be non-negative number, inte {width_user}. please input again.\")\r\n",
    "        break\r\n",
    "    except ValueError as err:\r\n",
    "        print(err)\r\n",
    "\r\n",
    "\r\n",
    "# input height and error handling\r\n",
    "while True:\r\n",
    "    height_user = input(\"Please input a non-negative height\")\r\n",
    "    try:\r\n",
    "        height_user = float(height_user)\r\n",
    "        if height_user <= 0:\r\n",
    "            raise ValueError(f\"height should be non-negative number, inte {height_user}. please input again.\")\r\n",
    "        break\r\n",
    "    except ValueError as err:\r\n",
    "        print(err)\r\n",
    "\r\n",
    "\r\n",
    "# input the method to make decision and error handling\r\n",
    "while True:\r\n",
    "    n_nearest_user = input(\"Please choose algorithm: how many nearest points are you using to make decision?\")\r\n",
    "    try:\r\n",
    "        n_nearest_user = int(n_nearest_user)\r\n",
    "        if n_nearest_user <= 0:\r\n",
    "            raise ValueError(f\"The number of nearest points should be at least one, not {n_nearest_user}\")\r\n",
    "        break\r\n",
    "    except ValueError as err:\r\n",
    "        print(err)\r\n",
    "\r\n",
    "test_point_user = [[width_user, height_user]]\r\n",
    "find_pikachu_or_pichu(test_point_user, pikachu_pichu, n_nearest_user)\r\n"
   ],
   "outputs": [
    {
     "output_type": "stream",
     "name": "stdout",
     "text": [
      "width should be non-negative number, inte -20.0. please input again.\n",
      "could not convert string to float: 'rr'\n",
      "height should be non-negative number, inte -30.0. please input again.\n",
      "could not convert string to float: 'gg'\n",
      "The number of nearest points should be at least one, not 0\n",
      "invalid literal for int() with base 10: 'rr'\n",
      "The [20.0, 30.0] according to 5 nearest points metohd: is pichu.\n"
     ]
    }
   ],
   "metadata": {}
  },
  {
   "cell_type": "markdown",
   "source": [
    "## 2. Change algorithm\r\n",
    "\r\n",
    "Den approachen vi använt med närmaste punkten kan klassificera fel när punkterna för\r\n",
    "respektive klass går in i varandra. Nu ska du istället välja de fem närmaste punkterna till din\r\n",
    "testpunkt. Den klass testpunkten tillhör avgörs av majoritetsklassen av de närmaste\r\n",
    "punkterna.\r\n"
   ],
   "metadata": {}
  },
  {
   "cell_type": "code",
   "execution_count": 8,
   "source": [
    "find_pikachu_or_pichu(test_points, pikachu_pichu, 5)"
   ],
   "outputs": [
    {
     "output_type": "stream",
     "name": "stdout",
     "text": [
      "The [25, 35, 'test_point'] according to 5 nearest points metohd: is pikachu.\n",
      "The [15, 14, 'test_point'] according to 5 nearest points metohd: is pichu.\n",
      "The [26, 30, 'test_point'] according to 5 nearest points metohd: is pichu.\n",
      "The [22, 45, 'test_point'] according to 5 nearest points metohd: is pikachu.\n"
     ]
    }
   ],
   "metadata": {}
  }
 ],
 "metadata": {
  "orig_nbformat": 4,
  "language_info": {
   "name": "python",
   "version": "3.9.6",
   "mimetype": "text/x-python",
   "codemirror_mode": {
    "name": "ipython",
    "version": 3
   },
   "pygments_lexer": "ipython3",
   "nbconvert_exporter": "python",
   "file_extension": ".py"
  },
  "kernelspec": {
   "name": "python3",
   "display_name": "Python 3.9.6 64-bit ('python-programming-Yuna-Liu-WA6ACBfR': pipenv)"
  },
  "interpreter": {
   "hash": "8111105f47d12ec1fb8af24cde7e4ba5898ee01916168ee13b7453f45f559afc"
  }
 },
 "nbformat": 4,
 "nbformat_minor": 2
}