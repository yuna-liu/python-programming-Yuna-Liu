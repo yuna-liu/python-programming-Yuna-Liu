{
 "cells": [
  {
   "cell_type": "markdown",
   "source": [
    "# Input/output and variables"
   ],
   "metadata": {}
  },
  {
   "cell_type": "code",
   "execution_count": 1,
   "source": [
    "# det här är en kommentar som ignoreras vid körning\r\n",
    "name = \"Yuna\" # skapar en variabel som heter name och innehåller värdet \"Yuna\" \r\n",
    "print(\"Hello\")\r\n",
    "\r\n",
    "age = 36 # skapat en variabel vid namn age och tilldelat det värdet 36\r\n",
    "\r\n",
    "print('hej', name, \"!\") # ett sätt att blanda strängar och variabler i en print\r\n",
    "print(f\"Hej {name}, du är {age} år gammal\") # f-string (formatted string), {} kallas för måsvingar/krullparanteser\r\n",
    "\r\n",
    "name = \"Anna\" # tilldelat nytt värde till variabeln name\r\n",
    "print(f\"Hej {name}\")\r\n",
    "\r\n",
    "name = 35 # att byta datatyp fungerar också. Variabelnamnet bör vara beskrivande\r\n",
    "print(f\"Hej {name}\")\r\n",
    "\r\n",
    "age = 30.4 # datatypen är en float\r\n",
    "print(f\"Mer specifikt är jag {age} år gammal\")"
   ],
   "outputs": [
    {
     "output_type": "stream",
     "name": "stdout",
     "text": [
      "Hello\n",
      "hej Yuna !\n",
      "Hej Yuna, du är 36 år gammal\n",
      "Hej Anna\n",
      "Hej 35\n",
      "Mer specifikt är jag 30.4 år gammal\n"
     ]
    }
   ],
   "metadata": {}
  },
  {
   "cell_type": "markdown",
   "source": [
    "## Input från användare"
   ],
   "metadata": {}
  },
  {
   "cell_type": "code",
   "execution_count": 13,
   "source": [
    "name = input(\"Vad heter du? \") # name kommer ha en sträng, Hanna\r\n",
    "age = input(\"Hur gammal är du? \") # 16\r\n",
    "\r\n",
    "print(f\"Du heter {name}, du är {age} år gammal\")"
   ],
   "outputs": [
    {
     "output_type": "stream",
     "name": "stdout",
     "text": [
      "Du heter Hanna, du är 16 år gammal\n"
     ]
    }
   ],
   "metadata": {}
  },
  {
   "cell_type": "code",
   "execution_count": 14,
   "source": [
    "# F = m*g\r\n",
    "gravity = 9.82 \r\n",
    "mass = input(\"Hur mycket väger du? \")\r\n",
    "\r\n",
    "force = mass*gravity # fungerar inte pga mass är en str medans gravity är en float\r\n",
    "\r\n",
    "print(f\"Din tyngd är {force}N\")"
   ],
   "outputs": [
    {
     "output_type": "error",
     "ename": "TypeError",
     "evalue": "can't multiply sequence by non-int of type 'float'",
     "traceback": [
      "\u001b[0;31m---------------------------------------------------------------------------\u001b[0m",
      "\u001b[0;31mTypeError\u001b[0m                                 Traceback (most recent call last)",
      "\u001b[0;32m<ipython-input-14-40c2a51dee33>\u001b[0m in \u001b[0;36m<module>\u001b[0;34m\u001b[0m\n\u001b[1;32m      3\u001b[0m \u001b[0mmass\u001b[0m \u001b[0;34m=\u001b[0m \u001b[0minput\u001b[0m\u001b[0;34m(\u001b[0m\u001b[0;34m\"Hur mycket väger du? \"\u001b[0m\u001b[0;34m)\u001b[0m\u001b[0;34m\u001b[0m\u001b[0;34m\u001b[0m\u001b[0m\n\u001b[1;32m      4\u001b[0m \u001b[0;34m\u001b[0m\u001b[0m\n\u001b[0;32m----> 5\u001b[0;31m \u001b[0mforce\u001b[0m \u001b[0;34m=\u001b[0m \u001b[0mmass\u001b[0m\u001b[0;34m*\u001b[0m\u001b[0mgravity\u001b[0m\u001b[0;34m\u001b[0m\u001b[0;34m\u001b[0m\u001b[0m\n\u001b[0m\u001b[1;32m      6\u001b[0m \u001b[0;34m\u001b[0m\u001b[0m\n\u001b[1;32m      7\u001b[0m \u001b[0mprint\u001b[0m\u001b[0;34m(\u001b[0m\u001b[0;34mf\"Din tyngd är {force}N\"\u001b[0m\u001b[0;34m)\u001b[0m\u001b[0;34m\u001b[0m\u001b[0;34m\u001b[0m\u001b[0m\n",
      "\u001b[0;31mTypeError\u001b[0m: can't multiply sequence by non-int of type 'float'"
     ]
    }
   ],
   "metadata": {}
  },
  {
   "cell_type": "code",
   "execution_count": 17,
   "source": [
    "gravity = 9.82\r\n",
    "mass = float(input(\"Hur mycket väger du? \")) #har typomvandlat från str -> float\r\n",
    "\r\n",
    "force = mass*gravity # float * float\r\n",
    "\r\n",
    "print(f\"Din tyngd är {force}N\")\r\n",
    "print(f\"Din tyngd är {force:.1f}N\")"
   ],
   "outputs": [
    {
     "output_type": "stream",
     "name": "stdout",
     "text": [
      "Din tyngd är 641.246N\n",
      "Din tyngd är 641.2N\n"
     ]
    }
   ],
   "metadata": {}
  },
  {
   "cell_type": "code",
   "execution_count": 20,
   "source": [
    "# upphöjtoperatorn ** \r\n",
    "print(2**2)\r\n",
    "\r\n",
    "# heltalsdivision //\r\n",
    "print(2//3)"
   ],
   "outputs": [
    {
     "output_type": "stream",
     "name": "stdout",
     "text": [
      "4\n",
      "0\n"
     ]
    }
   ],
   "metadata": {}
  }
 ],
 "metadata": {
  "orig_nbformat": 4,
  "language_info": {
   "name": "python",
   "version": "3.9.6",
   "mimetype": "text/x-python",
   "codemirror_mode": {
    "name": "ipython",
    "version": 3
   },
   "pygments_lexer": "ipython3",
   "nbconvert_exporter": "python",
   "file_extension": ".py"
  },
  "kernelspec": {
   "name": "python3",
   "display_name": "Python 3.9.6 64-bit"
  },
  "interpreter": {
   "hash": "2971b745844267d7cb4483e5f20d838014d69d8df52b415790673c9e258dc44a"
  }
 },
 "nbformat": 4,
 "nbformat_minor": 2
}