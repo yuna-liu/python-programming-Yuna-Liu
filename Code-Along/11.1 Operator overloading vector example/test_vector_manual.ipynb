{
 "cells": [
  {
   "cell_type": "code",
   "execution_count": 2,
   "source": [
    "import vector as vec\n",
    "\n",
    "v1 = vec.Vector(1,2)\n",
    "v2 = vec.Vector(1,1)\n",
    "\n",
    "print(v1.numbers)\n",
    "\n",
    "v_test = vec.Vector(True, False, 5)\n",
    "print(v_test.numbers)\n",
    "\n",
    "print(f\"v1 = {v1}\")\n",
    "print(f\"v2 = {v2}\")\n",
    "\n",
    "v3 = v1 + v2\n",
    "\n",
    "print(f\"v3 = v1 + v2 = {v3}\")\n",
    "\n",
    "try:\n",
    "    v3 + v_test\n",
    "except TypeError as err:\n",
    "    print(err)\n",
    "\n",
    "v3[0]"
   ],
   "outputs": [
    {
     "output_type": "stream",
     "name": "stdout",
     "text": [
      "(1.0, 2.0)\n",
      "(1.0, 0.0, 5.0)\n",
      "v1 = (1.0, 2.0)\n",
      "v2 = (1.0, 1.0)\n",
      "v3 = v1 + v2 = (2.0, 3.0)\n",
      "Both must be Vector and same length\n"
     ]
    },
    {
     "output_type": "execute_result",
     "data": {
      "text/plain": [
       "2.0"
      ]
     },
     "metadata": {},
     "execution_count": 2
    }
   ],
   "metadata": {}
  },
  {
   "cell_type": "code",
   "execution_count": 3,
   "source": [
    "print(f\"len(v1): {len(v1)}\")\n",
    "print(f\"len(v_test): {len(v_test)}\")"
   ],
   "outputs": [
    {
     "output_type": "stream",
     "name": "stdout",
     "text": [
      "len(v1): 2\n",
      "len(v_test): 3\n"
     ]
    }
   ],
   "metadata": {}
  },
  {
   "cell_type": "code",
   "execution_count": 3,
   "source": [
    "isinstance(False, int)"
   ],
   "outputs": [
    {
     "output_type": "execute_result",
     "data": {
      "text/plain": [
       "True"
      ]
     },
     "metadata": {},
     "execution_count": 3
    }
   ],
   "metadata": {}
  },
  {
   "cell_type": "code",
   "execution_count": null,
   "source": [],
   "outputs": [],
   "metadata": {}
  }
 ],
 "metadata": {
  "orig_nbformat": 4,
  "language_info": {
   "name": "python",
   "version": "3.8.3",
   "mimetype": "text/x-python",
   "codemirror_mode": {
    "name": "ipython",
    "version": 3
   },
   "pygments_lexer": "ipython3",
   "nbconvert_exporter": "python",
   "file_extension": ".py"
  },
  "kernelspec": {
   "name": "python3",
   "display_name": "Python 3.8.3 64-bit ('Python_programming-Y6DWTcE3': pipenv)"
  },
  "interpreter": {
   "hash": "ba172e9133ac13726a3d8ff1460db7a5577e3778ee93c1aadc7eb3f4d8ce4f1c"
  }
 },
 "nbformat": 4,
 "nbformat_minor": 2
}