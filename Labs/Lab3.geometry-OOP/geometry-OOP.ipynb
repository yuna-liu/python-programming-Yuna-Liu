{
 "cells": [
  {
   "cell_type": "markdown",
   "source": [
    "# Labb 3 - Geometri OOP\r\n",
    "- Syftet med den här laborationen är att använda objektorienterad programmering i Python för att\r\n",
    "designa program med god struktur.\r\n",
    "- I den här laborationen ska jag börja med att planera hur jag vill strukturera mina klasser med hjälp\r\n",
    "av UML och därefter implementera min planering i Python.\r\n",
    "\r\n",
    "Date: 2021-09-30\r\n"
   ],
   "metadata": {}
  },
  {
   "cell_type": "code",
   "execution_count": 20,
   "source": [
    "from math import pi\r\n",
    "class Shape:\r\n",
    "    def __init__(self, x: float, y:float, type:str) -> None: #x: x coordinate, y: y coordinate\r\n",
    "        self.x = x\r\n",
    "        self.y = y\r\n",
    "        self.type = type\r\n",
    "\r\n",
    "    @property\r\n",
    "    def x(self)-> float:\r\n",
    "        return self._x\r\n",
    "    \r\n",
    "    @property\r\n",
    "    def y(self) -> float:\r\n",
    "        return self._y\r\n",
    "\r\n",
    "    @x.setter\r\n",
    "    def x(self, value: float) -> None:\r\n",
    "        self._x = Circle.validate_number(value)\r\n",
    "\r\n",
    "    @y.setter\r\n",
    "    def y(self, value: float) -> None:\r\n",
    "        self._y = Circle.validate_number(value)\r\n",
    "\r\n",
    "    @staticmethod\r\n",
    "    def validate_number(value):\r\n",
    "        if not isinstance(value, (int,float)):\r\n",
    "            raise TypeError (f\"integer or float needed here, not {type(value)}.\")\r\n",
    "        else:\r\n",
    "            return value\r\n",
    "\r\n",
    "    @staticmethod\r\n",
    "    def validate_non_negative_number(value):\r\n",
    "        if not isinstance(value, (int, float)):\r\n",
    "            raise TypeError (f\"integer or float number needed here, not {type(value)}.\")\r\n",
    "        if value < 0:\r\n",
    "            raise ValueError (f\"non-negative number needed here. {value} is negative.\")\r\n",
    "        else:\r\n",
    "            return value\r\n",
    "\r\n",
    "    # to calculate the horizontal distance of the midpoint to a point       \r\n",
    "    def horizontal_dis_mid_point(self, x_of_point:float, y_of_point:float) -> float:\r\n",
    "        x_of_point = Shape.validate_number(x_of_point)\r\n",
    "        horizontal_dis = abs(self.x-x_of_point)\r\n",
    "        return horizontal_dis\r\n",
    "\r\n",
    "    # to calculate the vertical distance of the midpoint to a point  \r\n",
    "    def vertical_dis_mid_point(self, x_of_point:float, y_of_point:float) -> float:\r\n",
    "        y_of_point = Shape.validate_number(y_of_point)\r\n",
    "        vertical_dis = abs(self.y-y_of_point)\r\n",
    "        return vertical_dis\r\n",
    "        \r\n",
    "    # to compare whether two shapes have the same area\r\n",
    "    def __eq__(self, other) -> bool:\r\n",
    "        if self.area == self.area:\r\n",
    "            return True\r\n",
    "        else:\r\n",
    "            return False\r\n",
    "\r\n",
    "    def __repr__(self) -> str:\r\n",
    "        return f\"{self.type} with center point: ({self.x},{self.y}).\"\r\n",
    "\r\n"
   ],
   "outputs": [],
   "metadata": {}
  },
  {
   "cell_type": "code",
   "execution_count": 21,
   "source": [
    "class Circle(Shape):\r\n",
    "    def __init__(self, x: float, y: float, radius: float, type=\"circle\") -> None:\r\n",
    "        super().__init__(x,y,type)\r\n",
    "        self.radius = radius\r\n",
    "    \r\n",
    "\r\n",
    "    @property\r\n",
    "    def radius(self) -> float:\r\n",
    "        return self._radius\r\n",
    "    \r\n",
    "    @radius.setter\r\n",
    "    def radius(self, value: float) -> None:\r\n",
    "        self._radius = Circle.validate_non_negative_number(value)\r\n",
    "    \r\n",
    "    def area(self) -> float:\r\n",
    "        return pi*(self.radius**2)\r\n",
    "    \r\n",
    "    def perimeter(self) -> float:\r\n",
    "        return 2*pi*self.radius\r\n",
    "\r\n",
    "    # return whether a point is in a shape\r\n",
    "    def is_inside(self,x_of_point:float, y_of_point:float) -> bool:\r\n",
    "        if self.horizontal_dis_mid_point(x_of_point, y_of_point) <= self.radius and self.vertical_dis_mid_point(x_of_point, y_of_point) <= self.radius:\r\n",
    "            return True\r\n",
    "        else:\r\n",
    "            return False\r\n",
    "\r\n",
    "    \r\n",
    "        "
   ],
   "outputs": [],
   "metadata": {}
  },
  {
   "cell_type": "code",
   "execution_count": 24,
   "source": [
    "cirkel1 = Circle(x=0,y=0, radius=1) # enhetscirkel\r\n",
    "cirkel2 = Circle(x=1,y=1, radius=1)\r\n",
    "print(cirkel1)\r\n",
    "print(cirkel1.radius)\r\n",
    "print(cirkel2)\r\n",
    "\r\n",
    "print(cirkel1.area())\r\n",
    "print(cirkel2.area())\r\n",
    "\r\n",
    "print(cirkel1.perimeter())\r\n",
    "print(cirkel2.perimeter())\r\n",
    "\r\n",
    "print(cirkel1==cirkel2) # True\r\n",
    "\r\n",
    "print(cirkel1.is_inside(1.5, 0.5)) \r\n",
    "print(cirkel2.is_inside(0.5, 0.5)) \r\n"
   ],
   "outputs": [
    {
     "output_type": "stream",
     "name": "stdout",
     "text": [
      "circle with center point: (0,0).\n",
      "1\n",
      "circle with center point: (1,1).\n",
      "3.141592653589793\n",
      "3.141592653589793\n",
      "6.283185307179586\n",
      "6.283185307179586\n",
      "True\n",
      "False\n",
      "True\n"
     ]
    }
   ],
   "metadata": {}
  }
 ],
 "metadata": {
  "orig_nbformat": 4,
  "language_info": {
   "name": "python",
   "version": "3.9.6",
   "mimetype": "text/x-python",
   "codemirror_mode": {
    "name": "ipython",
    "version": 3
   },
   "pygments_lexer": "ipython3",
   "nbconvert_exporter": "python",
   "file_extension": ".py"
  },
  "kernelspec": {
   "name": "python3",
   "display_name": "Python 3.9.6 64-bit ('python-programming-Yuna-Liu-WA6ACBfR': pipenv)"
  },
  "interpreter": {
   "hash": "8111105f47d12ec1fb8af24cde7e4ba5898ee01916168ee13b7453f45f559afc"
  }
 },
 "nbformat": 4,
 "nbformat_minor": 2
}