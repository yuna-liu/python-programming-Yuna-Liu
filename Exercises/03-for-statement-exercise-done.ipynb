{
 "cells": [
  {
   "cell_type": "markdown",
   "metadata": {},
   "source": [
    "# The solution to exercise 03: for statement\n",
    "\n",
    "Date: 2021-08-31\n",
    "\n",
    "The questions to exercise 03 can be found [here][exercise_03]:\n",
    "\n",
    "[exercise_03]: https://github.com/kokchun/Programmering-med-Python-21/blob/main/Exercises/03-for-statement-exercise.ipynb"
   ]
  },
  {
   "cell_type": "markdown",
   "metadata": {},
   "source": [
    "# for statement exercises"
   ]
  },
  {
   "cell_type": "markdown",
   "metadata": {},
   "source": [
    "## 1. Count numbers (*)\n",
    "\n",
    "Use a **for** statement to count from: \n",
    "\n",
    "&nbsp; a) &nbsp; -10 to 10 with one increment (*)\n",
    "\n",
    "&nbsp; b) &nbsp; -10 to 10 with two increment (*)\n",
    "\n",
    "<details>\n",
    "\n",
    "<summary>Answer </summary>\n",
    "\n",
    "```\n",
    "a) -10 -9 -8 -7 -6 -5 -4 -3 -2 -1 0 1 2 3 4 5 6 7 8 9 10\n",
    "\n",
    "b) -10  -8  -6  -4  -2  0  2  4  6  8  10\n",
    "```\n",
    "\n",
    "</details>\n",
    "\n"
   ]
  },
  {
   "cell_type": "code",
   "execution_count": 4,
   "metadata": {},
   "outputs": [
    {
     "name": "stdout",
     "output_type": "stream",
     "text": [
      "-10 -9 -8 -7 -6 -5 -4 -3 -2 -1 0 1 2 3 4 5 6 7 8 9 10 \n",
      "-10 -8 -6 -4 -2 0 2 4 6 8 10 "
     ]
    }
   ],
   "source": [
    "#a)\n",
    "for i in range (-10, 11):\n",
    "    print(i, end =\" \")\n",
    "\n",
    "print()\n",
    "\n",
    "#b)\n",
    "for i in range (-10, 11, 2):\n",
    "    print(i, end = \" \")"
   ]
  },
  {
   "cell_type": "markdown",
   "metadata": {},
   "source": [
    "---\n",
    "## 2. Arithmetic sum (*)\n",
    "Use a **for** statement to compute the following sums: \n",
    "\n",
    "&nbsp; a) &nbsp; $\\text{sum} = 1 + 2 + \\ldots + 99+ 100$ (*)\n",
    "\n",
    "&nbsp; b) &nbsp; $\\text{sum} = 1 + 3 + 5 + \\ldots + 97 + 99$ (*)\n",
    "\n",
    "<details>\n",
    "\n",
    "<summary>Answer </summary>\n",
    "\n",
    "```\n",
    "a) 1 + 2 + ... + 99 + 100 = 5050 \n",
    "\n",
    "b) 1 + 3 + 5 +...+ 97 + 99 = 2500\n",
    "```\n",
    "\n",
    "</details>\n"
   ]
  },
  {
   "cell_type": "code",
   "execution_count": 6,
   "metadata": {},
   "outputs": [
    {
     "name": "stdout",
     "output_type": "stream",
     "text": [
      "1+2+3+4+5+6+7+8+9+10+11+12+13+14+15+16+17+18+19+20+21+22+23+24+25+26+27+28+29+30+31+32+33+34+35+36+37+38+39+40+41+42+43+44+45+46+47+48+49+50+51+52+53+54+55+56+57+58+59+60+61+62+63+64+65+66+67+68+69+70+71+72+73+74+75+76+77+78+79+80+81+82+83+84+85+86+87+88+89+90+91+92+93+94+95+96+97+98+99+100=5050\n"
     ]
    }
   ],
   "source": [
    "# a)\n",
    "sum = 0\n",
    "for i in range(1,101):\n",
    "    sum += i\n",
    "    if i == 100:\n",
    "        continue\n",
    "    print(f\"{i}+\", end = \"\")\n",
    "print(f\"{i}={sum}\")"
   ]
  },
  {
   "cell_type": "code",
   "execution_count": 7,
   "metadata": {},
   "outputs": [
    {
     "name": "stdout",
     "output_type": "stream",
     "text": [
      "1+3+5+7+9+11+13+15+17+19+21+23+25+27+29+31+33+35+37+39+41+43+45+47+49+51+53+55+57+59+61+63+65+67+69+71+73+75+77+79+81+83+85+87+89+91+93+95+97+99=2500\n"
     ]
    }
   ],
   "source": [
    "# b)\n",
    "sum = 0\n",
    "for i in range(1, 100, 2):\n",
    "    sum += i\n",
    "    if i==99:\n",
    "        continue\n",
    "    print(f\"{i}+\", end=\"\")\n",
    "print(f\"{i}={sum}\")"
   ]
  },
  {
   "cell_type": "markdown",
   "metadata": {},
   "source": [
    "---\n",
    "## 3. Multiplication table (*)\n",
    "Use **for** statement(s) to:\n",
    "\n",
    "&nbsp; a) &nbsp; print out the 6th multiplication table from 0 to 10 (*)\n",
    "\n",
    "&nbsp; b) &nbsp; let the user input the **table**, **start** and **end** of the table. (*)\n",
    "\n",
    "&nbsp; c) &nbsp; print out a full multiplication table from 0 to 10. (**)\n",
    "\n",
    "\n",
    "<details>\n",
    "\n",
    "<summary>Hint</summary>\n",
    "\n",
    "c) Use nested for-loops, which means a for-loop in a for-loop. To format the table nicely, use **f-string**: \n",
    "\n",
    "```python\n",
    "print(f\"{number :4}\", end = \"\")\n",
    "```\n",
    "\n",
    "\n",
    "</details>\n",
    "\n",
    "\n",
    "<details>\n",
    "\n",
    "<summary>Answer </summary>\n",
    "\n",
    "a)\n",
    "```\n",
    "0 6 12 18 24 30 36 42 48 54 60\n",
    "```\n",
    "\n",
    "b) e.g. \n",
    "\n",
    "```\n",
    "Which table are you interested in? 5\n",
    "Specify start of table: 5\n",
    "Specify end of table: 12\n",
    "\n",
    "Your 5th multiplication table from 5 to 12: 25 30 35 40 45 50 55 60\n",
    "```\n",
    "\n",
    "c)\n",
    "\n",
    "```\n",
    "   0   0   0   0   0   0   0   0   0   0   0\n",
    "   0   1   2   3   4   5   6   7   8   9  10\n",
    "   0   2   4   6   8  10  12  14  16  18  20\n",
    "   0   3   6   9  12  15  18  21  24  27  30\n",
    "   0   4   8  12  16  20  24  28  32  36  40\n",
    "   0   5  10  15  20  25  30  35  40  45  50\n",
    "   0   6  12  18  24  30  36  42  48  54  60\n",
    "   0   7  14  21  28  35  42  49  56  63  70\n",
    "   0   8  16  24  32  40  48  56  64  72  80\n",
    "   0   9  18  27  36  45  54  63  72  81  90\n",
    "   0  10  20  30  40  50  60  70  80  90 100\n",
    "```\n",
    "\n",
    "</details>"
   ]
  },
  {
   "cell_type": "code",
   "execution_count": 9,
   "metadata": {},
   "outputs": [
    {
     "name": "stdout",
     "output_type": "stream",
     "text": [
      "0 6 12 18 24 30 36 42 48 54 60 "
     ]
    }
   ],
   "source": [
    "# a)\n",
    "for i in range(11):\n",
    "    multiplication = i*6\n",
    "    print(f\"{multiplication}\", end = \" \")"
   ]
  },
  {
   "cell_type": "code",
   "execution_count": 37,
   "metadata": {},
   "outputs": [
    {
     "name": "stdout",
     "output_type": "stream",
     "text": [
      "Your 5th multiplication table from 5 to 12: 25 30 35 40 45 50 55 60 "
     ]
    }
   ],
   "source": [
    "# b)\n",
    "number = int(input(\"Which table are you interested in (from 0-10)?\"))\n",
    "start = int(input(\"Specify start of table:\"))\n",
    "end = int(input(\"Specify end of table:\"))\n",
    "\n",
    "for i in range(start, end+1):\n",
    "    multiplication = number*i\n",
    "    if i == start:\n",
    "        print(f\"Your {number}th multiplication table from {start} to {end}: {multiplication}\", end=\" \")\n",
    "    if i != start:\n",
    "        print(f\"{multiplication}\", end = \" \")"
   ]
  },
  {
   "cell_type": "code",
   "execution_count": 19,
   "metadata": {},
   "outputs": [
    {
     "name": "stdout",
     "output_type": "stream",
     "text": [
      "   0    0    0    0    0    0    0    0    0    0    0 \n",
      "   0    1    2    3    4    5    6    7    8    9   10 \n",
      "   0    2    4    6    8   10   12   14   16   18   20 \n",
      "   0    3    6    9   12   15   18   21   24   27   30 \n",
      "   0    4    8   12   16   20   24   28   32   36   40 \n",
      "   0    5   10   15   20   25   30   35   40   45   50 \n",
      "   0    6   12   18   24   30   36   42   48   54   60 \n",
      "   0    7   14   21   28   35   42   49   56   63   70 \n",
      "   0    8   16   24   32   40   48   56   64   72   80 \n",
      "   0    9   18   27   36   45   54   63   72   81   90 \n",
      "   0   10   20   30   40   50   60   70   80   90  100 \n"
     ]
    }
   ],
   "source": [
    "for i in range(11):\n",
    "    for j in range(11):\n",
    "        multiplication = i*j\n",
    "        print(f\"{multiplication :4}\", end = \" \")\n",
    "    print()"
   ]
  },
  {
   "cell_type": "markdown",
   "metadata": {},
   "source": [
    "---\n",
    "## 4. Faculty (*)\n",
    "\n",
    "Use a **for** statement to compute $n!$. \n",
    "\n",
    "$n! = 1\\cdot2\\cdot3\\cdot\\ldots\\cdot(n-1)\\cdot n $\n",
    "\n",
    "Let the user input $n$. "
   ]
  },
  {
   "cell_type": "code",
   "execution_count": 35,
   "metadata": {},
   "outputs": [
    {
     "name": "stdout",
     "output_type": "stream",
     "text": [
      "1*2*3*4*5*6*7*8*9*10 = 10! = 3628800"
     ]
    }
   ],
   "source": [
    "n = int(input (\"Input a integer, please\"))\n",
    "faculty = 1\n",
    "for i in range(1, n+1):\n",
    "    faculty *= i\n",
    "    if i == n:\n",
    "        continue\n",
    "    print(f\"{i}\", end =\"*\")\n",
    "print(f\"{i} = {n}! = {faculty}\", end=\"\")"
   ]
  },
  {
   "cell_type": "code",
   "execution_count": 51,
   "metadata": {},
   "outputs": [
    {
     "name": "stdout",
     "output_type": "stream",
     "text": [
      "10! = 1*2*3*4*5*6*7*8*9*10 = 3628800"
     ]
    }
   ],
   "source": [
    "n = int(input (\"Input a integer, please\"))\n",
    "faculty = 1\n",
    "\n",
    "for i in range(1, n+1):\n",
    "    faculty *= i\n",
    "    if i == 1:\n",
    "        print(f\"{n}! = {faculty}\", end=\"*\")\n",
    "    if 1 < i < n:\n",
    "        print(f\"{i}\", end =\"*\")\n",
    "    if i == n:\n",
    "        print(f\"{i} = {faculty}\", end=\"\")\n"
   ]
  },
  {
   "cell_type": "markdown",
   "metadata": {},
   "source": [
    "--- \n",
    "## 5. Guess the number (*)\n",
    "\n",
    "The computer thinks of a four-digit number. Start by creating a random four-digit number. Use **for** statement to figure out a correct guess\n",
    "\n",
    "<br>\n",
    "<details>\n",
    "\n",
    "<summary>Answer </summary>\n",
    "\n",
    "e.g.\n",
    "```\n",
    "The final guess is 8993\n",
    "The computer number is 8993\n",
    "```\n",
    "\n",
    "</details>"
   ]
  },
  {
   "cell_type": "code",
   "execution_count": 2,
   "metadata": {},
   "outputs": [
    {
     "name": "stdout",
     "output_type": "stream",
     "text": [
      "The final guess is 5051, and the computer_think is 5051\n"
     ]
    }
   ],
   "source": [
    "import random as rnd\n",
    "computer_think = rnd.randint(1000, 9999)   #rnd.randint(1000, 9999) = [1000, 9999], but range(1000,9999)=[1000,9999)\n",
    "\n",
    "for i in range (1000, 9999):\n",
    "    if i == computer_think:\n",
    "        print (f\"The final guess is {i}, and the computer_think is {computer_think}\")"
   ]
  },
  {
   "cell_type": "markdown",
   "metadata": {},
   "source": [
    "---\n",
    "## 6. Rice on chessboard (*)\n",
    "\n",
    "In first square of the chessboard there is one grain of rice, in the second square there is two grains, in the third square there is four grains and so on. How many grains are there in the whole chessboard when all squares are filled using this pattern?\n",
    "\n",
    "<img align=\"left\" src=\"../assets/chessboard.png\" width=\"300\"/>"
   ]
  },
  {
   "cell_type": "markdown",
   "metadata": {},
   "source": [
    "<details>\n",
    "\n",
    "<summary>Answer</summary>\n",
    "\n",
    "```\n",
    "18446744073709551615 number of grains\n",
    "```\n",
    "\n",
    "</details>"
   ]
  },
  {
   "cell_type": "code",
   "execution_count": 30,
   "metadata": {},
   "outputs": [
    {
     "name": "stdout",
     "output_type": "stream",
     "text": [
      "square: 1, grains: 1, grains_total: 1 \n",
      "square: 2, grains: 2, grains_total: 3 \n",
      "square: 3, grains: 4, grains_total: 7 \n",
      "square: 4, grains: 8, grains_total: 15 \n",
      "square: 5, grains: 16, grains_total: 31 \n",
      "square: 6, grains: 32, grains_total: 63 \n",
      "square: 7, grains: 64, grains_total: 127 \n",
      "square: 8, grains: 128, grains_total: 255 \n",
      "square: 9, grains: 256, grains_total: 511 \n",
      "square: 10, grains: 512, grains_total: 1023 \n",
      "square: 11, grains: 1024, grains_total: 2047 \n",
      "square: 12, grains: 2048, grains_total: 4095 \n",
      "square: 13, grains: 4096, grains_total: 8191 \n",
      "square: 14, grains: 8192, grains_total: 16383 \n",
      "square: 15, grains: 16384, grains_total: 32767 \n",
      "square: 16, grains: 32768, grains_total: 65535 \n",
      "square: 17, grains: 65536, grains_total: 131071 \n",
      "square: 18, grains: 131072, grains_total: 262143 \n",
      "square: 19, grains: 262144, grains_total: 524287 \n",
      "square: 20, grains: 524288, grains_total: 1048575 \n",
      "square: 21, grains: 1048576, grains_total: 2097151 \n",
      "square: 22, grains: 2097152, grains_total: 4194303 \n",
      "square: 23, grains: 4194304, grains_total: 8388607 \n",
      "square: 24, grains: 8388608, grains_total: 16777215 \n",
      "square: 25, grains: 16777216, grains_total: 33554431 \n",
      "square: 26, grains: 33554432, grains_total: 67108863 \n",
      "square: 27, grains: 67108864, grains_total: 134217727 \n",
      "square: 28, grains: 134217728, grains_total: 268435455 \n",
      "square: 29, grains: 268435456, grains_total: 536870911 \n",
      "square: 30, grains: 536870912, grains_total: 1073741823 \n",
      "square: 31, grains: 1073741824, grains_total: 2147483647 \n",
      "square: 32, grains: 2147483648, grains_total: 4294967295 \n",
      "square: 33, grains: 4294967296, grains_total: 8589934591 \n",
      "square: 34, grains: 8589934592, grains_total: 17179869183 \n",
      "square: 35, grains: 17179869184, grains_total: 34359738367 \n",
      "square: 36, grains: 34359738368, grains_total: 68719476735 \n",
      "square: 37, grains: 68719476736, grains_total: 137438953471 \n",
      "square: 38, grains: 137438953472, grains_total: 274877906943 \n",
      "square: 39, grains: 274877906944, grains_total: 549755813887 \n",
      "square: 40, grains: 549755813888, grains_total: 1099511627775 \n",
      "square: 41, grains: 1099511627776, grains_total: 2199023255551 \n",
      "square: 42, grains: 2199023255552, grains_total: 4398046511103 \n",
      "square: 43, grains: 4398046511104, grains_total: 8796093022207 \n",
      "square: 44, grains: 8796093022208, grains_total: 17592186044415 \n",
      "square: 45, grains: 17592186044416, grains_total: 35184372088831 \n",
      "square: 46, grains: 35184372088832, grains_total: 70368744177663 \n",
      "square: 47, grains: 70368744177664, grains_total: 140737488355327 \n",
      "square: 48, grains: 140737488355328, grains_total: 281474976710655 \n",
      "square: 49, grains: 281474976710656, grains_total: 562949953421311 \n",
      "square: 50, grains: 562949953421312, grains_total: 1125899906842623 \n",
      "square: 51, grains: 1125899906842624, grains_total: 2251799813685247 \n",
      "square: 52, grains: 2251799813685248, grains_total: 4503599627370495 \n",
      "square: 53, grains: 4503599627370496, grains_total: 9007199254740991 \n",
      "square: 54, grains: 9007199254740992, grains_total: 18014398509481983 \n",
      "square: 55, grains: 18014398509481984, grains_total: 36028797018963967 \n",
      "square: 56, grains: 36028797018963968, grains_total: 72057594037927935 \n",
      "square: 57, grains: 72057594037927936, grains_total: 144115188075855871 \n",
      "square: 58, grains: 144115188075855872, grains_total: 288230376151711743 \n",
      "square: 59, grains: 288230376151711744, grains_total: 576460752303423487 \n",
      "square: 60, grains: 576460752303423488, grains_total: 1152921504606846975 \n",
      "square: 61, grains: 1152921504606846976, grains_total: 2305843009213693951 \n",
      "square: 62, grains: 2305843009213693952, grains_total: 4611686018427387903 \n",
      "square: 63, grains: 4611686018427387904, grains_total: 9223372036854775807 \n",
      "square: 64, grains: 9223372036854775808, grains_total: 18446744073709551615 \n"
     ]
    }
   ],
   "source": [
    "grains_sum = 0\n",
    "grains = 1\n",
    "for square in range(1, 64+1):\n",
    "    grains_sum += grains\n",
    "    print(f\"square: {square}, grains: {grains}, grains_total: {grains_sum} \")\n",
    "    grains *= 2  # grains for the next square"
   ]
  },
  {
   "cell_type": "code",
   "execution_count": 27,
   "metadata": {},
   "outputs": [
    {
     "name": "stdout",
     "output_type": "stream",
     "text": [
      "64\n",
      "There are 18446744073709551615 grains of rice in the whole chessboard.\n"
     ]
    }
   ],
   "source": [
    "squares_of_chessboard = 8**2\n",
    "print(squares_of_chessboard)\n",
    "rice_each_square = 0.5  #starting point: 0.5 is set to make 1 rice on the first square\n",
    "sum_of_rices = 0\n",
    "\n",
    "for i in range(1, squares_of_chessboard+1): #[1,64] run 64 times\n",
    "    rice_each_square *= 2\n",
    "    rice_each_square = int(rice_each_square)\n",
    "    sum_of_rices += rice_each_square\n",
    "print(f\"There are {sum_of_rices} grains of rice in the whole chessboard.\")"
   ]
  },
  {
   "cell_type": "markdown",
   "metadata": {},
   "source": [
    "avoid using float, here 0.5...Try int() as early as possible."
   ]
  },
  {
   "cell_type": "code",
   "execution_count": 33,
   "metadata": {},
   "outputs": [
    {
     "name": "stdout",
     "output_type": "stream",
     "text": [
      "64\n",
      "There are 18446744073709551616 grains of rice in the whole chessboard.\n"
     ]
    }
   ],
   "source": [
    "quares_of_chessboard = 8**2\n",
    "print(squares_of_chessboard)\n",
    "rice_each_square = 0.5  #starting point: 0.5 is set to make 1 rice on the first square\n",
    "sum_of_rices = 0\n",
    "\n",
    "for i in range(1, squares_of_chessboard+1): #[1,64] run 64 times\n",
    "    rice_each_square *= 2\n",
    "    #rice_each_square = int(rice_each_square)\n",
    "    sum_of_rices += rice_each_square\n",
    "print(f\"There are {int(sum_of_rices)} grains of rice in the whole chessboard.\")"
   ]
  }
 ],
 "metadata": {
  "interpreter": {
   "hash": "8111105f47d12ec1fb8af24cde7e4ba5898ee01916168ee13b7453f45f559afc"
  },
  "kernelspec": {
   "display_name": "Python 3.9.6 64-bit ('python-programming-Yuna-Liu-WA6ACBfR': pipenv)",
   "name": "python3"
  },
  "language_info": {
   "codemirror_mode": {
    "name": "ipython",
    "version": 3
   },
   "file_extension": ".py",
   "mimetype": "text/x-python",
   "name": "python",
   "nbconvert_exporter": "python",
   "pygments_lexer": "ipython3",
   "version": "3.9.6"
  },
  "orig_nbformat": 4
 },
 "nbformat": 4,
 "nbformat_minor": 2
}
