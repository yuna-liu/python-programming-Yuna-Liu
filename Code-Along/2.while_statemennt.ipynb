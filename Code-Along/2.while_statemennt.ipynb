{
 "cells": [
  {
   "cell_type": "markdown",
   "source": [
    "# Fåglar och oljeutsläpp\r\n"
   ],
   "metadata": {}
  },
  {
   "cell_type": "code",
   "execution_count": 5,
   "source": [
    "birds, year = 8000, 0\r\n",
    "\r\n",
    "while birds >= 800:\r\n",
    "    birds /= 2\r\n",
    "    year += 1\r\n",
    "    print(f\"År {year}: antal fåglar: {birds:.0f}st\")"
   ],
   "outputs": [
    {
     "output_type": "stream",
     "name": "stdout",
     "text": [
      "År 1: antal fåglar: 4000st\n",
      "År 2: antal fåglar: 2000st\n",
      "År 3: antal fåglar: 1000st\n",
      "År 4: antal fåglar: 500st\n"
     ]
    }
   ],
   "metadata": {}
  },
  {
   "cell_type": "markdown",
   "source": [
    "## Mjölkuppgift\r\n",
    "- 1L mjölk 1 500 000 bakterier i rumstemperatur\r\n",
    "- Bdfakterier ökar med 50% per timme i rumstemp\r\n",
    "- Mjölk surnar när "
   ],
   "metadata": {}
  },
  {
   "cell_type": "code",
   "execution_count": 4,
   "source": [
    "import matplotlib.pyplot as plt\r\n",
    "\r\n",
    "timmar, bakterier = 0, 1500000\r\n",
    "faktor =1.5\r\n",
    "sur = 10000000\r\n",
    "print(bakterier)\r\n",
    "\r\n",
    "while bakterier < sur:\r\n",
    "    bakterier *= faktor\r\n",
    "    timmar += 1\r\n",
    "print(f\"Efter {timmar:.0f} timme, mjölk snurnar\")"
   ],
   "outputs": [
    {
     "output_type": "error",
     "ename": "ModuleNotFoundError",
     "evalue": "No module named 'matplotlib'",
     "traceback": [
      "\u001b[1;31m---------------------------------------------------------------------------\u001b[0m",
      "\u001b[1;31mModuleNotFoundError\u001b[0m                       Traceback (most recent call last)",
      "\u001b[1;32mC:\\Users\\YUNALI~1\\AppData\\Local\\Temp/ipykernel_13328/637012778.py\u001b[0m in \u001b[0;36m<module>\u001b[1;34m\u001b[0m\n\u001b[1;32m----> 1\u001b[1;33m \u001b[1;32mimport\u001b[0m \u001b[0mmatplotlib\u001b[0m\u001b[1;33m.\u001b[0m\u001b[0mpyplot\u001b[0m \u001b[1;32mas\u001b[0m \u001b[0mplt\u001b[0m\u001b[1;33m\u001b[0m\u001b[1;33m\u001b[0m\u001b[0m\n\u001b[0m\u001b[0;32m      2\u001b[0m \u001b[1;33m\u001b[0m\u001b[0m\n\u001b[0;32m      3\u001b[0m \u001b[0mtimmar\u001b[0m\u001b[1;33m,\u001b[0m \u001b[0mbakterier\u001b[0m \u001b[1;33m=\u001b[0m \u001b[1;36m0\u001b[0m\u001b[1;33m,\u001b[0m \u001b[1;36m1500000\u001b[0m\u001b[1;33m\u001b[0m\u001b[1;33m\u001b[0m\u001b[0m\n\u001b[0;32m      4\u001b[0m \u001b[0mfaktor\u001b[0m \u001b[1;33m=\u001b[0m\u001b[1;36m1.5\u001b[0m\u001b[1;33m\u001b[0m\u001b[1;33m\u001b[0m\u001b[0m\n\u001b[0;32m      5\u001b[0m \u001b[0msur\u001b[0m \u001b[1;33m=\u001b[0m \u001b[1;36m10000000\u001b[0m\u001b[1;33m\u001b[0m\u001b[1;33m\u001b[0m\u001b[0m\n",
      "\u001b[1;31mModuleNotFoundError\u001b[0m: No module named 'matplotlib'"
     ]
    }
   ],
   "metadata": {}
  },
  {
   "cell_type": "code",
   "execution_count": null,
   "source": [],
   "outputs": [],
   "metadata": {}
  }
 ],
 "metadata": {
  "orig_nbformat": 4,
  "language_info": {
   "name": "python",
   "version": "3.9.6",
   "mimetype": "text/x-python",
   "codemirror_mode": {
    "name": "ipython",
    "version": 3
   },
   "pygments_lexer": "ipython3",
   "nbconvert_exporter": "python",
   "file_extension": ".py"
  },
  "kernelspec": {
   "name": "python3",
   "display_name": "Python 3.9.6 64-bit"
  },
  "interpreter": {
   "hash": "2971b745844267d7cb4483e5f20d838014d69d8df52b415790673c9e258dc44a"
  }
 },
 "nbformat": 4,
 "nbformat_minor": 2
}