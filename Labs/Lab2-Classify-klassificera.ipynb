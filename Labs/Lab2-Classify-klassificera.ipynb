{
 "cells": [
  {
   "cell_type": "markdown",
   "source": [
    "# Labb2 uppgiter: klassificera\r\n",
    "\r\n",
    "Datum: 2021-9-16\r\n",
    "\r\n",
    "I den här laborationen finns (simulerad) data på Pichus och Pikachus längder och bredder. Du\r\n",
    "ska skapa en algoritm som baserat på den givna datan kunna avgöra om en ny data ska\r\n",
    "klassificeras som Pichu eller Pikachu."
   ],
   "metadata": {}
  },
  {
   "cell_type": "markdown",
   "source": [
    "## 1. Läs in datan och spara i lämplig datastruktur\r\n"
   ],
   "metadata": {}
  },
  {
   "cell_type": "code",
   "execution_count": 54,
   "source": [
    "import numpy as np\r\n",
    "import matplotlib.pyplot as plt\r\n",
    "import pandas as pd\r\n",
    "\r\n",
    "path_pikachu = \"../Files/pikachu.txt\"\r\n",
    "path_pikachu_new = \"../Files/pikachu_new.txt\"\r\n",
    "path_pichu = \"../Files/pichu.txt\"\r\n",
    "\r\n",
    "with open (path_pikachu, \"r\") as data_pikachu, open(path_pikachu_new, \"w\") as data_pikachu_new:\r\n",
    "         \r\n",
    "    \"\"\" for line in data_pikachu.readlines():\r\n",
    "        line_bracket = line.strip(\"\\n\")\r\n",
    "        line_no_left_bracket = line_bracket.replace(\"(\", \"\")\r\n",
    "        line_no_bracket = line_no_left_bracket.replace(\")\", \"\")\r\n",
    "        line_split = line_no_bracket.split(\", \") \"\"\"\r\n",
    "    df_pikachu = data_pikachu.readlines()[1:]\r\n",
    "    pikachu_list = [line.strip(\"\\n\").replace(\"(\", \"\").replace(\")\", \"\").split(\", \") for line in df_pikachu]\r\n",
    "   \r\n",
    "    print(pikachu_list)\r\n",
    "\r\n"
   ],
   "outputs": [
    {
     "output_type": "stream",
     "name": "stdout",
     "text": [
      "[['18.137772263313835', '44.951493566608946'], ['26.648661832322336', '41.49878057639454'], ['26.180524428318897', '39.38100083914504'], ['24.44364396490554', '40.175758410355904'], ['21.201902279430513', '36.21004195868266'], ['25.691541582957697', '37.24697337031557'], ['19.338626083150515', '38.38085562147455'], ['23.21718300802926', '40.88308718457233'], ['23.444684475950478', '37.30114732596577'], ['29.445791130252964', '37.20217384451559'], ['28.51023528453833', '35.709930860090324'], ['21.16066860901309', '41.31102957270099'], ['24.00703335660358', '37.28941783811155'], ['20.143822566361578', '44.054200130061275'], ['28.951534072137846', '43.59635400253747'], ['28.4462228380412', '35.70857349888654'], ['21.581337497383593', '37.380046343689955'], ['25.66739393839206', '41.68977778296281'], ['25.30764253725807', '37.14236807370439'], ['19.834071222595618', '36.32311848725025'], ['27.150129600901813', '44.35514240580671'], ['24.472548361435507', '40.710430933252844'], ['27.3435177435667', '39.726710263117944'], ['24.36424406634213', '42.846194242907536'], ['18.006862753535323', '43.074969977666434'], ['21.889872684056076', '36.90409914361878'], ['18.233720908629987', '35.969308142288234'], ['29.149183395175406', '39.310511824063774'], ['28.54466253387821', '39.23578623019921'], ['27.97998635233415', '39.67024668036675'], ['21.690169504831935', '42.290758494598506'], ['18.69510199793025', '41.73364547293301'], ['28.536115190448484', '44.84165211365966'], ['29.36339334357593', '35.98417871151959'], ['19.027841424814547', '39.02621282102269'], ['23.831885559799368', '38.39302605394963'], ['18.830550221620605', '43.61672536352791'], ['27.12722598308678', '37.48656333920286'], ['27.190013151683853', '36.90208908440812'], ['19.540697573997154', '39.48613547833132'], ['23.703388537184775', '39.21881639834404'], ['24.597643121939328', '37.785451446669406'], ['21.18067954728071', '37.49806447882101'], ['28.46919649302309', '44.23265599276013'], ['23.077655282410642', '39.43130745053457'], ['20.541578465304983', '43.613491047618304'], ['24.4715530653535', '40.50325312449848'], ['26.759172829079716', '35.505883295248815'], ['20.41381276067635', '44.992824684127264'], ['21.74059549561074', '43.36027585079952']]\n"
     ]
    }
   ],
   "metadata": {}
  },
  {
   "cell_type": "code",
   "execution_count": null,
   "source": [],
   "outputs": [],
   "metadata": {}
  },
  {
   "cell_type": "code",
   "execution_count": 5,
   "source": [
    "# Import necessary modules\r\n",
    "from sklearn.neighbors import KNeighborsClassifier\r\n",
    "from sklearn.model_selection import train_test_split\r\n",
    "from sklearn.datasets import load_iris\r\n",
    "import numpy as np\r\n",
    "import matplotlib.pyplot as plt\r\n",
    "\r\n",
    "irisData = load_iris()\r\n",
    "\r\n",
    "\r\n",
    "# Create feature and target arrays\r\n",
    "X = irisData.data\r\n",
    "y = irisData.target\r\n",
    "\r\n",
    "# Split into training and test set\r\n",
    "X_train, X_test, y_train, y_test = train_test_split(\r\n",
    "\t\t\tX, y, test_size = 0.2, random_state=42)\r\n",
    "\r\n",
    "neighbors = np.arange(1, 9)\r\n",
    "train_accuracy = np.empty(len(neighbors))\r\n",
    "test_accuracy = np.empty(len(neighbors))\r\n",
    "\r\n",
    "# Loop over K values\r\n",
    "for i, k in enumerate(neighbors):\r\n",
    "\tknn = KNeighborsClassifier(n_neighbors=k)\r\n",
    "\tknn.fit(X_train, y_train)\r\n",
    "\t\r\n",
    "\t# Compute training and test data accuracy\r\n",
    "\ttrain_accuracy[i] = knn.score(X_train, y_train)\r\n",
    "\ttest_accuracy[i] = knn.score(X_test, y_test)\r\n",
    "\r\n",
    "# Generate plot\r\n",
    "plt.plot(neighbors, test_accuracy, label = 'Testing dataset Accuracy')\r\n",
    "plt.plot(neighbors, train_accuracy, label = 'Training dataset Accuracy')\r\n",
    "\r\n",
    "plt.legend()\r\n",
    "plt.xlabel('n_neighbors')\r\n",
    "plt.ylabel('Accuracy')\r\n",
    "plt.show()"
   ],
   "outputs": [
    {
     "output_type": "stream",
     "name": "stdout",
     "text": [
      "<class 'sklearn.utils.Bunch'>\n"
     ]
    },
    {
     "output_type": "execute_result",
     "data": {
      "text/plain": [
       "\" # Create feature and target arrays\\nX = irisData.data\\ny = irisData.target\\n\\n# Split into training and test set\\nX_train, X_test, y_train, y_test = train_test_split(\\n\\t\\t\\tX, y, test_size = 0.2, random_state=42)\\n\\nneighbors = np.arange(1, 9)\\ntrain_accuracy = np.empty(len(neighbors))\\ntest_accuracy = np.empty(len(neighbors))\\n\\n# Loop over K values\\nfor i, k in enumerate(neighbors):\\n\\tknn = KNeighborsClassifier(n_neighbors=k)\\n\\tknn.fit(X_train, y_train)\\n\\t\\n\\t# Compute training and test data accuracy\\n\\ttrain_accuracy[i] = knn.score(X_train, y_train)\\n\\ttest_accuracy[i] = knn.score(X_test, y_test)\\n\\n# Generate plot\\nplt.plot(neighbors, test_accuracy, label = 'Testing dataset Accuracy')\\nplt.plot(neighbors, train_accuracy, label = 'Training dataset Accuracy')\\n\\nplt.legend()\\nplt.xlabel('n_neighbors')\\nplt.ylabel('Accuracy')\\nplt.show() \""
      ]
     },
     "metadata": {},
     "execution_count": 5
    }
   ],
   "metadata": {}
  }
 ],
 "metadata": {
  "orig_nbformat": 4,
  "language_info": {
   "name": "python",
   "version": "3.9.6",
   "mimetype": "text/x-python",
   "codemirror_mode": {
    "name": "ipython",
    "version": 3
   },
   "pygments_lexer": "ipython3",
   "nbconvert_exporter": "python",
   "file_extension": ".py"
  },
  "kernelspec": {
   "name": "python3",
   "display_name": "Python 3.9.6 64-bit ('python-programming-Yuna-Liu-WA6ACBfR': pipenv)"
  },
  "interpreter": {
   "hash": "8111105f47d12ec1fb8af24cde7e4ba5898ee01916168ee13b7453f45f559afc"
  }
 },
 "nbformat": 4,
 "nbformat_minor": 2
}