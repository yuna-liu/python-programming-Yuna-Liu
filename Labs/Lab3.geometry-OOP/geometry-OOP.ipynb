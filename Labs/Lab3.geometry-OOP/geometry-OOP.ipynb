{
 "cells": [
  {
   "cell_type": "markdown",
   "source": [
    "# Labb 3 - Geometri OOP\r\n",
    "- Syftet med den här laborationen är att använda objektorienterad programmering i Python för att\r\n",
    "designa program med god struktur.\r\n",
    "- I den här laborationen ska jag börja med att planera hur jag vill strukturera mina klasser med hjälp\r\n",
    "av UML och därefter implementera min planering i Python.\r\n",
    "\r\n",
    "Date: 2021-09-29\r\n"
   ],
   "metadata": {}
  },
  {
   "cell_type": "code",
   "execution_count": null,
   "source": [],
   "outputs": [],
   "metadata": {}
  }
 ],
 "metadata": {
  "orig_nbformat": 4,
  "language_info": {
   "name": "python",
   "version": "3.9.6"
  },
  "kernelspec": {
   "name": "python3",
   "display_name": "Python 3.9.6 64-bit ('python-programming-Yuna-Liu-WA6ACBfR': pipenv)"
  },
  "interpreter": {
   "hash": "8111105f47d12ec1fb8af24cde7e4ba5898ee01916168ee13b7453f45f559afc"
  }
 },
 "nbformat": 4,
 "nbformat_minor": 2
}