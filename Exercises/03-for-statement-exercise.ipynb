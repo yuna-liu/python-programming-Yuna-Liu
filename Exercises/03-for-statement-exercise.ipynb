{
 "cells": [
  {
   "cell_type": "markdown",
   "source": [
    "<a href=\"https://colab.research.google.com/github/kokchun/Programmering-med-Python-21/blob/main/Exercises/03-for-statement-exercise.ipynb\" target=\"_parent\"><img align=\"left\" src=\"https://colab.research.google.com/assets/colab-badge.svg\" alt=\"Open In Colab\"/></a> &nbsp; to see hints and answers."
   ],
   "metadata": {}
  },
  {
   "cell_type": "markdown",
   "source": [
    "# for statement exercises\r\n",
    "\r\n",
    "---\r\n",
    "These are introductory exercises in Python with focus in **for** statement.\r\n",
    "\r\n",
    "<p class = \"alert alert-info\" role=\"alert\"><b>Remember</b> to use <b>descriptive variable names</b> in order to get readable code </p>\r\n",
    "\r\n",
    "<p class = \"alert alert-info\" role=\"alert\"><b>Remember</b> to format your answers in a neat way using <b>f-strings</b>\r\n",
    "\r\n",
    "<p class = \"alert alert-info\" role=\"alert\"><b>Remember</b> to format your input questions in a pedagogical way to guide the user\r\n",
    "\r\n",
    "The number of stars (\\*), (\\*\\*), (\\*\\*\\*) denotes the difficulty level of the task\r\n",
    "\r\n",
    "---"
   ],
   "metadata": {}
  },
  {
   "cell_type": "markdown",
   "source": [
    "## 1. Count numbers (*)\r\n",
    "\r\n",
    "Use a **for** statement to count from: \r\n",
    "\r\n",
    "&nbsp; a) &nbsp; -10 to 10 with one increment (*)\r\n",
    "\r\n",
    "&nbsp; b) &nbsp; -10 to 10 with two increment (*)\r\n",
    "\r\n",
    "<details>\r\n",
    "\r\n",
    "<summary>Answer </summary>\r\n",
    "\r\n",
    "```\r\n",
    "a) -10 -9 -8 -7 -6 -5 -4 -3 -2 -1 0 1 2 3 4 5 6 7 8 9 10\r\n",
    "\r\n",
    "b) -10  -8  -6  -4  -2  0  2  4  6  8  10\r\n",
    "```\r\n",
    "\r\n",
    "</details>\r\n",
    "\r\n"
   ],
   "metadata": {}
  },
  {
   "cell_type": "markdown",
   "source": [
    "---\r\n",
    "## 2. Arithmetic sum (*)\r\n",
    "Use a **for** statement to compute the following sums: \r\n",
    "\r\n",
    "&nbsp; a) &nbsp; $\\text{sum} = 1 + 2 + \\ldots + 99+ 100$ (*)\r\n",
    "\r\n",
    "&nbsp; b) &nbsp; $\\text{sum} = 1 + 3 + 5 + \\ldots + 97 + 99$ (*)\r\n",
    "\r\n",
    "<details>\r\n",
    "\r\n",
    "<summary>Answer </summary>\r\n",
    "\r\n",
    "```\r\n",
    "a) 1 + 2 + ... + 99 + 100 = 5050 \r\n",
    "\r\n",
    "b) 1 + 3 + 5 +...+ 97 + 99 = 2500\r\n",
    "```\r\n",
    "\r\n",
    "</details>\r\n"
   ],
   "metadata": {}
  },
  {
   "cell_type": "markdown",
   "source": [
    "---\r\n",
    "## 3. Multiplication table (*)\r\n",
    "Use **for** statement(s) to:\r\n",
    "\r\n",
    "&nbsp; a) &nbsp; print out the 6th multiplication table from 0 to 10 (*)\r\n",
    "\r\n",
    "&nbsp; b) &nbsp; let the user input the **table**, **start** and **end** of the table. (*)\r\n",
    "\r\n",
    "&nbsp; c) &nbsp; print out a full multiplication table from 0 to 10. (**)\r\n",
    "\r\n",
    "\r\n",
    "<details>\r\n",
    "\r\n",
    "<summary>Hint</summary>\r\n",
    "\r\n",
    "c) Use nested for-loops, which means a for-loop in a for-loop. To format the table nicely, use **f-string**: \r\n",
    "\r\n",
    "```python\r\n",
    "print(f\"{number :4}\", end = \"\")\r\n",
    "```\r\n",
    "\r\n",
    "\r\n",
    "</details>\r\n",
    "\r\n",
    "\r\n",
    "<details>\r\n",
    "\r\n",
    "<summary>Answer </summary>\r\n",
    "\r\n",
    "a)\r\n",
    "```\r\n",
    "0 6 12 18 24 30 36 42 48 54 60\r\n",
    "```\r\n",
    "\r\n",
    "b) e.g. \r\n",
    "\r\n",
    "```\r\n",
    "Which table are you interested in? 5\r\n",
    "Specify start of table: 5\r\n",
    "Specify end of table: 12\r\n",
    "\r\n",
    "Your 5th multiplication table from 5 to 12: 25 30 35 40 45 50 55 60\r\n",
    "```\r\n",
    "\r\n",
    "c)\r\n",
    "\r\n",
    "```\r\n",
    "   0   0   0   0   0   0   0   0   0   0   0\r\n",
    "   0   1   2   3   4   5   6   7   8   9  10\r\n",
    "   0   2   4   6   8  10  12  14  16  18  20\r\n",
    "   0   3   6   9  12  15  18  21  24  27  30\r\n",
    "   0   4   8  12  16  20  24  28  32  36  40\r\n",
    "   0   5  10  15  20  25  30  35  40  45  50\r\n",
    "   0   6  12  18  24  30  36  42  48  54  60\r\n",
    "   0   7  14  21  28  35  42  49  56  63  70\r\n",
    "   0   8  16  24  32  40  48  56  64  72  80\r\n",
    "   0   9  18  27  36  45  54  63  72  81  90\r\n",
    "   0  10  20  30  40  50  60  70  80  90 100\r\n",
    "```\r\n",
    "\r\n",
    "</details>"
   ],
   "metadata": {}
  },
  {
   "cell_type": "markdown",
   "source": [
    "---\r\n",
    "## 4. Faculty (*)\r\n",
    "\r\n",
    "Use a **for** statement to compute $n!$. \r\n",
    "\r\n",
    "$n! = 1\\cdot2\\cdot3\\cdot\\ldots\\cdot(n-1)\\cdot n $\r\n",
    "\r\n",
    "Let the user input $n$. "
   ],
   "metadata": {}
  },
  {
   "cell_type": "markdown",
   "source": [
    "--- \r\n",
    "## 5. Guess the number (*)\r\n",
    "\r\n",
    "The computer thinks of a four-digit number. Start by creating a random four-digit number. Use **for** statement to figure out a correct guess\r\n",
    "\r\n",
    "<br>\r\n",
    "<details>\r\n",
    "\r\n",
    "<summary>Answer </summary>\r\n",
    "\r\n",
    "e.g.\r\n",
    "```\r\n",
    "The final guess is 8993\r\n",
    "The computer number is 8993\r\n",
    "```\r\n",
    "\r\n",
    "</details>"
   ],
   "metadata": {}
  },
  {
   "cell_type": "markdown",
   "source": [
    "---\r\n",
    "## 6. Rice on chessboard (*)\r\n",
    "\r\n",
    "In first square of the chessboard there is one grain of rice, in the second square there is two grains, in the third square there is four grains and so on. How many grains are there in the whole chessboard when all squares are filled using this pattern?\r\n",
    "\r\n",
    "<img align=\"left\" src=\"../assets/chessboard.png\" width=\"300\"/>"
   ],
   "metadata": {}
  },
  {
   "cell_type": "markdown",
   "source": [
    "<details>\r\n",
    "\r\n",
    "<summary>Answer</summary>\r\n",
    "\r\n",
    "```\r\n",
    "18446744073709551615 number of grains\r\n",
    "```\r\n",
    "\r\n",
    "</details>"
   ],
   "metadata": {}
  },
  {
   "cell_type": "markdown",
   "source": [
    "---\r\n",
    "\r\n",
    "Kokchun Giang\r\n",
    "\r\n",
    "[LinkedIn][linkedIn_kokchun]\r\n",
    "\r\n",
    "[GitHub portfolio][github_portfolio]\r\n",
    "\r\n",
    "[linkedIn_kokchun]: https://www.linkedin.com/in/kokchungiang/\r\n",
    "[github_portfolio]: https://github.com/kokchun/Portfolio-Kokchun-Giang\r\n",
    "\r\n",
    "---"
   ],
   "metadata": {}
  }
 ],
 "metadata": {
  "interpreter": {
   "hash": "a6af3a3bb251bcb72cfdd789c0ff929377064d8a2e64281876c18e53714e278c"
  },
  "kernelspec": {
   "display_name": "Python 3.9.5 64-bit",
   "name": "python3"
  },
  "language_info": {
   "name": "python",
   "version": ""
  },
  "orig_nbformat": 4
 },
 "nbformat": 4,
 "nbformat_minor": 2
}