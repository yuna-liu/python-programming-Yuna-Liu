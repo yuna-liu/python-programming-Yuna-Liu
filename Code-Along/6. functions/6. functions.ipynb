{
 "cells": [
  {
   "cell_type": "markdown",
   "source": [
    "# Functions\n",
    "\n",
    "## Basic functions"
   ],
   "metadata": {}
  },
  {
   "cell_type": "markdown",
   "source": [
    "<img align=\"left\" src=\"../../assets/function.png\">"
   ],
   "metadata": {}
  },
  {
   "cell_type": "code",
   "execution_count": 6,
   "source": [
    "def cube(number):\r\n",
    "    return number**3\r\n",
    "\r\n",
    "print(f\"cube(3): {cube(3)}\")\r\n",
    "\r\n",
    "cube5 = cube(5)\r\n",
    "print(cube5)\r\n",
    "\r\n",
    "cubes = [cube(x) for x in range(10)]\r\n",
    "print(cubes)"
   ],
   "outputs": [
    {
     "output_type": "stream",
     "name": "stdout",
     "text": [
      "cube(3): 27\n",
      "125\n",
      "[0, 1, 8, 27, 64, 125, 216, 343, 512, 729]\n"
     ]
    }
   ],
   "metadata": {}
  },
  {
   "cell_type": "code",
   "execution_count": 12,
   "source": [
    "def mean1(num1, num2, num3): \r\n",
    "    mean = (num1 + num2 + num3)/3\r\n",
    "    return mean\r\n",
    "\r\n",
    "print(f\"mean1(1,3,5): {mean1(1,3,5)}\")\r\n",
    "#print(mean) - mean is not defined outside the scope of the function "
   ],
   "outputs": [
    {
     "output_type": "stream",
     "name": "stdout",
     "text": [
      "mean1(1,3,5): 3.0\n"
     ]
    }
   ],
   "metadata": {}
  },
  {
   "cell_type": "markdown",
   "source": [
    "## Default values"
   ],
   "metadata": {}
  },
  {
   "cell_type": "code",
   "execution_count": 19,
   "source": [
    "# function without a return value\r\n",
    "def say_hi(name = \"friend\", age=0):\r\n",
    "    print(f\"hi {name}, you are {age} years old\")\r\n",
    "\r\n",
    "say_hi(\"Kokchun\", 30) # default values are overwritten by input arguments\r\n",
    "say_hi() # default values are used\r\n",
    "say_hi(age=30) # keyword argument"
   ],
   "outputs": [
    {
     "output_type": "stream",
     "name": "stdout",
     "text": [
      "hi Kokchun, you are 30 years old\n",
      "hi friend, you are 0 years old\n",
      "hi friend, you are 30 years old\n"
     ]
    }
   ],
   "metadata": {}
  },
  {
   "cell_type": "markdown",
   "source": [
    "## Keyword arguments\n",
    "- key = value syntax"
   ],
   "metadata": {}
  },
  {
   "cell_type": "code",
   "execution_count": 1,
   "source": [
    "def count_words(text = \"\"):\r\n",
    "    words = text.split()\r\n",
    "    return len(words)\r\n",
    "\r\n",
    "print(count_words(\"I stand on the shoulders of giants - Isaac Newton\"))\r\n",
    "print(count_words())"
   ],
   "outputs": [
    {
     "output_type": "stream",
     "name": "stdout",
     "text": [
      "10\n",
      "0\n"
     ]
    }
   ],
   "metadata": {}
  },
  {
   "cell_type": "markdown",
   "source": [
    "## Arbitrary arguments, *args"
   ],
   "metadata": {}
  },
  {
   "cell_type": "code",
   "execution_count": 3,
   "source": [
    "def mean2(*numbers):\r\n",
    "    sum_ = 0\r\n",
    "    for number in numbers:\r\n",
    "        sum_ += number\r\n",
    "    return sum_/len(numbers)\r\n",
    "\r\n",
    "print(f\"mean2(2,3,4): {mean2(2,3,4)}\")\r\n",
    "print(f\"mean2(2,3,4,5): {mean2(2,3,4,5)}\")"
   ],
   "outputs": [
    {
     "output_type": "stream",
     "name": "stdout",
     "text": [
      "mean2(2,3,4): 3.0\n",
      "mean2(2,3,4,5): 3.5\n"
     ]
    }
   ],
   "metadata": {}
  },
  {
   "cell_type": "markdown",
   "source": [
    "## Lambda functions\n",
    "- anonymous function"
   ],
   "metadata": {}
  },
  {
   "cell_type": "code",
   "execution_count": 7,
   "source": [
    "cuber = lambda x: x**3\r\n",
    "\r\n",
    "\"\"\" \r\n",
    "def cuber(x):\r\n",
    "    return x**3 \"\"\"\r\n",
    "\r\n",
    "print(f\"cuber(3): {cuber(3)}\")"
   ],
   "outputs": [
    {
     "output_type": "stream",
     "name": "stdout",
     "text": [
      "cuber(3): 27\n"
     ]
    }
   ],
   "metadata": {}
  },
  {
   "cell_type": "code",
   "execution_count": 9,
   "source": [
    "def n_power(n):\r\n",
    "    return lambda x: x**n\r\n",
    "\r\n",
    "thrid_power = n_power(3) # third_power is a function with parameter x\r\n",
    "\r\n",
    "print(thrid_power(3))\r\n"
   ],
   "outputs": [
    {
     "output_type": "stream",
     "name": "stdout",
     "text": [
      "27\n"
     ]
    }
   ],
   "metadata": {}
  },
  {
   "cell_type": "code",
   "execution_count": 3,
   "source": [
    "def n_power(x,n):\r\n",
    "    return x**n\r\n",
    "\r\n",
    "print(n_power(3,3))\r\n"
   ],
   "outputs": [
    {
     "output_type": "stream",
     "name": "stdout",
     "text": [
      "27\n"
     ]
    }
   ],
   "metadata": {}
  },
  {
   "cell_type": "markdown",
   "source": [
    "## Why Use Lambda Functions?\r\n",
    "The power of lambda is better shown when you use them as an anonymous function inside another function.\r\n",
    "\r\n",
    "Say you have a function definition that takes one argument, and that argument will be multiplied with an unknown number:"
   ],
   "metadata": {}
  },
  {
   "cell_type": "code",
   "execution_count": 2,
   "source": [
    "def myfunc(n):\r\n",
    "  return lambda a : a * n"
   ],
   "outputs": [],
   "metadata": {}
  },
  {
   "cell_type": "markdown",
   "source": [
    "Use that function definition to make a function that always doubles the number you send in:"
   ],
   "metadata": {}
  },
  {
   "cell_type": "code",
   "execution_count": 3,
   "source": [
    "def myfunc(n):\r\n",
    "  return lambda a : a * n\r\n",
    "\r\n",
    "mydoubler = myfunc(2)\r\n",
    "\r\n",
    "print(mydoubler(11))"
   ],
   "outputs": [
    {
     "output_type": "stream",
     "name": "stdout",
     "text": [
      "22\n"
     ]
    }
   ],
   "metadata": {}
  },
  {
   "cell_type": "markdown",
   "source": [
    "Or, use the same function definition to make a function that always triples the number you send in:"
   ],
   "metadata": {}
  },
  {
   "cell_type": "code",
   "execution_count": 4,
   "source": [
    "def myfunc(n):\r\n",
    "  return lambda a : a * n\r\n",
    "\r\n",
    "mytripler = myfunc(3)\r\n",
    "\r\n",
    "print(mytripler(11))"
   ],
   "outputs": [
    {
     "output_type": "stream",
     "name": "stdout",
     "text": [
      "33\n"
     ]
    }
   ],
   "metadata": {}
  },
  {
   "cell_type": "markdown",
   "source": [
    "Or, use the same function definition to make both functions, in the same program:"
   ],
   "metadata": {}
  },
  {
   "cell_type": "code",
   "execution_count": 1,
   "source": [
    "def myfunc(n):\r\n",
    "  return lambda a : a * n\r\n",
    "\r\n",
    "mydoubler = myfunc(2)\r\n",
    "mytripler = myfunc(3)\r\n",
    "\r\n",
    "print(mydoubler(11))\r\n",
    "print(mytripler(12))"
   ],
   "outputs": [
    {
     "output_type": "stream",
     "name": "stdout",
     "text": [
      "22\n",
      "36\n"
     ]
    }
   ],
   "metadata": {}
  },
  {
   "cell_type": "markdown",
   "source": [
    "Here is a figure on lambda process:"
   ],
   "metadata": {}
  },
  {
   "cell_type": "markdown",
   "source": [
    "<img align=\"Left\" src=\"../../assets/lambda.png\">"
   ],
   "metadata": {}
  },
  {
   "cell_type": "markdown",
   "source": [
    "## Draw lines"
   ],
   "metadata": {}
  },
  {
   "cell_type": "code",
   "execution_count": 16,
   "source": [
    "import matplotlib.pyplot as plt \r\n",
    "\r\n",
    "def draw_lines(x, k = 1, m = 1, title=\"\"):\r\n",
    "    y = [k*x_+m for x_ in x]\r\n",
    "\r\n",
    "    plt.plot(x,y)\r\n",
    "    plt.xlabel(\"x\")\r\n",
    "    plt.ylabel(\"y\")\r\n",
    "    plt.title(title)\r\n",
    "\r\n",
    "x = list(range(-5,5))\r\n",
    "\r\n",
    "draw_lines(x, title=\"Lines\")\r\n",
    "draw_lines(x, k=-2, m= 1, title=\"Lines\")\r\n"
   ],
   "outputs": [
    {
     "output_type": "display_data",
     "data": {
      "image/png": "[encoded data removed]",
      "text/plain": [
       "<Figure size 432x288 with 1 Axes>"
      ]
     },
     "metadata": {
      "needs_background": "light"
     }
    }
   ],
   "metadata": {}
  },
  {
   "cell_type": "markdown",
   "source": [],
   "metadata": {}
  }
 ],
 "metadata": {
  "orig_nbformat": 4,
  "language_info": {
   "name": "python",
   "version": "3.9.6",
   "mimetype": "text/x-python",
   "codemirror_mode": {
    "name": "ipython",
    "version": 3
   },
   "pygments_lexer": "ipython3",
   "nbconvert_exporter": "python",
   "file_extension": ".py"
  },
  "kernelspec": {
   "name": "python3",
   "display_name": "Python 3.9.6 64-bit ('python-programming-Yuna-Liu-WA6ACBfR': pipenv)"
  },
  "interpreter": {
   "hash": "8111105f47d12ec1fb8af24cde7e4ba5898ee01916168ee13b7453f45f559afc"
  }
 },
 "nbformat": 4,
 "nbformat_minor": 2
}