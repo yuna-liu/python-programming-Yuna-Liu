{
 "cells": [
  {
   "cell_type": "markdown",
   "source": [
    "# Error types\r\n",
    "\r\n",
    "- syntax error - Python parser don't understand the code\r\n",
    "- logical errors - hard to find - gives unpredictable results\r\n",
    "- exception errors - Python parser knows what to do, but can't do it"
   ],
   "metadata": {}
  },
  {
   "cell_type": "code",
   "execution_count": null,
   "source": [
    "# syntax error\r\n",
    "prin(\"hej\")\r\n",
    "\r\n",
    "# practice reading error messages!! "
   ],
   "outputs": [],
   "metadata": {}
  },
  {
   "cell_type": "code",
   "execution_count": null,
   "source": [
    "# logical error\r\n",
    "import math \r\n",
    "\r\n",
    "print(math.pi)\r\n",
    "\r\n",
    "area_circle = lambda radius: 2*math.pi*radius\r\n",
    "\r\n",
    "print(area_circle(10))\r\n",
    "\r\n",
    "# hard to find the logical error\r\n",
    "# A = pi*r^2\r\n",
    "# O = 2*pi*r"
   ],
   "outputs": [],
   "metadata": {}
  },
  {
   "cell_type": "code",
   "execution_count": null,
   "source": [
    "# exception errors\r\n",
    "numbers = list(range(10))\r\n",
    "print(numbers)\r\n",
    "print(numbers[6])\r\n",
    "\r\n",
    "print(numbers[10]) # index 10 doesn't exist in this list"
   ],
   "outputs": [],
   "metadata": {}
  },
  {
   "cell_type": "code",
   "execution_count": null,
   "source": [
    "print(\"hej \")\r\n",
    "namn = input(\"vad heter du? \")\r\n",
    "#print=(namn) - overrites print()\r\n",
    "print(namn)"
   ],
   "outputs": [],
   "metadata": {}
  },
  {
   "cell_type": "code",
   "execution_count": null,
   "source": [
    "age = int(input(\"Hur gammal är du? \")) # user can write unexpected stuffs\r\n",
    "print(f\"Du är {age} år gammal\")"
   ],
   "outputs": [],
   "metadata": {}
  },
  {
   "cell_type": "markdown",
   "source": [
    "## Try-except\r\n",
    "\r\n",
    "- try block\r\n",
    "- except block\r\n",
    "- raise"
   ],
   "metadata": {}
  },
  {
   "cell_type": "code",
   "execution_count": null,
   "source": [
    "age = input(\"Hur gammal är du? \")\r\n",
    "\r\n",
    "try:\r\n",
    "    age = float(age)\r\n",
    "    if not 0 <= age <= 125:\r\n",
    "        raise ValueError(f\"Åldern ska vara mellan 0 och 125 inte {age}\")\r\n",
    "\r\n",
    "except ValueError as err:\r\n",
    "    print(err)\r\n",
    "\r\n",
    "print(\"Programmet fortsätter här\")"
   ],
   "outputs": [],
   "metadata": {}
  },
  {
   "cell_type": "code",
   "execution_count": 2,
   "source": [
    "while True:\r\n",
    "    age = input(\"Hur gammal är du? \")\r\n",
    "\r\n",
    "    try:\r\n",
    "        age = float(age)\r\n",
    "        if not 0 <= age <= 125:\r\n",
    "            raise ValueError(f\"Åldern ska vara mellan 0 och 125 inte {age}\")\r\n",
    "        break\r\n",
    "    except ValueError as err:\r\n",
    "        print(err)\r\n",
    "\r\n",
    "print(f\"Du är {age} år gammal\")"
   ],
   "outputs": [
    {
     "output_type": "stream",
     "name": "stdout",
     "text": [
      "Du är 8.0 år gammal\n"
     ]
    }
   ],
   "metadata": {}
  },
  {
   "cell_type": "code",
   "execution_count": 7,
   "source": [
    "import numpy as np \r\n",
    "import matplotlib.pyplot as plt \r\n",
    "\r\n",
    "x = np.linspace(-10,10)\r\n",
    "f = lambda x: x**2\r\n",
    "\r\n",
    "plt.plot(x, f(x))"
   ],
   "outputs": [
    {
     "output_type": "execute_result",
     "data": {
      "text/plain": [
       "[<matplotlib.lines.Line2D at 0x25a2082d550>]"
      ]
     },
     "metadata": {},
     "execution_count": 7
    },
    {
     "output_type": "display_data",
     "data": {
      "image/png": "[encoded data removed]",
      "text/plain": [
       "<Figure size 432x288 with 1 Axes>"
      ]
     },
     "metadata": {
      "needs_background": "light"
     }
    }
   ],
   "metadata": {}
  },
  {
   "cell_type": "code",
   "execution_count": null,
   "source": [],
   "outputs": [],
   "metadata": {}
  }
 ],
 "metadata": {
  "orig_nbformat": 4,
  "language_info": {
   "name": "python",
   "version": "3.9.6",
   "mimetype": "text/x-python",
   "codemirror_mode": {
    "name": "ipython",
    "version": 3
   },
   "pygments_lexer": "ipython3",
   "nbconvert_exporter": "python",
   "file_extension": ".py"
  },
  "kernelspec": {
   "name": "python3",
   "display_name": "Python 3.9.6 64-bit ('Programmering-med-Python-OZ4PsT_E': pipenv)"
  },
  "interpreter": {
   "hash": "4d790a4ba7424cef7dc64ec6f6de1f04bad761d237b8926ff99fd2151ec1d86b"
  }
 },
 "nbformat": 4,
 "nbformat_minor": 2
}