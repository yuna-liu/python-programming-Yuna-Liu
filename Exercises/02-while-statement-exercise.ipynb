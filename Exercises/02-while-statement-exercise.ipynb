{
 "cells": [
  {
   "cell_type": "markdown",
   "source": [
    "<a href=\"https://colab.research.google.com/github/kokchun/Programmering-med-Python-21/blob/main/Exercises/02-while-statement-exercise.ipynb\" target=\"_parent\"><img align=\"left\" src=\"https://colab.research.google.com/assets/colab-badge.svg\" alt=\"Open In Colab\"/></a> &nbsp; to see hints and answers."
   ],
   "metadata": {}
  },
  {
   "cell_type": "markdown",
   "source": [
    "# while statement exercises\r\n",
    "\r\n",
    "---\r\n",
    "These are introductory exercises in Python with focus in **while** statement.\r\n",
    "\r\n",
    "<p class = \"alert alert-info\" role=\"alert\"><b>Remember</b> to use <b>descriptive variable names</b> in order to get readable code </p>\r\n",
    "\r\n",
    "<p class = \"alert alert-info\" role=\"alert\"><b>Remember</b> to format your answers in a neat way using <b>f-strings</b>\r\n",
    "\r\n",
    "<p class = \"alert alert-info\" role=\"alert\"><b>Remember</b> to format your input questions in a pedagogical way to guide the user\r\n",
    "\r\n",
    "The number of stars (\\*), (\\*\\*), (\\*\\*\\*) denotes the difficulty level of the task\r\n",
    "\r\n",
    "---"
   ],
   "metadata": {}
  },
  {
   "cell_type": "markdown",
   "source": [
    "## 1. Count numbers (*)\r\n",
    "\r\n",
    "Use a **while** statement to count from -10 to 10 with one increment. \r\n",
    "\r\n",
    "<details>\r\n",
    "\r\n",
    "<summary>Hint </summary>\r\n",
    "\r\n",
    "```python\r\n",
    "\r\n",
    "i += 1 # adds one and assigns it to i, equivalent to i = i + 1\r\n",
    "```\r\n",
    "\r\n",
    "</details>\r\n",
    "<br>\r\n",
    "<details>\r\n",
    "\r\n",
    "<summary>Answer </summary>\r\n",
    "\r\n",
    "```\r\n",
    "\r\n",
    "-10 -9 -8 -7 -6 -5 -4 -3 -2 -1 0 1 2 3 4 5 6 7 8 9 10\r\n",
    "```\r\n",
    "\r\n",
    "</details>\r\n"
   ],
   "metadata": {}
  },
  {
   "cell_type": "markdown",
   "source": [
    "--- \r\n",
    "## 2. Arithmetic sum (*)\r\n",
    "Use a **while** statement to compute the following sums: \r\n",
    "\r\n",
    "&nbsp; a) &nbsp; $\\text{sum} = 1 + 2 + \\ldots + 99+ 100$\r\n",
    "\r\n",
    "&nbsp; b) &nbsp; $\\text{sum} = 1 + 3 + 5 + \\ldots + 97 + 99$\r\n",
    "\r\n",
    "<details>\r\n",
    "\r\n",
    "<summary>Answer </summary>\r\n",
    "\r\n",
    "```\r\n",
    "a) 1 + 2 + ... + 99 + 100 = 5050 \r\n",
    "\r\n",
    "b) 1 + 3 + 5 +...+ 97 + 99 = 2500\r\n",
    "```\r\n",
    "\r\n",
    "</details>"
   ],
   "metadata": {}
  },
  {
   "cell_type": "markdown",
   "source": [
    "--- \r\n",
    "## 3. Guess number game (*)\r\n",
    "&nbsp; a) &nbsp; Create a guessing number game following this flow chart: \r\n",
    "\r\n",
    "<img align=\"left\" src=\"../assets/guessing_game.png\" width=\"300\"/>"
   ],
   "metadata": {}
  },
  {
   "cell_type": "markdown",
   "source": [
    "&nbsp; b) &nbsp; Make an algorithm to automatically guess the correct number. Can you optimize to get as few guesses as possible? (**)\r\n",
    "\r\n",
    "<details>\r\n",
    "\r\n",
    "<summary>Hint </summary>\r\n",
    "\r\n",
    "&nbsp; b) &nbsp; Half your testing number each time \r\n",
    "\r\n",
    "</details>"
   ],
   "metadata": {}
  },
  {
   "cell_type": "markdown",
   "source": [
    "--- \r\n",
    "## 4. Multiplication game (*)\r\n",
    "&nbsp; a) &nbsp; Create a multiplication game following this flow chart: \r\n",
    "\r\n",
    "<img align=\"left\" src=\"../assets/Multiplication_game.png\" width=\"300\"/>"
   ],
   "metadata": {}
  },
  {
   "cell_type": "markdown",
   "source": [
    "&nbsp; b) &nbsp; Add a menu for choosing difficulty level of the game\r\n",
    "\r\n",
    "&nbsp; c) &nbsp; Feel free to extend this program with features of your choice."
   ],
   "metadata": {}
  },
  {
   "cell_type": "markdown",
   "source": [
    "--- \r\n",
    "## 5. Check convergence (**)\r\n",
    "Use a while statement to compute the following sums: \r\n",
    "\r\n",
    "&nbsp; a) &nbsp; $\\text{sum} = 1 + \\frac{1}{2} + \\frac{1}{4} + \\frac{1}{8} + \\dots + \\frac{1}{2^n}$\r\n",
    "\r\n",
    "&nbsp; b) &nbsp; $\\text{sum} = 1 - \\frac{1}{3} + \\frac{1}{5} - \\frac{1}{7} + \\dots + \\frac{(-1)^n}{2n+1}$\r\n",
    "\r\n",
    "Try different values on $n$ to see which value it converges to.\r\n",
    "\r\n",
    "<details>\r\n",
    "\r\n",
    "<summary>Answer </summary>\r\n",
    "\r\n",
    "&nbsp; a) &nbsp; $1 + \\frac{1}{2} + \\frac{1}{4} + \\frac{1}{8} + \\dots + \\frac{1}{2^n} \\xrightarrow[n\\rightarrow \\infty]{} 2$ \r\n",
    "\r\n",
    "&nbsp; b) &nbsp; $ 1 - \\frac{1}{3} + \\frac{1}{5} - \\frac{1}{7} + \\dots + \\frac{(-1)^n}{2n+1} \\xrightarrow[n\\rightarrow \\infty]{} \\frac{\\pi}{4}$\r\n",
    "\r\n",
    "</details>"
   ],
   "metadata": {}
  },
  {
   "cell_type": "markdown",
   "source": [
    "---\r\n",
    "\r\n",
    "Kokchun Giang\r\n",
    "\r\n",
    "[LinkedIn][linkedIn_kokchun]\r\n",
    "\r\n",
    "[GitHub portfolio][github_portfolio]\r\n",
    "\r\n",
    "[linkedIn_kokchun]: https://www.linkedin.com/in/kokchungiang/\r\n",
    "[github_portfolio]: https://github.com/kokchun/Portfolio-Kokchun-Giang\r\n",
    "\r\n",
    "---"
   ],
   "metadata": {}
  }
 ],
 "metadata": {
  "interpreter": {
   "hash": "a6af3a3bb251bcb72cfdd789c0ff929377064d8a2e64281876c18e53714e278c"
  },
  "kernelspec": {
   "display_name": "Python 3.9.5 64-bit",
   "name": "python3"
  },
  "language_info": {
   "name": "python",
   "version": ""
  },
  "orig_nbformat": 4
 },
 "nbformat": 4,
 "nbformat_minor": 2
}